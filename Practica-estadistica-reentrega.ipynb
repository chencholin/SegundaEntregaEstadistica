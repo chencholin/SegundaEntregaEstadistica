{
 "cells": [
  {
   "cell_type": "code",
   "execution_count": 3,
   "metadata": {},
   "outputs": [],
   "source": [
    "library(ggplot2)\n",
    "options(repr.plot.height=4,repr.plot.width=6)"
   ]
  },
  {
   "cell_type": "markdown",
   "metadata": {},
   "source": [
    "Cargar los datos en un dataframe llamado: airbnb"
   ]
  },
  {
   "cell_type": "code",
   "execution_count": 5,
   "metadata": {},
   "outputs": [],
   "source": [
    "airbnb<-read.csv('airbnb.csv',sep = ',', stringsAsFactors = T)"
   ]
  },
  {
   "cell_type": "markdown",
   "metadata": {},
   "source": [
    "Mostrar las primeras 6 filas del dataframe"
   ]
  },
  {
   "cell_type": "code",
   "execution_count": 6,
   "metadata": {
    "scrolled": true
   },
   "outputs": [
    {
     "data": {
      "text/html": [
       "<table class=\"dataframe\">\n",
       "<caption>A data.frame: 6 × 13</caption>\n",
       "<thead>\n",
       "\t<tr><th></th><th scope=col>Zipcode</th><th scope=col>Neighbourhood.Cleansed</th><th scope=col>Property.Type</th><th scope=col>Room.Type</th><th scope=col>Accommodates</th><th scope=col>Bathrooms</th><th scope=col>Bedrooms</th><th scope=col>Beds</th><th scope=col>Bed.Type</th><th scope=col>Amenities</th><th scope=col>Square.Feet</th><th scope=col>Price</th><th scope=col>Review.Scores.Rating</th></tr>\n",
       "\t<tr><th></th><th scope=col>&lt;fct&gt;</th><th scope=col>&lt;fct&gt;</th><th scope=col>&lt;fct&gt;</th><th scope=col>&lt;fct&gt;</th><th scope=col>&lt;int&gt;</th><th scope=col>&lt;dbl&gt;</th><th scope=col>&lt;int&gt;</th><th scope=col>&lt;int&gt;</th><th scope=col>&lt;fct&gt;</th><th scope=col>&lt;fct&gt;</th><th scope=col>&lt;int&gt;</th><th scope=col>&lt;int&gt;</th><th scope=col>&lt;int&gt;</th></tr>\n",
       "</thead>\n",
       "<tbody>\n",
       "\t<tr><th scope=row>1</th><td>28004</td><td>Universidad</td><td>Apartment</td><td>Private room   </td><td>2</td><td>2</td><td>1</td><td>1</td><td>Real Bed</td><td>TV,Wireless Internet,Kitchen,Pets allowed,Pets live on this property,Buzzer/wireless intercom,Heating,Suitable for events,Washer,First aid kit,Essentials,Lock on bedroom door,Iron                                                                                                                                                                             </td><td> NA</td><td>35</td><td> NA</td></tr>\n",
       "\t<tr><th scope=row>2</th><td>28004</td><td>Universidad</td><td>Apartment</td><td>Entire home/apt</td><td>6</td><td>1</td><td>3</td><td>5</td><td>Real Bed</td><td>TV,Internet,Wireless Internet,Air conditioning,Kitchen,Indoor fireplace,Heating,Family/kid friendly,Washer,Dryer,Smoke detector,Carbon monoxide detector,Essentials,Shampoo                                                                                                                                                                                     </td><td> NA</td><td>92</td><td> 96</td></tr>\n",
       "\t<tr><th scope=row>3</th><td>28004</td><td>Universidad</td><td>Apartment</td><td>Entire home/apt</td><td>3</td><td>1</td><td>2</td><td>2</td><td>Real Bed</td><td>TV,Internet,Wireless Internet,Air conditioning,Kitchen,Doorman,Heating,Family/kid friendly,Washer,Essentials,Shampoo,Hangers,Hair dryer,Iron,Laptop friendly workspace                                                                                                                                                                                          </td><td> NA</td><td>55</td><td> 91</td></tr>\n",
       "\t<tr><th scope=row>4</th><td>28004</td><td>Universidad</td><td>Loft     </td><td>Entire home/apt</td><td>3</td><td>2</td><td>1</td><td>1</td><td>Real Bed</td><td>TV,Internet,Wireless Internet,Air conditioning,Kitchen,Pets allowed,Breakfast,Elevator in building,Indoor fireplace,Buzzer/wireless intercom,Heating,Washer,Essentials,Shampoo,Hangers,Hair dryer,Iron,Laptop friendly workspace,translation missing: en.hosting_amenity_49,translation missing: en.hosting_amenity_50                                          </td><td> NA</td><td>60</td><td>100</td></tr>\n",
       "\t<tr><th scope=row>5</th><td>28015</td><td>Universidad</td><td>Apartment</td><td>Entire home/apt</td><td>5</td><td>1</td><td>1</td><td>1</td><td>Real Bed</td><td>TV,Wireless Internet,Air conditioning,Kitchen,Smoking allowed,Pets allowed,Elevator in building,Heating,Family/kid friendly,Washer,Essentials,Iron                                                                                                                                                                                                              </td><td>538</td><td>75</td><td> 90</td></tr>\n",
       "\t<tr><th scope=row>6</th><td>28004</td><td>Universidad</td><td>Apartment</td><td>Entire home/apt</td><td>2</td><td>1</td><td>0</td><td>1</td><td>Real Bed</td><td>TV,Cable TV,Internet,Wireless Internet,Air conditioning,Wheelchair accessible,Kitchen,Doorman,Elevator in building,Buzzer/wireless intercom,Heating,Washer,Smoke detector,Carbon monoxide detector,First aid kit,Safety card,Fire extinguisher,Essentials,Shampoo,24-hour check-in,Hangers,Hair dryer,Iron,Laptop friendly workspace,Self Check-In,Doorman Entry</td><td> NA</td><td>55</td><td> 95</td></tr>\n",
       "</tbody>\n",
       "</table>\n"
      ],
      "text/latex": [
       "A data.frame: 6 × 13\n",
       "\\begin{tabular}{r|lllllllllllll}\n",
       "  & Zipcode & Neighbourhood.Cleansed & Property.Type & Room.Type & Accommodates & Bathrooms & Bedrooms & Beds & Bed.Type & Amenities & Square.Feet & Price & Review.Scores.Rating\\\\\n",
       "  & <fct> & <fct> & <fct> & <fct> & <int> & <dbl> & <int> & <int> & <fct> & <fct> & <int> & <int> & <int>\\\\\n",
       "\\hline\n",
       "\t1 & 28004 & Universidad & Apartment & Private room    & 2 & 2 & 1 & 1 & Real Bed & TV,Wireless Internet,Kitchen,Pets allowed,Pets live on this property,Buzzer/wireless intercom,Heating,Suitable for events,Washer,First aid kit,Essentials,Lock on bedroom door,Iron                                                                                                                                                                              &  NA & 35 &  NA\\\\\n",
       "\t2 & 28004 & Universidad & Apartment & Entire home/apt & 6 & 1 & 3 & 5 & Real Bed & TV,Internet,Wireless Internet,Air conditioning,Kitchen,Indoor fireplace,Heating,Family/kid friendly,Washer,Dryer,Smoke detector,Carbon monoxide detector,Essentials,Shampoo                                                                                                                                                                                      &  NA & 92 &  96\\\\\n",
       "\t3 & 28004 & Universidad & Apartment & Entire home/apt & 3 & 1 & 2 & 2 & Real Bed & TV,Internet,Wireless Internet,Air conditioning,Kitchen,Doorman,Heating,Family/kid friendly,Washer,Essentials,Shampoo,Hangers,Hair dryer,Iron,Laptop friendly workspace                                                                                                                                                                                           &  NA & 55 &  91\\\\\n",
       "\t4 & 28004 & Universidad & Loft      & Entire home/apt & 3 & 2 & 1 & 1 & Real Bed & TV,Internet,Wireless Internet,Air conditioning,Kitchen,Pets allowed,Breakfast,Elevator in building,Indoor fireplace,Buzzer/wireless intercom,Heating,Washer,Essentials,Shampoo,Hangers,Hair dryer,Iron,Laptop friendly workspace,translation missing: en.hosting\\_amenity\\_49,translation missing: en.hosting\\_amenity\\_50                                           &  NA & 60 & 100\\\\\n",
       "\t5 & 28015 & Universidad & Apartment & Entire home/apt & 5 & 1 & 1 & 1 & Real Bed & TV,Wireless Internet,Air conditioning,Kitchen,Smoking allowed,Pets allowed,Elevator in building,Heating,Family/kid friendly,Washer,Essentials,Iron                                                                                                                                                                                                               & 538 & 75 &  90\\\\\n",
       "\t6 & 28004 & Universidad & Apartment & Entire home/apt & 2 & 1 & 0 & 1 & Real Bed & TV,Cable TV,Internet,Wireless Internet,Air conditioning,Wheelchair accessible,Kitchen,Doorman,Elevator in building,Buzzer/wireless intercom,Heating,Washer,Smoke detector,Carbon monoxide detector,First aid kit,Safety card,Fire extinguisher,Essentials,Shampoo,24-hour check-in,Hangers,Hair dryer,Iron,Laptop friendly workspace,Self Check-In,Doorman Entry &  NA & 55 &  95\\\\\n",
       "\\end{tabular}\n"
      ],
      "text/markdown": [
       "\n",
       "A data.frame: 6 × 13\n",
       "\n",
       "| <!--/--> | Zipcode &lt;fct&gt; | Neighbourhood.Cleansed &lt;fct&gt; | Property.Type &lt;fct&gt; | Room.Type &lt;fct&gt; | Accommodates &lt;int&gt; | Bathrooms &lt;dbl&gt; | Bedrooms &lt;int&gt; | Beds &lt;int&gt; | Bed.Type &lt;fct&gt; | Amenities &lt;fct&gt; | Square.Feet &lt;int&gt; | Price &lt;int&gt; | Review.Scores.Rating &lt;int&gt; |\n",
       "|---|---|---|---|---|---|---|---|---|---|---|---|---|---|\n",
       "| 1 | 28004 | Universidad | Apartment | Private room    | 2 | 2 | 1 | 1 | Real Bed | TV,Wireless Internet,Kitchen,Pets allowed,Pets live on this property,Buzzer/wireless intercom,Heating,Suitable for events,Washer,First aid kit,Essentials,Lock on bedroom door,Iron                                                                                                                                                                              |  NA | 35 |  NA |\n",
       "| 2 | 28004 | Universidad | Apartment | Entire home/apt | 6 | 1 | 3 | 5 | Real Bed | TV,Internet,Wireless Internet,Air conditioning,Kitchen,Indoor fireplace,Heating,Family/kid friendly,Washer,Dryer,Smoke detector,Carbon monoxide detector,Essentials,Shampoo                                                                                                                                                                                      |  NA | 92 |  96 |\n",
       "| 3 | 28004 | Universidad | Apartment | Entire home/apt | 3 | 1 | 2 | 2 | Real Bed | TV,Internet,Wireless Internet,Air conditioning,Kitchen,Doorman,Heating,Family/kid friendly,Washer,Essentials,Shampoo,Hangers,Hair dryer,Iron,Laptop friendly workspace                                                                                                                                                                                           |  NA | 55 |  91 |\n",
       "| 4 | 28004 | Universidad | Loft      | Entire home/apt | 3 | 2 | 1 | 1 | Real Bed | TV,Internet,Wireless Internet,Air conditioning,Kitchen,Pets allowed,Breakfast,Elevator in building,Indoor fireplace,Buzzer/wireless intercom,Heating,Washer,Essentials,Shampoo,Hangers,Hair dryer,Iron,Laptop friendly workspace,translation missing: en.hosting_amenity_49,translation missing: en.hosting_amenity_50                                           |  NA | 60 | 100 |\n",
       "| 5 | 28015 | Universidad | Apartment | Entire home/apt | 5 | 1 | 1 | 1 | Real Bed | TV,Wireless Internet,Air conditioning,Kitchen,Smoking allowed,Pets allowed,Elevator in building,Heating,Family/kid friendly,Washer,Essentials,Iron                                                                                                                                                                                                               | 538 | 75 |  90 |\n",
       "| 6 | 28004 | Universidad | Apartment | Entire home/apt | 2 | 1 | 0 | 1 | Real Bed | TV,Cable TV,Internet,Wireless Internet,Air conditioning,Wheelchair accessible,Kitchen,Doorman,Elevator in building,Buzzer/wireless intercom,Heating,Washer,Smoke detector,Carbon monoxide detector,First aid kit,Safety card,Fire extinguisher,Essentials,Shampoo,24-hour check-in,Hangers,Hair dryer,Iron,Laptop friendly workspace,Self Check-In,Doorman Entry |  NA | 55 |  95 |\n",
       "\n"
      ],
      "text/plain": [
       "  Zipcode Neighbourhood.Cleansed Property.Type Room.Type       Accommodates\n",
       "1 28004   Universidad            Apartment     Private room    2           \n",
       "2 28004   Universidad            Apartment     Entire home/apt 6           \n",
       "3 28004   Universidad            Apartment     Entire home/apt 3           \n",
       "4 28004   Universidad            Loft          Entire home/apt 3           \n",
       "5 28015   Universidad            Apartment     Entire home/apt 5           \n",
       "6 28004   Universidad            Apartment     Entire home/apt 2           \n",
       "  Bathrooms Bedrooms Beds Bed.Type\n",
       "1 2         1        1    Real Bed\n",
       "2 1         3        5    Real Bed\n",
       "3 1         2        2    Real Bed\n",
       "4 2         1        1    Real Bed\n",
       "5 1         1        1    Real Bed\n",
       "6 1         0        1    Real Bed\n",
       "  Amenities                                                                                                                                                                                                                                                                                                                                                       \n",
       "1 TV,Wireless Internet,Kitchen,Pets allowed,Pets live on this property,Buzzer/wireless intercom,Heating,Suitable for events,Washer,First aid kit,Essentials,Lock on bedroom door,Iron                                                                                                                                                                             \n",
       "2 TV,Internet,Wireless Internet,Air conditioning,Kitchen,Indoor fireplace,Heating,Family/kid friendly,Washer,Dryer,Smoke detector,Carbon monoxide detector,Essentials,Shampoo                                                                                                                                                                                     \n",
       "3 TV,Internet,Wireless Internet,Air conditioning,Kitchen,Doorman,Heating,Family/kid friendly,Washer,Essentials,Shampoo,Hangers,Hair dryer,Iron,Laptop friendly workspace                                                                                                                                                                                          \n",
       "4 TV,Internet,Wireless Internet,Air conditioning,Kitchen,Pets allowed,Breakfast,Elevator in building,Indoor fireplace,Buzzer/wireless intercom,Heating,Washer,Essentials,Shampoo,Hangers,Hair dryer,Iron,Laptop friendly workspace,translation missing: en.hosting_amenity_49,translation missing: en.hosting_amenity_50                                          \n",
       "5 TV,Wireless Internet,Air conditioning,Kitchen,Smoking allowed,Pets allowed,Elevator in building,Heating,Family/kid friendly,Washer,Essentials,Iron                                                                                                                                                                                                              \n",
       "6 TV,Cable TV,Internet,Wireless Internet,Air conditioning,Wheelchair accessible,Kitchen,Doorman,Elevator in building,Buzzer/wireless intercom,Heating,Washer,Smoke detector,Carbon monoxide detector,First aid kit,Safety card,Fire extinguisher,Essentials,Shampoo,24-hour check-in,Hangers,Hair dryer,Iron,Laptop friendly workspace,Self Check-In,Doorman Entry\n",
       "  Square.Feet Price Review.Scores.Rating\n",
       "1  NA         35     NA                 \n",
       "2  NA         92     96                 \n",
       "3  NA         55     91                 \n",
       "4  NA         60    100                 \n",
       "5 538         75     90                 \n",
       "6  NA         55     95                 "
      ]
     },
     "metadata": {},
     "output_type": "display_data"
    }
   ],
   "source": [
    "head(airbnb)"
   ]
  },
  {
   "cell_type": "markdown",
   "metadata": {},
   "source": [
    "Renombrar las columnas de la siguiente forma:\n",
    "\n",
    "| Nombre original | Nuevo nombre |\n",
    "| - | - |\n",
    "| Zipcode | CodigoPostal |\n",
    "| Neighbourhood.Cleansed | Barrio |\n",
    "| Property.Type\t| TipoPropiedad |\n",
    "| Room.Type | TipoAlquiler |\n",
    "| Accommodates | MaxOcupantes |\n",
    "| Bathrooms\t| NumBanyos |\n",
    "| Bedrooms\t| NumDormitorios |\n",
    "| Beds\t|  NumCamas |\n",
    "| Bed.Type\t| TipoCama |\n",
    "| Amenities | Comodidades |\n",
    "| Square.Feet | PiesCuadrados |\n",
    "| Price\t| Precio |\n",
    "| Review.Scores.Rating | Puntuacion |"
   ]
  },
  {
   "cell_type": "code",
   "execution_count": 7,
   "metadata": {},
   "outputs": [
    {
     "data": {
      "text/html": [
       "<table class=\"dataframe\">\n",
       "<caption>A data.frame: 6 × 13</caption>\n",
       "<thead>\n",
       "\t<tr><th></th><th scope=col>CodigoPostal</th><th scope=col>Barrio</th><th scope=col>TipoPropiedad</th><th scope=col>TipoAlquiler</th><th scope=col>MaxOcupantes</th><th scope=col>NumBanyos</th><th scope=col>NumDormitorios</th><th scope=col>NumCamas</th><th scope=col>TipoCama</th><th scope=col>Comodidades</th><th scope=col>PiesCuadrados</th><th scope=col>Precio</th><th scope=col>Puntuacion</th></tr>\n",
       "\t<tr><th></th><th scope=col>&lt;fct&gt;</th><th scope=col>&lt;fct&gt;</th><th scope=col>&lt;fct&gt;</th><th scope=col>&lt;fct&gt;</th><th scope=col>&lt;int&gt;</th><th scope=col>&lt;dbl&gt;</th><th scope=col>&lt;int&gt;</th><th scope=col>&lt;int&gt;</th><th scope=col>&lt;fct&gt;</th><th scope=col>&lt;fct&gt;</th><th scope=col>&lt;int&gt;</th><th scope=col>&lt;int&gt;</th><th scope=col>&lt;int&gt;</th></tr>\n",
       "</thead>\n",
       "<tbody>\n",
       "\t<tr><th scope=row>1</th><td>28004</td><td>Universidad</td><td>Apartment</td><td>Private room   </td><td>2</td><td>2</td><td>1</td><td>1</td><td>Real Bed</td><td>TV,Wireless Internet,Kitchen,Pets allowed,Pets live on this property,Buzzer/wireless intercom,Heating,Suitable for events,Washer,First aid kit,Essentials,Lock on bedroom door,Iron                                                                                                                                                                             </td><td> NA</td><td>35</td><td> NA</td></tr>\n",
       "\t<tr><th scope=row>2</th><td>28004</td><td>Universidad</td><td>Apartment</td><td>Entire home/apt</td><td>6</td><td>1</td><td>3</td><td>5</td><td>Real Bed</td><td>TV,Internet,Wireless Internet,Air conditioning,Kitchen,Indoor fireplace,Heating,Family/kid friendly,Washer,Dryer,Smoke detector,Carbon monoxide detector,Essentials,Shampoo                                                                                                                                                                                     </td><td> NA</td><td>92</td><td> 96</td></tr>\n",
       "\t<tr><th scope=row>3</th><td>28004</td><td>Universidad</td><td>Apartment</td><td>Entire home/apt</td><td>3</td><td>1</td><td>2</td><td>2</td><td>Real Bed</td><td>TV,Internet,Wireless Internet,Air conditioning,Kitchen,Doorman,Heating,Family/kid friendly,Washer,Essentials,Shampoo,Hangers,Hair dryer,Iron,Laptop friendly workspace                                                                                                                                                                                          </td><td> NA</td><td>55</td><td> 91</td></tr>\n",
       "\t<tr><th scope=row>4</th><td>28004</td><td>Universidad</td><td>Loft     </td><td>Entire home/apt</td><td>3</td><td>2</td><td>1</td><td>1</td><td>Real Bed</td><td>TV,Internet,Wireless Internet,Air conditioning,Kitchen,Pets allowed,Breakfast,Elevator in building,Indoor fireplace,Buzzer/wireless intercom,Heating,Washer,Essentials,Shampoo,Hangers,Hair dryer,Iron,Laptop friendly workspace,translation missing: en.hosting_amenity_49,translation missing: en.hosting_amenity_50                                          </td><td> NA</td><td>60</td><td>100</td></tr>\n",
       "\t<tr><th scope=row>5</th><td>28015</td><td>Universidad</td><td>Apartment</td><td>Entire home/apt</td><td>5</td><td>1</td><td>1</td><td>1</td><td>Real Bed</td><td>TV,Wireless Internet,Air conditioning,Kitchen,Smoking allowed,Pets allowed,Elevator in building,Heating,Family/kid friendly,Washer,Essentials,Iron                                                                                                                                                                                                              </td><td>538</td><td>75</td><td> 90</td></tr>\n",
       "\t<tr><th scope=row>6</th><td>28004</td><td>Universidad</td><td>Apartment</td><td>Entire home/apt</td><td>2</td><td>1</td><td>0</td><td>1</td><td>Real Bed</td><td>TV,Cable TV,Internet,Wireless Internet,Air conditioning,Wheelchair accessible,Kitchen,Doorman,Elevator in building,Buzzer/wireless intercom,Heating,Washer,Smoke detector,Carbon monoxide detector,First aid kit,Safety card,Fire extinguisher,Essentials,Shampoo,24-hour check-in,Hangers,Hair dryer,Iron,Laptop friendly workspace,Self Check-In,Doorman Entry</td><td> NA</td><td>55</td><td> 95</td></tr>\n",
       "</tbody>\n",
       "</table>\n"
      ],
      "text/latex": [
       "A data.frame: 6 × 13\n",
       "\\begin{tabular}{r|lllllllllllll}\n",
       "  & CodigoPostal & Barrio & TipoPropiedad & TipoAlquiler & MaxOcupantes & NumBanyos & NumDormitorios & NumCamas & TipoCama & Comodidades & PiesCuadrados & Precio & Puntuacion\\\\\n",
       "  & <fct> & <fct> & <fct> & <fct> & <int> & <dbl> & <int> & <int> & <fct> & <fct> & <int> & <int> & <int>\\\\\n",
       "\\hline\n",
       "\t1 & 28004 & Universidad & Apartment & Private room    & 2 & 2 & 1 & 1 & Real Bed & TV,Wireless Internet,Kitchen,Pets allowed,Pets live on this property,Buzzer/wireless intercom,Heating,Suitable for events,Washer,First aid kit,Essentials,Lock on bedroom door,Iron                                                                                                                                                                              &  NA & 35 &  NA\\\\\n",
       "\t2 & 28004 & Universidad & Apartment & Entire home/apt & 6 & 1 & 3 & 5 & Real Bed & TV,Internet,Wireless Internet,Air conditioning,Kitchen,Indoor fireplace,Heating,Family/kid friendly,Washer,Dryer,Smoke detector,Carbon monoxide detector,Essentials,Shampoo                                                                                                                                                                                      &  NA & 92 &  96\\\\\n",
       "\t3 & 28004 & Universidad & Apartment & Entire home/apt & 3 & 1 & 2 & 2 & Real Bed & TV,Internet,Wireless Internet,Air conditioning,Kitchen,Doorman,Heating,Family/kid friendly,Washer,Essentials,Shampoo,Hangers,Hair dryer,Iron,Laptop friendly workspace                                                                                                                                                                                           &  NA & 55 &  91\\\\\n",
       "\t4 & 28004 & Universidad & Loft      & Entire home/apt & 3 & 2 & 1 & 1 & Real Bed & TV,Internet,Wireless Internet,Air conditioning,Kitchen,Pets allowed,Breakfast,Elevator in building,Indoor fireplace,Buzzer/wireless intercom,Heating,Washer,Essentials,Shampoo,Hangers,Hair dryer,Iron,Laptop friendly workspace,translation missing: en.hosting\\_amenity\\_49,translation missing: en.hosting\\_amenity\\_50                                           &  NA & 60 & 100\\\\\n",
       "\t5 & 28015 & Universidad & Apartment & Entire home/apt & 5 & 1 & 1 & 1 & Real Bed & TV,Wireless Internet,Air conditioning,Kitchen,Smoking allowed,Pets allowed,Elevator in building,Heating,Family/kid friendly,Washer,Essentials,Iron                                                                                                                                                                                                               & 538 & 75 &  90\\\\\n",
       "\t6 & 28004 & Universidad & Apartment & Entire home/apt & 2 & 1 & 0 & 1 & Real Bed & TV,Cable TV,Internet,Wireless Internet,Air conditioning,Wheelchair accessible,Kitchen,Doorman,Elevator in building,Buzzer/wireless intercom,Heating,Washer,Smoke detector,Carbon monoxide detector,First aid kit,Safety card,Fire extinguisher,Essentials,Shampoo,24-hour check-in,Hangers,Hair dryer,Iron,Laptop friendly workspace,Self Check-In,Doorman Entry &  NA & 55 &  95\\\\\n",
       "\\end{tabular}\n"
      ],
      "text/markdown": [
       "\n",
       "A data.frame: 6 × 13\n",
       "\n",
       "| <!--/--> | CodigoPostal &lt;fct&gt; | Barrio &lt;fct&gt; | TipoPropiedad &lt;fct&gt; | TipoAlquiler &lt;fct&gt; | MaxOcupantes &lt;int&gt; | NumBanyos &lt;dbl&gt; | NumDormitorios &lt;int&gt; | NumCamas &lt;int&gt; | TipoCama &lt;fct&gt; | Comodidades &lt;fct&gt; | PiesCuadrados &lt;int&gt; | Precio &lt;int&gt; | Puntuacion &lt;int&gt; |\n",
       "|---|---|---|---|---|---|---|---|---|---|---|---|---|---|\n",
       "| 1 | 28004 | Universidad | Apartment | Private room    | 2 | 2 | 1 | 1 | Real Bed | TV,Wireless Internet,Kitchen,Pets allowed,Pets live on this property,Buzzer/wireless intercom,Heating,Suitable for events,Washer,First aid kit,Essentials,Lock on bedroom door,Iron                                                                                                                                                                              |  NA | 35 |  NA |\n",
       "| 2 | 28004 | Universidad | Apartment | Entire home/apt | 6 | 1 | 3 | 5 | Real Bed | TV,Internet,Wireless Internet,Air conditioning,Kitchen,Indoor fireplace,Heating,Family/kid friendly,Washer,Dryer,Smoke detector,Carbon monoxide detector,Essentials,Shampoo                                                                                                                                                                                      |  NA | 92 |  96 |\n",
       "| 3 | 28004 | Universidad | Apartment | Entire home/apt | 3 | 1 | 2 | 2 | Real Bed | TV,Internet,Wireless Internet,Air conditioning,Kitchen,Doorman,Heating,Family/kid friendly,Washer,Essentials,Shampoo,Hangers,Hair dryer,Iron,Laptop friendly workspace                                                                                                                                                                                           |  NA | 55 |  91 |\n",
       "| 4 | 28004 | Universidad | Loft      | Entire home/apt | 3 | 2 | 1 | 1 | Real Bed | TV,Internet,Wireless Internet,Air conditioning,Kitchen,Pets allowed,Breakfast,Elevator in building,Indoor fireplace,Buzzer/wireless intercom,Heating,Washer,Essentials,Shampoo,Hangers,Hair dryer,Iron,Laptop friendly workspace,translation missing: en.hosting_amenity_49,translation missing: en.hosting_amenity_50                                           |  NA | 60 | 100 |\n",
       "| 5 | 28015 | Universidad | Apartment | Entire home/apt | 5 | 1 | 1 | 1 | Real Bed | TV,Wireless Internet,Air conditioning,Kitchen,Smoking allowed,Pets allowed,Elevator in building,Heating,Family/kid friendly,Washer,Essentials,Iron                                                                                                                                                                                                               | 538 | 75 |  90 |\n",
       "| 6 | 28004 | Universidad | Apartment | Entire home/apt | 2 | 1 | 0 | 1 | Real Bed | TV,Cable TV,Internet,Wireless Internet,Air conditioning,Wheelchair accessible,Kitchen,Doorman,Elevator in building,Buzzer/wireless intercom,Heating,Washer,Smoke detector,Carbon monoxide detector,First aid kit,Safety card,Fire extinguisher,Essentials,Shampoo,24-hour check-in,Hangers,Hair dryer,Iron,Laptop friendly workspace,Self Check-In,Doorman Entry |  NA | 55 |  95 |\n",
       "\n"
      ],
      "text/plain": [
       "  CodigoPostal Barrio      TipoPropiedad TipoAlquiler    MaxOcupantes NumBanyos\n",
       "1 28004        Universidad Apartment     Private room    2            2        \n",
       "2 28004        Universidad Apartment     Entire home/apt 6            1        \n",
       "3 28004        Universidad Apartment     Entire home/apt 3            1        \n",
       "4 28004        Universidad Loft          Entire home/apt 3            2        \n",
       "5 28015        Universidad Apartment     Entire home/apt 5            1        \n",
       "6 28004        Universidad Apartment     Entire home/apt 2            1        \n",
       "  NumDormitorios NumCamas TipoCama\n",
       "1 1              1        Real Bed\n",
       "2 3              5        Real Bed\n",
       "3 2              2        Real Bed\n",
       "4 1              1        Real Bed\n",
       "5 1              1        Real Bed\n",
       "6 0              1        Real Bed\n",
       "  Comodidades                                                                                                                                                                                                                                                                                                                                                     \n",
       "1 TV,Wireless Internet,Kitchen,Pets allowed,Pets live on this property,Buzzer/wireless intercom,Heating,Suitable for events,Washer,First aid kit,Essentials,Lock on bedroom door,Iron                                                                                                                                                                             \n",
       "2 TV,Internet,Wireless Internet,Air conditioning,Kitchen,Indoor fireplace,Heating,Family/kid friendly,Washer,Dryer,Smoke detector,Carbon monoxide detector,Essentials,Shampoo                                                                                                                                                                                     \n",
       "3 TV,Internet,Wireless Internet,Air conditioning,Kitchen,Doorman,Heating,Family/kid friendly,Washer,Essentials,Shampoo,Hangers,Hair dryer,Iron,Laptop friendly workspace                                                                                                                                                                                          \n",
       "4 TV,Internet,Wireless Internet,Air conditioning,Kitchen,Pets allowed,Breakfast,Elevator in building,Indoor fireplace,Buzzer/wireless intercom,Heating,Washer,Essentials,Shampoo,Hangers,Hair dryer,Iron,Laptop friendly workspace,translation missing: en.hosting_amenity_49,translation missing: en.hosting_amenity_50                                          \n",
       "5 TV,Wireless Internet,Air conditioning,Kitchen,Smoking allowed,Pets allowed,Elevator in building,Heating,Family/kid friendly,Washer,Essentials,Iron                                                                                                                                                                                                              \n",
       "6 TV,Cable TV,Internet,Wireless Internet,Air conditioning,Wheelchair accessible,Kitchen,Doorman,Elevator in building,Buzzer/wireless intercom,Heating,Washer,Smoke detector,Carbon monoxide detector,First aid kit,Safety card,Fire extinguisher,Essentials,Shampoo,24-hour check-in,Hangers,Hair dryer,Iron,Laptop friendly workspace,Self Check-In,Doorman Entry\n",
       "  PiesCuadrados Precio Puntuacion\n",
       "1  NA           35      NA       \n",
       "2  NA           92      96       \n",
       "3  NA           55      91       \n",
       "4  NA           60     100       \n",
       "5 538           75      90       \n",
       "6  NA           55      95       "
      ]
     },
     "metadata": {},
     "output_type": "display_data"
    }
   ],
   "source": [
    "newnames<-c(\"CodigoPostal\",\"Barrio\",\"TipoPropiedad\",\"TipoAlquiler\",\"MaxOcupantes\",\"NumBanyos\",\n",
    "\"NumDormitorios\",\"NumCamas\",\"TipoCama\",\"Comodidades\",\"PiesCuadrados\",\"Precio\",\"Puntuacion\")\n",
    "\n",
    "names(airbnb) = newnames\n",
    "head(airbnb)\n",
    "\n"
   ]
  },
  {
   "cell_type": "markdown",
   "metadata": {},
   "source": [
    "Crea una nueva columna llamada MetrosCuadrados a partir de la columna PiesCuadrados.\n",
    "\n",
    "Ayuda: 1 pie cuadrado son 0,092903 metros cuadrdados"
   ]
  },
  {
   "cell_type": "code",
   "execution_count": 8,
   "metadata": {},
   "outputs": [],
   "source": [
    "airbnb$MetrosCuadrados <- airbnb$PiesCuadrados*0.092903\n"
   ]
  },
  {
   "cell_type": "markdown",
   "metadata": {},
   "source": [
    "Miremos el código postal. Es una variable con entradas erroneas.\n",
    "Hay valores como '', '-'  y '28' que deberían ser considerados como NA.\n",
    "Así mismo también debería ser NA todos los que no compiencen por 28, ya que estamos con códigos postales de Madrid\n",
    "\n",
    "El código postal 28002, 28004 y 28051 tienen entradas repetidas. \n",
    "Por ejemplo las entradas 28002\\n20882 deberían ir dnetro de 28002\n",
    "\n",
    "El codigo 2804 debería ser 28004, 2805 deberia ser 28005 y 2815 juncto con 2815 debería ser 28015\n",
    "\n",
    "Limpia los datos de la columna Codigo Postal"
   ]
  },
  {
   "cell_type": "code",
   "execution_count": 10,
   "metadata": {},
   "outputs": [
    {
     "data": {
      "text/html": [
       "<style>\n",
       ".list-inline {list-style: none; margin:0; padding: 0}\n",
       ".list-inline>li {display: inline-block}\n",
       ".list-inline>li:not(:last-child)::after {content: \"\\00b7\"; padding: 0 .5ex}\n",
       "</style>\n",
       "<ol class=list-inline><li>'28001'</li><li>'28013'</li><li>'28002'</li><li>'28003'</li><li>'28004'</li><li>'28005'</li><li>'28006'</li><li>'28007'</li><li>'28008'</li><li>'28009'</li><li>'28010'</li><li>'28011'</li><li>'28012'</li><li>'28014'</li><li>'28015'</li><li>'28016'</li><li>'28017'</li><li>'28018'</li><li>'28019'</li><li>'28020'</li><li>'28021'</li><li>'28022'</li><li>'28023'</li><li>'28024'</li><li>'28025'</li><li>'28026'</li><li>'28027'</li><li>'28028'</li><li>'28029'</li><li>'28030'</li><li>'28031'</li><li>'28032'</li><li>'28033'</li><li>'28034'</li><li>'28035'</li><li>'28036'</li><li>'28037'</li><li>'28038'</li><li>'28039'</li><li>'28040'</li><li>'28041'</li><li>'28042'</li><li>'28043'</li><li>'28044'</li><li>'28045'</li><li>'28046'</li><li>'28047'</li><li>'28048'</li><li>'28049'</li><li>'28050'</li><li>'28051'</li><li>'28052'</li><li>'28053'</li><li>'28054'</li><li>'28055'</li><li>'28056'</li><li>'28058'</li><li>'28060'</li><li>'28094'</li><li>'28105'</li><li>'28850'</li></ol>\n"
      ],
      "text/latex": [
       "\\begin{enumerate*}\n",
       "\\item '28001'\n",
       "\\item '28013'\n",
       "\\item '28002'\n",
       "\\item '28003'\n",
       "\\item '28004'\n",
       "\\item '28005'\n",
       "\\item '28006'\n",
       "\\item '28007'\n",
       "\\item '28008'\n",
       "\\item '28009'\n",
       "\\item '28010'\n",
       "\\item '28011'\n",
       "\\item '28012'\n",
       "\\item '28014'\n",
       "\\item '28015'\n",
       "\\item '28016'\n",
       "\\item '28017'\n",
       "\\item '28018'\n",
       "\\item '28019'\n",
       "\\item '28020'\n",
       "\\item '28021'\n",
       "\\item '28022'\n",
       "\\item '28023'\n",
       "\\item '28024'\n",
       "\\item '28025'\n",
       "\\item '28026'\n",
       "\\item '28027'\n",
       "\\item '28028'\n",
       "\\item '28029'\n",
       "\\item '28030'\n",
       "\\item '28031'\n",
       "\\item '28032'\n",
       "\\item '28033'\n",
       "\\item '28034'\n",
       "\\item '28035'\n",
       "\\item '28036'\n",
       "\\item '28037'\n",
       "\\item '28038'\n",
       "\\item '28039'\n",
       "\\item '28040'\n",
       "\\item '28041'\n",
       "\\item '28042'\n",
       "\\item '28043'\n",
       "\\item '28044'\n",
       "\\item '28045'\n",
       "\\item '28046'\n",
       "\\item '28047'\n",
       "\\item '28048'\n",
       "\\item '28049'\n",
       "\\item '28050'\n",
       "\\item '28051'\n",
       "\\item '28052'\n",
       "\\item '28053'\n",
       "\\item '28054'\n",
       "\\item '28055'\n",
       "\\item '28056'\n",
       "\\item '28058'\n",
       "\\item '28060'\n",
       "\\item '28094'\n",
       "\\item '28105'\n",
       "\\item '28850'\n",
       "\\end{enumerate*}\n"
      ],
      "text/markdown": [
       "1. '28001'\n",
       "2. '28013'\n",
       "3. '28002'\n",
       "4. '28003'\n",
       "5. '28004'\n",
       "6. '28005'\n",
       "7. '28006'\n",
       "8. '28007'\n",
       "9. '28008'\n",
       "10. '28009'\n",
       "11. '28010'\n",
       "12. '28011'\n",
       "13. '28012'\n",
       "14. '28014'\n",
       "15. '28015'\n",
       "16. '28016'\n",
       "17. '28017'\n",
       "18. '28018'\n",
       "19. '28019'\n",
       "20. '28020'\n",
       "21. '28021'\n",
       "22. '28022'\n",
       "23. '28023'\n",
       "24. '28024'\n",
       "25. '28025'\n",
       "26. '28026'\n",
       "27. '28027'\n",
       "28. '28028'\n",
       "29. '28029'\n",
       "30. '28030'\n",
       "31. '28031'\n",
       "32. '28032'\n",
       "33. '28033'\n",
       "34. '28034'\n",
       "35. '28035'\n",
       "36. '28036'\n",
       "37. '28037'\n",
       "38. '28038'\n",
       "39. '28039'\n",
       "40. '28040'\n",
       "41. '28041'\n",
       "42. '28042'\n",
       "43. '28043'\n",
       "44. '28044'\n",
       "45. '28045'\n",
       "46. '28046'\n",
       "47. '28047'\n",
       "48. '28048'\n",
       "49. '28049'\n",
       "50. '28050'\n",
       "51. '28051'\n",
       "52. '28052'\n",
       "53. '28053'\n",
       "54. '28054'\n",
       "55. '28055'\n",
       "56. '28056'\n",
       "57. '28058'\n",
       "58. '28060'\n",
       "59. '28094'\n",
       "60. '28105'\n",
       "61. '28850'\n",
       "\n",
       "\n"
      ],
      "text/plain": [
       " [1] \"28001\" \"28013\" \"28002\" \"28003\" \"28004\" \"28005\" \"28006\" \"28007\" \"28008\"\n",
       "[10] \"28009\" \"28010\" \"28011\" \"28012\" \"28014\" \"28015\" \"28016\" \"28017\" \"28018\"\n",
       "[19] \"28019\" \"28020\" \"28021\" \"28022\" \"28023\" \"28024\" \"28025\" \"28026\" \"28027\"\n",
       "[28] \"28028\" \"28029\" \"28030\" \"28031\" \"28032\" \"28033\" \"28034\" \"28035\" \"28036\"\n",
       "[37] \"28037\" \"28038\" \"28039\" \"28040\" \"28041\" \"28042\" \"28043\" \"28044\" \"28045\"\n",
       "[46] \"28046\" \"28047\" \"28048\" \"28049\" \"28050\" \"28051\" \"28052\" \"28053\" \"28054\"\n",
       "[55] \"28055\" \"28056\" \"28058\" \"28060\" \"28094\" \"28105\" \"28850\""
      ]
     },
     "metadata": {},
     "output_type": "display_data"
    },
    {
     "data": {
      "text/html": [
       "<style>\n",
       ".list-inline {list-style: none; margin:0; padding: 0}\n",
       ".list-inline>li {display: inline-block}\n",
       ".list-inline>li:not(:last-child)::after {content: \"\\00b7\"; padding: 0 .5ex}\n",
       "</style>\n",
       "<ol class=list-inline><li>'28001'</li><li>'28013'</li><li>'28002'</li><li>'28003'</li><li>'28004'</li><li>'28005'</li><li>'28006'</li><li>'28007'</li><li>'28008'</li><li>'28009'</li><li>'28010'</li><li>'28011'</li><li>'28012'</li><li>'28014'</li><li>'28015'</li><li>'28016'</li><li>'28017'</li><li>'28018'</li><li>'28019'</li><li>'28020'</li><li>'28021'</li><li>'28022'</li><li>'28023'</li><li>'28024'</li><li>'28025'</li><li>'28026'</li><li>'28027'</li><li>'28028'</li><li>'28029'</li><li>'28030'</li><li>'28031'</li><li>'28032'</li><li>'28033'</li><li>'28034'</li><li>'28035'</li><li>'28036'</li><li>'28037'</li><li>'28038'</li><li>'28039'</li><li>'28040'</li><li>'28041'</li><li>'28042'</li><li>'28043'</li><li>'28044'</li><li>'28045'</li><li>'28046'</li><li>'28047'</li><li>'28048'</li><li>'28049'</li><li>'28050'</li><li>'28051'</li><li>'28052'</li><li>'28053'</li><li>'28054'</li><li>'28055'</li><li>'28056'</li><li>'28058'</li><li>'28060'</li><li>'28094'</li><li>'28105'</li><li>'28850'</li></ol>\n"
      ],
      "text/latex": [
       "\\begin{enumerate*}\n",
       "\\item '28001'\n",
       "\\item '28013'\n",
       "\\item '28002'\n",
       "\\item '28003'\n",
       "\\item '28004'\n",
       "\\item '28005'\n",
       "\\item '28006'\n",
       "\\item '28007'\n",
       "\\item '28008'\n",
       "\\item '28009'\n",
       "\\item '28010'\n",
       "\\item '28011'\n",
       "\\item '28012'\n",
       "\\item '28014'\n",
       "\\item '28015'\n",
       "\\item '28016'\n",
       "\\item '28017'\n",
       "\\item '28018'\n",
       "\\item '28019'\n",
       "\\item '28020'\n",
       "\\item '28021'\n",
       "\\item '28022'\n",
       "\\item '28023'\n",
       "\\item '28024'\n",
       "\\item '28025'\n",
       "\\item '28026'\n",
       "\\item '28027'\n",
       "\\item '28028'\n",
       "\\item '28029'\n",
       "\\item '28030'\n",
       "\\item '28031'\n",
       "\\item '28032'\n",
       "\\item '28033'\n",
       "\\item '28034'\n",
       "\\item '28035'\n",
       "\\item '28036'\n",
       "\\item '28037'\n",
       "\\item '28038'\n",
       "\\item '28039'\n",
       "\\item '28040'\n",
       "\\item '28041'\n",
       "\\item '28042'\n",
       "\\item '28043'\n",
       "\\item '28044'\n",
       "\\item '28045'\n",
       "\\item '28046'\n",
       "\\item '28047'\n",
       "\\item '28048'\n",
       "\\item '28049'\n",
       "\\item '28050'\n",
       "\\item '28051'\n",
       "\\item '28052'\n",
       "\\item '28053'\n",
       "\\item '28054'\n",
       "\\item '28055'\n",
       "\\item '28056'\n",
       "\\item '28058'\n",
       "\\item '28060'\n",
       "\\item '28094'\n",
       "\\item '28105'\n",
       "\\item '28850'\n",
       "\\end{enumerate*}\n"
      ],
      "text/markdown": [
       "1. '28001'\n",
       "2. '28013'\n",
       "3. '28002'\n",
       "4. '28003'\n",
       "5. '28004'\n",
       "6. '28005'\n",
       "7. '28006'\n",
       "8. '28007'\n",
       "9. '28008'\n",
       "10. '28009'\n",
       "11. '28010'\n",
       "12. '28011'\n",
       "13. '28012'\n",
       "14. '28014'\n",
       "15. '28015'\n",
       "16. '28016'\n",
       "17. '28017'\n",
       "18. '28018'\n",
       "19. '28019'\n",
       "20. '28020'\n",
       "21. '28021'\n",
       "22. '28022'\n",
       "23. '28023'\n",
       "24. '28024'\n",
       "25. '28025'\n",
       "26. '28026'\n",
       "27. '28027'\n",
       "28. '28028'\n",
       "29. '28029'\n",
       "30. '28030'\n",
       "31. '28031'\n",
       "32. '28032'\n",
       "33. '28033'\n",
       "34. '28034'\n",
       "35. '28035'\n",
       "36. '28036'\n",
       "37. '28037'\n",
       "38. '28038'\n",
       "39. '28039'\n",
       "40. '28040'\n",
       "41. '28041'\n",
       "42. '28042'\n",
       "43. '28043'\n",
       "44. '28044'\n",
       "45. '28045'\n",
       "46. '28046'\n",
       "47. '28047'\n",
       "48. '28048'\n",
       "49. '28049'\n",
       "50. '28050'\n",
       "51. '28051'\n",
       "52. '28052'\n",
       "53. '28053'\n",
       "54. '28054'\n",
       "55. '28055'\n",
       "56. '28056'\n",
       "57. '28058'\n",
       "58. '28060'\n",
       "59. '28094'\n",
       "60. '28105'\n",
       "61. '28850'\n",
       "\n",
       "\n"
      ],
      "text/plain": [
       " [1] \"28001\" \"28013\" \"28002\" \"28003\" \"28004\" \"28005\" \"28006\" \"28007\" \"28008\"\n",
       "[10] \"28009\" \"28010\" \"28011\" \"28012\" \"28014\" \"28015\" \"28016\" \"28017\" \"28018\"\n",
       "[19] \"28019\" \"28020\" \"28021\" \"28022\" \"28023\" \"28024\" \"28025\" \"28026\" \"28027\"\n",
       "[28] \"28028\" \"28029\" \"28030\" \"28031\" \"28032\" \"28033\" \"28034\" \"28035\" \"28036\"\n",
       "[37] \"28037\" \"28038\" \"28039\" \"28040\" \"28041\" \"28042\" \"28043\" \"28044\" \"28045\"\n",
       "[46] \"28046\" \"28047\" \"28048\" \"28049\" \"28050\" \"28051\" \"28052\" \"28053\" \"28054\"\n",
       "[55] \"28055\" \"28056\" \"28058\" \"28060\" \"28094\" \"28105\" \"28850\""
      ]
     },
     "metadata": {},
     "output_type": "display_data"
    }
   ],
   "source": [
    "levels(airbnb$CodigoPostal)\n",
    "\n",
    "levels(airbnb$CodigoPostal)[levels(airbnb$CodigoPostal) %in% c('')] <- NA\n",
    "levels(airbnb$CodigoPostal)[levels(airbnb$CodigoPostal) %in% c('-')] <- NA\n",
    "levels(airbnb$CodigoPostal)[levels(airbnb$CodigoPostal) %in% c('28')] <- NA\n",
    "levels(airbnb$CodigoPostal)[levels(airbnb$CodigoPostal) %in% c('Madrid 28004')] <- '28004'\n",
    "levels(airbnb$CodigoPostal)[levels(airbnb$CodigoPostal) %in% c('2804')] <- '28004'\n",
    "levels(airbnb$CodigoPostal)[levels(airbnb$CodigoPostal) %in% c('2805')] <- '28005'\n",
    "levels(airbnb$CodigoPostal)[levels(airbnb$CodigoPostal) %in% c('2815')] <- '28015'\n",
    "levels(airbnb$CodigoPostal)[levels(airbnb$CodigoPostal) %in% c('280013')] <- '28013'\n",
    "\n",
    "levels(airbnb$CodigoPostal)[!startsWith(levels(airbnb$CodigoPostal), '28')] <- NA\n",
    "\n",
    "z <- grepl(\"\\n\", levels(airbnb$CodigoPostal), fixed=TRUE)\n",
    "levels(airbnb$CodigoPostal)[z] <- substr(levels(airbnb$CodigoPostal)[z],1,5)\n",
    "\n",
    "levels(airbnb$CodigoPostal)\n",
    "\n"
   ]
  },
  {
   "cell_type": "markdown",
   "metadata": {},
   "source": [
    "Una vez limpios los datos ¿Cuales son los códigos postales que tenemos? "
   ]
  },
  {
   "cell_type": "code",
   "execution_count": 11,
   "metadata": {},
   "outputs": [
    {
     "name": "stdout",
     "output_type": "stream",
     "text": [
      "Tabla con los Codigos postales: \n"
     ]
    },
    {
     "data": {
      "text/plain": [
       "\n",
       "28001 28013 28002 28003 28004 28005 28006 28007 28008 28009 28010 28011 28012 \n",
       "  231  1020   171   185  1796  1195   218   206   338   216   384   250  2060 \n",
       "28014 28015 28016 28017 28018 28019 28020 28021 28022 28023 28024 28025 28026 \n",
       "  630   601    76   107    43   200   192    58    30    23    44   123    93 \n",
       "28027 28028 28029 28030 28031 28032 28033 28034 28035 28036 28037 28038 28039 \n",
       "  122   263   110    73    27    33    89    45    59    67    65    77   160 \n",
       "28040 28041 28042 28043 28044 28045 28046 28047 28048 28049 28050 28051 28052 \n",
       "   16    63    90   103    19   495    32    67     1     3    58    17     1 \n",
       "28053 28054 28055 28056 28058 28060 28094 28105 28850 \n",
       "   85    12    12     1     1     1     1     1     1 "
      ]
     },
     "metadata": {},
     "output_type": "display_data"
    }
   ],
   "source": [
    "cat(\"Tabla con los Codigos postales: \\n\")\n",
    "table(airbnb$CodigoPostal)"
   ]
  },
  {
   "cell_type": "markdown",
   "metadata": {},
   "source": [
    "¿Cuales son los 5 códigos postales con más entradas? ¿Y con menos? ¿Cuantas entradas tienen?"
   ]
  },
  {
   "cell_type": "code",
   "execution_count": 12,
   "metadata": {},
   "outputs": [
    {
     "name": "stdout",
     "output_type": "stream",
     "text": [
      "los 5 códigos postales con más entradas: \n"
     ]
    },
    {
     "data": {
      "text/plain": [
       "\n",
       "28012 28004 28005 28013 28014 \n",
       " 2060  1796  1195  1020   630 "
      ]
     },
     "metadata": {},
     "output_type": "display_data"
    },
    {
     "name": "stdout",
     "output_type": "stream",
     "text": [
      "los 5 códigos postales con menos entradas : \n"
     ]
    },
    {
     "data": {
      "text/plain": [
       "\n",
       "28048 28052 28056 28058 28060 \n",
       "    1     1     1     1     1 "
      ]
     },
     "metadata": {},
     "output_type": "display_data"
    }
   ],
   "source": [
    "\n",
    "cat(\"los 5 códigos postales con más entradas: \\n\")\n",
    "sort(table(airbnb$CodigoPostal), decreasing=T)[1:5]\n",
    "\n",
    "cat(\"los 5 códigos postales con menos entradas : \\n\")\n",
    "sort(table(airbnb$CodigoPostal))[1:5]\n",
    "\n"
   ]
  },
  {
   "cell_type": "markdown",
   "metadata": {},
   "source": [
    "¿Cuales son los barrios que hay en el código postal 28012?"
   ]
  },
  {
   "cell_type": "code",
   "execution_count": 15,
   "metadata": {},
   "outputs": [
    {
     "data": {
      "text/html": [
       "<table class=\"dataframe\">\n",
       "<caption>A data.frame: 11 × 2</caption>\n",
       "<thead>\n",
       "\t<tr><th></th><th scope=col>CodigoPostal</th><th scope=col>Barrio</th></tr>\n",
       "\t<tr><th></th><th scope=col>&lt;fct&gt;</th><th scope=col>&lt;fct&gt;</th></tr>\n",
       "</thead>\n",
       "<tbody>\n",
       "\t<tr><th scope=row>1</th><td>28012</td><td>Sol            </td></tr>\n",
       "\t<tr><th scope=row>5</th><td>28012</td><td>Acacias        </td></tr>\n",
       "\t<tr><th scope=row>10</th><td>28012</td><td>Palos de Moguer</td></tr>\n",
       "\t<tr><th scope=row>11</th><td>28012</td><td>Embajadores    </td></tr>\n",
       "\t<tr><th scope=row>27</th><td>28012</td><td>Cortes         </td></tr>\n",
       "\t<tr><th scope=row>96</th><td>28012</td><td>Palacio        </td></tr>\n",
       "\t<tr><th scope=row>262</th><td>28012</td><td>Universidad    </td></tr>\n",
       "\t<tr><th scope=row>863</th><td>28012</td><td>Delicias       </td></tr>\n",
       "\t<tr><th scope=row>1435</th><td>28012</td><td>Arapiles       </td></tr>\n",
       "\t<tr><th scope=row>1846</th><td>28012</td><td>Atocha         </td></tr>\n",
       "\t<tr><th scope=row>1918</th><td>28012</td><td>Goya           </td></tr>\n",
       "</tbody>\n",
       "</table>\n"
      ],
      "text/latex": [
       "A data.frame: 11 × 2\n",
       "\\begin{tabular}{r|ll}\n",
       "  & CodigoPostal & Barrio\\\\\n",
       "  & <fct> & <fct>\\\\\n",
       "\\hline\n",
       "\t1 & 28012 & Sol            \\\\\n",
       "\t5 & 28012 & Acacias        \\\\\n",
       "\t10 & 28012 & Palos de Moguer\\\\\n",
       "\t11 & 28012 & Embajadores    \\\\\n",
       "\t27 & 28012 & Cortes         \\\\\n",
       "\t96 & 28012 & Palacio        \\\\\n",
       "\t262 & 28012 & Universidad    \\\\\n",
       "\t863 & 28012 & Delicias       \\\\\n",
       "\t1435 & 28012 & Arapiles       \\\\\n",
       "\t1846 & 28012 & Atocha         \\\\\n",
       "\t1918 & 28012 & Goya           \\\\\n",
       "\\end{tabular}\n"
      ],
      "text/markdown": [
       "\n",
       "A data.frame: 11 × 2\n",
       "\n",
       "| <!--/--> | CodigoPostal &lt;fct&gt; | Barrio &lt;fct&gt; |\n",
       "|---|---|---|\n",
       "| 1 | 28012 | Sol             |\n",
       "| 5 | 28012 | Acacias         |\n",
       "| 10 | 28012 | Palos de Moguer |\n",
       "| 11 | 28012 | Embajadores     |\n",
       "| 27 | 28012 | Cortes          |\n",
       "| 96 | 28012 | Palacio         |\n",
       "| 262 | 28012 | Universidad     |\n",
       "| 863 | 28012 | Delicias        |\n",
       "| 1435 | 28012 | Arapiles        |\n",
       "| 1846 | 28012 | Atocha          |\n",
       "| 1918 | 28012 | Goya            |\n",
       "\n"
      ],
      "text/plain": [
       "     CodigoPostal Barrio         \n",
       "1    28012        Sol            \n",
       "5    28012        Acacias        \n",
       "10   28012        Palos de Moguer\n",
       "11   28012        Embajadores    \n",
       "27   28012        Cortes         \n",
       "96   28012        Palacio        \n",
       "262  28012        Universidad    \n",
       "863  28012        Delicias       \n",
       "1435 28012        Arapiles       \n",
       "1846 28012        Atocha         \n",
       "1918 28012        Goya           "
      ]
     },
     "metadata": {},
     "output_type": "display_data"
    }
   ],
   "source": [
    "library(dplyr)\n",
    "Codigoposta28012 <- airbnb %>% \n",
    "filter(CodigoPostal==28012) %>%\n",
    "select (CodigoPostal,Barrio)\n",
    "unique(Codigoposta28012)\n",
    "\n"
   ]
  },
  {
   "cell_type": "markdown",
   "metadata": {},
   "source": [
    "¿Cuantas entradas hay en cada uno de esos barrios para el codigo postal 28012?"
   ]
  },
  {
   "cell_type": "code",
   "execution_count": 19,
   "metadata": {},
   "outputs": [
    {
     "name": "stdout",
     "output_type": "stream",
     "text": [
      "Para el Codigo postal 28012 hay los siguientes barrios:\n"
     ]
    },
    {
     "data": {
      "text/html": [
       "<table class=\"dataframe\">\n",
       "<caption>A data.frame: 11 × 1</caption>\n",
       "<thead>\n",
       "\t<tr><th></th><th scope=col>Barrio</th></tr>\n",
       "\t<tr><th></th><th scope=col>&lt;fct&gt;</th></tr>\n",
       "</thead>\n",
       "<tbody>\n",
       "\t<tr><th scope=row>18</th><td>Sol            </td></tr>\n",
       "\t<tr><th scope=row>34</th><td>Acacias        </td></tr>\n",
       "\t<tr><th scope=row>72</th><td>Palos de Moguer</td></tr>\n",
       "\t<tr><th scope=row>77</th><td>Embajadores    </td></tr>\n",
       "\t<tr><th scope=row>104</th><td>Cortes         </td></tr>\n",
       "\t<tr><th scope=row>987</th><td>Palacio        </td></tr>\n",
       "\t<tr><th scope=row>1716</th><td>Universidad    </td></tr>\n",
       "\t<tr><th scope=row>5075</th><td>Delicias       </td></tr>\n",
       "\t<tr><th scope=row>9295</th><td>Arapiles       </td></tr>\n",
       "\t<tr><th scope=row>11982</th><td>Atocha         </td></tr>\n",
       "\t<tr><th scope=row>12356</th><td>Goya           </td></tr>\n",
       "</tbody>\n",
       "</table>\n"
      ],
      "text/latex": [
       "A data.frame: 11 × 1\n",
       "\\begin{tabular}{r|l}\n",
       "  & Barrio\\\\\n",
       "  & <fct>\\\\\n",
       "\\hline\n",
       "\t18 & Sol            \\\\\n",
       "\t34 & Acacias        \\\\\n",
       "\t72 & Palos de Moguer\\\\\n",
       "\t77 & Embajadores    \\\\\n",
       "\t104 & Cortes         \\\\\n",
       "\t987 & Palacio        \\\\\n",
       "\t1716 & Universidad    \\\\\n",
       "\t5075 & Delicias       \\\\\n",
       "\t9295 & Arapiles       \\\\\n",
       "\t11982 & Atocha         \\\\\n",
       "\t12356 & Goya           \\\\\n",
       "\\end{tabular}\n"
      ],
      "text/markdown": [
       "\n",
       "A data.frame: 11 × 1\n",
       "\n",
       "| <!--/--> | Barrio &lt;fct&gt; |\n",
       "|---|---|\n",
       "| 18 | Sol             |\n",
       "| 34 | Acacias         |\n",
       "| 72 | Palos de Moguer |\n",
       "| 77 | Embajadores     |\n",
       "| 104 | Cortes          |\n",
       "| 987 | Palacio         |\n",
       "| 1716 | Universidad     |\n",
       "| 5075 | Delicias        |\n",
       "| 9295 | Arapiles        |\n",
       "| 11982 | Atocha          |\n",
       "| 12356 | Goya            |\n",
       "\n"
      ],
      "text/plain": [
       "      Barrio         \n",
       "18    Sol            \n",
       "34    Acacias        \n",
       "72    Palos de Moguer\n",
       "77    Embajadores    \n",
       "104   Cortes         \n",
       "987   Palacio        \n",
       "1716  Universidad    \n",
       "5075  Delicias       \n",
       "9295  Arapiles       \n",
       "11982 Atocha         \n",
       "12356 Goya           "
      ]
     },
     "metadata": {},
     "output_type": "display_data"
    }
   ],
   "source": [
    "cat(\"Para el Codigo postal 28012 hay los siguientes barrios:\\n\")\n",
    "\n",
    "barrios_28012 <- airbnb[airbnb$CodigoPostal == '28012' & !is.na(airbnb$CodigoPostal),]\n",
    "unique(barrios_28012['Barrio'])\n",
    "\n"
   ]
  },
  {
   "cell_type": "markdown",
   "metadata": {},
   "source": [
    "¿Cuantos barrios hay en todo el dataset airbnb? ¿Cuales son?"
   ]
  },
  {
   "cell_type": "code",
   "execution_count": 21,
   "metadata": {},
   "outputs": [
    {
     "name": "stdout",
     "output_type": "stream",
     "text": [
      "En total hay  125  Barrios\n"
     ]
    },
    {
     "data": {
      "text/html": [
       "125"
      ],
      "text/latex": [
       "125"
      ],
      "text/markdown": [
       "125"
      ],
      "text/plain": [
       "[1] 125"
      ]
     },
     "metadata": {},
     "output_type": "display_data"
    },
    {
     "name": "stdout",
     "output_type": "stream",
     "text": [
      "Los barrios son los siguientes: \n"
     ]
    },
    {
     "data": {
      "text/html": [
       "<style>\n",
       ".list-inline {list-style: none; margin:0; padding: 0}\n",
       ".list-inline>li {display: inline-block}\n",
       ".list-inline>li:not(:last-child)::after {content: \"\\00b7\"; padding: 0 .5ex}\n",
       "</style>\n",
       "<ol class=list-inline><li>Universidad</li><li>Sol</li><li>Imperial</li><li>Acacias</li><li>Chopera</li><li>Delicias</li><li>Palos de Moguer</li><li>Embajadores</li><li>Cortes</li><li>Atocha</li><li>Pacífico</li><li>Adelfas</li><li>Estrella</li><li>Ibiza</li><li>Jerónimos</li><li>Niño Jesús</li><li>Palacio</li><li>Justicia</li><li>Recoletos</li><li>Goya</li><li>Fuente del Berro</li><li>Arapiles</li><li>Trafalgar</li><li>Almagro</li><li>Guindalera</li><li>Lista</li><li>Castellana</li><li>El Viso</li><li>Prosperidad</li><li>Valverde</li><li>Casa de Campo</li><li>El Goloso</li><li>Numancia</li><li>Cármenes</li><li>Puerta del Angel</li><li>Lucero</li><li>Aluche</li><li>San Isidro</li><li>Campamento</li><li>Comillas</li><li>Opañel</li><li>Vista Alegre</li><li>Ciudad Jardín</li><li>Hispanoamérica</li><li>Nueva España</li><li>Castilla</li><li>Bellas Vistas</li><li>Cuatro Caminos</li><li>Castillejos</li><li>Vallehermoso</li><li>Almenara</li><li>Valdeacederas</li><li>Berruguete</li><li>Gaztambide</li><li>Rios Rosas</li><li>Peñagrande</li><li>Argüelles</li><li>Puerta Bonita</li><li>Buenavista</li><li>Abrantes</li><li>Orcasur</li><li>San Fermín</li><li>Almendrales</li><li>Pradolongo</li><li>Portazgo</li><li>Entrevías</li><li>San Diego</li><li>Palomeras Bajas</li><li>Fontarrón</li><li>Vinateros</li><li>Ventas</li><li>Pueblo Nuevo</li><li>Quintana</li><li>Concepción</li><li>San Juan Bautista</li><li>Costillares</li><li>Piovera</li><li>Canillas</li><li>Pinar del Rey</li><li>Apostol Santiago</li><li>San Andrés</li><li>Valdefuentes</li><li>Butarque</li><li>Los Angeles</li><li>Casco Histórico de Vicálvaro</li><li>Simancas</li><li>Rejas</li><li>Salvador</li><li>Casco Histórico de Barajas</li><li>Pilar</li><li>La Paz</li><li>Mirasierra</li><li>Ciudad Universitaria</li><li>Moscardó</li><li>Palomeras Sureste</li><li>Marroquina</li><li>Media Legua</li><li>Los Rosales</li><li>Casco Histórico de Vallecas</li><li>Timón</li><li>Corralejos</li><li>Cuatro Vientos</li><li>Colina</li><li>San Cristobal</li><li>Alameda de Osuna</li><li>Aeropuerto</li><li>Palomas</li><li>Zofío</li><li>Aguilas</li><li>Legazpi</li><li>Fuentelareina</li><li>Aravaca</li><li>Ambroz</li><li>Canillejas</li><li>Valdezarza</li><li>Amposta</li><li>San Pascual</li><li>Santa Eugenia</li><li>Arcos</li><li>Rosas</li><li>Valdemarín</li><li>El Plantío</li><li>Hellín</li><li>Pavones</li><li>Orcasitas</li></ol>\n",
       "\n",
       "<details>\n",
       "\t<summary style=display:list-item;cursor:pointer>\n",
       "\t\t<strong>Levels</strong>:\n",
       "\t</summary>\n",
       "\t<style>\n",
       "\t.list-inline {list-style: none; margin:0; padding: 0}\n",
       "\t.list-inline>li {display: inline-block}\n",
       "\t.list-inline>li:not(:last-child)::after {content: \"\\00b7\"; padding: 0 .5ex}\n",
       "\t</style>\n",
       "\t<ol class=list-inline><li>'Abrantes'</li><li>'Acacias'</li><li>'Adelfas'</li><li>'Aeropuerto'</li><li>'Aguilas'</li><li>'Alameda de Osuna'</li><li>'Almagro'</li><li>'Almenara'</li><li>'Almendrales'</li><li>'Aluche'</li><li>'Ambroz'</li><li>'Amposta'</li><li>'Apostol Santiago'</li><li>'Arapiles'</li><li>'Aravaca'</li><li>'Arcos'</li><li>'Argüelles'</li><li>'Atocha'</li><li>'Bellas Vistas'</li><li>'Berruguete'</li><li>'Buenavista'</li><li>'Butarque'</li><li>'Campamento'</li><li>'Canillas'</li><li>'Canillejas'</li><li>'Cármenes'</li><li>'Casa de Campo'</li><li>'Casco Histórico de Barajas'</li><li>'Casco Histórico de Vallecas'</li><li>'Casco Histórico de Vicálvaro'</li><li>'Castellana'</li><li>'Castilla'</li><li>'Castillejos'</li><li>'Chopera'</li><li>'Ciudad Jardín'</li><li>'Ciudad Universitaria'</li><li>'Colina'</li><li>'Comillas'</li><li>'Concepción'</li><li>'Corralejos'</li><li>'Cortes'</li><li>'Costillares'</li><li>'Cuatro Caminos'</li><li>'Cuatro Vientos'</li><li>'Delicias'</li><li>'El Goloso'</li><li>'El Plantío'</li><li>'El Viso'</li><li>'Embajadores'</li><li>'Entrevías'</li><li>'Estrella'</li><li>'Fontarrón'</li><li>'Fuente del Berro'</li><li>'Fuentelareina'</li><li>'Gaztambide'</li><li>'Goya'</li><li>'Guindalera'</li><li>'Hellín'</li><li>'Hispanoamérica'</li><li>'Ibiza'</li><li>'Imperial'</li><li>'Jerónimos'</li><li>'Justicia'</li><li>'La Paz'</li><li>'Legazpi'</li><li>'Lista'</li><li>'Los Angeles'</li><li>'Los Rosales'</li><li>'Lucero'</li><li>'Marroquina'</li><li>'Media Legua'</li><li>'Mirasierra'</li><li>'Moscardó'</li><li>'Niño Jesús'</li><li>'Nueva España'</li><li>'Numancia'</li><li>'Opañel'</li><li>'Orcasitas'</li><li>'Orcasur'</li><li>'Pacífico'</li><li>'Palacio'</li><li>'Palomas'</li><li>'Palomeras Bajas'</li><li>'Palomeras Sureste'</li><li>'Palos de Moguer'</li><li>'Pavones'</li><li>'Peñagrande'</li><li>'Pilar'</li><li>'Pinar del Rey'</li><li>'Piovera'</li><li>'Portazgo'</li><li>'Pradolongo'</li><li>'Prosperidad'</li><li>'Pueblo Nuevo'</li><li>'Puerta Bonita'</li><li>'Puerta del Angel'</li><li>'Quintana'</li><li>'Recoletos'</li><li>'Rejas'</li><li>'Rios Rosas'</li><li>'Rosas'</li><li>'Salvador'</li><li>'San Andrés'</li><li>'San Cristobal'</li><li>'San Diego'</li><li>'San Fermín'</li><li>'San Isidro'</li><li>'San Juan Bautista'</li><li>'San Pascual'</li><li>'Santa Eugenia'</li><li>'Simancas'</li><li>'Sol'</li><li>'Timón'</li><li>'Trafalgar'</li><li>'Universidad'</li><li>'Valdeacederas'</li><li>'Valdefuentes'</li><li>'Valdemarín'</li><li>'Valdezarza'</li><li>'Vallehermoso'</li><li>'Valverde'</li><li>'Ventas'</li><li>'Vinateros'</li><li>'Vista Alegre'</li><li>'Zofío'</li></ol>\n",
       "</details>"
      ],
      "text/latex": [
       "\\begin{enumerate*}\n",
       "\\item Universidad\n",
       "\\item Sol\n",
       "\\item Imperial\n",
       "\\item Acacias\n",
       "\\item Chopera\n",
       "\\item Delicias\n",
       "\\item Palos de Moguer\n",
       "\\item Embajadores\n",
       "\\item Cortes\n",
       "\\item Atocha\n",
       "\\item Pacífico\n",
       "\\item Adelfas\n",
       "\\item Estrella\n",
       "\\item Ibiza\n",
       "\\item Jerónimos\n",
       "\\item Niño Jesús\n",
       "\\item Palacio\n",
       "\\item Justicia\n",
       "\\item Recoletos\n",
       "\\item Goya\n",
       "\\item Fuente del Berro\n",
       "\\item Arapiles\n",
       "\\item Trafalgar\n",
       "\\item Almagro\n",
       "\\item Guindalera\n",
       "\\item Lista\n",
       "\\item Castellana\n",
       "\\item El Viso\n",
       "\\item Prosperidad\n",
       "\\item Valverde\n",
       "\\item Casa de Campo\n",
       "\\item El Goloso\n",
       "\\item Numancia\n",
       "\\item Cármenes\n",
       "\\item Puerta del Angel\n",
       "\\item Lucero\n",
       "\\item Aluche\n",
       "\\item San Isidro\n",
       "\\item Campamento\n",
       "\\item Comillas\n",
       "\\item Opañel\n",
       "\\item Vista Alegre\n",
       "\\item Ciudad Jardín\n",
       "\\item Hispanoamérica\n",
       "\\item Nueva España\n",
       "\\item Castilla\n",
       "\\item Bellas Vistas\n",
       "\\item Cuatro Caminos\n",
       "\\item Castillejos\n",
       "\\item Vallehermoso\n",
       "\\item Almenara\n",
       "\\item Valdeacederas\n",
       "\\item Berruguete\n",
       "\\item Gaztambide\n",
       "\\item Rios Rosas\n",
       "\\item Peñagrande\n",
       "\\item Argüelles\n",
       "\\item Puerta Bonita\n",
       "\\item Buenavista\n",
       "\\item Abrantes\n",
       "\\item Orcasur\n",
       "\\item San Fermín\n",
       "\\item Almendrales\n",
       "\\item Pradolongo\n",
       "\\item Portazgo\n",
       "\\item Entrevías\n",
       "\\item San Diego\n",
       "\\item Palomeras Bajas\n",
       "\\item Fontarrón\n",
       "\\item Vinateros\n",
       "\\item Ventas\n",
       "\\item Pueblo Nuevo\n",
       "\\item Quintana\n",
       "\\item Concepción\n",
       "\\item San Juan Bautista\n",
       "\\item Costillares\n",
       "\\item Piovera\n",
       "\\item Canillas\n",
       "\\item Pinar del Rey\n",
       "\\item Apostol Santiago\n",
       "\\item San Andrés\n",
       "\\item Valdefuentes\n",
       "\\item Butarque\n",
       "\\item Los Angeles\n",
       "\\item Casco Histórico de Vicálvaro\n",
       "\\item Simancas\n",
       "\\item Rejas\n",
       "\\item Salvador\n",
       "\\item Casco Histórico de Barajas\n",
       "\\item Pilar\n",
       "\\item La Paz\n",
       "\\item Mirasierra\n",
       "\\item Ciudad Universitaria\n",
       "\\item Moscardó\n",
       "\\item Palomeras Sureste\n",
       "\\item Marroquina\n",
       "\\item Media Legua\n",
       "\\item Los Rosales\n",
       "\\item Casco Histórico de Vallecas\n",
       "\\item Timón\n",
       "\\item Corralejos\n",
       "\\item Cuatro Vientos\n",
       "\\item Colina\n",
       "\\item San Cristobal\n",
       "\\item Alameda de Osuna\n",
       "\\item Aeropuerto\n",
       "\\item Palomas\n",
       "\\item Zofío\n",
       "\\item Aguilas\n",
       "\\item Legazpi\n",
       "\\item Fuentelareina\n",
       "\\item Aravaca\n",
       "\\item Ambroz\n",
       "\\item Canillejas\n",
       "\\item Valdezarza\n",
       "\\item Amposta\n",
       "\\item San Pascual\n",
       "\\item Santa Eugenia\n",
       "\\item Arcos\n",
       "\\item Rosas\n",
       "\\item Valdemarín\n",
       "\\item El Plantío\n",
       "\\item Hellín\n",
       "\\item Pavones\n",
       "\\item Orcasitas\n",
       "\\end{enumerate*}\n",
       "\n",
       "\\emph{Levels}: \\begin{enumerate*}\n",
       "\\item 'Abrantes'\n",
       "\\item 'Acacias'\n",
       "\\item 'Adelfas'\n",
       "\\item 'Aeropuerto'\n",
       "\\item 'Aguilas'\n",
       "\\item 'Alameda de Osuna'\n",
       "\\item 'Almagro'\n",
       "\\item 'Almenara'\n",
       "\\item 'Almendrales'\n",
       "\\item 'Aluche'\n",
       "\\item 'Ambroz'\n",
       "\\item 'Amposta'\n",
       "\\item 'Apostol Santiago'\n",
       "\\item 'Arapiles'\n",
       "\\item 'Aravaca'\n",
       "\\item 'Arcos'\n",
       "\\item 'Argüelles'\n",
       "\\item 'Atocha'\n",
       "\\item 'Bellas Vistas'\n",
       "\\item 'Berruguete'\n",
       "\\item 'Buenavista'\n",
       "\\item 'Butarque'\n",
       "\\item 'Campamento'\n",
       "\\item 'Canillas'\n",
       "\\item 'Canillejas'\n",
       "\\item 'Cármenes'\n",
       "\\item 'Casa de Campo'\n",
       "\\item 'Casco Histórico de Barajas'\n",
       "\\item 'Casco Histórico de Vallecas'\n",
       "\\item 'Casco Histórico de Vicálvaro'\n",
       "\\item 'Castellana'\n",
       "\\item 'Castilla'\n",
       "\\item 'Castillejos'\n",
       "\\item 'Chopera'\n",
       "\\item 'Ciudad Jardín'\n",
       "\\item 'Ciudad Universitaria'\n",
       "\\item 'Colina'\n",
       "\\item 'Comillas'\n",
       "\\item 'Concepción'\n",
       "\\item 'Corralejos'\n",
       "\\item 'Cortes'\n",
       "\\item 'Costillares'\n",
       "\\item 'Cuatro Caminos'\n",
       "\\item 'Cuatro Vientos'\n",
       "\\item 'Delicias'\n",
       "\\item 'El Goloso'\n",
       "\\item 'El Plantío'\n",
       "\\item 'El Viso'\n",
       "\\item 'Embajadores'\n",
       "\\item 'Entrevías'\n",
       "\\item 'Estrella'\n",
       "\\item 'Fontarrón'\n",
       "\\item 'Fuente del Berro'\n",
       "\\item 'Fuentelareina'\n",
       "\\item 'Gaztambide'\n",
       "\\item 'Goya'\n",
       "\\item 'Guindalera'\n",
       "\\item 'Hellín'\n",
       "\\item 'Hispanoamérica'\n",
       "\\item 'Ibiza'\n",
       "\\item 'Imperial'\n",
       "\\item 'Jerónimos'\n",
       "\\item 'Justicia'\n",
       "\\item 'La Paz'\n",
       "\\item 'Legazpi'\n",
       "\\item 'Lista'\n",
       "\\item 'Los Angeles'\n",
       "\\item 'Los Rosales'\n",
       "\\item 'Lucero'\n",
       "\\item 'Marroquina'\n",
       "\\item 'Media Legua'\n",
       "\\item 'Mirasierra'\n",
       "\\item 'Moscardó'\n",
       "\\item 'Niño Jesús'\n",
       "\\item 'Nueva España'\n",
       "\\item 'Numancia'\n",
       "\\item 'Opañel'\n",
       "\\item 'Orcasitas'\n",
       "\\item 'Orcasur'\n",
       "\\item 'Pacífico'\n",
       "\\item 'Palacio'\n",
       "\\item 'Palomas'\n",
       "\\item 'Palomeras Bajas'\n",
       "\\item 'Palomeras Sureste'\n",
       "\\item 'Palos de Moguer'\n",
       "\\item 'Pavones'\n",
       "\\item 'Peñagrande'\n",
       "\\item 'Pilar'\n",
       "\\item 'Pinar del Rey'\n",
       "\\item 'Piovera'\n",
       "\\item 'Portazgo'\n",
       "\\item 'Pradolongo'\n",
       "\\item 'Prosperidad'\n",
       "\\item 'Pueblo Nuevo'\n",
       "\\item 'Puerta Bonita'\n",
       "\\item 'Puerta del Angel'\n",
       "\\item 'Quintana'\n",
       "\\item 'Recoletos'\n",
       "\\item 'Rejas'\n",
       "\\item 'Rios Rosas'\n",
       "\\item 'Rosas'\n",
       "\\item 'Salvador'\n",
       "\\item 'San Andrés'\n",
       "\\item 'San Cristobal'\n",
       "\\item 'San Diego'\n",
       "\\item 'San Fermín'\n",
       "\\item 'San Isidro'\n",
       "\\item 'San Juan Bautista'\n",
       "\\item 'San Pascual'\n",
       "\\item 'Santa Eugenia'\n",
       "\\item 'Simancas'\n",
       "\\item 'Sol'\n",
       "\\item 'Timón'\n",
       "\\item 'Trafalgar'\n",
       "\\item 'Universidad'\n",
       "\\item 'Valdeacederas'\n",
       "\\item 'Valdefuentes'\n",
       "\\item 'Valdemarín'\n",
       "\\item 'Valdezarza'\n",
       "\\item 'Vallehermoso'\n",
       "\\item 'Valverde'\n",
       "\\item 'Ventas'\n",
       "\\item 'Vinateros'\n",
       "\\item 'Vista Alegre'\n",
       "\\item 'Zofío'\n",
       "\\end{enumerate*}\n"
      ],
      "text/markdown": [
       "1. Universidad\n",
       "2. Sol\n",
       "3. Imperial\n",
       "4. Acacias\n",
       "5. Chopera\n",
       "6. Delicias\n",
       "7. Palos de Moguer\n",
       "8. Embajadores\n",
       "9. Cortes\n",
       "10. Atocha\n",
       "11. Pacífico\n",
       "12. Adelfas\n",
       "13. Estrella\n",
       "14. Ibiza\n",
       "15. Jerónimos\n",
       "16. Niño Jesús\n",
       "17. Palacio\n",
       "18. Justicia\n",
       "19. Recoletos\n",
       "20. Goya\n",
       "21. Fuente del Berro\n",
       "22. Arapiles\n",
       "23. Trafalgar\n",
       "24. Almagro\n",
       "25. Guindalera\n",
       "26. Lista\n",
       "27. Castellana\n",
       "28. El Viso\n",
       "29. Prosperidad\n",
       "30. Valverde\n",
       "31. Casa de Campo\n",
       "32. El Goloso\n",
       "33. Numancia\n",
       "34. Cármenes\n",
       "35. Puerta del Angel\n",
       "36. Lucero\n",
       "37. Aluche\n",
       "38. San Isidro\n",
       "39. Campamento\n",
       "40. Comillas\n",
       "41. Opañel\n",
       "42. Vista Alegre\n",
       "43. Ciudad Jardín\n",
       "44. Hispanoamérica\n",
       "45. Nueva España\n",
       "46. Castilla\n",
       "47. Bellas Vistas\n",
       "48. Cuatro Caminos\n",
       "49. Castillejos\n",
       "50. Vallehermoso\n",
       "51. Almenara\n",
       "52. Valdeacederas\n",
       "53. Berruguete\n",
       "54. Gaztambide\n",
       "55. Rios Rosas\n",
       "56. Peñagrande\n",
       "57. Argüelles\n",
       "58. Puerta Bonita\n",
       "59. Buenavista\n",
       "60. Abrantes\n",
       "61. Orcasur\n",
       "62. San Fermín\n",
       "63. Almendrales\n",
       "64. Pradolongo\n",
       "65. Portazgo\n",
       "66. Entrevías\n",
       "67. San Diego\n",
       "68. Palomeras Bajas\n",
       "69. Fontarrón\n",
       "70. Vinateros\n",
       "71. Ventas\n",
       "72. Pueblo Nuevo\n",
       "73. Quintana\n",
       "74. Concepción\n",
       "75. San Juan Bautista\n",
       "76. Costillares\n",
       "77. Piovera\n",
       "78. Canillas\n",
       "79. Pinar del Rey\n",
       "80. Apostol Santiago\n",
       "81. San Andrés\n",
       "82. Valdefuentes\n",
       "83. Butarque\n",
       "84. Los Angeles\n",
       "85. Casco Histórico de Vicálvaro\n",
       "86. Simancas\n",
       "87. Rejas\n",
       "88. Salvador\n",
       "89. Casco Histórico de Barajas\n",
       "90. Pilar\n",
       "91. La Paz\n",
       "92. Mirasierra\n",
       "93. Ciudad Universitaria\n",
       "94. Moscardó\n",
       "95. Palomeras Sureste\n",
       "96. Marroquina\n",
       "97. Media Legua\n",
       "98. Los Rosales\n",
       "99. Casco Histórico de Vallecas\n",
       "100. Timón\n",
       "101. Corralejos\n",
       "102. Cuatro Vientos\n",
       "103. Colina\n",
       "104. San Cristobal\n",
       "105. Alameda de Osuna\n",
       "106. Aeropuerto\n",
       "107. Palomas\n",
       "108. Zofío\n",
       "109. Aguilas\n",
       "110. Legazpi\n",
       "111. Fuentelareina\n",
       "112. Aravaca\n",
       "113. Ambroz\n",
       "114. Canillejas\n",
       "115. Valdezarza\n",
       "116. Amposta\n",
       "117. San Pascual\n",
       "118. Santa Eugenia\n",
       "119. Arcos\n",
       "120. Rosas\n",
       "121. Valdemarín\n",
       "122. El Plantío\n",
       "123. Hellín\n",
       "124. Pavones\n",
       "125. Orcasitas\n",
       "\n",
       "\n",
       "\n",
       "**Levels**: 1. 'Abrantes'\n",
       "2. 'Acacias'\n",
       "3. 'Adelfas'\n",
       "4. 'Aeropuerto'\n",
       "5. 'Aguilas'\n",
       "6. 'Alameda de Osuna'\n",
       "7. 'Almagro'\n",
       "8. 'Almenara'\n",
       "9. 'Almendrales'\n",
       "10. 'Aluche'\n",
       "11. 'Ambroz'\n",
       "12. 'Amposta'\n",
       "13. 'Apostol Santiago'\n",
       "14. 'Arapiles'\n",
       "15. 'Aravaca'\n",
       "16. 'Arcos'\n",
       "17. 'Argüelles'\n",
       "18. 'Atocha'\n",
       "19. 'Bellas Vistas'\n",
       "20. 'Berruguete'\n",
       "21. 'Buenavista'\n",
       "22. 'Butarque'\n",
       "23. 'Campamento'\n",
       "24. 'Canillas'\n",
       "25. 'Canillejas'\n",
       "26. 'Cármenes'\n",
       "27. 'Casa de Campo'\n",
       "28. 'Casco Histórico de Barajas'\n",
       "29. 'Casco Histórico de Vallecas'\n",
       "30. 'Casco Histórico de Vicálvaro'\n",
       "31. 'Castellana'\n",
       "32. 'Castilla'\n",
       "33. 'Castillejos'\n",
       "34. 'Chopera'\n",
       "35. 'Ciudad Jardín'\n",
       "36. 'Ciudad Universitaria'\n",
       "37. 'Colina'\n",
       "38. 'Comillas'\n",
       "39. 'Concepción'\n",
       "40. 'Corralejos'\n",
       "41. 'Cortes'\n",
       "42. 'Costillares'\n",
       "43. 'Cuatro Caminos'\n",
       "44. 'Cuatro Vientos'\n",
       "45. 'Delicias'\n",
       "46. 'El Goloso'\n",
       "47. 'El Plantío'\n",
       "48. 'El Viso'\n",
       "49. 'Embajadores'\n",
       "50. 'Entrevías'\n",
       "51. 'Estrella'\n",
       "52. 'Fontarrón'\n",
       "53. 'Fuente del Berro'\n",
       "54. 'Fuentelareina'\n",
       "55. 'Gaztambide'\n",
       "56. 'Goya'\n",
       "57. 'Guindalera'\n",
       "58. 'Hellín'\n",
       "59. 'Hispanoamérica'\n",
       "60. 'Ibiza'\n",
       "61. 'Imperial'\n",
       "62. 'Jerónimos'\n",
       "63. 'Justicia'\n",
       "64. 'La Paz'\n",
       "65. 'Legazpi'\n",
       "66. 'Lista'\n",
       "67. 'Los Angeles'\n",
       "68. 'Los Rosales'\n",
       "69. 'Lucero'\n",
       "70. 'Marroquina'\n",
       "71. 'Media Legua'\n",
       "72. 'Mirasierra'\n",
       "73. 'Moscardó'\n",
       "74. 'Niño Jesús'\n",
       "75. 'Nueva España'\n",
       "76. 'Numancia'\n",
       "77. 'Opañel'\n",
       "78. 'Orcasitas'\n",
       "79. 'Orcasur'\n",
       "80. 'Pacífico'\n",
       "81. 'Palacio'\n",
       "82. 'Palomas'\n",
       "83. 'Palomeras Bajas'\n",
       "84. 'Palomeras Sureste'\n",
       "85. 'Palos de Moguer'\n",
       "86. 'Pavones'\n",
       "87. 'Peñagrande'\n",
       "88. 'Pilar'\n",
       "89. 'Pinar del Rey'\n",
       "90. 'Piovera'\n",
       "91. 'Portazgo'\n",
       "92. 'Pradolongo'\n",
       "93. 'Prosperidad'\n",
       "94. 'Pueblo Nuevo'\n",
       "95. 'Puerta Bonita'\n",
       "96. 'Puerta del Angel'\n",
       "97. 'Quintana'\n",
       "98. 'Recoletos'\n",
       "99. 'Rejas'\n",
       "100. 'Rios Rosas'\n",
       "101. 'Rosas'\n",
       "102. 'Salvador'\n",
       "103. 'San Andrés'\n",
       "104. 'San Cristobal'\n",
       "105. 'San Diego'\n",
       "106. 'San Fermín'\n",
       "107. 'San Isidro'\n",
       "108. 'San Juan Bautista'\n",
       "109. 'San Pascual'\n",
       "110. 'Santa Eugenia'\n",
       "111. 'Simancas'\n",
       "112. 'Sol'\n",
       "113. 'Timón'\n",
       "114. 'Trafalgar'\n",
       "115. 'Universidad'\n",
       "116. 'Valdeacederas'\n",
       "117. 'Valdefuentes'\n",
       "118. 'Valdemarín'\n",
       "119. 'Valdezarza'\n",
       "120. 'Vallehermoso'\n",
       "121. 'Valverde'\n",
       "122. 'Ventas'\n",
       "123. 'Vinateros'\n",
       "124. 'Vista Alegre'\n",
       "125. 'Zofío'\n",
       "\n",
       "\n"
      ],
      "text/plain": [
       "  [1] Universidad                  Sol                         \n",
       "  [3] Imperial                     Acacias                     \n",
       "  [5] Chopera                      Delicias                    \n",
       "  [7] Palos de Moguer              Embajadores                 \n",
       "  [9] Cortes                       Atocha                      \n",
       " [11] Pacífico                     Adelfas                     \n",
       " [13] Estrella                     Ibiza                       \n",
       " [15] Jerónimos                    Niño Jesús                  \n",
       " [17] Palacio                      Justicia                    \n",
       " [19] Recoletos                    Goya                        \n",
       " [21] Fuente del Berro             Arapiles                    \n",
       " [23] Trafalgar                    Almagro                     \n",
       " [25] Guindalera                   Lista                       \n",
       " [27] Castellana                   El Viso                     \n",
       " [29] Prosperidad                  Valverde                    \n",
       " [31] Casa de Campo                El Goloso                   \n",
       " [33] Numancia                     Cármenes                    \n",
       " [35] Puerta del Angel             Lucero                      \n",
       " [37] Aluche                       San Isidro                  \n",
       " [39] Campamento                   Comillas                    \n",
       " [41] Opañel                       Vista Alegre                \n",
       " [43] Ciudad Jardín                Hispanoamérica              \n",
       " [45] Nueva España                 Castilla                    \n",
       " [47] Bellas Vistas                Cuatro Caminos              \n",
       " [49] Castillejos                  Vallehermoso                \n",
       " [51] Almenara                     Valdeacederas               \n",
       " [53] Berruguete                   Gaztambide                  \n",
       " [55] Rios Rosas                   Peñagrande                  \n",
       " [57] Argüelles                    Puerta Bonita               \n",
       " [59] Buenavista                   Abrantes                    \n",
       " [61] Orcasur                      San Fermín                  \n",
       " [63] Almendrales                  Pradolongo                  \n",
       " [65] Portazgo                     Entrevías                   \n",
       " [67] San Diego                    Palomeras Bajas             \n",
       " [69] Fontarrón                    Vinateros                   \n",
       " [71] Ventas                       Pueblo Nuevo                \n",
       " [73] Quintana                     Concepción                  \n",
       " [75] San Juan Bautista            Costillares                 \n",
       " [77] Piovera                      Canillas                    \n",
       " [79] Pinar del Rey                Apostol Santiago            \n",
       " [81] San Andrés                   Valdefuentes                \n",
       " [83] Butarque                     Los Angeles                 \n",
       " [85] Casco Histórico de Vicálvaro Simancas                    \n",
       " [87] Rejas                        Salvador                    \n",
       " [89] Casco Histórico de Barajas   Pilar                       \n",
       " [91] La Paz                       Mirasierra                  \n",
       " [93] Ciudad Universitaria         Moscardó                    \n",
       " [95] Palomeras Sureste            Marroquina                  \n",
       " [97] Media Legua                  Los Rosales                 \n",
       " [99] Casco Histórico de Vallecas  Timón                       \n",
       "[101] Corralejos                   Cuatro Vientos              \n",
       "[103] Colina                       San Cristobal               \n",
       "[105] Alameda de Osuna             Aeropuerto                  \n",
       "[107] Palomas                      Zofío                       \n",
       "[109] Aguilas                      Legazpi                     \n",
       "[111] Fuentelareina                Aravaca                     \n",
       "[113] Ambroz                       Canillejas                  \n",
       "[115] Valdezarza                   Amposta                     \n",
       "[117] San Pascual                  Santa Eugenia               \n",
       "[119] Arcos                        Rosas                       \n",
       "[121] Valdemarín                   El Plantío                  \n",
       "[123] Hellín                       Pavones                     \n",
       "[125] Orcasitas                   \n",
       "125 Levels: Abrantes Acacias Adelfas Aeropuerto Aguilas ... Zofío"
      ]
     },
     "metadata": {},
     "output_type": "display_data"
    }
   ],
   "source": [
    "Totalbarrio <-airbnb$Barrio %>% unique %>% length\n",
    "cat(paste(\"En total hay \", Totalbarrio, \" Barrios\\n\" ))\n",
    "Totalbarrio\n",
    "\n",
    "cat(\"Los barrios son los siguientes: \\n\")\n",
    "\n",
    "ListaBarrio <-airbnb$Barrio %>% unique\n",
    "ListaBarrio\n",
    "\n"
   ]
  },
  {
   "cell_type": "markdown",
   "metadata": {},
   "source": [
    "¿Cuales son los 5 barrios que tienen mayor número entradas?"
   ]
  },
  {
   "cell_type": "code",
   "execution_count": 22,
   "metadata": {},
   "outputs": [
    {
     "name": "stdout",
     "output_type": "stream",
     "text": [
      " Los 5 Barrios con mayores entradas son: \n"
     ]
    },
    {
     "data": {
      "text/plain": [
       "Barrio\n",
       "Embajadores Universidad     Palacio         Sol    Justicia \n",
       "       1844        1358        1083         940         785 "
      ]
     },
     "metadata": {},
     "output_type": "display_data"
    }
   ],
   "source": [
    "cat (\" Los 5 Barrios con mayores entradas son: \\n\")\n",
    "sort(table(select(airbnb,Barrio)),decreasing=T)[1:5]\n",
    "\n",
    "cuenta <-sort(table(select(airbnb,Barrio)),decreasing=T)[1:5]\n",
    "\n"
   ]
  },
  {
   "cell_type": "markdown",
   "metadata": {},
   "source": [
    "¿Cuantos Tipos de Alquiler diferentes hay? ¿Cuales son? ¿Cuantas entradas en el dataframe hay por cada tipo?"
   ]
  },
  {
   "cell_type": "code",
   "execution_count": 23,
   "metadata": {},
   "outputs": [
    {
     "name": "stdout",
     "output_type": "stream",
     "text": [
      "Hay  3  Tipos de Alquileres \n",
      "-----------------------------------------------------\n",
      "Los tipo de Alquiler son :\n"
     ]
    },
    {
     "data": {
      "text/html": [
       "<style>\n",
       ".list-inline {list-style: none; margin:0; padding: 0}\n",
       ".list-inline>li {display: inline-block}\n",
       ".list-inline>li:not(:last-child)::after {content: \"\\00b7\"; padding: 0 .5ex}\n",
       "</style>\n",
       "<ol class=list-inline><li>Private room</li><li>Entire home/apt</li><li>Shared room</li></ol>\n",
       "\n",
       "<details>\n",
       "\t<summary style=display:list-item;cursor:pointer>\n",
       "\t\t<strong>Levels</strong>:\n",
       "\t</summary>\n",
       "\t<style>\n",
       "\t.list-inline {list-style: none; margin:0; padding: 0}\n",
       "\t.list-inline>li {display: inline-block}\n",
       "\t.list-inline>li:not(:last-child)::after {content: \"\\00b7\"; padding: 0 .5ex}\n",
       "\t</style>\n",
       "\t<ol class=list-inline><li>'Entire home/apt'</li><li>'Private room'</li><li>'Shared room'</li></ol>\n",
       "</details>"
      ],
      "text/latex": [
       "\\begin{enumerate*}\n",
       "\\item Private room\n",
       "\\item Entire home/apt\n",
       "\\item Shared room\n",
       "\\end{enumerate*}\n",
       "\n",
       "\\emph{Levels}: \\begin{enumerate*}\n",
       "\\item 'Entire home/apt'\n",
       "\\item 'Private room'\n",
       "\\item 'Shared room'\n",
       "\\end{enumerate*}\n"
      ],
      "text/markdown": [
       "1. Private room\n",
       "2. Entire home/apt\n",
       "3. Shared room\n",
       "\n",
       "\n",
       "\n",
       "**Levels**: 1. 'Entire home/apt'\n",
       "2. 'Private room'\n",
       "3. 'Shared room'\n",
       "\n",
       "\n"
      ],
      "text/plain": [
       "[1] Private room    Entire home/apt Shared room    \n",
       "Levels: Entire home/apt Private room Shared room"
      ]
     },
     "metadata": {},
     "output_type": "display_data"
    },
    {
     "name": "stdout",
     "output_type": "stream",
     "text": [
      "-----------------------------------------------------\n",
      "Entradas por cada tipo de Alquiler: \n"
     ]
    },
    {
     "data": {
      "text/plain": [
       "TipoAlquiler\n",
       "Entire home/apt    Private room     Shared room \n",
       "           7903            5113             191 "
      ]
     },
     "metadata": {},
     "output_type": "display_data"
    }
   ],
   "source": [
    "\n",
    "numerotipos <-paste (\"Hay \",airbnb$TipoAlquiler %>% unique() %>% length(), \" Tipos de Alquileres\")\n",
    "cat(numerotipos,\"\\n\")\n",
    "cat(\"-----------------------------------------------------\\n\")\n",
    "cat(\"Los tipo de Alquiler son :\\n\")\n",
    "airbnb$TipoAlquiler %>% unique()\n",
    "\n",
    "\n",
    "\n",
    "cat(\"-----------------------------------------------------\\n\")\n",
    "\n",
    "cat(\"Entradas por cada tipo de Alquiler: \\n\")\n",
    "table(select(airbnb,TipoAlquiler))"
   ]
  },
  {
   "cell_type": "markdown",
   "metadata": {},
   "source": [
    "Muestra el diagrama de cajas del precio para cada uno de los diferentes Tipos de Alquiler"
   ]
  },
  {
   "cell_type": "code",
   "execution_count": 24,
   "metadata": {},
   "outputs": [
    {
     "data": {
      "image/png": "[encoded data removed]",
      "text/plain": [
       "plot without title"
      ]
     },
     "metadata": {
      "image/png": {
       "height": 750,
       "width": 750
      }
     },
     "output_type": "display_data"
    }
   ],
   "source": [
    "library(\"ggplot2\")\n",
    "options(repr.plot.width=10, repr.plot.height=10, repr.plot.res = 150)\n",
    "\n",
    "con_precio <- airbnb[!is.na(airbnb$Precio), ]\n",
    "ggplot(data=con_precio, aes(x=TipoAlquiler, y=Precio, color=TipoAlquiler))+\n",
    "   geom_boxplot(na.rm = FALSE) +\n",
    "   scale_color_discrete(name=\"Tipo Alquiler\")"
   ]
  },
  {
   "cell_type": "markdown",
   "metadata": {},
   "source": [
    "Cual es el precio medio de alquiler de cada uno, la diferencia que hay ¿es estadísticamente significativa?\n",
    "¿Con que test lo comprobarías?"
   ]
  },
  {
   "cell_type": "code",
   "execution_count": 25,
   "metadata": {},
   "outputs": [
    {
     "data": {
      "text/html": [
       "<table class=\"dataframe\">\n",
       "<caption>A data.frame: 3 × 2</caption>\n",
       "<thead>\n",
       "\t<tr><th scope=col>TipoAlquiler</th><th scope=col>Precio</th></tr>\n",
       "\t<tr><th scope=col>&lt;fct&gt;</th><th scope=col>&lt;dbl&gt;</th></tr>\n",
       "</thead>\n",
       "<tbody>\n",
       "\t<tr><td>Entire home/apt</td><td>87.29661</td></tr>\n",
       "\t<tr><td>Private room   </td><td>34.25514</td></tr>\n",
       "\t<tr><td>Shared room    </td><td>29.85340</td></tr>\n",
       "</tbody>\n",
       "</table>\n"
      ],
      "text/latex": [
       "A data.frame: 3 × 2\n",
       "\\begin{tabular}{ll}\n",
       " TipoAlquiler & Precio\\\\\n",
       " <fct> & <dbl>\\\\\n",
       "\\hline\n",
       "\t Entire home/apt & 87.29661\\\\\n",
       "\t Private room    & 34.25514\\\\\n",
       "\t Shared room     & 29.85340\\\\\n",
       "\\end{tabular}\n"
      ],
      "text/markdown": [
       "\n",
       "A data.frame: 3 × 2\n",
       "\n",
       "| TipoAlquiler &lt;fct&gt; | Precio &lt;dbl&gt; |\n",
       "|---|---|\n",
       "| Entire home/apt | 87.29661 |\n",
       "| Private room    | 34.25514 |\n",
       "| Shared room     | 29.85340 |\n",
       "\n"
      ],
      "text/plain": [
       "  TipoAlquiler    Precio  \n",
       "1 Entire home/apt 87.29661\n",
       "2 Private room    34.25514\n",
       "3 Shared room     29.85340"
      ]
     },
     "metadata": {},
     "output_type": "display_data"
    },
    {
     "name": "stdout",
     "output_type": "stream",
     "text": [
      "----------------------------------------------------------------------------------\n",
      "Lo comprobaria con el  TEST Shapiro-Wilk para contrastar si el conjunto de datos siguen \n",
      "una distribución normal o no.\n",
      "----------------------------------------------------------------------------------\n",
      "-------------TEST DE SHAPIRO-WILK------------------------------------------------\n",
      "Comprobacion  con shapiro test :\n"
     ]
    },
    {
     "data": {
      "text/plain": [
       "\n",
       "\tShapiro-Wilk normality test\n",
       "\n",
       "data:  airbnb$Precio[airbnb$TipoAlquiler == \"Shared room\"]\n",
       "W = 0.4436, p-value < 2.2e-16\n"
      ]
     },
     "metadata": {},
     "output_type": "display_data"
    },
    {
     "data": {
      "text/plain": [
       "\n",
       "\tShapiro-Wilk normality test\n",
       "\n",
       "data:  head(airbnb$Precio[airbnb$TipoAlquiler == \"Entire home/apt\"], 5000)\n",
       "W = 0.64959, p-value < 2.2e-16\n"
      ]
     },
     "metadata": {},
     "output_type": "display_data"
    },
    {
     "data": {
      "text/plain": [
       "\n",
       "\tShapiro-Wilk normality test\n",
       "\n",
       "data:  head(airbnb$Precio[airbnb$TipoAlquiler == \"Private room\"], 5000)\n",
       "W = 0.38267, p-value < 2.2e-16\n"
      ]
     },
     "metadata": {},
     "output_type": "display_data"
    },
    {
     "name": "stdout",
     "output_type": "stream",
     "text": [
      " No sigue una distribucion normal por lo que usaremos Kruskal para comprobar los grupos :\n"
     ]
    },
    {
     "data": {
      "text/plain": [
       "\n",
       "\tKruskal-Wallis rank sum test\n",
       "\n",
       "data:  value by cl\n",
       "Kruskal-Wallis chi-squared = 7235.6, df = 2, p-value < 2.2e-16\n"
      ]
     },
     "metadata": {},
     "output_type": "display_data"
    },
    {
     "name": "stdout",
     "output_type": "stream",
     "text": [
      "----------------------------------------------------------------------------------\n",
      "2,2e-16 como valor de p indicaría un resultado significativo,\n",
      "\n",
      "lo que significa que el valor de p real es incluso menor que 2,2e-16\n"
     ]
    }
   ],
   "source": [
    "promedios <- aggregate(Precio~TipoAlquiler, airbnb, mean, na.rm=TRUE)\n",
    "promedios\n",
    "\n",
    "\n",
    "\n",
    "\n",
    "cat(\"----------------------------------------------------------------------------------\\n\")\n",
    "cat(\"Lo comprobaria con el  TEST Shapiro-Wilk para contrastar si el conjunto de datos siguen \n",
    "una distribución normal o no.\\n\")\n",
    "cat(\"----------------------------------------------------------------------------------\\n\")\n",
    "cat(\"-------------TEST DE SHAPIRO-WILK------------------------------------------------\\n\")\n",
    "\n",
    "\n",
    "cat(\"Comprobacion  con shapiro test :\\n\")\n",
    "\n",
    "\n",
    "\n",
    "shapiro.test(airbnb$Precio[airbnb$TipoAlquiler=='Shared room'])\n",
    "shapiro.test(head(airbnb$Precio[airbnb$TipoAlquiler=='Entire home/apt'], 5000))\n",
    "shapiro.test(head(airbnb$Precio[airbnb$TipoAlquiler=='Private room'],5000))\n",
    "\n",
    "\n",
    "cat(\" No sigue una distribucion normal por lo que usaremos Kruskal para comprobar los grupos :\\n\")\n",
    "dfTipos <- rbind(data.frame(value=airbnb$Precio[airbnb$TipoAlquiler=='Shared room'],cl='Shared room'),data.frame(value=airbnb$Precio[airbnb$TipoAlquiler=='Entire home/apt'],cl='Entire home/apt'),data.frame(value=airbnb$Precio[airbnb$TipoAlquiler=='Private room'],cl='Private room'))\n",
    "\n",
    "kruskal.test( value ~ cl, data=dfTipos)\n",
    "cat(\"----------------------------------------------------------------------------------\\n\")\n",
    "cat( \"2,2e-16 como valor de p indicaría un resultado significativo,\\n\n",
    "lo que significa que el valor de p real es incluso menor que 2,2e-16\\n\")\n"
   ]
  },
  {
   "cell_type": "markdown",
   "metadata": {},
   "source": [
    "Filtra el dataframe cuyos tipo de alquiler sea  'Entire home/apt' y guardalo en un dataframe llamado \n",
    "*airbnb_entire*.\n",
    "Estas serán las entradas que tienen un alquiler del piso completo."
   ]
  },
  {
   "cell_type": "code",
   "execution_count": 26,
   "metadata": {},
   "outputs": [
    {
     "data": {
      "text/html": [
       "<table class=\"dataframe\">\n",
       "<caption>A data.frame: 7903 × 14</caption>\n",
       "<thead>\n",
       "\t<tr><th></th><th scope=col>CodigoPostal</th><th scope=col>Barrio</th><th scope=col>TipoPropiedad</th><th scope=col>TipoAlquiler</th><th scope=col>MaxOcupantes</th><th scope=col>NumBanyos</th><th scope=col>NumDormitorios</th><th scope=col>NumCamas</th><th scope=col>TipoCama</th><th scope=col>Comodidades</th><th scope=col>PiesCuadrados</th><th scope=col>Precio</th><th scope=col>Puntuacion</th><th scope=col>MetrosCuadrados</th></tr>\n",
       "\t<tr><th></th><th scope=col>&lt;fct&gt;</th><th scope=col>&lt;fct&gt;</th><th scope=col>&lt;fct&gt;</th><th scope=col>&lt;fct&gt;</th><th scope=col>&lt;int&gt;</th><th scope=col>&lt;dbl&gt;</th><th scope=col>&lt;int&gt;</th><th scope=col>&lt;int&gt;</th><th scope=col>&lt;fct&gt;</th><th scope=col>&lt;fct&gt;</th><th scope=col>&lt;int&gt;</th><th scope=col>&lt;int&gt;</th><th scope=col>&lt;int&gt;</th><th scope=col>&lt;dbl&gt;</th></tr>\n",
       "</thead>\n",
       "<tbody>\n",
       "\t<tr><th scope=row>2</th><td>28004</td><td>Universidad</td><td>Apartment  </td><td>Entire home/apt</td><td> 6</td><td>1</td><td>3</td><td> 5</td><td>Real Bed     </td><td>TV,Internet,Wireless Internet,Air conditioning,Kitchen,Indoor fireplace,Heating,Family/kid friendly,Washer,Dryer,Smoke detector,Carbon monoxide detector,Essentials,Shampoo                                                                                                                                                                                     </td><td> NA</td><td> 92</td><td> 96</td><td>      NA</td></tr>\n",
       "\t<tr><th scope=row>3</th><td>28004</td><td>Universidad</td><td>Apartment  </td><td>Entire home/apt</td><td> 3</td><td>1</td><td>2</td><td> 2</td><td>Real Bed     </td><td>TV,Internet,Wireless Internet,Air conditioning,Kitchen,Doorman,Heating,Family/kid friendly,Washer,Essentials,Shampoo,Hangers,Hair dryer,Iron,Laptop friendly workspace                                                                                                                                                                                          </td><td> NA</td><td> 55</td><td> 91</td><td>      NA</td></tr>\n",
       "\t<tr><th scope=row>4</th><td>28004</td><td>Universidad</td><td>Loft       </td><td>Entire home/apt</td><td> 3</td><td>2</td><td>1</td><td> 1</td><td>Real Bed     </td><td>TV,Internet,Wireless Internet,Air conditioning,Kitchen,Pets allowed,Breakfast,Elevator in building,Indoor fireplace,Buzzer/wireless intercom,Heating,Washer,Essentials,Shampoo,Hangers,Hair dryer,Iron,Laptop friendly workspace,translation missing: en.hosting_amenity_49,translation missing: en.hosting_amenity_50                                          </td><td> NA</td><td> 60</td><td>100</td><td>      NA</td></tr>\n",
       "\t<tr><th scope=row>5</th><td>28015</td><td>Universidad</td><td>Apartment  </td><td>Entire home/apt</td><td> 5</td><td>1</td><td>1</td><td> 1</td><td>Real Bed     </td><td>TV,Wireless Internet,Air conditioning,Kitchen,Smoking allowed,Pets allowed,Elevator in building,Heating,Family/kid friendly,Washer,Essentials,Iron                                                                                                                                                                                                              </td><td>538</td><td> 75</td><td> 90</td><td>49.98181</td></tr>\n",
       "\t<tr><th scope=row>6</th><td>28004</td><td>Universidad</td><td>Apartment  </td><td>Entire home/apt</td><td> 2</td><td>1</td><td>0</td><td> 1</td><td>Real Bed     </td><td>TV,Cable TV,Internet,Wireless Internet,Air conditioning,Wheelchair accessible,Kitchen,Doorman,Elevator in building,Buzzer/wireless intercom,Heating,Washer,Smoke detector,Carbon monoxide detector,First aid kit,Safety card,Fire extinguisher,Essentials,Shampoo,24-hour check-in,Hangers,Hair dryer,Iron,Laptop friendly workspace,Self Check-In,Doorman Entry</td><td> NA</td><td> 55</td><td> 95</td><td>      NA</td></tr>\n",
       "\t<tr><th scope=row>8</th><td>28004</td><td>Universidad</td><td>Apartment  </td><td>Entire home/apt</td><td> 3</td><td>1</td><td>1</td><td>NA</td><td>Real Bed     </td><td>TV,Wireless Internet,Air conditioning,Kitchen,Elevator in building,Buzzer/wireless intercom,Heating,Washer                                                                                                                                                                                                                                                      </td><td> NA</td><td> 70</td><td> 84</td><td>      NA</td></tr>\n",
       "\t<tr><th scope=row>9</th><td>28015</td><td>Universidad</td><td>Apartment  </td><td>Entire home/apt</td><td> 2</td><td>1</td><td>1</td><td> 1</td><td>Real Bed     </td><td>TV,Internet,Wireless Internet,Kitchen,Elevator in building,Buzzer/wireless intercom,Heating,Family/kid friendly,Washer,Dryer,Essentials,Shampoo,translation missing: en.hosting_amenity_49                                                                                                                                                                      </td><td>700</td><td> 90</td><td> 98</td><td>65.03210</td></tr>\n",
       "\t<tr><th scope=row>10</th><td>28004</td><td>Universidad</td><td>Apartment  </td><td>Entire home/apt</td><td> 4</td><td>2</td><td>2</td><td> 2</td><td>Real Bed     </td><td>TV,Wireless Internet,Air conditioning,Kitchen,Elevator in building,Hot tub,Heating,Family/kid friendly,Washer,Dryer,Essentials,Hair dryer,Iron                                                                                                                                                                                                                  </td><td> NA</td><td>155</td><td> NA</td><td>      NA</td></tr>\n",
       "\t<tr><th scope=row>11</th><td>28004</td><td>Universidad</td><td>Apartment  </td><td>Entire home/apt</td><td> 4</td><td>1</td><td>1</td><td> 2</td><td>Real Bed     </td><td>TV,Wireless Internet,Air conditioning,Wheelchair accessible,Kitchen,Elevator in building,Buzzer/wireless intercom,Heating,Family/kid friendly,Washer,Essentials,Shampoo                                                                                                                                                                                         </td><td> 40</td><td> 70</td><td> 90</td><td> 3.71612</td></tr>\n",
       "\t<tr><th scope=row>15</th><td>28013</td><td>Sol        </td><td>Apartment  </td><td>Entire home/apt</td><td> 4</td><td>1</td><td>1</td><td> 1</td><td>Real Bed     </td><td>TV,Wireless Internet,Air conditioning,Kitchen,Doorman,Elevator in building,Buzzer/wireless intercom,Heating,Family/kid friendly,Suitable for events,Washer,Essentials,Hangers,Hair dryer,Iron                                                                                                                                                                   </td><td>646</td><td> 75</td><td> 91</td><td>60.01534</td></tr>\n",
       "\t<tr><th scope=row>16</th><td>28013</td><td>Sol        </td><td>Condominium</td><td>Entire home/apt</td><td> 6</td><td>1</td><td>2</td><td> 3</td><td>Real Bed     </td><td>TV,Wireless Internet,Air conditioning,Kitchen,Doorman,Elevator in building,Buzzer/wireless intercom,Heating,Family/kid friendly,Washer,Dryer,Essentials,Shampoo,Hangers,Hair dryer,Iron                                                                                                                                                                         </td><td> NA</td><td>130</td><td>100</td><td>      NA</td></tr>\n",
       "\t<tr><th scope=row>17</th><td>28013</td><td>Sol        </td><td>Apartment  </td><td>Entire home/apt</td><td> 4</td><td>1</td><td>1</td><td> 2</td><td>Real Bed     </td><td>TV,Internet,Wireless Internet,Air conditioning,Kitchen,Doorman,Elevator in building,Buzzer/wireless intercom,Heating,Family/kid friendly,Washer,Smoke detector,Carbon monoxide detector,First aid kit,Safety card,Fire extinguisher,Essentials,Shampoo,24-hour check-in,Hangers,Hair dryer,Iron,Laptop friendly workspace                                       </td><td> NA</td><td>100</td><td> 97</td><td>      NA</td></tr>\n",
       "\t<tr><th scope=row>18</th><td>28012</td><td>Sol        </td><td>Apartment  </td><td>Entire home/apt</td><td> 6</td><td>1</td><td>2</td><td> 2</td><td>Real Bed     </td><td>TV,Internet,Wireless Internet,Air conditioning,Kitchen,Smoking allowed,Elevator in building,Buzzer/wireless intercom,Heating,Family/kid friendly,Washer,Dryer,Essentials,Shampoo,Hangers,Hair dryer,Iron,Laptop friendly workspace                                                                                                                              </td><td> NA</td><td>160</td><td> 95</td><td>      NA</td></tr>\n",
       "\t<tr><th scope=row>19</th><td>28013</td><td>Sol        </td><td>Apartment  </td><td>Entire home/apt</td><td> 4</td><td>1</td><td>1</td><td> 2</td><td>Real Bed     </td><td>TV,Internet,Wireless Internet,Air conditioning,Kitchen,Heating,Washer,Essentials,Hangers,Hair dryer,translation missing: en.hosting_amenity_50                                                                                                                                                                                                                  </td><td> NA</td><td> 49</td><td> 95</td><td>      NA</td></tr>\n",
       "\t<tr><th scope=row>21</th><td>28013</td><td>Sol        </td><td>Apartment  </td><td>Entire home/apt</td><td> 4</td><td>1</td><td>1</td><td> 2</td><td>Real Bed     </td><td>TV,Wireless Internet,Kitchen,Pets allowed,Elevator in building,Heating,Family/kid friendly,Washer,Essentials,Shampoo,Hangers,Hair dryer,Laptop friendly workspace                                                                                                                                                                                               </td><td> NA</td><td> 70</td><td> 88</td><td>      NA</td></tr>\n",
       "\t<tr><th scope=row>22</th><td>28005</td><td>Sol        </td><td>Apartment  </td><td>Entire home/apt</td><td>10</td><td>2</td><td>4</td><td> 7</td><td>Real Bed     </td><td>TV,Internet,Wireless Internet,Air conditioning,Kitchen,Heating,Family/kid friendly,Washer,Essentials                                                                                                                                                                                                                                                            </td><td> NA</td><td>210</td><td> 81</td><td>      NA</td></tr>\n",
       "\t<tr><th scope=row>23</th><td>28013</td><td>Sol        </td><td>Apartment  </td><td>Entire home/apt</td><td> 6</td><td>1</td><td>2</td><td> 4</td><td>Real Bed     </td><td>TV,Internet,Wireless Internet,Air conditioning,Kitchen,Smoking allowed,Pets allowed,Doorman,Elevator in building,Buzzer/wireless intercom,Heating,Family/kid friendly,Washer,First aid kit,Safety card,Essentials,Shampoo,Hangers,Hair dryer,Iron                                                                                                               </td><td> NA</td><td>120</td><td> 99</td><td>      NA</td></tr>\n",
       "\t<tr><th scope=row>24</th><td>28012</td><td>Sol        </td><td>Apartment  </td><td>Entire home/apt</td><td> 4</td><td>1</td><td>1</td><td> 2</td><td>Real Bed     </td><td>TV,Internet,Wireless Internet,Air conditioning,Kitchen,Elevator in building,Heating,Family/kid friendly,Washer,Smoke detector,Carbon monoxide detector,Essentials,Shampoo,24-hour check-in,Hangers,Hair dryer,Iron,Laptop friendly workspace                                                                                                                    </td><td> NA</td><td> 50</td><td> 91</td><td>      NA</td></tr>\n",
       "\t<tr><th scope=row>25</th><td>28012</td><td>Sol        </td><td>Apartment  </td><td>Entire home/apt</td><td> 4</td><td>1</td><td>1</td><td> 1</td><td>Real Bed     </td><td>TV,Cable TV,Internet,Wireless Internet,Air conditioning,Kitchen,Elevator in building,Buzzer/wireless intercom,Heating,Family/kid friendly,Washer,Essentials,Hair dryer,Iron                                                                                                                                                                                     </td><td>753</td><td>100</td><td> 87</td><td>69.95596</td></tr>\n",
       "\t<tr><th scope=row>26</th><td>28013</td><td>Sol        </td><td>Apartment  </td><td>Entire home/apt</td><td> 4</td><td>1</td><td>1</td><td> 2</td><td>Real Bed     </td><td>TV,Internet,Wireless Internet,Air conditioning,Kitchen,Breakfast,Elevator in building,Heating,Family/kid friendly,Washer,First aid kit,Fire extinguisher,Essentials,Shampoo,Hangers,Hair dryer,Iron,Laptop friendly workspace                                                                                                                                   </td><td> NA</td><td> 75</td><td>100</td><td>      NA</td></tr>\n",
       "\t<tr><th scope=row>27</th><td>28014</td><td>Sol        </td><td>Condominium</td><td>Entire home/apt</td><td> 8</td><td>2</td><td>2</td><td> 5</td><td>Real Bed     </td><td>TV,Internet,Wireless Internet,Air conditioning,Wheelchair accessible,Kitchen,Doorman,Elevator in building,Buzzer/wireless intercom,Heating,Family/kid friendly,Washer,Smoke detector,Carbon monoxide detector,Essentials,Shampoo,24-hour check-in,Hangers,Hair dryer,Iron,Laptop friendly workspace                                                             </td><td> NA</td><td>155</td><td> 93</td><td>      NA</td></tr>\n",
       "\t<tr><th scope=row>28</th><td>28013</td><td>Sol        </td><td>Apartment  </td><td>Entire home/apt</td><td> 6</td><td>2</td><td>2</td><td> 3</td><td>Real Bed     </td><td>TV,Internet,Wireless Internet,Air conditioning,Wheelchair accessible,Kitchen,Doorman,Elevator in building,Buzzer/wireless intercom,Heating,Family/kid friendly,Washer,Dryer,Essentials,Hangers,Hair dryer,Iron                                                                                                                                                  </td><td> NA</td><td>155</td><td> 80</td><td>      NA</td></tr>\n",
       "\t<tr><th scope=row>30</th><td>28005</td><td>Sol        </td><td>Apartment  </td><td>Entire home/apt</td><td> 8</td><td>1</td><td>3</td><td> 4</td><td>Real Bed     </td><td>TV,Internet,Wireless Internet,Kitchen,Breakfast,Elevator in building,Buzzer/wireless intercom,Heating,Family/kid friendly,Washer,Essentials,Shampoo,Hangers,Hair dryer,Iron,Laptop friendly workspace,Self Check-In,Lockbox                                                                                                                                     </td><td> NA</td><td>163</td><td>100</td><td>      NA</td></tr>\n",
       "\t<tr><th scope=row>31</th><td>28005</td><td>Imperial   </td><td>Apartment  </td><td>Entire home/apt</td><td> 3</td><td>1</td><td>1</td><td> 1</td><td>Real Bed     </td><td>TV,Internet,Wireless Internet,Kitchen,Pets allowed,Elevator in building,Heating,Family/kid friendly,Washer,Fire extinguisher,Essentials,Shampoo,Hangers,Hair dryer,Iron,Laptop friendly workspace,translation missing: en.hosting_amenity_50                                                                                                                    </td><td> NA</td><td> 70</td><td> 95</td><td>      NA</td></tr>\n",
       "\t<tr><th scope=row>32</th><td>28005</td><td>Imperial   </td><td>Apartment  </td><td>Entire home/apt</td><td> 3</td><td>1</td><td>2</td><td> 2</td><td>Real Bed     </td><td>TV,Wireless Internet,Kitchen,Heating,Family/kid friendly,Washer,Essentials,Hair dryer,translation missing: en.hosting_amenity_50                                                                                                                                                                                                                                </td><td> NA</td><td> 49</td><td> 88</td><td>      NA</td></tr>\n",
       "\t<tr><th scope=row>36</th><td>28005</td><td>Acacias    </td><td>House      </td><td>Entire home/apt</td><td> 4</td><td>2</td><td>2</td><td> 4</td><td>Real Bed     </td><td>TV,Wireless Internet,Air conditioning,Wheelchair accessible,Kitchen,Doorman,Elevator in building,Buzzer/wireless intercom,Heating,Washer,Essentials,Shampoo,Hangers,Hair dryer,Iron,Laptop friendly workspace                                                                                                                                                   </td><td> NA</td><td> 90</td><td> 92</td><td>      NA</td></tr>\n",
       "\t<tr><th scope=row>43</th><td>28013</td><td>Sol        </td><td>Apartment  </td><td>Entire home/apt</td><td> 4</td><td>1</td><td>1</td><td> 1</td><td>Pull-out Sofa</td><td>TV,Internet,Wireless Internet,Air conditioning,Kitchen,Elevator in building,Buzzer/wireless intercom,Heating,Family/kid friendly,Washer,Smoke detector,Carbon monoxide detector,First aid kit,Essentials,Shampoo,24-hour check-in,Hangers,Hair dryer,Iron,Laptop friendly workspace,translation missing: en.hosting_amenity_50                                  </td><td> NA</td><td> 64</td><td> 97</td><td>      NA</td></tr>\n",
       "\t<tr><th scope=row>44</th><td>28013</td><td>Sol        </td><td>Apartment  </td><td>Entire home/apt</td><td> 6</td><td>2</td><td>2</td><td> 2</td><td>Real Bed     </td><td>TV,Wireless Internet,Air conditioning,Kitchen,Elevator in building,Heating,Washer,Essentials,Shampoo                                                                                                                                                                                                                                                            </td><td> NA</td><td>109</td><td> 90</td><td>      NA</td></tr>\n",
       "\t<tr><th scope=row>45</th><td>28013</td><td>Sol        </td><td>Apartment  </td><td>Entire home/apt</td><td> 3</td><td>1</td><td>1</td><td> 2</td><td>Real Bed     </td><td>TV,Internet,Wireless Internet,Air conditioning,Kitchen,Smoking allowed,Elevator in building,Buzzer/wireless intercom,Heating,Family/kid friendly,Washer,Fire extinguisher,Essentials,Shampoo,Hangers,Hair dryer,Iron                                                                                                                                            </td><td> NA</td><td> 67</td><td> 95</td><td>      NA</td></tr>\n",
       "\t<tr><th scope=row>46</th><td>28013</td><td>Sol        </td><td>Apartment  </td><td>Entire home/apt</td><td> 2</td><td>1</td><td>1</td><td> 1</td><td>Real Bed     </td><td>TV,Internet,Wireless Internet,Air conditioning,Kitchen,Elevator in building,Buzzer/wireless intercom,Heating,Family/kid friendly,Washer,First aid kit,Essentials,Shampoo,Hair dryer,Iron                                                                                                                                                                        </td><td>269</td><td> 65</td><td> 93</td><td>24.99091</td></tr>\n",
       "\t<tr><th scope=row>⋮</th><td>⋮</td><td>⋮</td><td>⋮</td><td>⋮</td><td>⋮</td><td>⋮</td><td>⋮</td><td>⋮</td><td>⋮</td><td>⋮</td><td>⋮</td><td>⋮</td><td>⋮</td><td>⋮</td></tr>\n",
       "\t<tr><th scope=row>13157</th><td>28010</td><td>Almagro             </td><td>Apartment  </td><td>Entire home/apt</td><td> 2</td><td>1.0</td><td>0</td><td> 1</td><td>Pull-out Sofa</td><td>TV,Wireless Internet,Kitchen,Buzzer/wireless intercom,Heating,Essentials,Hangers,Iron,translation missing: en.hosting_amenity_49,translation missing: en.hosting_amenity_50                                                                                                                                          </td><td> NA</td><td> 30</td><td> 83</td><td>      NA</td></tr>\n",
       "\t<tr><th scope=row>13158</th><td>28010</td><td>Almagro             </td><td>Apartment  </td><td>Entire home/apt</td><td> 2</td><td>1.0</td><td>1</td><td> 1</td><td>Real Bed     </td><td>TV,Internet,Wireless Internet,Air conditioning,Kitchen,Pets allowed,Doorman,Elevator in building,Buzzer/wireless intercom,Heating,Family/kid friendly,Washer,Essentials,Hangers,Iron,Laptop friendly workspace,translation missing: en.hosting_amenity_49                                                            </td><td> NA</td><td> 45</td><td>100</td><td>      NA</td></tr>\n",
       "\t<tr><th scope=row>13159</th><td>28003</td><td>Rios Rosas          </td><td>Apartment  </td><td>Entire home/apt</td><td> 3</td><td>1.0</td><td>1</td><td> 1</td><td>Real Bed     </td><td>TV,Internet,Wireless Internet,Air conditioning,Kitchen,Elevator in building,Buzzer/wireless intercom,Heating,Family/kid friendly,Washer,Fire extinguisher,Essentials,24-hour check-in,Hangers,Hair dryer,Iron,Laptop friendly workspace                                                                              </td><td> NA</td><td> 39</td><td> 94</td><td>      NA</td></tr>\n",
       "\t<tr><th scope=row>13167</th><td>28008</td><td>Argüelles           </td><td>House      </td><td>Entire home/apt</td><td> 3</td><td>1.0</td><td>1</td><td> 2</td><td>Real Bed     </td><td>TV,Internet,Wireless Internet,Air conditioning,Kitchen,Elevator in building,Heating,Washer,Smoke detector,Fire extinguisher,Essentials,Hangers,Hair dryer,Iron,Laptop friendly workspace                                                                                                                             </td><td> NA</td><td>105</td><td> NA</td><td>      NA</td></tr>\n",
       "\t<tr><th scope=row>13168</th><td>28008</td><td>Argüelles           </td><td>House      </td><td>Entire home/apt</td><td> 5</td><td>1.0</td><td>3</td><td> 4</td><td>Real Bed     </td><td>TV,Internet,Wireless Internet,Wheelchair accessible,Kitchen,Smoking allowed,Doorman,Elevator in building,Buzzer/wireless intercom,Heating,Family/kid friendly,Washer,Fire extinguisher,Essentials,Shampoo,24-hour check-in,Hangers,Hair dryer,Iron,Laptop friendly workspace                                         </td><td> NA</td><td>139</td><td> 92</td><td>      NA</td></tr>\n",
       "\t<tr><th scope=row>13169</th><td>28008</td><td>Argüelles           </td><td>Apartment  </td><td>Entire home/apt</td><td> 4</td><td>1.0</td><td>1</td><td> 1</td><td>Real Bed     </td><td>TV,Wireless Internet,Kitchen,Elevator in building,Heating,Family/kid friendly,Washer,Dryer,Essentials,Shampoo,24-hour check-in,Hangers,Hair dryer,Iron,Laptop friendly workspace                                                                                                                                     </td><td> NA</td><td> 61</td><td> 92</td><td>      NA</td></tr>\n",
       "\t<tr><th scope=row>13175</th><td>28003</td><td>Ciudad Universitaria</td><td>Loft       </td><td>Entire home/apt</td><td> 3</td><td>1.0</td><td>1</td><td> 2</td><td>Real Bed     </td><td>TV,Wireless Internet,Kitchen,Breakfast,Elevator in building,Buzzer/wireless intercom,Heating,Family/kid friendly,Washer,Essentials,Shampoo,Hangers,Iron,Laptop friendly workspace                                                                                                                                    </td><td> NA</td><td> 55</td><td>100</td><td>      NA</td></tr>\n",
       "\t<tr><th scope=row>13176</th><td>28038</td><td>Numancia            </td><td>Apartment  </td><td>Entire home/apt</td><td> 6</td><td>1.0</td><td>3</td><td> 4</td><td>Real Bed     </td><td>TV,Internet,Wireless Internet,Air conditioning,Kitchen,Buzzer/wireless intercom,Heating,Family/kid friendly,Washer,First aid kit,Essentials,Shampoo,Hangers,Hair dryer,Iron,Laptop friendly workspace                                                                                                                </td><td> NA</td><td> 65</td><td> 94</td><td>      NA</td></tr>\n",
       "\t<tr><th scope=row>13179</th><td>28023</td><td>Aravaca             </td><td>Condominium</td><td>Entire home/apt</td><td> 3</td><td>1.0</td><td>1</td><td> 3</td><td>Real Bed     </td><td>TV,Internet,Wireless Internet,Pool,Kitchen,Free parking on premises,Doorman,Heating,Family/kid friendly,Washer,Essentials,24-hour check-in,Hangers,Iron,Laptop friendly workspace,Private entrance                                                                                                                   </td><td> NA</td><td> 50</td><td>100</td><td>      NA</td></tr>\n",
       "\t<tr><th scope=row>13183</th><td>28004</td><td>Universidad         </td><td>Other      </td><td>Entire home/apt</td><td> 3</td><td>1.0</td><td>1</td><td> 1</td><td>Real Bed     </td><td>TV,Internet,Wireless Internet,Air conditioning,Kitchen,Smoking allowed,Pets allowed,Elevator in building,Buzzer/wireless intercom,Heating,Family/kid friendly,Washer,Dryer,Fire extinguisher,Essentials,24-hour check-in,Hangers,Hair dryer,Iron                                                                     </td><td> NA</td><td> 43</td><td> 83</td><td>      NA</td></tr>\n",
       "\t<tr><th scope=row>13184</th><td>28004</td><td>Universidad         </td><td>Apartment  </td><td>Entire home/apt</td><td> 3</td><td>1.0</td><td>1</td><td> 1</td><td>Real Bed     </td><td>TV,Internet,Wireless Internet,Kitchen,Buzzer/wireless intercom,Heating,Washer,Dryer,Essentials,Shampoo,24-hour check-in,Hangers,Hair dryer,Iron,Laptop friendly workspace,translation missing: en.hosting_amenity_49,translation missing: en.hosting_amenity_50                                                      </td><td> NA</td><td> 80</td><td> 96</td><td>      NA</td></tr>\n",
       "\t<tr><th scope=row>13185</th><td>28004</td><td>Universidad         </td><td>Apartment  </td><td>Entire home/apt</td><td> 2</td><td>1.0</td><td>1</td><td> 1</td><td>Real Bed     </td><td>TV,Internet,Wireless Internet,Air conditioning,Kitchen,Elevator in building,Heating,Washer,Dryer,First aid kit,Essentials,Hangers,Hair dryer,Iron,translation missing: en.hosting_amenity_49,translation missing: en.hosting_amenity_50                                                                              </td><td> NA</td><td> 80</td><td> 99</td><td>      NA</td></tr>\n",
       "\t<tr><th scope=row>13186</th><td>28015</td><td>Universidad         </td><td>Apartment  </td><td>Entire home/apt</td><td> 4</td><td>1.0</td><td>1</td><td> 2</td><td>Real Bed     </td><td>TV,Internet,Wireless Internet,Air conditioning,Kitchen,Elevator in building,Heating,Family/kid friendly,Washer,Smoke detector,Fire extinguisher,Essentials,Shampoo,Lock on bedroom door,Hangers,Hair dryer,Iron                                                                                                      </td><td> NA</td><td>100</td><td>100</td><td>      NA</td></tr>\n",
       "\t<tr><th scope=row>13187</th><td>28015</td><td>Universidad         </td><td>Apartment  </td><td>Entire home/apt</td><td> 2</td><td>1.0</td><td>1</td><td> 2</td><td>Real Bed     </td><td>TV,Wireless Internet,Air conditioning,Kitchen,Elevator in building,Buzzer/wireless intercom,Heating,Family/kid friendly,Washer                                                                                                                                                                                       </td><td>291</td><td> 50</td><td> 87</td><td>27.03477</td></tr>\n",
       "\t<tr><th scope=row>13188</th><td>28015</td><td>Universidad         </td><td>Apartment  </td><td>Entire home/apt</td><td> 5</td><td>1.0</td><td>2</td><td> 3</td><td>Real Bed     </td><td>TV,Internet,Wireless Internet,Kitchen,Smoking allowed,Elevator in building,Buzzer/wireless intercom,Heating,Family/kid friendly,Washer,First aid kit,Essentials,Shampoo,24-hour check-in,Hangers,Hair dryer,Iron,Laptop friendly workspace                                                                           </td><td> NA</td><td> 85</td><td> 90</td><td>      NA</td></tr>\n",
       "\t<tr><th scope=row>13190</th><td>28015</td><td>Universidad         </td><td>Apartment  </td><td>Entire home/apt</td><td> 4</td><td>1.0</td><td>1</td><td> 2</td><td>Real Bed     </td><td>TV,Wireless Internet,Air conditioning,Kitchen,Smoking allowed,Heating,Family/kid friendly,Washer,Dryer,Smoke detector,First aid kit,Essentials,Shampoo,Hangers,Hair dryer,Iron                                                                                                                                       </td><td> NA</td><td> 60</td><td>100</td><td>      NA</td></tr>\n",
       "\t<tr><th scope=row>13191</th><td>28013</td><td>Universidad         </td><td>Apartment  </td><td>Entire home/apt</td><td> 2</td><td>1.0</td><td>1</td><td> 1</td><td>Real Bed     </td><td>TV,Wireless Internet,Air conditioning,Kitchen,Elevator in building,Heating,Washer,Dryer,Essentials,Shampoo,Hangers,Hair dryer,Iron,Laptop friendly workspace,translation missing: en.hosting_amenity_49,translation missing: en.hosting_amenity_50                                                                   </td><td> NA</td><td>145</td><td> NA</td><td>      NA</td></tr>\n",
       "\t<tr><th scope=row>13192</th><td>28004</td><td>Universidad         </td><td>Apartment  </td><td>Entire home/apt</td><td> 4</td><td>1.0</td><td>1</td><td> 2</td><td>Real Bed     </td><td>TV,Internet,Wireless Internet,Air conditioning,Kitchen,Pets allowed,Indoor fireplace,Buzzer/wireless intercom,Heating,Family/kid friendly,Washer,Smoke detector,Carbon monoxide detector,Essentials,Shampoo,24-hour check-in,Hangers,Hair dryer,Iron,Laptop friendly workspace                                       </td><td> NA</td><td> 62</td><td> 91</td><td>      NA</td></tr>\n",
       "\t<tr><th scope=row>13193</th><td>28004</td><td>Universidad         </td><td>Apartment  </td><td>Entire home/apt</td><td>14</td><td>5.5</td><td>5</td><td>10</td><td>Real Bed     </td><td>TV,Internet,Wireless Internet,Air conditioning,Kitchen,Smoking allowed,Elevator in building,Indoor fireplace,Family/kid friendly,Washer,Dryer,First aid kit,Fire extinguisher,Essentials                                                                                                                             </td><td> NA</td><td>300</td><td> 94</td><td>      NA</td></tr>\n",
       "\t<tr><th scope=row>13195</th><td>28004</td><td>Universidad         </td><td>Apartment  </td><td>Entire home/apt</td><td> 3</td><td>1.0</td><td>1</td><td> 2</td><td>Real Bed     </td><td>TV,Wireless Internet,Kitchen,Buzzer/wireless intercom,Heating,Family/kid friendly,Washer,Smoke detector,Essentials,Shampoo,24-hour check-in,Hangers,Laptop friendly workspace,translation missing: en.hosting_amenity_50                                                                                             </td><td> NA</td><td> 62</td><td> 81</td><td>      NA</td></tr>\n",
       "\t<tr><th scope=row>13198</th><td>28004</td><td>Universidad         </td><td>Apartment  </td><td>Entire home/apt</td><td> 4</td><td>1.0</td><td>2</td><td> 4</td><td>Pull-out Sofa</td><td>TV,Internet,Wireless Internet,Air conditioning,Kitchen,Smoking allowed,Pets allowed,Elevator in building,Heating,Family/kid friendly,Washer,Dryer,Essentials,Shampoo,Hangers,Hair dryer,Iron                                                                                                                         </td><td> NA</td><td> 90</td><td> 90</td><td>      NA</td></tr>\n",
       "\t<tr><th scope=row>13199</th><td>28004</td><td>Universidad         </td><td>Apartment  </td><td>Entire home/apt</td><td> 4</td><td>1.0</td><td>2</td><td> 2</td><td>Real Bed     </td><td>TV,Internet,Wireless Internet,Air conditioning,Kitchen,Smoking allowed,Pets allowed,Buzzer/wireless intercom,Heating,Family/kid friendly,Washer,Dryer,Essentials,Hangers,Hair dryer,Iron                                                                                                                             </td><td> NA</td><td> 70</td><td> 87</td><td>      NA</td></tr>\n",
       "\t<tr><th scope=row>13200</th><td>28004</td><td>Universidad         </td><td>Apartment  </td><td>Entire home/apt</td><td> 2</td><td>1.0</td><td>1</td><td> 1</td><td>Real Bed     </td><td>TV,Internet,Wireless Internet,Air conditioning,Kitchen,Smoking allowed,Pets allowed,Elevator in building,Heating,Family/kid friendly,Washer,First aid kit,Fire extinguisher,Essentials,Lock on bedroom door,Hangers,Hair dryer,Iron                                                                                  </td><td> NA</td><td> 40</td><td> 82</td><td>      NA</td></tr>\n",
       "\t<tr><th scope=row>13201</th><td>28004</td><td>Universidad         </td><td>Loft       </td><td>Entire home/apt</td><td> 2</td><td>1.0</td><td>1</td><td> 2</td><td>Real Bed     </td><td>Internet,Wireless Internet,Smoking allowed,Breakfast,Elevator in building,Heating,Shampoo,Hangers,Hair dryer,Iron,Laptop friendly workspace,translation missing: en.hosting_amenity_49,translation missing: en.hosting_amenity_50                                                                                    </td><td> NA</td><td> 30</td><td> NA</td><td>      NA</td></tr>\n",
       "\t<tr><th scope=row>13202</th><td>28004</td><td>Universidad         </td><td>Apartment  </td><td>Entire home/apt</td><td> 4</td><td>1.0</td><td>1</td><td> 2</td><td>Real Bed     </td><td>TV,Wireless Internet,Air conditioning,Kitchen,Smoking allowed,Pets allowed,Heating,Family/kid friendly,Washer,Fire extinguisher,Essentials,Lock on bedroom door,Hangers,Hair dryer,Iron                                                                                                                              </td><td> NA</td><td> 48</td><td> 83</td><td>      NA</td></tr>\n",
       "\t<tr><th scope=row>13203</th><td>28015</td><td>Universidad         </td><td>Apartment  </td><td>Entire home/apt</td><td> 2</td><td>1.0</td><td>1</td><td> 1</td><td>Real Bed     </td><td>TV,Internet,Wireless Internet,Air conditioning,Kitchen,Elevator in building,Buzzer/wireless intercom,Heating,Washer,Dryer,Smoke detector,Fire extinguisher,Essentials,Shampoo,Hangers,Hair dryer,Iron,Laptop friendly workspace,translation missing: en.hosting_amenity_49,translation missing: en.hosting_amenity_50</td><td> NA</td><td> 35</td><td> 90</td><td>      NA</td></tr>\n",
       "\t<tr><th scope=row>13204</th><td>28004</td><td>Universidad         </td><td>Apartment  </td><td>Entire home/apt</td><td> 3</td><td>1.0</td><td>1</td><td> 2</td><td>Real Bed     </td><td>TV,Wireless Internet,Air conditioning,Kitchen,Elevator in building,Buzzer/wireless intercom,Heating,Family/kid friendly,Washer,Dryer,Smoke detector,Carbon monoxide detector,Fire extinguisher,Essentials,Shampoo,24-hour check-in,Hangers,Hair dryer,Iron,Laptop friendly workspace                                 </td><td> NA</td><td> 79</td><td> 97</td><td>      NA</td></tr>\n",
       "\t<tr><th scope=row>13205</th><td>28013</td><td>Universidad         </td><td>Apartment  </td><td>Entire home/apt</td><td> 4</td><td>1.0</td><td>1</td><td> 1</td><td>Real Bed     </td><td>TV,Wireless Internet,Air conditioning,Pool,Kitchen,Doorman,Gym,Elevator in building,Buzzer/wireless intercom,Heating,Washer,First aid kit,Safety card,Essentials,Shampoo,Hangers,Hair dryer,Iron,Laptop friendly workspace                                                                                           </td><td> NA</td><td>150</td><td>100</td><td>      NA</td></tr>\n",
       "\t<tr><th scope=row>13206</th><td>28004</td><td>Universidad         </td><td>Loft       </td><td>Entire home/apt</td><td> 2</td><td>1.0</td><td>0</td><td> 1</td><td>Real Bed     </td><td>TV,Internet,Wireless Internet,Kitchen,Smoking allowed,Pets allowed,Elevator in building,Heating,Family/kid friendly,Washer,First aid kit,Essentials,Shampoo                                                                                                                                                          </td><td> NA</td><td> 80</td><td> 91</td><td>      NA</td></tr>\n",
       "\t<tr><th scope=row>13207</th><td>28004</td><td>Universidad         </td><td>Apartment  </td><td>Entire home/apt</td><td> 3</td><td>1.0</td><td>0</td><td> 2</td><td>Real Bed     </td><td>TV,Internet,Wireless Internet,Air conditioning,Kitchen,Heating,Family/kid friendly,Washer                                                                                                                                                                                                                            </td><td> NA</td><td> 69</td><td> 80</td><td>      NA</td></tr>\n",
       "</tbody>\n",
       "</table>\n"
      ],
      "text/latex": [
       "A data.frame: 7903 × 14\n",
       "\\begin{tabular}{r|llllllllllllll}\n",
       "  & CodigoPostal & Barrio & TipoPropiedad & TipoAlquiler & MaxOcupantes & NumBanyos & NumDormitorios & NumCamas & TipoCama & Comodidades & PiesCuadrados & Precio & Puntuacion & MetrosCuadrados\\\\\n",
       "  & <fct> & <fct> & <fct> & <fct> & <int> & <dbl> & <int> & <int> & <fct> & <fct> & <int> & <int> & <int> & <dbl>\\\\\n",
       "\\hline\n",
       "\t2 & 28004 & Universidad & Apartment   & Entire home/apt &  6 & 1 & 3 &  5 & Real Bed      & TV,Internet,Wireless Internet,Air conditioning,Kitchen,Indoor fireplace,Heating,Family/kid friendly,Washer,Dryer,Smoke detector,Carbon monoxide detector,Essentials,Shampoo                                                                                                                                                                                      &  NA &  92 &  96 &       NA\\\\\n",
       "\t3 & 28004 & Universidad & Apartment   & Entire home/apt &  3 & 1 & 2 &  2 & Real Bed      & TV,Internet,Wireless Internet,Air conditioning,Kitchen,Doorman,Heating,Family/kid friendly,Washer,Essentials,Shampoo,Hangers,Hair dryer,Iron,Laptop friendly workspace                                                                                                                                                                                           &  NA &  55 &  91 &       NA\\\\\n",
       "\t4 & 28004 & Universidad & Loft        & Entire home/apt &  3 & 2 & 1 &  1 & Real Bed      & TV,Internet,Wireless Internet,Air conditioning,Kitchen,Pets allowed,Breakfast,Elevator in building,Indoor fireplace,Buzzer/wireless intercom,Heating,Washer,Essentials,Shampoo,Hangers,Hair dryer,Iron,Laptop friendly workspace,translation missing: en.hosting\\_amenity\\_49,translation missing: en.hosting\\_amenity\\_50                                           &  NA &  60 & 100 &       NA\\\\\n",
       "\t5 & 28015 & Universidad & Apartment   & Entire home/apt &  5 & 1 & 1 &  1 & Real Bed      & TV,Wireless Internet,Air conditioning,Kitchen,Smoking allowed,Pets allowed,Elevator in building,Heating,Family/kid friendly,Washer,Essentials,Iron                                                                                                                                                                                                               & 538 &  75 &  90 & 49.98181\\\\\n",
       "\t6 & 28004 & Universidad & Apartment   & Entire home/apt &  2 & 1 & 0 &  1 & Real Bed      & TV,Cable TV,Internet,Wireless Internet,Air conditioning,Wheelchair accessible,Kitchen,Doorman,Elevator in building,Buzzer/wireless intercom,Heating,Washer,Smoke detector,Carbon monoxide detector,First aid kit,Safety card,Fire extinguisher,Essentials,Shampoo,24-hour check-in,Hangers,Hair dryer,Iron,Laptop friendly workspace,Self Check-In,Doorman Entry &  NA &  55 &  95 &       NA\\\\\n",
       "\t8 & 28004 & Universidad & Apartment   & Entire home/apt &  3 & 1 & 1 & NA & Real Bed      & TV,Wireless Internet,Air conditioning,Kitchen,Elevator in building,Buzzer/wireless intercom,Heating,Washer                                                                                                                                                                                                                                                       &  NA &  70 &  84 &       NA\\\\\n",
       "\t9 & 28015 & Universidad & Apartment   & Entire home/apt &  2 & 1 & 1 &  1 & Real Bed      & TV,Internet,Wireless Internet,Kitchen,Elevator in building,Buzzer/wireless intercom,Heating,Family/kid friendly,Washer,Dryer,Essentials,Shampoo,translation missing: en.hosting\\_amenity\\_49                                                                                                                                                                       & 700 &  90 &  98 & 65.03210\\\\\n",
       "\t10 & 28004 & Universidad & Apartment   & Entire home/apt &  4 & 2 & 2 &  2 & Real Bed      & TV,Wireless Internet,Air conditioning,Kitchen,Elevator in building,Hot tub,Heating,Family/kid friendly,Washer,Dryer,Essentials,Hair dryer,Iron                                                                                                                                                                                                                   &  NA & 155 &  NA &       NA\\\\\n",
       "\t11 & 28004 & Universidad & Apartment   & Entire home/apt &  4 & 1 & 1 &  2 & Real Bed      & TV,Wireless Internet,Air conditioning,Wheelchair accessible,Kitchen,Elevator in building,Buzzer/wireless intercom,Heating,Family/kid friendly,Washer,Essentials,Shampoo                                                                                                                                                                                          &  40 &  70 &  90 &  3.71612\\\\\n",
       "\t15 & 28013 & Sol         & Apartment   & Entire home/apt &  4 & 1 & 1 &  1 & Real Bed      & TV,Wireless Internet,Air conditioning,Kitchen,Doorman,Elevator in building,Buzzer/wireless intercom,Heating,Family/kid friendly,Suitable for events,Washer,Essentials,Hangers,Hair dryer,Iron                                                                                                                                                                    & 646 &  75 &  91 & 60.01534\\\\\n",
       "\t16 & 28013 & Sol         & Condominium & Entire home/apt &  6 & 1 & 2 &  3 & Real Bed      & TV,Wireless Internet,Air conditioning,Kitchen,Doorman,Elevator in building,Buzzer/wireless intercom,Heating,Family/kid friendly,Washer,Dryer,Essentials,Shampoo,Hangers,Hair dryer,Iron                                                                                                                                                                          &  NA & 130 & 100 &       NA\\\\\n",
       "\t17 & 28013 & Sol         & Apartment   & Entire home/apt &  4 & 1 & 1 &  2 & Real Bed      & TV,Internet,Wireless Internet,Air conditioning,Kitchen,Doorman,Elevator in building,Buzzer/wireless intercom,Heating,Family/kid friendly,Washer,Smoke detector,Carbon monoxide detector,First aid kit,Safety card,Fire extinguisher,Essentials,Shampoo,24-hour check-in,Hangers,Hair dryer,Iron,Laptop friendly workspace                                        &  NA & 100 &  97 &       NA\\\\\n",
       "\t18 & 28012 & Sol         & Apartment   & Entire home/apt &  6 & 1 & 2 &  2 & Real Bed      & TV,Internet,Wireless Internet,Air conditioning,Kitchen,Smoking allowed,Elevator in building,Buzzer/wireless intercom,Heating,Family/kid friendly,Washer,Dryer,Essentials,Shampoo,Hangers,Hair dryer,Iron,Laptop friendly workspace                                                                                                                               &  NA & 160 &  95 &       NA\\\\\n",
       "\t19 & 28013 & Sol         & Apartment   & Entire home/apt &  4 & 1 & 1 &  2 & Real Bed      & TV,Internet,Wireless Internet,Air conditioning,Kitchen,Heating,Washer,Essentials,Hangers,Hair dryer,translation missing: en.hosting\\_amenity\\_50                                                                                                                                                                                                                   &  NA &  49 &  95 &       NA\\\\\n",
       "\t21 & 28013 & Sol         & Apartment   & Entire home/apt &  4 & 1 & 1 &  2 & Real Bed      & TV,Wireless Internet,Kitchen,Pets allowed,Elevator in building,Heating,Family/kid friendly,Washer,Essentials,Shampoo,Hangers,Hair dryer,Laptop friendly workspace                                                                                                                                                                                                &  NA &  70 &  88 &       NA\\\\\n",
       "\t22 & 28005 & Sol         & Apartment   & Entire home/apt & 10 & 2 & 4 &  7 & Real Bed      & TV,Internet,Wireless Internet,Air conditioning,Kitchen,Heating,Family/kid friendly,Washer,Essentials                                                                                                                                                                                                                                                             &  NA & 210 &  81 &       NA\\\\\n",
       "\t23 & 28013 & Sol         & Apartment   & Entire home/apt &  6 & 1 & 2 &  4 & Real Bed      & TV,Internet,Wireless Internet,Air conditioning,Kitchen,Smoking allowed,Pets allowed,Doorman,Elevator in building,Buzzer/wireless intercom,Heating,Family/kid friendly,Washer,First aid kit,Safety card,Essentials,Shampoo,Hangers,Hair dryer,Iron                                                                                                                &  NA & 120 &  99 &       NA\\\\\n",
       "\t24 & 28012 & Sol         & Apartment   & Entire home/apt &  4 & 1 & 1 &  2 & Real Bed      & TV,Internet,Wireless Internet,Air conditioning,Kitchen,Elevator in building,Heating,Family/kid friendly,Washer,Smoke detector,Carbon monoxide detector,Essentials,Shampoo,24-hour check-in,Hangers,Hair dryer,Iron,Laptop friendly workspace                                                                                                                     &  NA &  50 &  91 &       NA\\\\\n",
       "\t25 & 28012 & Sol         & Apartment   & Entire home/apt &  4 & 1 & 1 &  1 & Real Bed      & TV,Cable TV,Internet,Wireless Internet,Air conditioning,Kitchen,Elevator in building,Buzzer/wireless intercom,Heating,Family/kid friendly,Washer,Essentials,Hair dryer,Iron                                                                                                                                                                                      & 753 & 100 &  87 & 69.95596\\\\\n",
       "\t26 & 28013 & Sol         & Apartment   & Entire home/apt &  4 & 1 & 1 &  2 & Real Bed      & TV,Internet,Wireless Internet,Air conditioning,Kitchen,Breakfast,Elevator in building,Heating,Family/kid friendly,Washer,First aid kit,Fire extinguisher,Essentials,Shampoo,Hangers,Hair dryer,Iron,Laptop friendly workspace                                                                                                                                    &  NA &  75 & 100 &       NA\\\\\n",
       "\t27 & 28014 & Sol         & Condominium & Entire home/apt &  8 & 2 & 2 &  5 & Real Bed      & TV,Internet,Wireless Internet,Air conditioning,Wheelchair accessible,Kitchen,Doorman,Elevator in building,Buzzer/wireless intercom,Heating,Family/kid friendly,Washer,Smoke detector,Carbon monoxide detector,Essentials,Shampoo,24-hour check-in,Hangers,Hair dryer,Iron,Laptop friendly workspace                                                              &  NA & 155 &  93 &       NA\\\\\n",
       "\t28 & 28013 & Sol         & Apartment   & Entire home/apt &  6 & 2 & 2 &  3 & Real Bed      & TV,Internet,Wireless Internet,Air conditioning,Wheelchair accessible,Kitchen,Doorman,Elevator in building,Buzzer/wireless intercom,Heating,Family/kid friendly,Washer,Dryer,Essentials,Hangers,Hair dryer,Iron                                                                                                                                                   &  NA & 155 &  80 &       NA\\\\\n",
       "\t30 & 28005 & Sol         & Apartment   & Entire home/apt &  8 & 1 & 3 &  4 & Real Bed      & TV,Internet,Wireless Internet,Kitchen,Breakfast,Elevator in building,Buzzer/wireless intercom,Heating,Family/kid friendly,Washer,Essentials,Shampoo,Hangers,Hair dryer,Iron,Laptop friendly workspace,Self Check-In,Lockbox                                                                                                                                      &  NA & 163 & 100 &       NA\\\\\n",
       "\t31 & 28005 & Imperial    & Apartment   & Entire home/apt &  3 & 1 & 1 &  1 & Real Bed      & TV,Internet,Wireless Internet,Kitchen,Pets allowed,Elevator in building,Heating,Family/kid friendly,Washer,Fire extinguisher,Essentials,Shampoo,Hangers,Hair dryer,Iron,Laptop friendly workspace,translation missing: en.hosting\\_amenity\\_50                                                                                                                     &  NA &  70 &  95 &       NA\\\\\n",
       "\t32 & 28005 & Imperial    & Apartment   & Entire home/apt &  3 & 1 & 2 &  2 & Real Bed      & TV,Wireless Internet,Kitchen,Heating,Family/kid friendly,Washer,Essentials,Hair dryer,translation missing: en.hosting\\_amenity\\_50                                                                                                                                                                                                                                 &  NA &  49 &  88 &       NA\\\\\n",
       "\t36 & 28005 & Acacias     & House       & Entire home/apt &  4 & 2 & 2 &  4 & Real Bed      & TV,Wireless Internet,Air conditioning,Wheelchair accessible,Kitchen,Doorman,Elevator in building,Buzzer/wireless intercom,Heating,Washer,Essentials,Shampoo,Hangers,Hair dryer,Iron,Laptop friendly workspace                                                                                                                                                    &  NA &  90 &  92 &       NA\\\\\n",
       "\t43 & 28013 & Sol         & Apartment   & Entire home/apt &  4 & 1 & 1 &  1 & Pull-out Sofa & TV,Internet,Wireless Internet,Air conditioning,Kitchen,Elevator in building,Buzzer/wireless intercom,Heating,Family/kid friendly,Washer,Smoke detector,Carbon monoxide detector,First aid kit,Essentials,Shampoo,24-hour check-in,Hangers,Hair dryer,Iron,Laptop friendly workspace,translation missing: en.hosting\\_amenity\\_50                                   &  NA &  64 &  97 &       NA\\\\\n",
       "\t44 & 28013 & Sol         & Apartment   & Entire home/apt &  6 & 2 & 2 &  2 & Real Bed      & TV,Wireless Internet,Air conditioning,Kitchen,Elevator in building,Heating,Washer,Essentials,Shampoo                                                                                                                                                                                                                                                             &  NA & 109 &  90 &       NA\\\\\n",
       "\t45 & 28013 & Sol         & Apartment   & Entire home/apt &  3 & 1 & 1 &  2 & Real Bed      & TV,Internet,Wireless Internet,Air conditioning,Kitchen,Smoking allowed,Elevator in building,Buzzer/wireless intercom,Heating,Family/kid friendly,Washer,Fire extinguisher,Essentials,Shampoo,Hangers,Hair dryer,Iron                                                                                                                                             &  NA &  67 &  95 &       NA\\\\\n",
       "\t46 & 28013 & Sol         & Apartment   & Entire home/apt &  2 & 1 & 1 &  1 & Real Bed      & TV,Internet,Wireless Internet,Air conditioning,Kitchen,Elevator in building,Buzzer/wireless intercom,Heating,Family/kid friendly,Washer,First aid kit,Essentials,Shampoo,Hair dryer,Iron                                                                                                                                                                         & 269 &  65 &  93 & 24.99091\\\\\n",
       "\t⋮ & ⋮ & ⋮ & ⋮ & ⋮ & ⋮ & ⋮ & ⋮ & ⋮ & ⋮ & ⋮ & ⋮ & ⋮ & ⋮ & ⋮\\\\\n",
       "\t13157 & 28010 & Almagro              & Apartment   & Entire home/apt &  2 & 1.0 & 0 &  1 & Pull-out Sofa & TV,Wireless Internet,Kitchen,Buzzer/wireless intercom,Heating,Essentials,Hangers,Iron,translation missing: en.hosting\\_amenity\\_49,translation missing: en.hosting\\_amenity\\_50                                                                                                                                           &  NA &  30 &  83 &       NA\\\\\n",
       "\t13158 & 28010 & Almagro              & Apartment   & Entire home/apt &  2 & 1.0 & 1 &  1 & Real Bed      & TV,Internet,Wireless Internet,Air conditioning,Kitchen,Pets allowed,Doorman,Elevator in building,Buzzer/wireless intercom,Heating,Family/kid friendly,Washer,Essentials,Hangers,Iron,Laptop friendly workspace,translation missing: en.hosting\\_amenity\\_49                                                             &  NA &  45 & 100 &       NA\\\\\n",
       "\t13159 & 28003 & Rios Rosas           & Apartment   & Entire home/apt &  3 & 1.0 & 1 &  1 & Real Bed      & TV,Internet,Wireless Internet,Air conditioning,Kitchen,Elevator in building,Buzzer/wireless intercom,Heating,Family/kid friendly,Washer,Fire extinguisher,Essentials,24-hour check-in,Hangers,Hair dryer,Iron,Laptop friendly workspace                                                                               &  NA &  39 &  94 &       NA\\\\\n",
       "\t13167 & 28008 & Argüelles            & House       & Entire home/apt &  3 & 1.0 & 1 &  2 & Real Bed      & TV,Internet,Wireless Internet,Air conditioning,Kitchen,Elevator in building,Heating,Washer,Smoke detector,Fire extinguisher,Essentials,Hangers,Hair dryer,Iron,Laptop friendly workspace                                                                                                                              &  NA & 105 &  NA &       NA\\\\\n",
       "\t13168 & 28008 & Argüelles            & House       & Entire home/apt &  5 & 1.0 & 3 &  4 & Real Bed      & TV,Internet,Wireless Internet,Wheelchair accessible,Kitchen,Smoking allowed,Doorman,Elevator in building,Buzzer/wireless intercom,Heating,Family/kid friendly,Washer,Fire extinguisher,Essentials,Shampoo,24-hour check-in,Hangers,Hair dryer,Iron,Laptop friendly workspace                                          &  NA & 139 &  92 &       NA\\\\\n",
       "\t13169 & 28008 & Argüelles            & Apartment   & Entire home/apt &  4 & 1.0 & 1 &  1 & Real Bed      & TV,Wireless Internet,Kitchen,Elevator in building,Heating,Family/kid friendly,Washer,Dryer,Essentials,Shampoo,24-hour check-in,Hangers,Hair dryer,Iron,Laptop friendly workspace                                                                                                                                      &  NA &  61 &  92 &       NA\\\\\n",
       "\t13175 & 28003 & Ciudad Universitaria & Loft        & Entire home/apt &  3 & 1.0 & 1 &  2 & Real Bed      & TV,Wireless Internet,Kitchen,Breakfast,Elevator in building,Buzzer/wireless intercom,Heating,Family/kid friendly,Washer,Essentials,Shampoo,Hangers,Iron,Laptop friendly workspace                                                                                                                                     &  NA &  55 & 100 &       NA\\\\\n",
       "\t13176 & 28038 & Numancia             & Apartment   & Entire home/apt &  6 & 1.0 & 3 &  4 & Real Bed      & TV,Internet,Wireless Internet,Air conditioning,Kitchen,Buzzer/wireless intercom,Heating,Family/kid friendly,Washer,First aid kit,Essentials,Shampoo,Hangers,Hair dryer,Iron,Laptop friendly workspace                                                                                                                 &  NA &  65 &  94 &       NA\\\\\n",
       "\t13179 & 28023 & Aravaca              & Condominium & Entire home/apt &  3 & 1.0 & 1 &  3 & Real Bed      & TV,Internet,Wireless Internet,Pool,Kitchen,Free parking on premises,Doorman,Heating,Family/kid friendly,Washer,Essentials,24-hour check-in,Hangers,Iron,Laptop friendly workspace,Private entrance                                                                                                                    &  NA &  50 & 100 &       NA\\\\\n",
       "\t13183 & 28004 & Universidad          & Other       & Entire home/apt &  3 & 1.0 & 1 &  1 & Real Bed      & TV,Internet,Wireless Internet,Air conditioning,Kitchen,Smoking allowed,Pets allowed,Elevator in building,Buzzer/wireless intercom,Heating,Family/kid friendly,Washer,Dryer,Fire extinguisher,Essentials,24-hour check-in,Hangers,Hair dryer,Iron                                                                      &  NA &  43 &  83 &       NA\\\\\n",
       "\t13184 & 28004 & Universidad          & Apartment   & Entire home/apt &  3 & 1.0 & 1 &  1 & Real Bed      & TV,Internet,Wireless Internet,Kitchen,Buzzer/wireless intercom,Heating,Washer,Dryer,Essentials,Shampoo,24-hour check-in,Hangers,Hair dryer,Iron,Laptop friendly workspace,translation missing: en.hosting\\_amenity\\_49,translation missing: en.hosting\\_amenity\\_50                                                       &  NA &  80 &  96 &       NA\\\\\n",
       "\t13185 & 28004 & Universidad          & Apartment   & Entire home/apt &  2 & 1.0 & 1 &  1 & Real Bed      & TV,Internet,Wireless Internet,Air conditioning,Kitchen,Elevator in building,Heating,Washer,Dryer,First aid kit,Essentials,Hangers,Hair dryer,Iron,translation missing: en.hosting\\_amenity\\_49,translation missing: en.hosting\\_amenity\\_50                                                                               &  NA &  80 &  99 &       NA\\\\\n",
       "\t13186 & 28015 & Universidad          & Apartment   & Entire home/apt &  4 & 1.0 & 1 &  2 & Real Bed      & TV,Internet,Wireless Internet,Air conditioning,Kitchen,Elevator in building,Heating,Family/kid friendly,Washer,Smoke detector,Fire extinguisher,Essentials,Shampoo,Lock on bedroom door,Hangers,Hair dryer,Iron                                                                                                       &  NA & 100 & 100 &       NA\\\\\n",
       "\t13187 & 28015 & Universidad          & Apartment   & Entire home/apt &  2 & 1.0 & 1 &  2 & Real Bed      & TV,Wireless Internet,Air conditioning,Kitchen,Elevator in building,Buzzer/wireless intercom,Heating,Family/kid friendly,Washer                                                                                                                                                                                        & 291 &  50 &  87 & 27.03477\\\\\n",
       "\t13188 & 28015 & Universidad          & Apartment   & Entire home/apt &  5 & 1.0 & 2 &  3 & Real Bed      & TV,Internet,Wireless Internet,Kitchen,Smoking allowed,Elevator in building,Buzzer/wireless intercom,Heating,Family/kid friendly,Washer,First aid kit,Essentials,Shampoo,24-hour check-in,Hangers,Hair dryer,Iron,Laptop friendly workspace                                                                            &  NA &  85 &  90 &       NA\\\\\n",
       "\t13190 & 28015 & Universidad          & Apartment   & Entire home/apt &  4 & 1.0 & 1 &  2 & Real Bed      & TV,Wireless Internet,Air conditioning,Kitchen,Smoking allowed,Heating,Family/kid friendly,Washer,Dryer,Smoke detector,First aid kit,Essentials,Shampoo,Hangers,Hair dryer,Iron                                                                                                                                        &  NA &  60 & 100 &       NA\\\\\n",
       "\t13191 & 28013 & Universidad          & Apartment   & Entire home/apt &  2 & 1.0 & 1 &  1 & Real Bed      & TV,Wireless Internet,Air conditioning,Kitchen,Elevator in building,Heating,Washer,Dryer,Essentials,Shampoo,Hangers,Hair dryer,Iron,Laptop friendly workspace,translation missing: en.hosting\\_amenity\\_49,translation missing: en.hosting\\_amenity\\_50                                                                    &  NA & 145 &  NA &       NA\\\\\n",
       "\t13192 & 28004 & Universidad          & Apartment   & Entire home/apt &  4 & 1.0 & 1 &  2 & Real Bed      & TV,Internet,Wireless Internet,Air conditioning,Kitchen,Pets allowed,Indoor fireplace,Buzzer/wireless intercom,Heating,Family/kid friendly,Washer,Smoke detector,Carbon monoxide detector,Essentials,Shampoo,24-hour check-in,Hangers,Hair dryer,Iron,Laptop friendly workspace                                        &  NA &  62 &  91 &       NA\\\\\n",
       "\t13193 & 28004 & Universidad          & Apartment   & Entire home/apt & 14 & 5.5 & 5 & 10 & Real Bed      & TV,Internet,Wireless Internet,Air conditioning,Kitchen,Smoking allowed,Elevator in building,Indoor fireplace,Family/kid friendly,Washer,Dryer,First aid kit,Fire extinguisher,Essentials                                                                                                                              &  NA & 300 &  94 &       NA\\\\\n",
       "\t13195 & 28004 & Universidad          & Apartment   & Entire home/apt &  3 & 1.0 & 1 &  2 & Real Bed      & TV,Wireless Internet,Kitchen,Buzzer/wireless intercom,Heating,Family/kid friendly,Washer,Smoke detector,Essentials,Shampoo,24-hour check-in,Hangers,Laptop friendly workspace,translation missing: en.hosting\\_amenity\\_50                                                                                              &  NA &  62 &  81 &       NA\\\\\n",
       "\t13198 & 28004 & Universidad          & Apartment   & Entire home/apt &  4 & 1.0 & 2 &  4 & Pull-out Sofa & TV,Internet,Wireless Internet,Air conditioning,Kitchen,Smoking allowed,Pets allowed,Elevator in building,Heating,Family/kid friendly,Washer,Dryer,Essentials,Shampoo,Hangers,Hair dryer,Iron                                                                                                                          &  NA &  90 &  90 &       NA\\\\\n",
       "\t13199 & 28004 & Universidad          & Apartment   & Entire home/apt &  4 & 1.0 & 2 &  2 & Real Bed      & TV,Internet,Wireless Internet,Air conditioning,Kitchen,Smoking allowed,Pets allowed,Buzzer/wireless intercom,Heating,Family/kid friendly,Washer,Dryer,Essentials,Hangers,Hair dryer,Iron                                                                                                                              &  NA &  70 &  87 &       NA\\\\\n",
       "\t13200 & 28004 & Universidad          & Apartment   & Entire home/apt &  2 & 1.0 & 1 &  1 & Real Bed      & TV,Internet,Wireless Internet,Air conditioning,Kitchen,Smoking allowed,Pets allowed,Elevator in building,Heating,Family/kid friendly,Washer,First aid kit,Fire extinguisher,Essentials,Lock on bedroom door,Hangers,Hair dryer,Iron                                                                                   &  NA &  40 &  82 &       NA\\\\\n",
       "\t13201 & 28004 & Universidad          & Loft        & Entire home/apt &  2 & 1.0 & 1 &  2 & Real Bed      & Internet,Wireless Internet,Smoking allowed,Breakfast,Elevator in building,Heating,Shampoo,Hangers,Hair dryer,Iron,Laptop friendly workspace,translation missing: en.hosting\\_amenity\\_49,translation missing: en.hosting\\_amenity\\_50                                                                                     &  NA &  30 &  NA &       NA\\\\\n",
       "\t13202 & 28004 & Universidad          & Apartment   & Entire home/apt &  4 & 1.0 & 1 &  2 & Real Bed      & TV,Wireless Internet,Air conditioning,Kitchen,Smoking allowed,Pets allowed,Heating,Family/kid friendly,Washer,Fire extinguisher,Essentials,Lock on bedroom door,Hangers,Hair dryer,Iron                                                                                                                               &  NA &  48 &  83 &       NA\\\\\n",
       "\t13203 & 28015 & Universidad          & Apartment   & Entire home/apt &  2 & 1.0 & 1 &  1 & Real Bed      & TV,Internet,Wireless Internet,Air conditioning,Kitchen,Elevator in building,Buzzer/wireless intercom,Heating,Washer,Dryer,Smoke detector,Fire extinguisher,Essentials,Shampoo,Hangers,Hair dryer,Iron,Laptop friendly workspace,translation missing: en.hosting\\_amenity\\_49,translation missing: en.hosting\\_amenity\\_50 &  NA &  35 &  90 &       NA\\\\\n",
       "\t13204 & 28004 & Universidad          & Apartment   & Entire home/apt &  3 & 1.0 & 1 &  2 & Real Bed      & TV,Wireless Internet,Air conditioning,Kitchen,Elevator in building,Buzzer/wireless intercom,Heating,Family/kid friendly,Washer,Dryer,Smoke detector,Carbon monoxide detector,Fire extinguisher,Essentials,Shampoo,24-hour check-in,Hangers,Hair dryer,Iron,Laptop friendly workspace                                  &  NA &  79 &  97 &       NA\\\\\n",
       "\t13205 & 28013 & Universidad          & Apartment   & Entire home/apt &  4 & 1.0 & 1 &  1 & Real Bed      & TV,Wireless Internet,Air conditioning,Pool,Kitchen,Doorman,Gym,Elevator in building,Buzzer/wireless intercom,Heating,Washer,First aid kit,Safety card,Essentials,Shampoo,Hangers,Hair dryer,Iron,Laptop friendly workspace                                                                                            &  NA & 150 & 100 &       NA\\\\\n",
       "\t13206 & 28004 & Universidad          & Loft        & Entire home/apt &  2 & 1.0 & 0 &  1 & Real Bed      & TV,Internet,Wireless Internet,Kitchen,Smoking allowed,Pets allowed,Elevator in building,Heating,Family/kid friendly,Washer,First aid kit,Essentials,Shampoo                                                                                                                                                           &  NA &  80 &  91 &       NA\\\\\n",
       "\t13207 & 28004 & Universidad          & Apartment   & Entire home/apt &  3 & 1.0 & 0 &  2 & Real Bed      & TV,Internet,Wireless Internet,Air conditioning,Kitchen,Heating,Family/kid friendly,Washer                                                                                                                                                                                                                             &  NA &  69 &  80 &       NA\\\\\n",
       "\\end{tabular}\n"
      ],
      "text/markdown": [
       "\n",
       "A data.frame: 7903 × 14\n",
       "\n",
       "| <!--/--> | CodigoPostal &lt;fct&gt; | Barrio &lt;fct&gt; | TipoPropiedad &lt;fct&gt; | TipoAlquiler &lt;fct&gt; | MaxOcupantes &lt;int&gt; | NumBanyos &lt;dbl&gt; | NumDormitorios &lt;int&gt; | NumCamas &lt;int&gt; | TipoCama &lt;fct&gt; | Comodidades &lt;fct&gt; | PiesCuadrados &lt;int&gt; | Precio &lt;int&gt; | Puntuacion &lt;int&gt; | MetrosCuadrados &lt;dbl&gt; |\n",
       "|---|---|---|---|---|---|---|---|---|---|---|---|---|---|---|\n",
       "| 2 | 28004 | Universidad | Apartment   | Entire home/apt |  6 | 1 | 3 |  5 | Real Bed      | TV,Internet,Wireless Internet,Air conditioning,Kitchen,Indoor fireplace,Heating,Family/kid friendly,Washer,Dryer,Smoke detector,Carbon monoxide detector,Essentials,Shampoo                                                                                                                                                                                      |  NA |  92 |  96 |       NA |\n",
       "| 3 | 28004 | Universidad | Apartment   | Entire home/apt |  3 | 1 | 2 |  2 | Real Bed      | TV,Internet,Wireless Internet,Air conditioning,Kitchen,Doorman,Heating,Family/kid friendly,Washer,Essentials,Shampoo,Hangers,Hair dryer,Iron,Laptop friendly workspace                                                                                                                                                                                           |  NA |  55 |  91 |       NA |\n",
       "| 4 | 28004 | Universidad | Loft        | Entire home/apt |  3 | 2 | 1 |  1 | Real Bed      | TV,Internet,Wireless Internet,Air conditioning,Kitchen,Pets allowed,Breakfast,Elevator in building,Indoor fireplace,Buzzer/wireless intercom,Heating,Washer,Essentials,Shampoo,Hangers,Hair dryer,Iron,Laptop friendly workspace,translation missing: en.hosting_amenity_49,translation missing: en.hosting_amenity_50                                           |  NA |  60 | 100 |       NA |\n",
       "| 5 | 28015 | Universidad | Apartment   | Entire home/apt |  5 | 1 | 1 |  1 | Real Bed      | TV,Wireless Internet,Air conditioning,Kitchen,Smoking allowed,Pets allowed,Elevator in building,Heating,Family/kid friendly,Washer,Essentials,Iron                                                                                                                                                                                                               | 538 |  75 |  90 | 49.98181 |\n",
       "| 6 | 28004 | Universidad | Apartment   | Entire home/apt |  2 | 1 | 0 |  1 | Real Bed      | TV,Cable TV,Internet,Wireless Internet,Air conditioning,Wheelchair accessible,Kitchen,Doorman,Elevator in building,Buzzer/wireless intercom,Heating,Washer,Smoke detector,Carbon monoxide detector,First aid kit,Safety card,Fire extinguisher,Essentials,Shampoo,24-hour check-in,Hangers,Hair dryer,Iron,Laptop friendly workspace,Self Check-In,Doorman Entry |  NA |  55 |  95 |       NA |\n",
       "| 8 | 28004 | Universidad | Apartment   | Entire home/apt |  3 | 1 | 1 | NA | Real Bed      | TV,Wireless Internet,Air conditioning,Kitchen,Elevator in building,Buzzer/wireless intercom,Heating,Washer                                                                                                                                                                                                                                                       |  NA |  70 |  84 |       NA |\n",
       "| 9 | 28015 | Universidad | Apartment   | Entire home/apt |  2 | 1 | 1 |  1 | Real Bed      | TV,Internet,Wireless Internet,Kitchen,Elevator in building,Buzzer/wireless intercom,Heating,Family/kid friendly,Washer,Dryer,Essentials,Shampoo,translation missing: en.hosting_amenity_49                                                                                                                                                                       | 700 |  90 |  98 | 65.03210 |\n",
       "| 10 | 28004 | Universidad | Apartment   | Entire home/apt |  4 | 2 | 2 |  2 | Real Bed      | TV,Wireless Internet,Air conditioning,Kitchen,Elevator in building,Hot tub,Heating,Family/kid friendly,Washer,Dryer,Essentials,Hair dryer,Iron                                                                                                                                                                                                                   |  NA | 155 |  NA |       NA |\n",
       "| 11 | 28004 | Universidad | Apartment   | Entire home/apt |  4 | 1 | 1 |  2 | Real Bed      | TV,Wireless Internet,Air conditioning,Wheelchair accessible,Kitchen,Elevator in building,Buzzer/wireless intercom,Heating,Family/kid friendly,Washer,Essentials,Shampoo                                                                                                                                                                                          |  40 |  70 |  90 |  3.71612 |\n",
       "| 15 | 28013 | Sol         | Apartment   | Entire home/apt |  4 | 1 | 1 |  1 | Real Bed      | TV,Wireless Internet,Air conditioning,Kitchen,Doorman,Elevator in building,Buzzer/wireless intercom,Heating,Family/kid friendly,Suitable for events,Washer,Essentials,Hangers,Hair dryer,Iron                                                                                                                                                                    | 646 |  75 |  91 | 60.01534 |\n",
       "| 16 | 28013 | Sol         | Condominium | Entire home/apt |  6 | 1 | 2 |  3 | Real Bed      | TV,Wireless Internet,Air conditioning,Kitchen,Doorman,Elevator in building,Buzzer/wireless intercom,Heating,Family/kid friendly,Washer,Dryer,Essentials,Shampoo,Hangers,Hair dryer,Iron                                                                                                                                                                          |  NA | 130 | 100 |       NA |\n",
       "| 17 | 28013 | Sol         | Apartment   | Entire home/apt |  4 | 1 | 1 |  2 | Real Bed      | TV,Internet,Wireless Internet,Air conditioning,Kitchen,Doorman,Elevator in building,Buzzer/wireless intercom,Heating,Family/kid friendly,Washer,Smoke detector,Carbon monoxide detector,First aid kit,Safety card,Fire extinguisher,Essentials,Shampoo,24-hour check-in,Hangers,Hair dryer,Iron,Laptop friendly workspace                                        |  NA | 100 |  97 |       NA |\n",
       "| 18 | 28012 | Sol         | Apartment   | Entire home/apt |  6 | 1 | 2 |  2 | Real Bed      | TV,Internet,Wireless Internet,Air conditioning,Kitchen,Smoking allowed,Elevator in building,Buzzer/wireless intercom,Heating,Family/kid friendly,Washer,Dryer,Essentials,Shampoo,Hangers,Hair dryer,Iron,Laptop friendly workspace                                                                                                                               |  NA | 160 |  95 |       NA |\n",
       "| 19 | 28013 | Sol         | Apartment   | Entire home/apt |  4 | 1 | 1 |  2 | Real Bed      | TV,Internet,Wireless Internet,Air conditioning,Kitchen,Heating,Washer,Essentials,Hangers,Hair dryer,translation missing: en.hosting_amenity_50                                                                                                                                                                                                                   |  NA |  49 |  95 |       NA |\n",
       "| 21 | 28013 | Sol         | Apartment   | Entire home/apt |  4 | 1 | 1 |  2 | Real Bed      | TV,Wireless Internet,Kitchen,Pets allowed,Elevator in building,Heating,Family/kid friendly,Washer,Essentials,Shampoo,Hangers,Hair dryer,Laptop friendly workspace                                                                                                                                                                                                |  NA |  70 |  88 |       NA |\n",
       "| 22 | 28005 | Sol         | Apartment   | Entire home/apt | 10 | 2 | 4 |  7 | Real Bed      | TV,Internet,Wireless Internet,Air conditioning,Kitchen,Heating,Family/kid friendly,Washer,Essentials                                                                                                                                                                                                                                                             |  NA | 210 |  81 |       NA |\n",
       "| 23 | 28013 | Sol         | Apartment   | Entire home/apt |  6 | 1 | 2 |  4 | Real Bed      | TV,Internet,Wireless Internet,Air conditioning,Kitchen,Smoking allowed,Pets allowed,Doorman,Elevator in building,Buzzer/wireless intercom,Heating,Family/kid friendly,Washer,First aid kit,Safety card,Essentials,Shampoo,Hangers,Hair dryer,Iron                                                                                                                |  NA | 120 |  99 |       NA |\n",
       "| 24 | 28012 | Sol         | Apartment   | Entire home/apt |  4 | 1 | 1 |  2 | Real Bed      | TV,Internet,Wireless Internet,Air conditioning,Kitchen,Elevator in building,Heating,Family/kid friendly,Washer,Smoke detector,Carbon monoxide detector,Essentials,Shampoo,24-hour check-in,Hangers,Hair dryer,Iron,Laptop friendly workspace                                                                                                                     |  NA |  50 |  91 |       NA |\n",
       "| 25 | 28012 | Sol         | Apartment   | Entire home/apt |  4 | 1 | 1 |  1 | Real Bed      | TV,Cable TV,Internet,Wireless Internet,Air conditioning,Kitchen,Elevator in building,Buzzer/wireless intercom,Heating,Family/kid friendly,Washer,Essentials,Hair dryer,Iron                                                                                                                                                                                      | 753 | 100 |  87 | 69.95596 |\n",
       "| 26 | 28013 | Sol         | Apartment   | Entire home/apt |  4 | 1 | 1 |  2 | Real Bed      | TV,Internet,Wireless Internet,Air conditioning,Kitchen,Breakfast,Elevator in building,Heating,Family/kid friendly,Washer,First aid kit,Fire extinguisher,Essentials,Shampoo,Hangers,Hair dryer,Iron,Laptop friendly workspace                                                                                                                                    |  NA |  75 | 100 |       NA |\n",
       "| 27 | 28014 | Sol         | Condominium | Entire home/apt |  8 | 2 | 2 |  5 | Real Bed      | TV,Internet,Wireless Internet,Air conditioning,Wheelchair accessible,Kitchen,Doorman,Elevator in building,Buzzer/wireless intercom,Heating,Family/kid friendly,Washer,Smoke detector,Carbon monoxide detector,Essentials,Shampoo,24-hour check-in,Hangers,Hair dryer,Iron,Laptop friendly workspace                                                              |  NA | 155 |  93 |       NA |\n",
       "| 28 | 28013 | Sol         | Apartment   | Entire home/apt |  6 | 2 | 2 |  3 | Real Bed      | TV,Internet,Wireless Internet,Air conditioning,Wheelchair accessible,Kitchen,Doorman,Elevator in building,Buzzer/wireless intercom,Heating,Family/kid friendly,Washer,Dryer,Essentials,Hangers,Hair dryer,Iron                                                                                                                                                   |  NA | 155 |  80 |       NA |\n",
       "| 30 | 28005 | Sol         | Apartment   | Entire home/apt |  8 | 1 | 3 |  4 | Real Bed      | TV,Internet,Wireless Internet,Kitchen,Breakfast,Elevator in building,Buzzer/wireless intercom,Heating,Family/kid friendly,Washer,Essentials,Shampoo,Hangers,Hair dryer,Iron,Laptop friendly workspace,Self Check-In,Lockbox                                                                                                                                      |  NA | 163 | 100 |       NA |\n",
       "| 31 | 28005 | Imperial    | Apartment   | Entire home/apt |  3 | 1 | 1 |  1 | Real Bed      | TV,Internet,Wireless Internet,Kitchen,Pets allowed,Elevator in building,Heating,Family/kid friendly,Washer,Fire extinguisher,Essentials,Shampoo,Hangers,Hair dryer,Iron,Laptop friendly workspace,translation missing: en.hosting_amenity_50                                                                                                                     |  NA |  70 |  95 |       NA |\n",
       "| 32 | 28005 | Imperial    | Apartment   | Entire home/apt |  3 | 1 | 2 |  2 | Real Bed      | TV,Wireless Internet,Kitchen,Heating,Family/kid friendly,Washer,Essentials,Hair dryer,translation missing: en.hosting_amenity_50                                                                                                                                                                                                                                 |  NA |  49 |  88 |       NA |\n",
       "| 36 | 28005 | Acacias     | House       | Entire home/apt |  4 | 2 | 2 |  4 | Real Bed      | TV,Wireless Internet,Air conditioning,Wheelchair accessible,Kitchen,Doorman,Elevator in building,Buzzer/wireless intercom,Heating,Washer,Essentials,Shampoo,Hangers,Hair dryer,Iron,Laptop friendly workspace                                                                                                                                                    |  NA |  90 |  92 |       NA |\n",
       "| 43 | 28013 | Sol         | Apartment   | Entire home/apt |  4 | 1 | 1 |  1 | Pull-out Sofa | TV,Internet,Wireless Internet,Air conditioning,Kitchen,Elevator in building,Buzzer/wireless intercom,Heating,Family/kid friendly,Washer,Smoke detector,Carbon monoxide detector,First aid kit,Essentials,Shampoo,24-hour check-in,Hangers,Hair dryer,Iron,Laptop friendly workspace,translation missing: en.hosting_amenity_50                                   |  NA |  64 |  97 |       NA |\n",
       "| 44 | 28013 | Sol         | Apartment   | Entire home/apt |  6 | 2 | 2 |  2 | Real Bed      | TV,Wireless Internet,Air conditioning,Kitchen,Elevator in building,Heating,Washer,Essentials,Shampoo                                                                                                                                                                                                                                                             |  NA | 109 |  90 |       NA |\n",
       "| 45 | 28013 | Sol         | Apartment   | Entire home/apt |  3 | 1 | 1 |  2 | Real Bed      | TV,Internet,Wireless Internet,Air conditioning,Kitchen,Smoking allowed,Elevator in building,Buzzer/wireless intercom,Heating,Family/kid friendly,Washer,Fire extinguisher,Essentials,Shampoo,Hangers,Hair dryer,Iron                                                                                                                                             |  NA |  67 |  95 |       NA |\n",
       "| 46 | 28013 | Sol         | Apartment   | Entire home/apt |  2 | 1 | 1 |  1 | Real Bed      | TV,Internet,Wireless Internet,Air conditioning,Kitchen,Elevator in building,Buzzer/wireless intercom,Heating,Family/kid friendly,Washer,First aid kit,Essentials,Shampoo,Hair dryer,Iron                                                                                                                                                                         | 269 |  65 |  93 | 24.99091 |\n",
       "| ⋮ | ⋮ | ⋮ | ⋮ | ⋮ | ⋮ | ⋮ | ⋮ | ⋮ | ⋮ | ⋮ | ⋮ | ⋮ | ⋮ | ⋮ |\n",
       "| 13157 | 28010 | Almagro              | Apartment   | Entire home/apt |  2 | 1.0 | 0 |  1 | Pull-out Sofa | TV,Wireless Internet,Kitchen,Buzzer/wireless intercom,Heating,Essentials,Hangers,Iron,translation missing: en.hosting_amenity_49,translation missing: en.hosting_amenity_50                                                                                                                                           |  NA |  30 |  83 |       NA |\n",
       "| 13158 | 28010 | Almagro              | Apartment   | Entire home/apt |  2 | 1.0 | 1 |  1 | Real Bed      | TV,Internet,Wireless Internet,Air conditioning,Kitchen,Pets allowed,Doorman,Elevator in building,Buzzer/wireless intercom,Heating,Family/kid friendly,Washer,Essentials,Hangers,Iron,Laptop friendly workspace,translation missing: en.hosting_amenity_49                                                             |  NA |  45 | 100 |       NA |\n",
       "| 13159 | 28003 | Rios Rosas           | Apartment   | Entire home/apt |  3 | 1.0 | 1 |  1 | Real Bed      | TV,Internet,Wireless Internet,Air conditioning,Kitchen,Elevator in building,Buzzer/wireless intercom,Heating,Family/kid friendly,Washer,Fire extinguisher,Essentials,24-hour check-in,Hangers,Hair dryer,Iron,Laptop friendly workspace                                                                               |  NA |  39 |  94 |       NA |\n",
       "| 13167 | 28008 | Argüelles            | House       | Entire home/apt |  3 | 1.0 | 1 |  2 | Real Bed      | TV,Internet,Wireless Internet,Air conditioning,Kitchen,Elevator in building,Heating,Washer,Smoke detector,Fire extinguisher,Essentials,Hangers,Hair dryer,Iron,Laptop friendly workspace                                                                                                                              |  NA | 105 |  NA |       NA |\n",
       "| 13168 | 28008 | Argüelles            | House       | Entire home/apt |  5 | 1.0 | 3 |  4 | Real Bed      | TV,Internet,Wireless Internet,Wheelchair accessible,Kitchen,Smoking allowed,Doorman,Elevator in building,Buzzer/wireless intercom,Heating,Family/kid friendly,Washer,Fire extinguisher,Essentials,Shampoo,24-hour check-in,Hangers,Hair dryer,Iron,Laptop friendly workspace                                          |  NA | 139 |  92 |       NA |\n",
       "| 13169 | 28008 | Argüelles            | Apartment   | Entire home/apt |  4 | 1.0 | 1 |  1 | Real Bed      | TV,Wireless Internet,Kitchen,Elevator in building,Heating,Family/kid friendly,Washer,Dryer,Essentials,Shampoo,24-hour check-in,Hangers,Hair dryer,Iron,Laptop friendly workspace                                                                                                                                      |  NA |  61 |  92 |       NA |\n",
       "| 13175 | 28003 | Ciudad Universitaria | Loft        | Entire home/apt |  3 | 1.0 | 1 |  2 | Real Bed      | TV,Wireless Internet,Kitchen,Breakfast,Elevator in building,Buzzer/wireless intercom,Heating,Family/kid friendly,Washer,Essentials,Shampoo,Hangers,Iron,Laptop friendly workspace                                                                                                                                     |  NA |  55 | 100 |       NA |\n",
       "| 13176 | 28038 | Numancia             | Apartment   | Entire home/apt |  6 | 1.0 | 3 |  4 | Real Bed      | TV,Internet,Wireless Internet,Air conditioning,Kitchen,Buzzer/wireless intercom,Heating,Family/kid friendly,Washer,First aid kit,Essentials,Shampoo,Hangers,Hair dryer,Iron,Laptop friendly workspace                                                                                                                 |  NA |  65 |  94 |       NA |\n",
       "| 13179 | 28023 | Aravaca              | Condominium | Entire home/apt |  3 | 1.0 | 1 |  3 | Real Bed      | TV,Internet,Wireless Internet,Pool,Kitchen,Free parking on premises,Doorman,Heating,Family/kid friendly,Washer,Essentials,24-hour check-in,Hangers,Iron,Laptop friendly workspace,Private entrance                                                                                                                    |  NA |  50 | 100 |       NA |\n",
       "| 13183 | 28004 | Universidad          | Other       | Entire home/apt |  3 | 1.0 | 1 |  1 | Real Bed      | TV,Internet,Wireless Internet,Air conditioning,Kitchen,Smoking allowed,Pets allowed,Elevator in building,Buzzer/wireless intercom,Heating,Family/kid friendly,Washer,Dryer,Fire extinguisher,Essentials,24-hour check-in,Hangers,Hair dryer,Iron                                                                      |  NA |  43 |  83 |       NA |\n",
       "| 13184 | 28004 | Universidad          | Apartment   | Entire home/apt |  3 | 1.0 | 1 |  1 | Real Bed      | TV,Internet,Wireless Internet,Kitchen,Buzzer/wireless intercom,Heating,Washer,Dryer,Essentials,Shampoo,24-hour check-in,Hangers,Hair dryer,Iron,Laptop friendly workspace,translation missing: en.hosting_amenity_49,translation missing: en.hosting_amenity_50                                                       |  NA |  80 |  96 |       NA |\n",
       "| 13185 | 28004 | Universidad          | Apartment   | Entire home/apt |  2 | 1.0 | 1 |  1 | Real Bed      | TV,Internet,Wireless Internet,Air conditioning,Kitchen,Elevator in building,Heating,Washer,Dryer,First aid kit,Essentials,Hangers,Hair dryer,Iron,translation missing: en.hosting_amenity_49,translation missing: en.hosting_amenity_50                                                                               |  NA |  80 |  99 |       NA |\n",
       "| 13186 | 28015 | Universidad          | Apartment   | Entire home/apt |  4 | 1.0 | 1 |  2 | Real Bed      | TV,Internet,Wireless Internet,Air conditioning,Kitchen,Elevator in building,Heating,Family/kid friendly,Washer,Smoke detector,Fire extinguisher,Essentials,Shampoo,Lock on bedroom door,Hangers,Hair dryer,Iron                                                                                                       |  NA | 100 | 100 |       NA |\n",
       "| 13187 | 28015 | Universidad          | Apartment   | Entire home/apt |  2 | 1.0 | 1 |  2 | Real Bed      | TV,Wireless Internet,Air conditioning,Kitchen,Elevator in building,Buzzer/wireless intercom,Heating,Family/kid friendly,Washer                                                                                                                                                                                        | 291 |  50 |  87 | 27.03477 |\n",
       "| 13188 | 28015 | Universidad          | Apartment   | Entire home/apt |  5 | 1.0 | 2 |  3 | Real Bed      | TV,Internet,Wireless Internet,Kitchen,Smoking allowed,Elevator in building,Buzzer/wireless intercom,Heating,Family/kid friendly,Washer,First aid kit,Essentials,Shampoo,24-hour check-in,Hangers,Hair dryer,Iron,Laptop friendly workspace                                                                            |  NA |  85 |  90 |       NA |\n",
       "| 13190 | 28015 | Universidad          | Apartment   | Entire home/apt |  4 | 1.0 | 1 |  2 | Real Bed      | TV,Wireless Internet,Air conditioning,Kitchen,Smoking allowed,Heating,Family/kid friendly,Washer,Dryer,Smoke detector,First aid kit,Essentials,Shampoo,Hangers,Hair dryer,Iron                                                                                                                                        |  NA |  60 | 100 |       NA |\n",
       "| 13191 | 28013 | Universidad          | Apartment   | Entire home/apt |  2 | 1.0 | 1 |  1 | Real Bed      | TV,Wireless Internet,Air conditioning,Kitchen,Elevator in building,Heating,Washer,Dryer,Essentials,Shampoo,Hangers,Hair dryer,Iron,Laptop friendly workspace,translation missing: en.hosting_amenity_49,translation missing: en.hosting_amenity_50                                                                    |  NA | 145 |  NA |       NA |\n",
       "| 13192 | 28004 | Universidad          | Apartment   | Entire home/apt |  4 | 1.0 | 1 |  2 | Real Bed      | TV,Internet,Wireless Internet,Air conditioning,Kitchen,Pets allowed,Indoor fireplace,Buzzer/wireless intercom,Heating,Family/kid friendly,Washer,Smoke detector,Carbon monoxide detector,Essentials,Shampoo,24-hour check-in,Hangers,Hair dryer,Iron,Laptop friendly workspace                                        |  NA |  62 |  91 |       NA |\n",
       "| 13193 | 28004 | Universidad          | Apartment   | Entire home/apt | 14 | 5.5 | 5 | 10 | Real Bed      | TV,Internet,Wireless Internet,Air conditioning,Kitchen,Smoking allowed,Elevator in building,Indoor fireplace,Family/kid friendly,Washer,Dryer,First aid kit,Fire extinguisher,Essentials                                                                                                                              |  NA | 300 |  94 |       NA |\n",
       "| 13195 | 28004 | Universidad          | Apartment   | Entire home/apt |  3 | 1.0 | 1 |  2 | Real Bed      | TV,Wireless Internet,Kitchen,Buzzer/wireless intercom,Heating,Family/kid friendly,Washer,Smoke detector,Essentials,Shampoo,24-hour check-in,Hangers,Laptop friendly workspace,translation missing: en.hosting_amenity_50                                                                                              |  NA |  62 |  81 |       NA |\n",
       "| 13198 | 28004 | Universidad          | Apartment   | Entire home/apt |  4 | 1.0 | 2 |  4 | Pull-out Sofa | TV,Internet,Wireless Internet,Air conditioning,Kitchen,Smoking allowed,Pets allowed,Elevator in building,Heating,Family/kid friendly,Washer,Dryer,Essentials,Shampoo,Hangers,Hair dryer,Iron                                                                                                                          |  NA |  90 |  90 |       NA |\n",
       "| 13199 | 28004 | Universidad          | Apartment   | Entire home/apt |  4 | 1.0 | 2 |  2 | Real Bed      | TV,Internet,Wireless Internet,Air conditioning,Kitchen,Smoking allowed,Pets allowed,Buzzer/wireless intercom,Heating,Family/kid friendly,Washer,Dryer,Essentials,Hangers,Hair dryer,Iron                                                                                                                              |  NA |  70 |  87 |       NA |\n",
       "| 13200 | 28004 | Universidad          | Apartment   | Entire home/apt |  2 | 1.0 | 1 |  1 | Real Bed      | TV,Internet,Wireless Internet,Air conditioning,Kitchen,Smoking allowed,Pets allowed,Elevator in building,Heating,Family/kid friendly,Washer,First aid kit,Fire extinguisher,Essentials,Lock on bedroom door,Hangers,Hair dryer,Iron                                                                                   |  NA |  40 |  82 |       NA |\n",
       "| 13201 | 28004 | Universidad          | Loft        | Entire home/apt |  2 | 1.0 | 1 |  2 | Real Bed      | Internet,Wireless Internet,Smoking allowed,Breakfast,Elevator in building,Heating,Shampoo,Hangers,Hair dryer,Iron,Laptop friendly workspace,translation missing: en.hosting_amenity_49,translation missing: en.hosting_amenity_50                                                                                     |  NA |  30 |  NA |       NA |\n",
       "| 13202 | 28004 | Universidad          | Apartment   | Entire home/apt |  4 | 1.0 | 1 |  2 | Real Bed      | TV,Wireless Internet,Air conditioning,Kitchen,Smoking allowed,Pets allowed,Heating,Family/kid friendly,Washer,Fire extinguisher,Essentials,Lock on bedroom door,Hangers,Hair dryer,Iron                                                                                                                               |  NA |  48 |  83 |       NA |\n",
       "| 13203 | 28015 | Universidad          | Apartment   | Entire home/apt |  2 | 1.0 | 1 |  1 | Real Bed      | TV,Internet,Wireless Internet,Air conditioning,Kitchen,Elevator in building,Buzzer/wireless intercom,Heating,Washer,Dryer,Smoke detector,Fire extinguisher,Essentials,Shampoo,Hangers,Hair dryer,Iron,Laptop friendly workspace,translation missing: en.hosting_amenity_49,translation missing: en.hosting_amenity_50 |  NA |  35 |  90 |       NA |\n",
       "| 13204 | 28004 | Universidad          | Apartment   | Entire home/apt |  3 | 1.0 | 1 |  2 | Real Bed      | TV,Wireless Internet,Air conditioning,Kitchen,Elevator in building,Buzzer/wireless intercom,Heating,Family/kid friendly,Washer,Dryer,Smoke detector,Carbon monoxide detector,Fire extinguisher,Essentials,Shampoo,24-hour check-in,Hangers,Hair dryer,Iron,Laptop friendly workspace                                  |  NA |  79 |  97 |       NA |\n",
       "| 13205 | 28013 | Universidad          | Apartment   | Entire home/apt |  4 | 1.0 | 1 |  1 | Real Bed      | TV,Wireless Internet,Air conditioning,Pool,Kitchen,Doorman,Gym,Elevator in building,Buzzer/wireless intercom,Heating,Washer,First aid kit,Safety card,Essentials,Shampoo,Hangers,Hair dryer,Iron,Laptop friendly workspace                                                                                            |  NA | 150 | 100 |       NA |\n",
       "| 13206 | 28004 | Universidad          | Loft        | Entire home/apt |  2 | 1.0 | 0 |  1 | Real Bed      | TV,Internet,Wireless Internet,Kitchen,Smoking allowed,Pets allowed,Elevator in building,Heating,Family/kid friendly,Washer,First aid kit,Essentials,Shampoo                                                                                                                                                           |  NA |  80 |  91 |       NA |\n",
       "| 13207 | 28004 | Universidad          | Apartment   | Entire home/apt |  3 | 1.0 | 0 |  2 | Real Bed      | TV,Internet,Wireless Internet,Air conditioning,Kitchen,Heating,Family/kid friendly,Washer                                                                                                                                                                                                                             |  NA |  69 |  80 |       NA |\n",
       "\n"
      ],
      "text/plain": [
       "      CodigoPostal Barrio               TipoPropiedad TipoAlquiler   \n",
       "2     28004        Universidad          Apartment     Entire home/apt\n",
       "3     28004        Universidad          Apartment     Entire home/apt\n",
       "4     28004        Universidad          Loft          Entire home/apt\n",
       "5     28015        Universidad          Apartment     Entire home/apt\n",
       "6     28004        Universidad          Apartment     Entire home/apt\n",
       "8     28004        Universidad          Apartment     Entire home/apt\n",
       "9     28015        Universidad          Apartment     Entire home/apt\n",
       "10    28004        Universidad          Apartment     Entire home/apt\n",
       "11    28004        Universidad          Apartment     Entire home/apt\n",
       "15    28013        Sol                  Apartment     Entire home/apt\n",
       "16    28013        Sol                  Condominium   Entire home/apt\n",
       "17    28013        Sol                  Apartment     Entire home/apt\n",
       "18    28012        Sol                  Apartment     Entire home/apt\n",
       "19    28013        Sol                  Apartment     Entire home/apt\n",
       "21    28013        Sol                  Apartment     Entire home/apt\n",
       "22    28005        Sol                  Apartment     Entire home/apt\n",
       "23    28013        Sol                  Apartment     Entire home/apt\n",
       "24    28012        Sol                  Apartment     Entire home/apt\n",
       "25    28012        Sol                  Apartment     Entire home/apt\n",
       "26    28013        Sol                  Apartment     Entire home/apt\n",
       "27    28014        Sol                  Condominium   Entire home/apt\n",
       "28    28013        Sol                  Apartment     Entire home/apt\n",
       "30    28005        Sol                  Apartment     Entire home/apt\n",
       "31    28005        Imperial             Apartment     Entire home/apt\n",
       "32    28005        Imperial             Apartment     Entire home/apt\n",
       "36    28005        Acacias              House         Entire home/apt\n",
       "43    28013        Sol                  Apartment     Entire home/apt\n",
       "44    28013        Sol                  Apartment     Entire home/apt\n",
       "45    28013        Sol                  Apartment     Entire home/apt\n",
       "46    28013        Sol                  Apartment     Entire home/apt\n",
       "⋮     ⋮            ⋮                    ⋮             ⋮              \n",
       "13157 28010        Almagro              Apartment     Entire home/apt\n",
       "13158 28010        Almagro              Apartment     Entire home/apt\n",
       "13159 28003        Rios Rosas           Apartment     Entire home/apt\n",
       "13167 28008        Argüelles            House         Entire home/apt\n",
       "13168 28008        Argüelles            House         Entire home/apt\n",
       "13169 28008        Argüelles            Apartment     Entire home/apt\n",
       "13175 28003        Ciudad Universitaria Loft          Entire home/apt\n",
       "13176 28038        Numancia             Apartment     Entire home/apt\n",
       "13179 28023        Aravaca              Condominium   Entire home/apt\n",
       "13183 28004        Universidad          Other         Entire home/apt\n",
       "13184 28004        Universidad          Apartment     Entire home/apt\n",
       "13185 28004        Universidad          Apartment     Entire home/apt\n",
       "13186 28015        Universidad          Apartment     Entire home/apt\n",
       "13187 28015        Universidad          Apartment     Entire home/apt\n",
       "13188 28015        Universidad          Apartment     Entire home/apt\n",
       "13190 28015        Universidad          Apartment     Entire home/apt\n",
       "13191 28013        Universidad          Apartment     Entire home/apt\n",
       "13192 28004        Universidad          Apartment     Entire home/apt\n",
       "13193 28004        Universidad          Apartment     Entire home/apt\n",
       "13195 28004        Universidad          Apartment     Entire home/apt\n",
       "13198 28004        Universidad          Apartment     Entire home/apt\n",
       "13199 28004        Universidad          Apartment     Entire home/apt\n",
       "13200 28004        Universidad          Apartment     Entire home/apt\n",
       "13201 28004        Universidad          Loft          Entire home/apt\n",
       "13202 28004        Universidad          Apartment     Entire home/apt\n",
       "13203 28015        Universidad          Apartment     Entire home/apt\n",
       "13204 28004        Universidad          Apartment     Entire home/apt\n",
       "13205 28013        Universidad          Apartment     Entire home/apt\n",
       "13206 28004        Universidad          Loft          Entire home/apt\n",
       "13207 28004        Universidad          Apartment     Entire home/apt\n",
       "      MaxOcupantes NumBanyos NumDormitorios NumCamas TipoCama     \n",
       "2      6           1         3               5       Real Bed     \n",
       "3      3           1         2               2       Real Bed     \n",
       "4      3           2         1               1       Real Bed     \n",
       "5      5           1         1               1       Real Bed     \n",
       "6      2           1         0               1       Real Bed     \n",
       "8      3           1         1              NA       Real Bed     \n",
       "9      2           1         1               1       Real Bed     \n",
       "10     4           2         2               2       Real Bed     \n",
       "11     4           1         1               2       Real Bed     \n",
       "15     4           1         1               1       Real Bed     \n",
       "16     6           1         2               3       Real Bed     \n",
       "17     4           1         1               2       Real Bed     \n",
       "18     6           1         2               2       Real Bed     \n",
       "19     4           1         1               2       Real Bed     \n",
       "21     4           1         1               2       Real Bed     \n",
       "22    10           2         4               7       Real Bed     \n",
       "23     6           1         2               4       Real Bed     \n",
       "24     4           1         1               2       Real Bed     \n",
       "25     4           1         1               1       Real Bed     \n",
       "26     4           1         1               2       Real Bed     \n",
       "27     8           2         2               5       Real Bed     \n",
       "28     6           2         2               3       Real Bed     \n",
       "30     8           1         3               4       Real Bed     \n",
       "31     3           1         1               1       Real Bed     \n",
       "32     3           1         2               2       Real Bed     \n",
       "36     4           2         2               4       Real Bed     \n",
       "43     4           1         1               1       Pull-out Sofa\n",
       "44     6           2         2               2       Real Bed     \n",
       "45     3           1         1               2       Real Bed     \n",
       "46     2           1         1               1       Real Bed     \n",
       "⋮     ⋮            ⋮         ⋮              ⋮        ⋮            \n",
       "13157  2           1.0       0               1       Pull-out Sofa\n",
       "13158  2           1.0       1               1       Real Bed     \n",
       "13159  3           1.0       1               1       Real Bed     \n",
       "13167  3           1.0       1               2       Real Bed     \n",
       "13168  5           1.0       3               4       Real Bed     \n",
       "13169  4           1.0       1               1       Real Bed     \n",
       "13175  3           1.0       1               2       Real Bed     \n",
       "13176  6           1.0       3               4       Real Bed     \n",
       "13179  3           1.0       1               3       Real Bed     \n",
       "13183  3           1.0       1               1       Real Bed     \n",
       "13184  3           1.0       1               1       Real Bed     \n",
       "13185  2           1.0       1               1       Real Bed     \n",
       "13186  4           1.0       1               2       Real Bed     \n",
       "13187  2           1.0       1               2       Real Bed     \n",
       "13188  5           1.0       2               3       Real Bed     \n",
       "13190  4           1.0       1               2       Real Bed     \n",
       "13191  2           1.0       1               1       Real Bed     \n",
       "13192  4           1.0       1               2       Real Bed     \n",
       "13193 14           5.5       5              10       Real Bed     \n",
       "13195  3           1.0       1               2       Real Bed     \n",
       "13198  4           1.0       2               4       Pull-out Sofa\n",
       "13199  4           1.0       2               2       Real Bed     \n",
       "13200  2           1.0       1               1       Real Bed     \n",
       "13201  2           1.0       1               2       Real Bed     \n",
       "13202  4           1.0       1               2       Real Bed     \n",
       "13203  2           1.0       1               1       Real Bed     \n",
       "13204  3           1.0       1               2       Real Bed     \n",
       "13205  4           1.0       1               1       Real Bed     \n",
       "13206  2           1.0       0               1       Real Bed     \n",
       "13207  3           1.0       0               2       Real Bed     \n",
       "      Comodidades                                                                                                                                                                                                                                                                                                                                                     \n",
       "2     TV,Internet,Wireless Internet,Air conditioning,Kitchen,Indoor fireplace,Heating,Family/kid friendly,Washer,Dryer,Smoke detector,Carbon monoxide detector,Essentials,Shampoo                                                                                                                                                                                     \n",
       "3     TV,Internet,Wireless Internet,Air conditioning,Kitchen,Doorman,Heating,Family/kid friendly,Washer,Essentials,Shampoo,Hangers,Hair dryer,Iron,Laptop friendly workspace                                                                                                                                                                                          \n",
       "4     TV,Internet,Wireless Internet,Air conditioning,Kitchen,Pets allowed,Breakfast,Elevator in building,Indoor fireplace,Buzzer/wireless intercom,Heating,Washer,Essentials,Shampoo,Hangers,Hair dryer,Iron,Laptop friendly workspace,translation missing: en.hosting_amenity_49,translation missing: en.hosting_amenity_50                                          \n",
       "5     TV,Wireless Internet,Air conditioning,Kitchen,Smoking allowed,Pets allowed,Elevator in building,Heating,Family/kid friendly,Washer,Essentials,Iron                                                                                                                                                                                                              \n",
       "6     TV,Cable TV,Internet,Wireless Internet,Air conditioning,Wheelchair accessible,Kitchen,Doorman,Elevator in building,Buzzer/wireless intercom,Heating,Washer,Smoke detector,Carbon monoxide detector,First aid kit,Safety card,Fire extinguisher,Essentials,Shampoo,24-hour check-in,Hangers,Hair dryer,Iron,Laptop friendly workspace,Self Check-In,Doorman Entry\n",
       "8     TV,Wireless Internet,Air conditioning,Kitchen,Elevator in building,Buzzer/wireless intercom,Heating,Washer                                                                                                                                                                                                                                                      \n",
       "9     TV,Internet,Wireless Internet,Kitchen,Elevator in building,Buzzer/wireless intercom,Heating,Family/kid friendly,Washer,Dryer,Essentials,Shampoo,translation missing: en.hosting_amenity_49                                                                                                                                                                      \n",
       "10    TV,Wireless Internet,Air conditioning,Kitchen,Elevator in building,Hot tub,Heating,Family/kid friendly,Washer,Dryer,Essentials,Hair dryer,Iron                                                                                                                                                                                                                  \n",
       "11    TV,Wireless Internet,Air conditioning,Wheelchair accessible,Kitchen,Elevator in building,Buzzer/wireless intercom,Heating,Family/kid friendly,Washer,Essentials,Shampoo                                                                                                                                                                                         \n",
       "15    TV,Wireless Internet,Air conditioning,Kitchen,Doorman,Elevator in building,Buzzer/wireless intercom,Heating,Family/kid friendly,Suitable for events,Washer,Essentials,Hangers,Hair dryer,Iron                                                                                                                                                                   \n",
       "16    TV,Wireless Internet,Air conditioning,Kitchen,Doorman,Elevator in building,Buzzer/wireless intercom,Heating,Family/kid friendly,Washer,Dryer,Essentials,Shampoo,Hangers,Hair dryer,Iron                                                                                                                                                                         \n",
       "17    TV,Internet,Wireless Internet,Air conditioning,Kitchen,Doorman,Elevator in building,Buzzer/wireless intercom,Heating,Family/kid friendly,Washer,Smoke detector,Carbon monoxide detector,First aid kit,Safety card,Fire extinguisher,Essentials,Shampoo,24-hour check-in,Hangers,Hair dryer,Iron,Laptop friendly workspace                                       \n",
       "18    TV,Internet,Wireless Internet,Air conditioning,Kitchen,Smoking allowed,Elevator in building,Buzzer/wireless intercom,Heating,Family/kid friendly,Washer,Dryer,Essentials,Shampoo,Hangers,Hair dryer,Iron,Laptop friendly workspace                                                                                                                              \n",
       "19    TV,Internet,Wireless Internet,Air conditioning,Kitchen,Heating,Washer,Essentials,Hangers,Hair dryer,translation missing: en.hosting_amenity_50                                                                                                                                                                                                                  \n",
       "21    TV,Wireless Internet,Kitchen,Pets allowed,Elevator in building,Heating,Family/kid friendly,Washer,Essentials,Shampoo,Hangers,Hair dryer,Laptop friendly workspace                                                                                                                                                                                               \n",
       "22    TV,Internet,Wireless Internet,Air conditioning,Kitchen,Heating,Family/kid friendly,Washer,Essentials                                                                                                                                                                                                                                                            \n",
       "23    TV,Internet,Wireless Internet,Air conditioning,Kitchen,Smoking allowed,Pets allowed,Doorman,Elevator in building,Buzzer/wireless intercom,Heating,Family/kid friendly,Washer,First aid kit,Safety card,Essentials,Shampoo,Hangers,Hair dryer,Iron                                                                                                               \n",
       "24    TV,Internet,Wireless Internet,Air conditioning,Kitchen,Elevator in building,Heating,Family/kid friendly,Washer,Smoke detector,Carbon monoxide detector,Essentials,Shampoo,24-hour check-in,Hangers,Hair dryer,Iron,Laptop friendly workspace                                                                                                                    \n",
       "25    TV,Cable TV,Internet,Wireless Internet,Air conditioning,Kitchen,Elevator in building,Buzzer/wireless intercom,Heating,Family/kid friendly,Washer,Essentials,Hair dryer,Iron                                                                                                                                                                                     \n",
       "26    TV,Internet,Wireless Internet,Air conditioning,Kitchen,Breakfast,Elevator in building,Heating,Family/kid friendly,Washer,First aid kit,Fire extinguisher,Essentials,Shampoo,Hangers,Hair dryer,Iron,Laptop friendly workspace                                                                                                                                   \n",
       "27    TV,Internet,Wireless Internet,Air conditioning,Wheelchair accessible,Kitchen,Doorman,Elevator in building,Buzzer/wireless intercom,Heating,Family/kid friendly,Washer,Smoke detector,Carbon monoxide detector,Essentials,Shampoo,24-hour check-in,Hangers,Hair dryer,Iron,Laptop friendly workspace                                                             \n",
       "28    TV,Internet,Wireless Internet,Air conditioning,Wheelchair accessible,Kitchen,Doorman,Elevator in building,Buzzer/wireless intercom,Heating,Family/kid friendly,Washer,Dryer,Essentials,Hangers,Hair dryer,Iron                                                                                                                                                  \n",
       "30    TV,Internet,Wireless Internet,Kitchen,Breakfast,Elevator in building,Buzzer/wireless intercom,Heating,Family/kid friendly,Washer,Essentials,Shampoo,Hangers,Hair dryer,Iron,Laptop friendly workspace,Self Check-In,Lockbox                                                                                                                                     \n",
       "31    TV,Internet,Wireless Internet,Kitchen,Pets allowed,Elevator in building,Heating,Family/kid friendly,Washer,Fire extinguisher,Essentials,Shampoo,Hangers,Hair dryer,Iron,Laptop friendly workspace,translation missing: en.hosting_amenity_50                                                                                                                    \n",
       "32    TV,Wireless Internet,Kitchen,Heating,Family/kid friendly,Washer,Essentials,Hair dryer,translation missing: en.hosting_amenity_50                                                                                                                                                                                                                                \n",
       "36    TV,Wireless Internet,Air conditioning,Wheelchair accessible,Kitchen,Doorman,Elevator in building,Buzzer/wireless intercom,Heating,Washer,Essentials,Shampoo,Hangers,Hair dryer,Iron,Laptop friendly workspace                                                                                                                                                   \n",
       "43    TV,Internet,Wireless Internet,Air conditioning,Kitchen,Elevator in building,Buzzer/wireless intercom,Heating,Family/kid friendly,Washer,Smoke detector,Carbon monoxide detector,First aid kit,Essentials,Shampoo,24-hour check-in,Hangers,Hair dryer,Iron,Laptop friendly workspace,translation missing: en.hosting_amenity_50                                  \n",
       "44    TV,Wireless Internet,Air conditioning,Kitchen,Elevator in building,Heating,Washer,Essentials,Shampoo                                                                                                                                                                                                                                                            \n",
       "45    TV,Internet,Wireless Internet,Air conditioning,Kitchen,Smoking allowed,Elevator in building,Buzzer/wireless intercom,Heating,Family/kid friendly,Washer,Fire extinguisher,Essentials,Shampoo,Hangers,Hair dryer,Iron                                                                                                                                            \n",
       "46    TV,Internet,Wireless Internet,Air conditioning,Kitchen,Elevator in building,Buzzer/wireless intercom,Heating,Family/kid friendly,Washer,First aid kit,Essentials,Shampoo,Hair dryer,Iron                                                                                                                                                                        \n",
       "⋮     ⋮                                                                                                                                                                                                                                                                                                                                                               \n",
       "13157 TV,Wireless Internet,Kitchen,Buzzer/wireless intercom,Heating,Essentials,Hangers,Iron,translation missing: en.hosting_amenity_49,translation missing: en.hosting_amenity_50                                                                                                                                                                                     \n",
       "13158 TV,Internet,Wireless Internet,Air conditioning,Kitchen,Pets allowed,Doorman,Elevator in building,Buzzer/wireless intercom,Heating,Family/kid friendly,Washer,Essentials,Hangers,Iron,Laptop friendly workspace,translation missing: en.hosting_amenity_49                                                                                                       \n",
       "13159 TV,Internet,Wireless Internet,Air conditioning,Kitchen,Elevator in building,Buzzer/wireless intercom,Heating,Family/kid friendly,Washer,Fire extinguisher,Essentials,24-hour check-in,Hangers,Hair dryer,Iron,Laptop friendly workspace                                                                                                                         \n",
       "13167 TV,Internet,Wireless Internet,Air conditioning,Kitchen,Elevator in building,Heating,Washer,Smoke detector,Fire extinguisher,Essentials,Hangers,Hair dryer,Iron,Laptop friendly workspace                                                                                                                                                                        \n",
       "13168 TV,Internet,Wireless Internet,Wheelchair accessible,Kitchen,Smoking allowed,Doorman,Elevator in building,Buzzer/wireless intercom,Heating,Family/kid friendly,Washer,Fire extinguisher,Essentials,Shampoo,24-hour check-in,Hangers,Hair dryer,Iron,Laptop friendly workspace                                                                                    \n",
       "13169 TV,Wireless Internet,Kitchen,Elevator in building,Heating,Family/kid friendly,Washer,Dryer,Essentials,Shampoo,24-hour check-in,Hangers,Hair dryer,Iron,Laptop friendly workspace                                                                                                                                                                                \n",
       "13175 TV,Wireless Internet,Kitchen,Breakfast,Elevator in building,Buzzer/wireless intercom,Heating,Family/kid friendly,Washer,Essentials,Shampoo,Hangers,Iron,Laptop friendly workspace                                                                                                                                                                               \n",
       "13176 TV,Internet,Wireless Internet,Air conditioning,Kitchen,Buzzer/wireless intercom,Heating,Family/kid friendly,Washer,First aid kit,Essentials,Shampoo,Hangers,Hair dryer,Iron,Laptop friendly workspace                                                                                                                                                           \n",
       "13179 TV,Internet,Wireless Internet,Pool,Kitchen,Free parking on premises,Doorman,Heating,Family/kid friendly,Washer,Essentials,24-hour check-in,Hangers,Iron,Laptop friendly workspace,Private entrance                                                                                                                                                              \n",
       "13183 TV,Internet,Wireless Internet,Air conditioning,Kitchen,Smoking allowed,Pets allowed,Elevator in building,Buzzer/wireless intercom,Heating,Family/kid friendly,Washer,Dryer,Fire extinguisher,Essentials,24-hour check-in,Hangers,Hair dryer,Iron                                                                                                                \n",
       "13184 TV,Internet,Wireless Internet,Kitchen,Buzzer/wireless intercom,Heating,Washer,Dryer,Essentials,Shampoo,24-hour check-in,Hangers,Hair dryer,Iron,Laptop friendly workspace,translation missing: en.hosting_amenity_49,translation missing: en.hosting_amenity_50                                                                                                 \n",
       "13185 TV,Internet,Wireless Internet,Air conditioning,Kitchen,Elevator in building,Heating,Washer,Dryer,First aid kit,Essentials,Hangers,Hair dryer,Iron,translation missing: en.hosting_amenity_49,translation missing: en.hosting_amenity_50                                                                                                                         \n",
       "13186 TV,Internet,Wireless Internet,Air conditioning,Kitchen,Elevator in building,Heating,Family/kid friendly,Washer,Smoke detector,Fire extinguisher,Essentials,Shampoo,Lock on bedroom door,Hangers,Hair dryer,Iron                                                                                                                                                 \n",
       "13187 TV,Wireless Internet,Air conditioning,Kitchen,Elevator in building,Buzzer/wireless intercom,Heating,Family/kid friendly,Washer                                                                                                                                                                                                                                  \n",
       "13188 TV,Internet,Wireless Internet,Kitchen,Smoking allowed,Elevator in building,Buzzer/wireless intercom,Heating,Family/kid friendly,Washer,First aid kit,Essentials,Shampoo,24-hour check-in,Hangers,Hair dryer,Iron,Laptop friendly workspace                                                                                                                      \n",
       "13190 TV,Wireless Internet,Air conditioning,Kitchen,Smoking allowed,Heating,Family/kid friendly,Washer,Dryer,Smoke detector,First aid kit,Essentials,Shampoo,Hangers,Hair dryer,Iron                                                                                                                                                                                  \n",
       "13191 TV,Wireless Internet,Air conditioning,Kitchen,Elevator in building,Heating,Washer,Dryer,Essentials,Shampoo,Hangers,Hair dryer,Iron,Laptop friendly workspace,translation missing: en.hosting_amenity_49,translation missing: en.hosting_amenity_50                                                                                                              \n",
       "13192 TV,Internet,Wireless Internet,Air conditioning,Kitchen,Pets allowed,Indoor fireplace,Buzzer/wireless intercom,Heating,Family/kid friendly,Washer,Smoke detector,Carbon monoxide detector,Essentials,Shampoo,24-hour check-in,Hangers,Hair dryer,Iron,Laptop friendly workspace                                                                                  \n",
       "13193 TV,Internet,Wireless Internet,Air conditioning,Kitchen,Smoking allowed,Elevator in building,Indoor fireplace,Family/kid friendly,Washer,Dryer,First aid kit,Fire extinguisher,Essentials                                                                                                                                                                        \n",
       "13195 TV,Wireless Internet,Kitchen,Buzzer/wireless intercom,Heating,Family/kid friendly,Washer,Smoke detector,Essentials,Shampoo,24-hour check-in,Hangers,Laptop friendly workspace,translation missing: en.hosting_amenity_50                                                                                                                                        \n",
       "13198 TV,Internet,Wireless Internet,Air conditioning,Kitchen,Smoking allowed,Pets allowed,Elevator in building,Heating,Family/kid friendly,Washer,Dryer,Essentials,Shampoo,Hangers,Hair dryer,Iron                                                                                                                                                                    \n",
       "13199 TV,Internet,Wireless Internet,Air conditioning,Kitchen,Smoking allowed,Pets allowed,Buzzer/wireless intercom,Heating,Family/kid friendly,Washer,Dryer,Essentials,Hangers,Hair dryer,Iron                                                                                                                                                                        \n",
       "13200 TV,Internet,Wireless Internet,Air conditioning,Kitchen,Smoking allowed,Pets allowed,Elevator in building,Heating,Family/kid friendly,Washer,First aid kit,Fire extinguisher,Essentials,Lock on bedroom door,Hangers,Hair dryer,Iron                                                                                                                             \n",
       "13201 Internet,Wireless Internet,Smoking allowed,Breakfast,Elevator in building,Heating,Shampoo,Hangers,Hair dryer,Iron,Laptop friendly workspace,translation missing: en.hosting_amenity_49,translation missing: en.hosting_amenity_50                                                                                                                               \n",
       "13202 TV,Wireless Internet,Air conditioning,Kitchen,Smoking allowed,Pets allowed,Heating,Family/kid friendly,Washer,Fire extinguisher,Essentials,Lock on bedroom door,Hangers,Hair dryer,Iron                                                                                                                                                                         \n",
       "13203 TV,Internet,Wireless Internet,Air conditioning,Kitchen,Elevator in building,Buzzer/wireless intercom,Heating,Washer,Dryer,Smoke detector,Fire extinguisher,Essentials,Shampoo,Hangers,Hair dryer,Iron,Laptop friendly workspace,translation missing: en.hosting_amenity_49,translation missing: en.hosting_amenity_50                                           \n",
       "13204 TV,Wireless Internet,Air conditioning,Kitchen,Elevator in building,Buzzer/wireless intercom,Heating,Family/kid friendly,Washer,Dryer,Smoke detector,Carbon monoxide detector,Fire extinguisher,Essentials,Shampoo,24-hour check-in,Hangers,Hair dryer,Iron,Laptop friendly workspace                                                                            \n",
       "13205 TV,Wireless Internet,Air conditioning,Pool,Kitchen,Doorman,Gym,Elevator in building,Buzzer/wireless intercom,Heating,Washer,First aid kit,Safety card,Essentials,Shampoo,Hangers,Hair dryer,Iron,Laptop friendly workspace                                                                                                                                      \n",
       "13206 TV,Internet,Wireless Internet,Kitchen,Smoking allowed,Pets allowed,Elevator in building,Heating,Family/kid friendly,Washer,First aid kit,Essentials,Shampoo                                                                                                                                                                                                     \n",
       "13207 TV,Internet,Wireless Internet,Air conditioning,Kitchen,Heating,Family/kid friendly,Washer                                                                                                                                                                                                                                                                       \n",
       "      PiesCuadrados Precio Puntuacion MetrosCuadrados\n",
       "2      NA            92     96              NA       \n",
       "3      NA            55     91              NA       \n",
       "4      NA            60    100              NA       \n",
       "5     538            75     90        49.98181       \n",
       "6      NA            55     95              NA       \n",
       "8      NA            70     84              NA       \n",
       "9     700            90     98        65.03210       \n",
       "10     NA           155     NA              NA       \n",
       "11     40            70     90         3.71612       \n",
       "15    646            75     91        60.01534       \n",
       "16     NA           130    100              NA       \n",
       "17     NA           100     97              NA       \n",
       "18     NA           160     95              NA       \n",
       "19     NA            49     95              NA       \n",
       "21     NA            70     88              NA       \n",
       "22     NA           210     81              NA       \n",
       "23     NA           120     99              NA       \n",
       "24     NA            50     91              NA       \n",
       "25    753           100     87        69.95596       \n",
       "26     NA            75    100              NA       \n",
       "27     NA           155     93              NA       \n",
       "28     NA           155     80              NA       \n",
       "30     NA           163    100              NA       \n",
       "31     NA            70     95              NA       \n",
       "32     NA            49     88              NA       \n",
       "36     NA            90     92              NA       \n",
       "43     NA            64     97              NA       \n",
       "44     NA           109     90              NA       \n",
       "45     NA            67     95              NA       \n",
       "46    269            65     93        24.99091       \n",
       "⋮     ⋮             ⋮      ⋮          ⋮              \n",
       "13157  NA            30     83              NA       \n",
       "13158  NA            45    100              NA       \n",
       "13159  NA            39     94              NA       \n",
       "13167  NA           105     NA              NA       \n",
       "13168  NA           139     92              NA       \n",
       "13169  NA            61     92              NA       \n",
       "13175  NA            55    100              NA       \n",
       "13176  NA            65     94              NA       \n",
       "13179  NA            50    100              NA       \n",
       "13183  NA            43     83              NA       \n",
       "13184  NA            80     96              NA       \n",
       "13185  NA            80     99              NA       \n",
       "13186  NA           100    100              NA       \n",
       "13187 291            50     87        27.03477       \n",
       "13188  NA            85     90              NA       \n",
       "13190  NA            60    100              NA       \n",
       "13191  NA           145     NA              NA       \n",
       "13192  NA            62     91              NA       \n",
       "13193  NA           300     94              NA       \n",
       "13195  NA            62     81              NA       \n",
       "13198  NA            90     90              NA       \n",
       "13199  NA            70     87              NA       \n",
       "13200  NA            40     82              NA       \n",
       "13201  NA            30     NA              NA       \n",
       "13202  NA            48     83              NA       \n",
       "13203  NA            35     90              NA       \n",
       "13204  NA            79     97              NA       \n",
       "13205  NA           150    100              NA       \n",
       "13206  NA            80     91              NA       \n",
       "13207  NA            69     80              NA       "
      ]
     },
     "metadata": {},
     "output_type": "display_data"
    }
   ],
   "source": [
    "airbnb_entire <- airbnb[airbnb$TipoAlquiler==\"Entire home/apt\",]\n",
    "airbnb_entire "
   ]
  },
  {
   "cell_type": "markdown",
   "metadata": {},
   "source": [
    "¿Cuales son los 5 barrios que tienen un mayor número de apartamentos enteros en alquiler?\n",
    "Nota: Mirar solo en airbnb_entire. A partir de este punto y hasta que se diga lo contrario partiremos de airbnb_entire."
   ]
  },
  {
   "cell_type": "code",
   "execution_count": 27,
   "metadata": {},
   "outputs": [
    {
     "name": "stdout",
     "output_type": "stream",
     "text": [
      "los 5 barrios que tienen un mayor número de apartamentos enteros en alquiler: \n"
     ]
    },
    {
     "data": {
      "text/plain": [
       "Barrio\n",
       "Embajadores Universidad     Palacio         Sol      Cortes \n",
       "       1228         984         769         701         574 "
      ]
     },
     "metadata": {},
     "output_type": "display_data"
    }
   ],
   "source": [
    "cat(\"los 5 barrios que tienen un mayor número de apartamentos enteros en alquiler: \\n\")\n",
    "sort(table(select(airbnb_entire,Barrio)),decreasing=T)[1:5]\n"
   ]
  },
  {
   "cell_type": "markdown",
   "metadata": {},
   "source": [
    "¿Cuales son los 5 barrios que tienen un mayor precio medio de alquiler para apartamentos enteros (es decir, del dataframe airbnb_entire)?\n",
    "\n",
    "¿Cual es su precio medio?\n",
    "\n",
    "Ayuda: Usa la función aggregate `aggregate(.~colname,df,mean,na.rm=TRUE)`"
   ]
  },
  {
   "cell_type": "code",
   "execution_count": 28,
   "metadata": {},
   "outputs": [
    {
     "name": "stdout",
     "output_type": "stream",
     "text": [
      "los 5 barrios que tienen un mayor precio medio de alquiler para apartamentos enteros son: \n"
     ]
    },
    {
     "data": {
      "text/html": [
       "<table class=\"dataframe\">\n",
       "<caption>A data.frame: 5 × 2</caption>\n",
       "<thead>\n",
       "\t<tr><th></th><th scope=col>Barrio</th><th scope=col>Precio</th></tr>\n",
       "\t<tr><th></th><th scope=col>&lt;fct&gt;</th><th scope=col>&lt;dbl&gt;</th></tr>\n",
       "</thead>\n",
       "<tbody>\n",
       "\t<tr><th scope=row>77</th><td>Palomas      </td><td>309.7500</td></tr>\n",
       "\t<tr><th scope=row>50</th><td>Fuentelareina</td><td>180.0000</td></tr>\n",
       "\t<tr><th scope=row>93</th><td>Recoletos    </td><td>161.9254</td></tr>\n",
       "\t<tr><th scope=row>43</th><td>El Plantío   </td><td>150.0000</td></tr>\n",
       "\t<tr><th scope=row>30</th><td>Castellana   </td><td>141.3889</td></tr>\n",
       "</tbody>\n",
       "</table>\n"
      ],
      "text/latex": [
       "A data.frame: 5 × 2\n",
       "\\begin{tabular}{r|ll}\n",
       "  & Barrio & Precio\\\\\n",
       "  & <fct> & <dbl>\\\\\n",
       "\\hline\n",
       "\t77 & Palomas       & 309.7500\\\\\n",
       "\t50 & Fuentelareina & 180.0000\\\\\n",
       "\t93 & Recoletos     & 161.9254\\\\\n",
       "\t43 & El Plantío    & 150.0000\\\\\n",
       "\t30 & Castellana    & 141.3889\\\\\n",
       "\\end{tabular}\n"
      ],
      "text/markdown": [
       "\n",
       "A data.frame: 5 × 2\n",
       "\n",
       "| <!--/--> | Barrio &lt;fct&gt; | Precio &lt;dbl&gt; |\n",
       "|---|---|---|\n",
       "| 77 | Palomas       | 309.7500 |\n",
       "| 50 | Fuentelareina | 180.0000 |\n",
       "| 93 | Recoletos     | 161.9254 |\n",
       "| 43 | El Plantío    | 150.0000 |\n",
       "| 30 | Castellana    | 141.3889 |\n",
       "\n"
      ],
      "text/plain": [
       "   Barrio        Precio  \n",
       "77 Palomas       309.7500\n",
       "50 Fuentelareina 180.0000\n",
       "93 Recoletos     161.9254\n",
       "43 El Plantío    150.0000\n",
       "30 Castellana    141.3889"
      ]
     },
     "metadata": {},
     "output_type": "display_data"
    }
   ],
   "source": [
    "cat(\"los 5 barrios que tienen un mayor precio medio de alquiler para apartamentos enteros son: \\n\")\n",
    "\n",
    "PrecioBarrio <- aggregate(Precio ~ Barrio\n",
    "    , airbnb_entire\n",
    "    , mean\n",
    "    , na.rm=TRUE)\n",
    "\n",
    "\n",
    "PrecioBarrio[order(PrecioBarrio$Precio, decreasing=TRUE), ][1:5,]\n",
    "\n",
    "\n",
    "\n",
    "\n"
   ]
  },
  {
   "cell_type": "markdown",
   "metadata": {},
   "source": [
    "¿Cuantos apartamentos hay en cada uno de esos barrios?\n",
    "\n",
    "Mostrar una dataframe con el nombre del barrio, el precio y el número de entradas.\n",
    "\n",
    "Ayuda: Podeis crear un nuevo dataframe con las columnas \"Barrio\" y \"Freq\" que contenga el número de entradas en cada barrio y hacer un merge con el dataframe del punto anterior."
   ]
  },
  {
   "cell_type": "code",
   "execution_count": 29,
   "metadata": {},
   "outputs": [
    {
     "name": "stdout",
     "output_type": "stream",
     "text": [
      "Frecuencia de Apartamentos por barrios"
     ]
    },
    {
     "data": {
      "text/html": [
       "<table class=\"dataframe\">\n",
       "<caption>A data.frame: 118 × 3</caption>\n",
       "<thead>\n",
       "\t<tr><th scope=col>Barrio</th><th scope=col>Precio</th><th scope=col>Freq</th></tr>\n",
       "\t<tr><th scope=col>&lt;fct&gt;</th><th scope=col>&lt;dbl&gt;</th><th scope=col>&lt;int&gt;</th></tr>\n",
       "</thead>\n",
       "<tbody>\n",
       "\t<tr><td>Abrantes                    </td><td> 46.00000</td><td>  3</td></tr>\n",
       "\t<tr><td>Acacias                     </td><td> 68.16393</td><td> 59</td></tr>\n",
       "\t<tr><td>Adelfas                     </td><td> 68.72727</td><td> 32</td></tr>\n",
       "\t<tr><td>Aeropuerto                  </td><td> 38.00000</td><td>  2</td></tr>\n",
       "\t<tr><td>Aguilas                     </td><td> 54.50000</td><td>  2</td></tr>\n",
       "\t<tr><td>Alameda de Osuna            </td><td>138.75000</td><td>  4</td></tr>\n",
       "\t<tr><td>Almagro                     </td><td>109.18557</td><td> 93</td></tr>\n",
       "\t<tr><td>Almenara                    </td><td> 65.68000</td><td> 23</td></tr>\n",
       "\t<tr><td>Almendrales                 </td><td> 77.50000</td><td> 17</td></tr>\n",
       "\t<tr><td>Aluche                      </td><td> 55.88889</td><td>  8</td></tr>\n",
       "\t<tr><td>Ambroz                      </td><td> 34.50000</td><td>  2</td></tr>\n",
       "\t<tr><td>Apostol Santiago            </td><td> 96.60000</td><td>  5</td></tr>\n",
       "\t<tr><td>Arapiles                    </td><td> 69.62245</td><td> 97</td></tr>\n",
       "\t<tr><td>Aravaca                     </td><td> 66.33333</td><td>  9</td></tr>\n",
       "\t<tr><td>Arcos                       </td><td>100.50000</td><td>  4</td></tr>\n",
       "\t<tr><td>Argüelles                   </td><td> 89.57343</td><td>137</td></tr>\n",
       "\t<tr><td>Atocha                      </td><td> 71.44444</td><td>  7</td></tr>\n",
       "\t<tr><td>Bellas Vistas               </td><td> 51.77778</td><td> 45</td></tr>\n",
       "\t<tr><td>Berruguete                  </td><td> 53.85714</td><td> 33</td></tr>\n",
       "\t<tr><td>Buenavista                  </td><td> 57.91667</td><td> 11</td></tr>\n",
       "\t<tr><td>Butarque                    </td><td> 42.00000</td><td>  1</td></tr>\n",
       "\t<tr><td>Campamento                  </td><td> 45.55556</td><td>  9</td></tr>\n",
       "\t<tr><td>Canillas                    </td><td>105.80000</td><td> 15</td></tr>\n",
       "\t<tr><td>Canillejas                  </td><td> 91.66667</td><td>  3</td></tr>\n",
       "\t<tr><td>Cármenes                    </td><td> 78.00000</td><td>  8</td></tr>\n",
       "\t<tr><td>Casa de Campo               </td><td> 98.85366</td><td> 41</td></tr>\n",
       "\t<tr><td>Casco Histórico de Barajas  </td><td>141.25000</td><td>  8</td></tr>\n",
       "\t<tr><td>Casco Histórico de Vallecas </td><td> 61.11111</td><td> 17</td></tr>\n",
       "\t<tr><td>Casco Histórico de Vicálvaro</td><td> 73.87500</td><td>  8</td></tr>\n",
       "\t<tr><td>Castellana                  </td><td>141.38889</td><td> 66</td></tr>\n",
       "\t<tr><td>⋮</td><td>⋮</td><td>⋮</td></tr>\n",
       "\t<tr><td>Puerta Bonita    </td><td> 88.00000</td><td> 13</td></tr>\n",
       "\t<tr><td>Puerta del Angel </td><td> 59.67532</td><td> 76</td></tr>\n",
       "\t<tr><td>Quintana         </td><td> 65.00000</td><td> 17</td></tr>\n",
       "\t<tr><td>Recoletos        </td><td>161.92537</td><td>126</td></tr>\n",
       "\t<tr><td>Rejas            </td><td> 64.18182</td><td> 11</td></tr>\n",
       "\t<tr><td>Rios Rosas       </td><td> 83.00000</td><td> 56</td></tr>\n",
       "\t<tr><td>Salvador         </td><td> 66.40000</td><td>  4</td></tr>\n",
       "\t<tr><td>San Andrés       </td><td> 50.91667</td><td> 12</td></tr>\n",
       "\t<tr><td>San Cristobal    </td><td> 56.50000</td><td>  2</td></tr>\n",
       "\t<tr><td>San Diego        </td><td> 44.34375</td><td> 30</td></tr>\n",
       "\t<tr><td>San Fermín       </td><td> 63.50000</td><td>  8</td></tr>\n",
       "\t<tr><td>San Isidro       </td><td> 76.10256</td><td> 38</td></tr>\n",
       "\t<tr><td>San Juan Bautista</td><td> 75.53846</td><td> 13</td></tr>\n",
       "\t<tr><td>San Pascual      </td><td> 72.42857</td><td>  5</td></tr>\n",
       "\t<tr><td>Santa Eugenia    </td><td> 47.00000</td><td>  2</td></tr>\n",
       "\t<tr><td>Simancas         </td><td> 57.14286</td><td> 20</td></tr>\n",
       "\t<tr><td>Sol              </td><td>100.75036</td><td>688</td></tr>\n",
       "\t<tr><td>Timón            </td><td> 72.20000</td><td>  5</td></tr>\n",
       "\t<tr><td>Trafalgar        </td><td> 98.57848</td><td>215</td></tr>\n",
       "\t<tr><td>Universidad      </td><td> 79.39674</td><td>961</td></tr>\n",
       "\t<tr><td>Valdeacederas    </td><td> 67.36000</td><td> 23</td></tr>\n",
       "\t<tr><td>Valdefuentes     </td><td> 84.25000</td><td> 24</td></tr>\n",
       "\t<tr><td>Valdemarín       </td><td> 70.50000</td><td>  2</td></tr>\n",
       "\t<tr><td>Valdezarza       </td><td> 53.33333</td><td>  3</td></tr>\n",
       "\t<tr><td>Vallehermoso     </td><td> 92.39394</td><td> 32</td></tr>\n",
       "\t<tr><td>Valverde         </td><td> 71.57895</td><td> 19</td></tr>\n",
       "\t<tr><td>Ventas           </td><td> 50.03846</td><td> 25</td></tr>\n",
       "\t<tr><td>Vinateros        </td><td>102.50000</td><td>  2</td></tr>\n",
       "\t<tr><td>Vista Alegre     </td><td> 59.45455</td><td> 20</td></tr>\n",
       "\t<tr><td>Zofío            </td><td> 48.00000</td><td>  4</td></tr>\n",
       "</tbody>\n",
       "</table>\n"
      ],
      "text/latex": [
       "A data.frame: 118 × 3\n",
       "\\begin{tabular}{lll}\n",
       " Barrio & Precio & Freq\\\\\n",
       " <fct> & <dbl> & <int>\\\\\n",
       "\\hline\n",
       "\t Abrantes                     &  46.00000 &   3\\\\\n",
       "\t Acacias                      &  68.16393 &  59\\\\\n",
       "\t Adelfas                      &  68.72727 &  32\\\\\n",
       "\t Aeropuerto                   &  38.00000 &   2\\\\\n",
       "\t Aguilas                      &  54.50000 &   2\\\\\n",
       "\t Alameda de Osuna             & 138.75000 &   4\\\\\n",
       "\t Almagro                      & 109.18557 &  93\\\\\n",
       "\t Almenara                     &  65.68000 &  23\\\\\n",
       "\t Almendrales                  &  77.50000 &  17\\\\\n",
       "\t Aluche                       &  55.88889 &   8\\\\\n",
       "\t Ambroz                       &  34.50000 &   2\\\\\n",
       "\t Apostol Santiago             &  96.60000 &   5\\\\\n",
       "\t Arapiles                     &  69.62245 &  97\\\\\n",
       "\t Aravaca                      &  66.33333 &   9\\\\\n",
       "\t Arcos                        & 100.50000 &   4\\\\\n",
       "\t Argüelles                    &  89.57343 & 137\\\\\n",
       "\t Atocha                       &  71.44444 &   7\\\\\n",
       "\t Bellas Vistas                &  51.77778 &  45\\\\\n",
       "\t Berruguete                   &  53.85714 &  33\\\\\n",
       "\t Buenavista                   &  57.91667 &  11\\\\\n",
       "\t Butarque                     &  42.00000 &   1\\\\\n",
       "\t Campamento                   &  45.55556 &   9\\\\\n",
       "\t Canillas                     & 105.80000 &  15\\\\\n",
       "\t Canillejas                   &  91.66667 &   3\\\\\n",
       "\t Cármenes                     &  78.00000 &   8\\\\\n",
       "\t Casa de Campo                &  98.85366 &  41\\\\\n",
       "\t Casco Histórico de Barajas   & 141.25000 &   8\\\\\n",
       "\t Casco Histórico de Vallecas  &  61.11111 &  17\\\\\n",
       "\t Casco Histórico de Vicálvaro &  73.87500 &   8\\\\\n",
       "\t Castellana                   & 141.38889 &  66\\\\\n",
       "\t ⋮ & ⋮ & ⋮\\\\\n",
       "\t Puerta Bonita     &  88.00000 &  13\\\\\n",
       "\t Puerta del Angel  &  59.67532 &  76\\\\\n",
       "\t Quintana          &  65.00000 &  17\\\\\n",
       "\t Recoletos         & 161.92537 & 126\\\\\n",
       "\t Rejas             &  64.18182 &  11\\\\\n",
       "\t Rios Rosas        &  83.00000 &  56\\\\\n",
       "\t Salvador          &  66.40000 &   4\\\\\n",
       "\t San Andrés        &  50.91667 &  12\\\\\n",
       "\t San Cristobal     &  56.50000 &   2\\\\\n",
       "\t San Diego         &  44.34375 &  30\\\\\n",
       "\t San Fermín        &  63.50000 &   8\\\\\n",
       "\t San Isidro        &  76.10256 &  38\\\\\n",
       "\t San Juan Bautista &  75.53846 &  13\\\\\n",
       "\t San Pascual       &  72.42857 &   5\\\\\n",
       "\t Santa Eugenia     &  47.00000 &   2\\\\\n",
       "\t Simancas          &  57.14286 &  20\\\\\n",
       "\t Sol               & 100.75036 & 688\\\\\n",
       "\t Timón             &  72.20000 &   5\\\\\n",
       "\t Trafalgar         &  98.57848 & 215\\\\\n",
       "\t Universidad       &  79.39674 & 961\\\\\n",
       "\t Valdeacederas     &  67.36000 &  23\\\\\n",
       "\t Valdefuentes      &  84.25000 &  24\\\\\n",
       "\t Valdemarín        &  70.50000 &   2\\\\\n",
       "\t Valdezarza        &  53.33333 &   3\\\\\n",
       "\t Vallehermoso      &  92.39394 &  32\\\\\n",
       "\t Valverde          &  71.57895 &  19\\\\\n",
       "\t Ventas            &  50.03846 &  25\\\\\n",
       "\t Vinateros         & 102.50000 &   2\\\\\n",
       "\t Vista Alegre      &  59.45455 &  20\\\\\n",
       "\t Zofío             &  48.00000 &   4\\\\\n",
       "\\end{tabular}\n"
      ],
      "text/markdown": [
       "\n",
       "A data.frame: 118 × 3\n",
       "\n",
       "| Barrio &lt;fct&gt; | Precio &lt;dbl&gt; | Freq &lt;int&gt; |\n",
       "|---|---|---|\n",
       "| Abrantes                     |  46.00000 |   3 |\n",
       "| Acacias                      |  68.16393 |  59 |\n",
       "| Adelfas                      |  68.72727 |  32 |\n",
       "| Aeropuerto                   |  38.00000 |   2 |\n",
       "| Aguilas                      |  54.50000 |   2 |\n",
       "| Alameda de Osuna             | 138.75000 |   4 |\n",
       "| Almagro                      | 109.18557 |  93 |\n",
       "| Almenara                     |  65.68000 |  23 |\n",
       "| Almendrales                  |  77.50000 |  17 |\n",
       "| Aluche                       |  55.88889 |   8 |\n",
       "| Ambroz                       |  34.50000 |   2 |\n",
       "| Apostol Santiago             |  96.60000 |   5 |\n",
       "| Arapiles                     |  69.62245 |  97 |\n",
       "| Aravaca                      |  66.33333 |   9 |\n",
       "| Arcos                        | 100.50000 |   4 |\n",
       "| Argüelles                    |  89.57343 | 137 |\n",
       "| Atocha                       |  71.44444 |   7 |\n",
       "| Bellas Vistas                |  51.77778 |  45 |\n",
       "| Berruguete                   |  53.85714 |  33 |\n",
       "| Buenavista                   |  57.91667 |  11 |\n",
       "| Butarque                     |  42.00000 |   1 |\n",
       "| Campamento                   |  45.55556 |   9 |\n",
       "| Canillas                     | 105.80000 |  15 |\n",
       "| Canillejas                   |  91.66667 |   3 |\n",
       "| Cármenes                     |  78.00000 |   8 |\n",
       "| Casa de Campo                |  98.85366 |  41 |\n",
       "| Casco Histórico de Barajas   | 141.25000 |   8 |\n",
       "| Casco Histórico de Vallecas  |  61.11111 |  17 |\n",
       "| Casco Histórico de Vicálvaro |  73.87500 |   8 |\n",
       "| Castellana                   | 141.38889 |  66 |\n",
       "| ⋮ | ⋮ | ⋮ |\n",
       "| Puerta Bonita     |  88.00000 |  13 |\n",
       "| Puerta del Angel  |  59.67532 |  76 |\n",
       "| Quintana          |  65.00000 |  17 |\n",
       "| Recoletos         | 161.92537 | 126 |\n",
       "| Rejas             |  64.18182 |  11 |\n",
       "| Rios Rosas        |  83.00000 |  56 |\n",
       "| Salvador          |  66.40000 |   4 |\n",
       "| San Andrés        |  50.91667 |  12 |\n",
       "| San Cristobal     |  56.50000 |   2 |\n",
       "| San Diego         |  44.34375 |  30 |\n",
       "| San Fermín        |  63.50000 |   8 |\n",
       "| San Isidro        |  76.10256 |  38 |\n",
       "| San Juan Bautista |  75.53846 |  13 |\n",
       "| San Pascual       |  72.42857 |   5 |\n",
       "| Santa Eugenia     |  47.00000 |   2 |\n",
       "| Simancas          |  57.14286 |  20 |\n",
       "| Sol               | 100.75036 | 688 |\n",
       "| Timón             |  72.20000 |   5 |\n",
       "| Trafalgar         |  98.57848 | 215 |\n",
       "| Universidad       |  79.39674 | 961 |\n",
       "| Valdeacederas     |  67.36000 |  23 |\n",
       "| Valdefuentes      |  84.25000 |  24 |\n",
       "| Valdemarín        |  70.50000 |   2 |\n",
       "| Valdezarza        |  53.33333 |   3 |\n",
       "| Vallehermoso      |  92.39394 |  32 |\n",
       "| Valverde          |  71.57895 |  19 |\n",
       "| Ventas            |  50.03846 |  25 |\n",
       "| Vinateros         | 102.50000 |   2 |\n",
       "| Vista Alegre      |  59.45455 |  20 |\n",
       "| Zofío             |  48.00000 |   4 |\n",
       "\n"
      ],
      "text/plain": [
       "    Barrio                       Precio    Freq\n",
       "1   Abrantes                      46.00000   3 \n",
       "2   Acacias                       68.16393  59 \n",
       "3   Adelfas                       68.72727  32 \n",
       "4   Aeropuerto                    38.00000   2 \n",
       "5   Aguilas                       54.50000   2 \n",
       "6   Alameda de Osuna             138.75000   4 \n",
       "7   Almagro                      109.18557  93 \n",
       "8   Almenara                      65.68000  23 \n",
       "9   Almendrales                   77.50000  17 \n",
       "10  Aluche                        55.88889   8 \n",
       "11  Ambroz                        34.50000   2 \n",
       "12  Apostol Santiago              96.60000   5 \n",
       "13  Arapiles                      69.62245  97 \n",
       "14  Aravaca                       66.33333   9 \n",
       "15  Arcos                        100.50000   4 \n",
       "16  Argüelles                     89.57343 137 \n",
       "17  Atocha                        71.44444   7 \n",
       "18  Bellas Vistas                 51.77778  45 \n",
       "19  Berruguete                    53.85714  33 \n",
       "20  Buenavista                    57.91667  11 \n",
       "21  Butarque                      42.00000   1 \n",
       "22  Campamento                    45.55556   9 \n",
       "23  Canillas                     105.80000  15 \n",
       "24  Canillejas                    91.66667   3 \n",
       "25  Cármenes                      78.00000   8 \n",
       "26  Casa de Campo                 98.85366  41 \n",
       "27  Casco Histórico de Barajas   141.25000   8 \n",
       "28  Casco Histórico de Vallecas   61.11111  17 \n",
       "29  Casco Histórico de Vicálvaro  73.87500   8 \n",
       "30  Castellana                   141.38889  66 \n",
       "⋮   ⋮                            ⋮         ⋮   \n",
       "89  Puerta Bonita                 88.00000  13 \n",
       "90  Puerta del Angel              59.67532  76 \n",
       "91  Quintana                      65.00000  17 \n",
       "92  Recoletos                    161.92537 126 \n",
       "93  Rejas                         64.18182  11 \n",
       "94  Rios Rosas                    83.00000  56 \n",
       "95  Salvador                      66.40000   4 \n",
       "96  San Andrés                    50.91667  12 \n",
       "97  San Cristobal                 56.50000   2 \n",
       "98  San Diego                     44.34375  30 \n",
       "99  San Fermín                    63.50000   8 \n",
       "100 San Isidro                    76.10256  38 \n",
       "101 San Juan Bautista             75.53846  13 \n",
       "102 San Pascual                   72.42857   5 \n",
       "103 Santa Eugenia                 47.00000   2 \n",
       "104 Simancas                      57.14286  20 \n",
       "105 Sol                          100.75036 688 \n",
       "106 Timón                         72.20000   5 \n",
       "107 Trafalgar                     98.57848 215 \n",
       "108 Universidad                   79.39674 961 \n",
       "109 Valdeacederas                 67.36000  23 \n",
       "110 Valdefuentes                  84.25000  24 \n",
       "111 Valdemarín                    70.50000   2 \n",
       "112 Valdezarza                    53.33333   3 \n",
       "113 Vallehermoso                  92.39394  32 \n",
       "114 Valverde                      71.57895  19 \n",
       "115 Ventas                        50.03846  25 \n",
       "116 Vinateros                    102.50000   2 \n",
       "117 Vista Alegre                  59.45455  20 \n",
       "118 Zofío                         48.00000   4 "
      ]
     },
     "metadata": {},
     "output_type": "display_data"
    }
   ],
   "source": [
    " cat(\"Frecuencia de Apartamentos por barrios\")\n",
    "\n",
    "\n",
    "ApartamentosBarrio <- aggregate(CodigoPostal ~ Barrio\n",
    "    , airbnb_entire\n",
    "    , length)\n",
    "\n",
    "\n",
    "colnames(ApartamentosBarrio)<-c('Barrio', 'Freq')\n",
    "\n",
    "\n",
    "TotalBarrio <- merge(PrecioBarrio, ApartamentosBarrio)\n",
    "TotalBarrio\n",
    "\n"
   ]
  },
  {
   "cell_type": "markdown",
   "metadata": {},
   "source": [
    "Partiendo del dataframe anterior, muestra los 5 barrios con mayor precio, pero que tengan más de 100 entradas de alquiler."
   ]
  },
  {
   "cell_type": "code",
   "execution_count": 30,
   "metadata": {},
   "outputs": [
    {
     "name": "stdout",
     "output_type": "stream",
     "text": [
      "Los 5 barrios con mayor precio y más de 100 entradas de alquiler : \n"
     ]
    },
    {
     "data": {
      "text/html": [
       "<table class=\"dataframe\">\n",
       "<caption>A data.frame: 5 × 3</caption>\n",
       "<thead>\n",
       "\t<tr><th></th><th scope=col>Barrio</th><th scope=col>Precio</th><th scope=col>Freq</th></tr>\n",
       "\t<tr><th></th><th scope=col>&lt;fct&gt;</th><th scope=col>&lt;dbl&gt;</th><th scope=col>&lt;int&gt;</th></tr>\n",
       "</thead>\n",
       "<tbody>\n",
       "\t<tr><th scope=row>92</th><td>Recoletos</td><td>161.92537</td><td>126</td></tr>\n",
       "\t<tr><th scope=row>52</th><td>Goya     </td><td>111.33803</td><td>137</td></tr>\n",
       "\t<tr><th scope=row>105</th><td>Sol      </td><td>100.75036</td><td>688</td></tr>\n",
       "\t<tr><th scope=row>107</th><td>Trafalgar</td><td> 98.57848</td><td>215</td></tr>\n",
       "\t<tr><th scope=row>59</th><td>Justicia </td><td> 98.25468</td><td>519</td></tr>\n",
       "</tbody>\n",
       "</table>\n"
      ],
      "text/latex": [
       "A data.frame: 5 × 3\n",
       "\\begin{tabular}{r|lll}\n",
       "  & Barrio & Precio & Freq\\\\\n",
       "  & <fct> & <dbl> & <int>\\\\\n",
       "\\hline\n",
       "\t92 & Recoletos & 161.92537 & 126\\\\\n",
       "\t52 & Goya      & 111.33803 & 137\\\\\n",
       "\t105 & Sol       & 100.75036 & 688\\\\\n",
       "\t107 & Trafalgar &  98.57848 & 215\\\\\n",
       "\t59 & Justicia  &  98.25468 & 519\\\\\n",
       "\\end{tabular}\n"
      ],
      "text/markdown": [
       "\n",
       "A data.frame: 5 × 3\n",
       "\n",
       "| <!--/--> | Barrio &lt;fct&gt; | Precio &lt;dbl&gt; | Freq &lt;int&gt; |\n",
       "|---|---|---|---|\n",
       "| 92 | Recoletos | 161.92537 | 126 |\n",
       "| 52 | Goya      | 111.33803 | 137 |\n",
       "| 105 | Sol       | 100.75036 | 688 |\n",
       "| 107 | Trafalgar |  98.57848 | 215 |\n",
       "| 59 | Justicia  |  98.25468 | 519 |\n",
       "\n"
      ],
      "text/plain": [
       "    Barrio    Precio    Freq\n",
       "92  Recoletos 161.92537 126 \n",
       "52  Goya      111.33803 137 \n",
       "105 Sol       100.75036 688 \n",
       "107 Trafalgar  98.57848 215 \n",
       "59  Justicia   98.25468 519 "
      ]
     },
     "metadata": {},
     "output_type": "display_data"
    }
   ],
   "source": [
    "cat (\"Los 5 barrios con mayor precio y más de 100 entradas de alquiler : \\n\")\n",
    "\n",
    "BarriosOrdenados <- TotalBarrio[order(TotalBarrio$Precio, decreasing=TRUE), ]\n",
    "BarriosOrdenados100 <- BarriosOrdenados[BarriosOrdenados$Freq > 100, ][1:5, ]\n",
    "\n",
    "BarriosOrdenados100\n"
   ]
  },
  {
   "cell_type": "markdown",
   "metadata": {},
   "source": [
    "Dibuja el diagrama de densidad de distribución de los diferentes precios. Serían 5 gráficas, una por cada barrio."
   ]
  },
  {
   "cell_type": "code",
   "execution_count": 31,
   "metadata": {},
   "outputs": [
    {
     "name": "stderr",
     "output_type": "stream",
     "text": [
      "Warning message:\n",
      "\"\u001b[1m\u001b[22mRemoved 1 rows containing non-finite values (`stat_density()`).\"\n"
     ]
    },
    {
     "data": {
      "image/png": "[encoded data removed]",
      "text/plain": [
       "plot without title"
      ]
     },
     "metadata": {
      "image/png": {
       "height": 750,
       "width": 750
      }
     },
     "output_type": "display_data"
    }
   ],
   "source": [
    "ggplot(airbnb_entire[airbnb_entire$Barrio %in% BarriosOrdenados100[,1],], aes(x=Precio, color=Barrio))+\n",
    "geom_density()"
   ]
  },
  {
   "cell_type": "markdown",
   "metadata": {},
   "source": [
    "Calcula el tamaño medio, en metros cuadrados, para los 5 barrios anteriores y muestralo en el mismo dataframe junto con el precio y número de entradas"
   ]
  },
  {
   "cell_type": "code",
   "execution_count": 32,
   "metadata": {},
   "outputs": [
    {
     "name": "stdout",
     "output_type": "stream",
     "text": [
      " Tamaño medio en metros cuadrado por Barrio"
     ]
    },
    {
     "data": {
      "text/html": [
       "<table class=\"dataframe\">\n",
       "<caption>A data.frame: 5 × 4</caption>\n",
       "<thead>\n",
       "\t<tr><th></th><th scope=col>Barrio</th><th scope=col>MetrosCuadrados</th><th scope=col>Precio</th><th scope=col>Freq</th></tr>\n",
       "\t<tr><th></th><th scope=col>&lt;fct&gt;</th><th scope=col>&lt;dbl&gt;</th><th scope=col>&lt;dbl&gt;</th><th scope=col>&lt;int&gt;</th></tr>\n",
       "</thead>\n",
       "<tbody>\n",
       "\t<tr><th scope=row>3</th><td>Recoletos</td><td>26.66316</td><td>161.92537</td><td>126</td></tr>\n",
       "\t<tr><th scope=row>1</th><td>Goya     </td><td>51.68504</td><td>111.33803</td><td>137</td></tr>\n",
       "\t<tr><th scope=row>4</th><td>Sol      </td><td>45.61692</td><td>100.75036</td><td>688</td></tr>\n",
       "\t<tr><th scope=row>5</th><td>Trafalgar</td><td>29.30426</td><td> 98.57848</td><td>215</td></tr>\n",
       "\t<tr><th scope=row>2</th><td>Justicia </td><td>28.52669</td><td> 98.25468</td><td>519</td></tr>\n",
       "</tbody>\n",
       "</table>\n"
      ],
      "text/latex": [
       "A data.frame: 5 × 4\n",
       "\\begin{tabular}{r|llll}\n",
       "  & Barrio & MetrosCuadrados & Precio & Freq\\\\\n",
       "  & <fct> & <dbl> & <dbl> & <int>\\\\\n",
       "\\hline\n",
       "\t3 & Recoletos & 26.66316 & 161.92537 & 126\\\\\n",
       "\t1 & Goya      & 51.68504 & 111.33803 & 137\\\\\n",
       "\t4 & Sol       & 45.61692 & 100.75036 & 688\\\\\n",
       "\t5 & Trafalgar & 29.30426 &  98.57848 & 215\\\\\n",
       "\t2 & Justicia  & 28.52669 &  98.25468 & 519\\\\\n",
       "\\end{tabular}\n"
      ],
      "text/markdown": [
       "\n",
       "A data.frame: 5 × 4\n",
       "\n",
       "| <!--/--> | Barrio &lt;fct&gt; | MetrosCuadrados &lt;dbl&gt; | Precio &lt;dbl&gt; | Freq &lt;int&gt; |\n",
       "|---|---|---|---|---|\n",
       "| 3 | Recoletos | 26.66316 | 161.92537 | 126 |\n",
       "| 1 | Goya      | 51.68504 | 111.33803 | 137 |\n",
       "| 4 | Sol       | 45.61692 | 100.75036 | 688 |\n",
       "| 5 | Trafalgar | 29.30426 |  98.57848 | 215 |\n",
       "| 2 | Justicia  | 28.52669 |  98.25468 | 519 |\n",
       "\n"
      ],
      "text/plain": [
       "  Barrio    MetrosCuadrados Precio    Freq\n",
       "3 Recoletos 26.66316        161.92537 126 \n",
       "1 Goya      51.68504        111.33803 137 \n",
       "4 Sol       45.61692        100.75036 688 \n",
       "5 Trafalgar 29.30426         98.57848 215 \n",
       "2 Justicia  28.52669         98.25468 519 "
      ]
     },
     "metadata": {},
     "output_type": "display_data"
    }
   ],
   "source": [
    "cat(\" Tamaño medio en metros cuadrado por Barrio\")\n",
    "BarriosOrdenados100 <- merge(\n",
    "    MetrosPorBarrio <- aggregate(MetrosCuadrados ~ Barrio\n",
    "        , airbnb_entire\n",
    "        , mean\n",
    "        , na.rm=TRUE)\n",
    "    , BarriosOrdenados100)\n",
    "\n",
    "\n",
    "BarriosOrdenados100  <- BarriosOrdenados100[BarriosOrdenados100$Precio %>% order(decreasing=T), ]\n",
    "\n",
    "BarriosOrdenados100  %>% head(5)\n"
   ]
  },
  {
   "cell_type": "markdown",
   "metadata": {},
   "source": [
    "Dibuja el diagrama de densidad de distribución de los diferentes tamaños de apartamentos. Serían 5 gráficas, una por cada barrio."
   ]
  },
  {
   "cell_type": "code",
   "execution_count": 33,
   "metadata": {},
   "outputs": [
    {
     "data": {
      "image/png": "[encoded data removed]",
      "text/plain": [
       "plot without title"
      ]
     },
     "metadata": {
      "image/png": {
       "height": 750,
       "width": 750
      }
     },
     "output_type": "display_data"
    }
   ],
   "source": [
    "Barrios_Top5 <- airbnb_entire[airbnb_entire$Barrio == \"Recoletos\" |\n",
    "                           airbnb_entire$Barrio == \"Goya\" |\n",
    "                           airbnb_entire$Barrio == \"Sol\" |\n",
    "                           airbnb_entire$Barrio == \"Trafalgar\" |\n",
    "                           airbnb_entire$Barrio == \"Justicia\"\n",
    "                           ,c(\"Barrio\",\"Precio\", \"MetrosCuadrados\")]\n",
    "\n",
    "Barrios_Top5_ <- Barrios_Top5[!is.na(Barrios_Top5$MetrosCuadrados),]\n",
    "\n",
    "ggplot(Barrios_Top5_, aes(x=MetrosCuadrados, color=Barrio))+geom_density()\n"
   ]
  },
  {
   "cell_type": "markdown",
   "metadata": {},
   "source": [
    "Esta claro que las medias de metros cuadrados de cada uno de estos 5 barrios parecen ser diferentes, pero ¿son estadísticamente diferentes?\n",
    "¿Que test habría que usar para comprobarlo?"
   ]
  },
  {
   "cell_type": "code",
   "execution_count": 34,
   "metadata": {},
   "outputs": [
    {
     "name": "stdout",
     "output_type": "stream",
     "text": [
      " Shapiro test\n",
      " Valor p-value para Goyya 0.519924091564745 \n",
      " Valor p-value para Justicia 0.00064192630271212 \n",
      " Valor p-value para Recoletos 0 \n",
      " Valor p-value para Sol 8.6913775134728e-07 \n",
      " Valor p-value para Trafalgar 0.0127581397426826 \n",
      "\n",
      "Hay diferencias en la distribucion de los metros cuadrados por barrio, algunas tienden a ser normales otras no\n",
      "\n",
      "Ejecuto el test de kruskal \n"
     ]
    },
    {
     "data": {
      "text/plain": [
       "\n",
       "\tKruskal-Wallis rank sum test\n",
       "\n",
       "data:  MetrosCuadrados by Barrio\n",
       "Kruskal-Wallis chi-squared = 1.882, df = 4, p-value = 0.7574\n"
      ]
     },
     "metadata": {},
     "output_type": "display_data"
    },
    {
     "name": "stdout",
     "output_type": "stream",
     "text": [
      "El p-value por encima de 0.7574 parece indicar que no son estadisticamente diferentes"
     ]
    }
   ],
   "source": [
    "\n",
    "cat(\" Shapiro test\\n\")\n",
    "\n",
    "\n",
    "cat(paste(\" Valor p-value para Goyya\",shapiro.test(Barrios_Top5_$MetrosCuadrados[Barrios_Top5_$Barrio == \"Goya\"])$p.value),\"\\n\")\n",
    "cat(paste(\" Valor p-value para Justicia\",shapiro.test(Barrios_Top5_$MetrosCuadrados[Barrios_Top5_$Barrio == \"Justicia\"])$p.value),\"\\n\")\n",
    "cat(paste(\" Valor p-value para Recoletos\",shapiro.test(Barrios_Top5_$MetrosCuadrados[Barrios_Top5_$Barrio == \"Recoletos\"])$p.value),\"\\n\")\n",
    "cat(paste(\" Valor p-value para Sol\",shapiro.test(Barrios_Top5_$MetrosCuadrados[Barrios_Top5_$Barrio == \"Sol\"])$p.value),\"\\n\")\n",
    "cat(paste(\" Valor p-value para Trafalgar\",shapiro.test(Barrios_Top5_$MetrosCuadrados[Barrios_Top5_$Barrio == \"Trafalgar\"])$p.value),\"\\n\")\n",
    "cat(\"\\n\")\n",
    "cat(\"Hay diferencias en la distribucion de los metros cuadrados por barrio, algunas tienden a ser normales otras no\\n\\n\")\n",
    "cat(\"Ejecuto el test de kruskal \\n\")\n",
    "\n",
    "kruskal.test(MetrosCuadrados ~ Barrio, data = Barrios_Top5_)\n",
    "    \n",
    "cat(\"El p-value por encima de 0.7574 parece indicar que no son estadisticamente diferentes\")\n"
   ]
  },
  {
   "cell_type": "markdown",
   "metadata": {},
   "source": [
    "Para únicamente los pisos de alquiler en el barrio de Sol:\n",
    "\n",
    "``barrio_sol<-subset(airbnb_entire,Barrio==\"Sol\")``\n",
    "\n",
    "Calcular un modelo lineal que combine alguna de estas variables:\n",
    "* NumBanyos\n",
    "* NumDormitorios\n",
    "* MaxOcupantes\n",
    "* MetrosCuadrados"
   ]
  },
  {
   "cell_type": "code",
   "execution_count": 35,
   "metadata": {},
   "outputs": [
    {
     "data": {
      "text/html": [
       "<table class=\"dataframe\">\n",
       "<caption>A data.frame: 701 × 14</caption>\n",
       "<thead>\n",
       "\t<tr><th></th><th scope=col>CodigoPostal</th><th scope=col>Barrio</th><th scope=col>TipoPropiedad</th><th scope=col>TipoAlquiler</th><th scope=col>MaxOcupantes</th><th scope=col>NumBanyos</th><th scope=col>NumDormitorios</th><th scope=col>NumCamas</th><th scope=col>TipoCama</th><th scope=col>Comodidades</th><th scope=col>PiesCuadrados</th><th scope=col>Precio</th><th scope=col>Puntuacion</th><th scope=col>MetrosCuadrados</th></tr>\n",
       "\t<tr><th></th><th scope=col>&lt;fct&gt;</th><th scope=col>&lt;fct&gt;</th><th scope=col>&lt;fct&gt;</th><th scope=col>&lt;fct&gt;</th><th scope=col>&lt;int&gt;</th><th scope=col>&lt;dbl&gt;</th><th scope=col>&lt;int&gt;</th><th scope=col>&lt;int&gt;</th><th scope=col>&lt;fct&gt;</th><th scope=col>&lt;fct&gt;</th><th scope=col>&lt;int&gt;</th><th scope=col>&lt;int&gt;</th><th scope=col>&lt;int&gt;</th><th scope=col>&lt;dbl&gt;</th></tr>\n",
       "</thead>\n",
       "<tbody>\n",
       "\t<tr><th scope=row>15</th><td>28013</td><td>Sol</td><td>Apartment  </td><td>Entire home/apt</td><td> 4</td><td>1</td><td>1</td><td> 1</td><td>Real Bed     </td><td>TV,Wireless Internet,Air conditioning,Kitchen,Doorman,Elevator in building,Buzzer/wireless intercom,Heating,Family/kid friendly,Suitable for events,Washer,Essentials,Hangers,Hair dryer,Iron                                                                                                                                 </td><td>646</td><td> 75</td><td> 91</td><td>60.01534</td></tr>\n",
       "\t<tr><th scope=row>16</th><td>28013</td><td>Sol</td><td>Condominium</td><td>Entire home/apt</td><td> 6</td><td>1</td><td>2</td><td> 3</td><td>Real Bed     </td><td>TV,Wireless Internet,Air conditioning,Kitchen,Doorman,Elevator in building,Buzzer/wireless intercom,Heating,Family/kid friendly,Washer,Dryer,Essentials,Shampoo,Hangers,Hair dryer,Iron                                                                                                                                       </td><td> NA</td><td>130</td><td>100</td><td>      NA</td></tr>\n",
       "\t<tr><th scope=row>17</th><td>28013</td><td>Sol</td><td>Apartment  </td><td>Entire home/apt</td><td> 4</td><td>1</td><td>1</td><td> 2</td><td>Real Bed     </td><td>TV,Internet,Wireless Internet,Air conditioning,Kitchen,Doorman,Elevator in building,Buzzer/wireless intercom,Heating,Family/kid friendly,Washer,Smoke detector,Carbon monoxide detector,First aid kit,Safety card,Fire extinguisher,Essentials,Shampoo,24-hour check-in,Hangers,Hair dryer,Iron,Laptop friendly workspace     </td><td> NA</td><td>100</td><td> 97</td><td>      NA</td></tr>\n",
       "\t<tr><th scope=row>18</th><td>28012</td><td>Sol</td><td>Apartment  </td><td>Entire home/apt</td><td> 6</td><td>1</td><td>2</td><td> 2</td><td>Real Bed     </td><td>TV,Internet,Wireless Internet,Air conditioning,Kitchen,Smoking allowed,Elevator in building,Buzzer/wireless intercom,Heating,Family/kid friendly,Washer,Dryer,Essentials,Shampoo,Hangers,Hair dryer,Iron,Laptop friendly workspace                                                                                            </td><td> NA</td><td>160</td><td> 95</td><td>      NA</td></tr>\n",
       "\t<tr><th scope=row>19</th><td>28013</td><td>Sol</td><td>Apartment  </td><td>Entire home/apt</td><td> 4</td><td>1</td><td>1</td><td> 2</td><td>Real Bed     </td><td>TV,Internet,Wireless Internet,Air conditioning,Kitchen,Heating,Washer,Essentials,Hangers,Hair dryer,translation missing: en.hosting_amenity_50                                                                                                                                                                                </td><td> NA</td><td> 49</td><td> 95</td><td>      NA</td></tr>\n",
       "\t<tr><th scope=row>21</th><td>28013</td><td>Sol</td><td>Apartment  </td><td>Entire home/apt</td><td> 4</td><td>1</td><td>1</td><td> 2</td><td>Real Bed     </td><td>TV,Wireless Internet,Kitchen,Pets allowed,Elevator in building,Heating,Family/kid friendly,Washer,Essentials,Shampoo,Hangers,Hair dryer,Laptop friendly workspace                                                                                                                                                             </td><td> NA</td><td> 70</td><td> 88</td><td>      NA</td></tr>\n",
       "\t<tr><th scope=row>22</th><td>28005</td><td>Sol</td><td>Apartment  </td><td>Entire home/apt</td><td>10</td><td>2</td><td>4</td><td> 7</td><td>Real Bed     </td><td>TV,Internet,Wireless Internet,Air conditioning,Kitchen,Heating,Family/kid friendly,Washer,Essentials                                                                                                                                                                                                                          </td><td> NA</td><td>210</td><td> 81</td><td>      NA</td></tr>\n",
       "\t<tr><th scope=row>23</th><td>28013</td><td>Sol</td><td>Apartment  </td><td>Entire home/apt</td><td> 6</td><td>1</td><td>2</td><td> 4</td><td>Real Bed     </td><td>TV,Internet,Wireless Internet,Air conditioning,Kitchen,Smoking allowed,Pets allowed,Doorman,Elevator in building,Buzzer/wireless intercom,Heating,Family/kid friendly,Washer,First aid kit,Safety card,Essentials,Shampoo,Hangers,Hair dryer,Iron                                                                             </td><td> NA</td><td>120</td><td> 99</td><td>      NA</td></tr>\n",
       "\t<tr><th scope=row>24</th><td>28012</td><td>Sol</td><td>Apartment  </td><td>Entire home/apt</td><td> 4</td><td>1</td><td>1</td><td> 2</td><td>Real Bed     </td><td>TV,Internet,Wireless Internet,Air conditioning,Kitchen,Elevator in building,Heating,Family/kid friendly,Washer,Smoke detector,Carbon monoxide detector,Essentials,Shampoo,24-hour check-in,Hangers,Hair dryer,Iron,Laptop friendly workspace                                                                                  </td><td> NA</td><td> 50</td><td> 91</td><td>      NA</td></tr>\n",
       "\t<tr><th scope=row>25</th><td>28012</td><td>Sol</td><td>Apartment  </td><td>Entire home/apt</td><td> 4</td><td>1</td><td>1</td><td> 1</td><td>Real Bed     </td><td>TV,Cable TV,Internet,Wireless Internet,Air conditioning,Kitchen,Elevator in building,Buzzer/wireless intercom,Heating,Family/kid friendly,Washer,Essentials,Hair dryer,Iron                                                                                                                                                   </td><td>753</td><td>100</td><td> 87</td><td>69.95596</td></tr>\n",
       "\t<tr><th scope=row>26</th><td>28013</td><td>Sol</td><td>Apartment  </td><td>Entire home/apt</td><td> 4</td><td>1</td><td>1</td><td> 2</td><td>Real Bed     </td><td>TV,Internet,Wireless Internet,Air conditioning,Kitchen,Breakfast,Elevator in building,Heating,Family/kid friendly,Washer,First aid kit,Fire extinguisher,Essentials,Shampoo,Hangers,Hair dryer,Iron,Laptop friendly workspace                                                                                                 </td><td> NA</td><td> 75</td><td>100</td><td>      NA</td></tr>\n",
       "\t<tr><th scope=row>27</th><td>28014</td><td>Sol</td><td>Condominium</td><td>Entire home/apt</td><td> 8</td><td>2</td><td>2</td><td> 5</td><td>Real Bed     </td><td>TV,Internet,Wireless Internet,Air conditioning,Wheelchair accessible,Kitchen,Doorman,Elevator in building,Buzzer/wireless intercom,Heating,Family/kid friendly,Washer,Smoke detector,Carbon monoxide detector,Essentials,Shampoo,24-hour check-in,Hangers,Hair dryer,Iron,Laptop friendly workspace                           </td><td> NA</td><td>155</td><td> 93</td><td>      NA</td></tr>\n",
       "\t<tr><th scope=row>28</th><td>28013</td><td>Sol</td><td>Apartment  </td><td>Entire home/apt</td><td> 6</td><td>2</td><td>2</td><td> 3</td><td>Real Bed     </td><td>TV,Internet,Wireless Internet,Air conditioning,Wheelchair accessible,Kitchen,Doorman,Elevator in building,Buzzer/wireless intercom,Heating,Family/kid friendly,Washer,Dryer,Essentials,Hangers,Hair dryer,Iron                                                                                                                </td><td> NA</td><td>155</td><td> 80</td><td>      NA</td></tr>\n",
       "\t<tr><th scope=row>30</th><td>28005</td><td>Sol</td><td>Apartment  </td><td>Entire home/apt</td><td> 8</td><td>1</td><td>3</td><td> 4</td><td>Real Bed     </td><td>TV,Internet,Wireless Internet,Kitchen,Breakfast,Elevator in building,Buzzer/wireless intercom,Heating,Family/kid friendly,Washer,Essentials,Shampoo,Hangers,Hair dryer,Iron,Laptop friendly workspace,Self Check-In,Lockbox                                                                                                   </td><td> NA</td><td>163</td><td>100</td><td>      NA</td></tr>\n",
       "\t<tr><th scope=row>43</th><td>28013</td><td>Sol</td><td>Apartment  </td><td>Entire home/apt</td><td> 4</td><td>1</td><td>1</td><td> 1</td><td>Pull-out Sofa</td><td>TV,Internet,Wireless Internet,Air conditioning,Kitchen,Elevator in building,Buzzer/wireless intercom,Heating,Family/kid friendly,Washer,Smoke detector,Carbon monoxide detector,First aid kit,Essentials,Shampoo,24-hour check-in,Hangers,Hair dryer,Iron,Laptop friendly workspace,translation missing: en.hosting_amenity_50</td><td> NA</td><td> 64</td><td> 97</td><td>      NA</td></tr>\n",
       "\t<tr><th scope=row>44</th><td>28013</td><td>Sol</td><td>Apartment  </td><td>Entire home/apt</td><td> 6</td><td>2</td><td>2</td><td> 2</td><td>Real Bed     </td><td>TV,Wireless Internet,Air conditioning,Kitchen,Elevator in building,Heating,Washer,Essentials,Shampoo                                                                                                                                                                                                                          </td><td> NA</td><td>109</td><td> 90</td><td>      NA</td></tr>\n",
       "\t<tr><th scope=row>45</th><td>28013</td><td>Sol</td><td>Apartment  </td><td>Entire home/apt</td><td> 3</td><td>1</td><td>1</td><td> 2</td><td>Real Bed     </td><td>TV,Internet,Wireless Internet,Air conditioning,Kitchen,Smoking allowed,Elevator in building,Buzzer/wireless intercom,Heating,Family/kid friendly,Washer,Fire extinguisher,Essentials,Shampoo,Hangers,Hair dryer,Iron                                                                                                          </td><td> NA</td><td> 67</td><td> 95</td><td>      NA</td></tr>\n",
       "\t<tr><th scope=row>46</th><td>28013</td><td>Sol</td><td>Apartment  </td><td>Entire home/apt</td><td> 2</td><td>1</td><td>1</td><td> 1</td><td>Real Bed     </td><td>TV,Internet,Wireless Internet,Air conditioning,Kitchen,Elevator in building,Buzzer/wireless intercom,Heating,Family/kid friendly,Washer,First aid kit,Essentials,Shampoo,Hair dryer,Iron                                                                                                                                      </td><td>269</td><td> 65</td><td> 93</td><td>24.99091</td></tr>\n",
       "\t<tr><th scope=row>47</th><td>28013</td><td>Sol</td><td>Apartment  </td><td>Entire home/apt</td><td> 3</td><td>1</td><td>0</td><td> 2</td><td>Real Bed     </td><td>TV,Wireless Internet,Air conditioning,Kitchen,Elevator in building,Washer,Fire extinguisher,Essentials,translation missing: en.hosting_amenity_49,translation missing: en.hosting_amenity_50                                                                                                                                  </td><td>  0</td><td> 41</td><td> 89</td><td> 0.00000</td></tr>\n",
       "\t<tr><th scope=row>48</th><td>28012</td><td>Sol</td><td>Apartment  </td><td>Entire home/apt</td><td> 3</td><td>1</td><td>1</td><td> 1</td><td>Real Bed     </td><td>TV,Internet,Wireless Internet,Air conditioning,Kitchen,Smoking allowed,Pets allowed,Elevator in building,Heating,Family/kid friendly,Washer,Essentials                                                                                                                                                                        </td><td> NA</td><td>109</td><td> 92</td><td>      NA</td></tr>\n",
       "\t<tr><th scope=row>49</th><td>28013</td><td>Sol</td><td>Apartment  </td><td>Entire home/apt</td><td> 4</td><td>1</td><td>2</td><td> 2</td><td>Real Bed     </td><td>TV,Internet,Wireless Internet,Air conditioning,Kitchen,Smoking allowed,Heating,Family/kid friendly,Washer,Essentials,Shampoo,Hangers,Hair dryer,Iron,Laptop friendly workspace                                                                                                                                                </td><td> NA</td><td> 71</td><td> 93</td><td>      NA</td></tr>\n",
       "\t<tr><th scope=row>50</th><td>28012</td><td>Sol</td><td>Apartment  </td><td>Entire home/apt</td><td> 4</td><td>2</td><td>2</td><td> 2</td><td>Real Bed     </td><td>TV,Cable TV,Internet,Wireless Internet,Air conditioning,Kitchen,Elevator in building,Buzzer/wireless intercom,Heating,Family/kid friendly,Washer,Dryer,First aid kit,Fire extinguisher,Essentials,Shampoo,Hangers,Hair dryer,Iron,Laptop friendly workspace                                                                   </td><td> NA</td><td>110</td><td> 98</td><td>      NA</td></tr>\n",
       "\t<tr><th scope=row>52</th><td>28013</td><td>Sol</td><td>Condominium</td><td>Entire home/apt</td><td> 4</td><td>1</td><td>1</td><td> 1</td><td>Real Bed     </td><td>TV,Wireless Internet,Air conditioning,Kitchen,Elevator in building,Hot tub,Heating,Washer,Essentials,Shampoo,Hangers,Hair dryer,Iron,translation missing: en.hosting_amenity_49,translation missing: en.hosting_amenity_50                                                                                                    </td><td> NA</td><td>150</td><td> 80</td><td>      NA</td></tr>\n",
       "\t<tr><th scope=row>53</th><td>28013</td><td>Sol</td><td>Apartment  </td><td>Entire home/apt</td><td> 4</td><td>1</td><td>1</td><td> 3</td><td>Real Bed     </td><td>TV,Internet,Wireless Internet,Air conditioning,Kitchen,Doorman,Elevator in building,Buzzer/wireless intercom,Heating,Family/kid friendly,Washer,Fire extinguisher,Essentials,Shampoo,24-hour check-in,Hangers,Hair dryer,Iron,Laptop friendly workspace,Private entrance                                                      </td><td> NA</td><td>110</td><td> 95</td><td>      NA</td></tr>\n",
       "\t<tr><th scope=row>55</th><td>28013</td><td>Sol</td><td>Apartment  </td><td>Entire home/apt</td><td> 4</td><td>1</td><td>2</td><td> 3</td><td>Real Bed     </td><td>TV,Internet,Wireless Internet,Air conditioning,Kitchen,Buzzer/wireless intercom,Heating,Family/kid friendly,Washer,Essentials,Shampoo,Hangers,Hair dryer,Iron,Laptop friendly workspace                                                                                                                                       </td><td> NA</td><td> 90</td><td>100</td><td>      NA</td></tr>\n",
       "\t<tr><th scope=row>57</th><td>28012</td><td>Sol</td><td>Apartment  </td><td>Entire home/apt</td><td> 4</td><td>1</td><td>1</td><td> 1</td><td>Pull-out Sofa</td><td>TV,Wireless Internet,Air conditioning,Kitchen,Doorman,Elevator in building,Buzzer/wireless intercom,Heating,Family/kid friendly,Washer,Smoke detector,Carbon monoxide detector,First aid kit,Safety card,Fire extinguisher,Essentials,Shampoo,24-hour check-in,Hangers,Hair dryer,Iron,Laptop friendly workspace              </td><td> NA</td><td> 84</td><td> 96</td><td>      NA</td></tr>\n",
       "\t<tr><th scope=row>569</th><td>28012</td><td>Sol</td><td>Apartment  </td><td>Entire home/apt</td><td>16</td><td>4</td><td>4</td><td>11</td><td>Real Bed     </td><td>TV,Internet,Wireless Internet,Air conditioning,Kitchen,Smoking allowed,Pets allowed,Elevator in building,Buzzer/wireless intercom,Heating,Family/kid friendly,Washer,Dryer,First aid kit,Essentials,Shampoo,Hangers,Hair dryer,Iron,Private entrance                                                                          </td><td> NA</td><td>350</td><td> NA</td><td>      NA</td></tr>\n",
       "\t<tr><th scope=row>570</th><td>28012</td><td>Sol</td><td>Apartment  </td><td>Entire home/apt</td><td> 5</td><td>2</td><td>2</td><td> 4</td><td>Real Bed     </td><td>TV,Wireless Internet,Air conditioning,Kitchen,Buzzer/wireless intercom,Heating,Family/kid friendly,Washer                                                                                                                                                                                                                     </td><td>  0</td><td> 90</td><td> 95</td><td> 0.00000</td></tr>\n",
       "\t<tr><th scope=row>571</th><td>28012</td><td>Sol</td><td>Apartment  </td><td>Entire home/apt</td><td> 8</td><td>1</td><td>2</td><td> 2</td><td>Real Bed     </td><td>TV,Wireless Internet,Air conditioning,Kitchen,Smoking allowed,Doorman,Breakfast,Buzzer/wireless intercom,Heating,Family/kid friendly,Washer,Smoke detector,Carbon monoxide detector,First aid kit,Safety card,Essentials,Shampoo,24-hour check-in,Hangers,Hair dryer,Iron,Laptop friendly workspace,Private entrance          </td><td> NA</td><td> 95</td><td> 60</td><td>      NA</td></tr>\n",
       "\t<tr><th scope=row>572</th><td>28012</td><td>Sol</td><td>Apartment  </td><td>Entire home/apt</td><td> 4</td><td>1</td><td>0</td><td> 1</td><td>Real Bed     </td><td>TV,Internet,Wireless Internet,Kitchen,Doorman,Elevator in building,Buzzer/wireless intercom,Heating,Family/kid friendly,Washer,Dryer,Essentials,Hangers,Hair dryer,Iron,Laptop friendly workspace                                                                                                                             </td><td> NA</td><td> 90</td><td> 92</td><td>      NA</td></tr>\n",
       "\t<tr><th scope=row>⋮</th><td>⋮</td><td>⋮</td><td>⋮</td><td>⋮</td><td>⋮</td><td>⋮</td><td>⋮</td><td>⋮</td><td>⋮</td><td>⋮</td><td>⋮</td><td>⋮</td><td>⋮</td><td>⋮</td></tr>\n",
       "\t<tr><th scope=row>12755</th><td>28012</td><td>Sol</td><td>Apartment  </td><td>Entire home/apt</td><td> 4</td><td>1.0</td><td>2</td><td>3</td><td>Real Bed     </td><td>TV,Internet,Wireless Internet,Air conditioning,Kitchen,Heating,Washer,Essentials,translation missing: en.hosting_amenity_49,translation missing: en.hosting_amenity_50                                                                                                                                                               </td><td> NA</td><td> 49</td><td> 81</td><td>      NA</td></tr>\n",
       "\t<tr><th scope=row>12756</th><td>28013</td><td>Sol</td><td>Loft       </td><td>Entire home/apt</td><td> 6</td><td>1.5</td><td>3</td><td>3</td><td>Real Bed     </td><td>TV,Wireless Internet,Air conditioning,Kitchen,Breakfast,Heating,Family/kid friendly,Washer,Dryer,Smoke detector,Carbon monoxide detector,Essentials,Shampoo,24-hour check-in,Hangers,Hair dryer,Iron,Laptop friendly workspace                                                                                                       </td><td> NA</td><td>175</td><td> 98</td><td>      NA</td></tr>\n",
       "\t<tr><th scope=row>12757</th><td>28013</td><td>Sol</td><td>Apartment  </td><td>Entire home/apt</td><td> 4</td><td>1.0</td><td>1</td><td>2</td><td>Real Bed     </td><td>Internet,Wireless Internet,Air conditioning,Kitchen,Doorman,Elevator in building,Buzzer/wireless intercom,Heating,Family/kid friendly,Washer,First aid kit,Essentials,Shampoo,24-hour check-in,Hangers,Hair dryer,Iron,Laptop friendly workspace                                                                                     </td><td> NA</td><td> 75</td><td> 98</td><td>      NA</td></tr>\n",
       "\t<tr><th scope=row>12908</th><td>28013</td><td>Sol</td><td>Apartment  </td><td>Entire home/apt</td><td> 6</td><td>2.0</td><td>2</td><td>2</td><td>Real Bed     </td><td>TV,Internet,Wireless Internet,Air conditioning,Kitchen,Doorman,Elevator in building,Buzzer/wireless intercom,Heating,Family/kid friendly,Washer,Safety card,Fire extinguisher,Essentials,Shampoo,24-hour check-in,Hangers,Hair dryer,Iron,Laptop friendly workspace,Private entrance                                                 </td><td> NA</td><td>130</td><td> 95</td><td>      NA</td></tr>\n",
       "\t<tr><th scope=row>12909</th><td>28005</td><td>Sol</td><td>Apartment  </td><td>Entire home/apt</td><td> 6</td><td>1.0</td><td>2</td><td>3</td><td>Real Bed     </td><td>TV,Cable TV,Internet,Wireless Internet,Air conditioning,Kitchen,Elevator in building,Buzzer/wireless intercom,Heating,Family/kid friendly,Washer,Dryer,Smoke detector,Carbon monoxide detector,Essentials,Shampoo,24-hour check-in,Hangers,Hair dryer,Iron,Laptop friendly workspace                                                 </td><td> NA</td><td> 99</td><td> 89</td><td>      NA</td></tr>\n",
       "\t<tr><th scope=row>12910</th><td>28013</td><td>Sol</td><td>Apartment  </td><td>Entire home/apt</td><td> 6</td><td>1.0</td><td>2</td><td>3</td><td>Real Bed     </td><td>TV,Wireless Internet,Air conditioning,Kitchen,Smoking allowed,Elevator in building,Heating,Washer,Smoke detector,Shampoo,translation missing: en.hosting_amenity_49,translation missing: en.hosting_amenity_50                                                                                                                       </td><td> NA</td><td> 69</td><td> 87</td><td>      NA</td></tr>\n",
       "\t<tr><th scope=row>12911</th><td>28013</td><td>Sol</td><td>Apartment  </td><td>Entire home/apt</td><td> 3</td><td>1.0</td><td>1</td><td>1</td><td>Real Bed     </td><td>TV,Internet,Wireless Internet,Air conditioning,Kitchen,Elevator in building,Heating,Family/kid friendly,Washer,Essentials                                                                                                                                                                                                            </td><td> NA</td><td> 80</td><td> 95</td><td>      NA</td></tr>\n",
       "\t<tr><th scope=row>12912</th><td>28013</td><td>Sol</td><td>Apartment  </td><td>Entire home/apt</td><td>10</td><td>3.0</td><td>3</td><td>7</td><td>Real Bed     </td><td>TV,Internet,Air conditioning,Kitchen,Smoking allowed,Pets allowed,Heating,Family/kid friendly,Washer                                                                                                                                                                                                                                 </td><td>807</td><td>150</td><td> 65</td><td>74.97272</td></tr>\n",
       "\t<tr><th scope=row>12913</th><td>28013</td><td>Sol</td><td>Apartment  </td><td>Entire home/apt</td><td> 4</td><td>1.0</td><td>1</td><td>1</td><td>Real Bed     </td><td>TV,Wireless Internet,Heating,Family/kid friendly,Washer,Essentials,Hair dryer,Iron                                                                                                                                                                                                                                                   </td><td> NA</td><td> 35</td><td> 75</td><td>      NA</td></tr>\n",
       "\t<tr><th scope=row>12914</th><td>28013</td><td>Sol</td><td>Apartment  </td><td>Entire home/apt</td><td> 4</td><td>1.0</td><td>1</td><td>1</td><td>Real Bed     </td><td>TV,Internet,Wireless Internet,Air conditioning,Kitchen,Smoking allowed,Breakfast,Elevator in building,Heating,Family/kid friendly,Washer,Essentials,Hangers,Hair dryer,Iron                                                                                                                                                          </td><td> NA</td><td> 95</td><td> 97</td><td>      NA</td></tr>\n",
       "\t<tr><th scope=row>12915</th><td>28013</td><td>Sol</td><td>Apartment  </td><td>Entire home/apt</td><td> 4</td><td>1.0</td><td>1</td><td>2</td><td>Real Bed     </td><td>TV,Wireless Internet,Air conditioning,Kitchen,Doorman,Elevator in building,Buzzer/wireless intercom,Heating,Family/kid friendly,Washer,Essentials,Shampoo                                                                                                                                                                            </td><td> NA</td><td>103</td><td>100</td><td>      NA</td></tr>\n",
       "\t<tr><th scope=row>12917</th><td>28013</td><td>Sol</td><td>Apartment  </td><td>Entire home/apt</td><td> 4</td><td>1.0</td><td>0</td><td>2</td><td>Real Bed     </td><td>TV,Wireless Internet,Air conditioning,Wheelchair accessible,Kitchen,Doorman,Elevator in building,Buzzer/wireless intercom,Heating,Family/kid friendly,Washer,Essentials,Shampoo                                                                                                                                                      </td><td> NA</td><td> 79</td><td> NA</td><td>      NA</td></tr>\n",
       "\t<tr><th scope=row>12918</th><td>28012</td><td>Sol</td><td>Apartment  </td><td>Entire home/apt</td><td> 4</td><td>1.0</td><td>1</td><td>2</td><td>Real Bed     </td><td>TV,Internet,Wireless Internet,Air conditioning,Kitchen,Doorman,Elevator in building,Buzzer/wireless intercom,Heating,Family/kid friendly,Washer,Smoke detector,Carbon monoxide detector,First aid kit,Essentials,Shampoo,24-hour check-in,Hangers,Hair dryer,Iron,Laptop friendly workspace                                          </td><td> NA</td><td> 80</td><td> 96</td><td>      NA</td></tr>\n",
       "\t<tr><th scope=row>12919</th><td>28004</td><td>Sol</td><td>Apartment  </td><td>Entire home/apt</td><td> 4</td><td>1.0</td><td>1</td><td>2</td><td>Real Bed     </td><td>TV,Internet,Wireless Internet,Air conditioning,Kitchen,Smoking allowed,Pets allowed,Elevator in building,Heating,Family/kid friendly,Washer,Dryer,Essentials,Shampoo                                                                                                                                                                 </td><td> NA</td><td> 62</td><td> 92</td><td>      NA</td></tr>\n",
       "\t<tr><th scope=row>12921</th><td>28013</td><td>Sol</td><td>Apartment  </td><td>Entire home/apt</td><td> 2</td><td>1.0</td><td>1</td><td>1</td><td>Pull-out Sofa</td><td>TV,Cable TV,Internet,Wireless Internet,Air conditioning,Kitchen,Doorman,Elevator in building,Heating,Family/kid friendly,Smoke detector,First aid kit,Safety card,Fire extinguisher,Essentials,Shampoo,24-hour check-in,Hangers,Hair dryer,Iron,Laptop friendly workspace,translation missing: en.hosting_amenity_49                 </td><td> NA</td><td> 55</td><td> 97</td><td>      NA</td></tr>\n",
       "\t<tr><th scope=row>12922</th><td>28012</td><td>Sol</td><td>Apartment  </td><td>Entire home/apt</td><td> 6</td><td>1.0</td><td>1</td><td>3</td><td>Real Bed     </td><td>TV,Internet,Wireless Internet,Air conditioning,Kitchen,Buzzer/wireless intercom,Heating,Family/kid friendly,Washer,Essentials,Shampoo,24-hour check-in,Hair dryer,Iron,Laptop friendly workspace                                                                                                                                     </td><td> NA</td><td> 80</td><td> 94</td><td>      NA</td></tr>\n",
       "\t<tr><th scope=row>12923</th><td>28012</td><td>Sol</td><td>Loft       </td><td>Entire home/apt</td><td> 4</td><td>1.0</td><td>1</td><td>2</td><td>Real Bed     </td><td>TV,Internet,Wireless Internet,Air conditioning,Wheelchair accessible,Kitchen,Doorman,Elevator in building,Heating,Family/kid friendly,Washer,First aid kit,Fire extinguisher,Essentials,Shampoo,24-hour check-in,Hangers,Hair dryer                                                                                                  </td><td> NA</td><td> 80</td><td> 96</td><td>      NA</td></tr>\n",
       "\t<tr><th scope=row>12924</th><td>28013</td><td>Sol</td><td>Apartment  </td><td>Entire home/apt</td><td> 4</td><td>1.0</td><td>1</td><td>2</td><td>Real Bed     </td><td>TV,Internet,Wireless Internet,Air conditioning,Kitchen,Doorman,Elevator in building,Buzzer/wireless intercom,Heating,Family/kid friendly,Washer,Essentials,Shampoo,24-hour check-in,Hangers,Hair dryer,Iron,Laptop friendly workspace                                                                                                </td><td>  0</td><td> 72</td><td> 96</td><td> 0.00000</td></tr>\n",
       "\t<tr><th scope=row>12925</th><td>28013</td><td>Sol</td><td>Apartment  </td><td>Entire home/apt</td><td> 4</td><td>1.0</td><td>1</td><td>2</td><td>Real Bed     </td><td>TV,Wireless Internet,Air conditioning,Kitchen,Elevator in building,Heating,Family/kid friendly,Washer,Hair dryer,Iron                                                                                                                                                                                                                </td><td>431</td><td> 71</td><td> 91</td><td>40.04119</td></tr>\n",
       "\t<tr><th scope=row>12926</th><td>28013</td><td>Sol</td><td>Apartment  </td><td>Entire home/apt</td><td> 8</td><td>2.0</td><td>3</td><td>8</td><td>Real Bed     </td><td>TV,Internet,Wireless Internet,Air conditioning,Wheelchair accessible,Kitchen,Doorman,Elevator in building,Heating,Family/kid friendly,Suitable for events,Washer,Dryer,Smoke detector,First aid kit,Fire extinguisher,Shampoo                                                                                                        </td><td> NA</td><td>250</td><td> 88</td><td>      NA</td></tr>\n",
       "\t<tr><th scope=row>12928</th><td>28001</td><td>Sol</td><td>Apartment  </td><td>Entire home/apt</td><td> 4</td><td>1.0</td><td>2</td><td>2</td><td>Real Bed     </td><td>TV,Internet,Wireless Internet,Air conditioning,Kitchen,Elevator in building,Buzzer/wireless intercom,Heating,Family/kid friendly,Washer,First aid kit,Essentials,Shampoo,24-hour check-in,Hangers,Hair dryer,Iron,Laptop friendly workspace                                                                                          </td><td> NA</td><td> 75</td><td> 95</td><td>      NA</td></tr>\n",
       "\t<tr><th scope=row>12929</th><td>28012</td><td>Sol</td><td>Apartment  </td><td>Entire home/apt</td><td> 5</td><td>2.0</td><td>2</td><td>3</td><td>Real Bed     </td><td>TV,Kitchen,Buzzer/wireless intercom,Heating,Family/kid friendly,Washer                                                                                                                                                                                                                                                               </td><td>  0</td><td>115</td><td> 86</td><td> 0.00000</td></tr>\n",
       "\t<tr><th scope=row>12933</th><td>28012</td><td>Sol</td><td>House      </td><td>Entire home/apt</td><td> 6</td><td>2.0</td><td>2</td><td>6</td><td>Real Bed     </td><td>TV,Wireless Internet,Air conditioning,Kitchen,Elevator in building,Buzzer/wireless intercom,Heating,Family/kid friendly,Washer,First aid kit,Safety card,Fire extinguisher,Essentials,Shampoo,Hangers,Hair dryer,Iron,Laptop friendly workspace                                                                                      </td><td> NA</td><td>175</td><td> 91</td><td>      NA</td></tr>\n",
       "\t<tr><th scope=row>12934</th><td>28013</td><td>Sol</td><td>Apartment  </td><td>Entire home/apt</td><td> 2</td><td>1.0</td><td>1</td><td>1</td><td>Real Bed     </td><td>TV,Wireless Internet,Air conditioning,Kitchen,Heating,Family/kid friendly,Washer,Dryer                                                                                                                                                                                                                                               </td><td> NA</td><td> 75</td><td> 97</td><td>      NA</td></tr>\n",
       "\t<tr><th scope=row>12935</th><td>28013</td><td>Sol</td><td>Condominium</td><td>Entire home/apt</td><td> 2</td><td>1.0</td><td>0</td><td>1</td><td>Real Bed     </td><td>TV,Internet,Wireless Internet,Air conditioning,Kitchen,Elevator in building,Heating,Washer,Essentials,Hangers,Hair dryer,Iron,Laptop friendly workspace                                                                                                                                                                              </td><td> NA</td><td> 50</td><td> 87</td><td>      NA</td></tr>\n",
       "\t<tr><th scope=row>12936</th><td>28013</td><td>Sol</td><td>Apartment  </td><td>Entire home/apt</td><td> 4</td><td>1.0</td><td>2</td><td>2</td><td>Real Bed     </td><td>TV,Internet,Wireless Internet,Air conditioning,Wheelchair accessible,Kitchen,Smoking allowed,Elevator in building,Heating,Family/kid friendly,Washer,Smoke detector,First aid kit,Safety card,Fire extinguisher,Essentials,24-hour check-in,Hangers,Hair dryer,Iron,Laptop friendly workspace                                        </td><td> NA</td><td> 89</td><td> 92</td><td>      NA</td></tr>\n",
       "\t<tr><th scope=row>12937</th><td>28012</td><td>Sol</td><td>Apartment  </td><td>Entire home/apt</td><td> 4</td><td>1.0</td><td>0</td><td>1</td><td>Real Bed     </td><td>TV,Internet,Wireless Internet,Kitchen,Doorman,Elevator in building,Buzzer/wireless intercom,Heating,Family/kid friendly,Washer,Dryer,Essentials,Hangers,Hair dryer,Iron,Laptop friendly workspace                                                                                                                                    </td><td> NA</td><td> 90</td><td>100</td><td>      NA</td></tr>\n",
       "\t<tr><th scope=row>12938</th><td>28013</td><td>Sol</td><td>Apartment  </td><td>Entire home/apt</td><td> 6</td><td>2.0</td><td>1</td><td>3</td><td>Real Bed     </td><td>TV,Internet,Wireless Internet,Air conditioning,Elevator in building,Heating,Family/kid friendly,Essentials,Hair dryer                                                                                                                                                                                                                </td><td> NA</td><td>115</td><td> 84</td><td>      NA</td></tr>\n",
       "\t<tr><th scope=row>12939</th><td>28012</td><td>Sol</td><td>Apartment  </td><td>Entire home/apt</td><td> 2</td><td>1.0</td><td>1</td><td>1</td><td>Real Bed     </td><td>TV,Internet,Wireless Internet,Kitchen,Doorman,Buzzer/wireless intercom,Heating,Washer,Smoke detector,Carbon monoxide detector,Essentials,Shampoo,24-hour check-in,Hangers,Hair dryer,Iron,Laptop friendly workspace,translation missing: en.hosting_amenity_49,translation missing: en.hosting_amenity_50,Self Check-In,Doorman Entry</td><td> NA</td><td> 90</td><td> 96</td><td>      NA</td></tr>\n",
       "\t<tr><th scope=row>12940</th><td>28013</td><td>Sol</td><td>Apartment  </td><td>Entire home/apt</td><td> 4</td><td>1.0</td><td>1</td><td>1</td><td>Real Bed     </td><td>Internet,Wireless Internet,Kitchen,Pets allowed,Doorman,Elevator in building,Buzzer/wireless intercom,Heating,Family/kid friendly,First aid kit,Essentials,Hangers,Hair dryer,Iron,Laptop friendly workspace                                                                                                                         </td><td> NA</td><td> 69</td><td> 80</td><td>      NA</td></tr>\n",
       "</tbody>\n",
       "</table>\n"
      ],
      "text/latex": [
       "A data.frame: 701 × 14\n",
       "\\begin{tabular}{r|llllllllllllll}\n",
       "  & CodigoPostal & Barrio & TipoPropiedad & TipoAlquiler & MaxOcupantes & NumBanyos & NumDormitorios & NumCamas & TipoCama & Comodidades & PiesCuadrados & Precio & Puntuacion & MetrosCuadrados\\\\\n",
       "  & <fct> & <fct> & <fct> & <fct> & <int> & <dbl> & <int> & <int> & <fct> & <fct> & <int> & <int> & <int> & <dbl>\\\\\n",
       "\\hline\n",
       "\t15 & 28013 & Sol & Apartment   & Entire home/apt &  4 & 1 & 1 &  1 & Real Bed      & TV,Wireless Internet,Air conditioning,Kitchen,Doorman,Elevator in building,Buzzer/wireless intercom,Heating,Family/kid friendly,Suitable for events,Washer,Essentials,Hangers,Hair dryer,Iron                                                                                                                                  & 646 &  75 &  91 & 60.01534\\\\\n",
       "\t16 & 28013 & Sol & Condominium & Entire home/apt &  6 & 1 & 2 &  3 & Real Bed      & TV,Wireless Internet,Air conditioning,Kitchen,Doorman,Elevator in building,Buzzer/wireless intercom,Heating,Family/kid friendly,Washer,Dryer,Essentials,Shampoo,Hangers,Hair dryer,Iron                                                                                                                                        &  NA & 130 & 100 &       NA\\\\\n",
       "\t17 & 28013 & Sol & Apartment   & Entire home/apt &  4 & 1 & 1 &  2 & Real Bed      & TV,Internet,Wireless Internet,Air conditioning,Kitchen,Doorman,Elevator in building,Buzzer/wireless intercom,Heating,Family/kid friendly,Washer,Smoke detector,Carbon monoxide detector,First aid kit,Safety card,Fire extinguisher,Essentials,Shampoo,24-hour check-in,Hangers,Hair dryer,Iron,Laptop friendly workspace      &  NA & 100 &  97 &       NA\\\\\n",
       "\t18 & 28012 & Sol & Apartment   & Entire home/apt &  6 & 1 & 2 &  2 & Real Bed      & TV,Internet,Wireless Internet,Air conditioning,Kitchen,Smoking allowed,Elevator in building,Buzzer/wireless intercom,Heating,Family/kid friendly,Washer,Dryer,Essentials,Shampoo,Hangers,Hair dryer,Iron,Laptop friendly workspace                                                                                             &  NA & 160 &  95 &       NA\\\\\n",
       "\t19 & 28013 & Sol & Apartment   & Entire home/apt &  4 & 1 & 1 &  2 & Real Bed      & TV,Internet,Wireless Internet,Air conditioning,Kitchen,Heating,Washer,Essentials,Hangers,Hair dryer,translation missing: en.hosting\\_amenity\\_50                                                                                                                                                                                 &  NA &  49 &  95 &       NA\\\\\n",
       "\t21 & 28013 & Sol & Apartment   & Entire home/apt &  4 & 1 & 1 &  2 & Real Bed      & TV,Wireless Internet,Kitchen,Pets allowed,Elevator in building,Heating,Family/kid friendly,Washer,Essentials,Shampoo,Hangers,Hair dryer,Laptop friendly workspace                                                                                                                                                              &  NA &  70 &  88 &       NA\\\\\n",
       "\t22 & 28005 & Sol & Apartment   & Entire home/apt & 10 & 2 & 4 &  7 & Real Bed      & TV,Internet,Wireless Internet,Air conditioning,Kitchen,Heating,Family/kid friendly,Washer,Essentials                                                                                                                                                                                                                           &  NA & 210 &  81 &       NA\\\\\n",
       "\t23 & 28013 & Sol & Apartment   & Entire home/apt &  6 & 1 & 2 &  4 & Real Bed      & TV,Internet,Wireless Internet,Air conditioning,Kitchen,Smoking allowed,Pets allowed,Doorman,Elevator in building,Buzzer/wireless intercom,Heating,Family/kid friendly,Washer,First aid kit,Safety card,Essentials,Shampoo,Hangers,Hair dryer,Iron                                                                              &  NA & 120 &  99 &       NA\\\\\n",
       "\t24 & 28012 & Sol & Apartment   & Entire home/apt &  4 & 1 & 1 &  2 & Real Bed      & TV,Internet,Wireless Internet,Air conditioning,Kitchen,Elevator in building,Heating,Family/kid friendly,Washer,Smoke detector,Carbon monoxide detector,Essentials,Shampoo,24-hour check-in,Hangers,Hair dryer,Iron,Laptop friendly workspace                                                                                   &  NA &  50 &  91 &       NA\\\\\n",
       "\t25 & 28012 & Sol & Apartment   & Entire home/apt &  4 & 1 & 1 &  1 & Real Bed      & TV,Cable TV,Internet,Wireless Internet,Air conditioning,Kitchen,Elevator in building,Buzzer/wireless intercom,Heating,Family/kid friendly,Washer,Essentials,Hair dryer,Iron                                                                                                                                                    & 753 & 100 &  87 & 69.95596\\\\\n",
       "\t26 & 28013 & Sol & Apartment   & Entire home/apt &  4 & 1 & 1 &  2 & Real Bed      & TV,Internet,Wireless Internet,Air conditioning,Kitchen,Breakfast,Elevator in building,Heating,Family/kid friendly,Washer,First aid kit,Fire extinguisher,Essentials,Shampoo,Hangers,Hair dryer,Iron,Laptop friendly workspace                                                                                                  &  NA &  75 & 100 &       NA\\\\\n",
       "\t27 & 28014 & Sol & Condominium & Entire home/apt &  8 & 2 & 2 &  5 & Real Bed      & TV,Internet,Wireless Internet,Air conditioning,Wheelchair accessible,Kitchen,Doorman,Elevator in building,Buzzer/wireless intercom,Heating,Family/kid friendly,Washer,Smoke detector,Carbon monoxide detector,Essentials,Shampoo,24-hour check-in,Hangers,Hair dryer,Iron,Laptop friendly workspace                            &  NA & 155 &  93 &       NA\\\\\n",
       "\t28 & 28013 & Sol & Apartment   & Entire home/apt &  6 & 2 & 2 &  3 & Real Bed      & TV,Internet,Wireless Internet,Air conditioning,Wheelchair accessible,Kitchen,Doorman,Elevator in building,Buzzer/wireless intercom,Heating,Family/kid friendly,Washer,Dryer,Essentials,Hangers,Hair dryer,Iron                                                                                                                 &  NA & 155 &  80 &       NA\\\\\n",
       "\t30 & 28005 & Sol & Apartment   & Entire home/apt &  8 & 1 & 3 &  4 & Real Bed      & TV,Internet,Wireless Internet,Kitchen,Breakfast,Elevator in building,Buzzer/wireless intercom,Heating,Family/kid friendly,Washer,Essentials,Shampoo,Hangers,Hair dryer,Iron,Laptop friendly workspace,Self Check-In,Lockbox                                                                                                    &  NA & 163 & 100 &       NA\\\\\n",
       "\t43 & 28013 & Sol & Apartment   & Entire home/apt &  4 & 1 & 1 &  1 & Pull-out Sofa & TV,Internet,Wireless Internet,Air conditioning,Kitchen,Elevator in building,Buzzer/wireless intercom,Heating,Family/kid friendly,Washer,Smoke detector,Carbon monoxide detector,First aid kit,Essentials,Shampoo,24-hour check-in,Hangers,Hair dryer,Iron,Laptop friendly workspace,translation missing: en.hosting\\_amenity\\_50 &  NA &  64 &  97 &       NA\\\\\n",
       "\t44 & 28013 & Sol & Apartment   & Entire home/apt &  6 & 2 & 2 &  2 & Real Bed      & TV,Wireless Internet,Air conditioning,Kitchen,Elevator in building,Heating,Washer,Essentials,Shampoo                                                                                                                                                                                                                           &  NA & 109 &  90 &       NA\\\\\n",
       "\t45 & 28013 & Sol & Apartment   & Entire home/apt &  3 & 1 & 1 &  2 & Real Bed      & TV,Internet,Wireless Internet,Air conditioning,Kitchen,Smoking allowed,Elevator in building,Buzzer/wireless intercom,Heating,Family/kid friendly,Washer,Fire extinguisher,Essentials,Shampoo,Hangers,Hair dryer,Iron                                                                                                           &  NA &  67 &  95 &       NA\\\\\n",
       "\t46 & 28013 & Sol & Apartment   & Entire home/apt &  2 & 1 & 1 &  1 & Real Bed      & TV,Internet,Wireless Internet,Air conditioning,Kitchen,Elevator in building,Buzzer/wireless intercom,Heating,Family/kid friendly,Washer,First aid kit,Essentials,Shampoo,Hair dryer,Iron                                                                                                                                       & 269 &  65 &  93 & 24.99091\\\\\n",
       "\t47 & 28013 & Sol & Apartment   & Entire home/apt &  3 & 1 & 0 &  2 & Real Bed      & TV,Wireless Internet,Air conditioning,Kitchen,Elevator in building,Washer,Fire extinguisher,Essentials,translation missing: en.hosting\\_amenity\\_49,translation missing: en.hosting\\_amenity\\_50                                                                                                                                   &   0 &  41 &  89 &  0.00000\\\\\n",
       "\t48 & 28012 & Sol & Apartment   & Entire home/apt &  3 & 1 & 1 &  1 & Real Bed      & TV,Internet,Wireless Internet,Air conditioning,Kitchen,Smoking allowed,Pets allowed,Elevator in building,Heating,Family/kid friendly,Washer,Essentials                                                                                                                                                                         &  NA & 109 &  92 &       NA\\\\\n",
       "\t49 & 28013 & Sol & Apartment   & Entire home/apt &  4 & 1 & 2 &  2 & Real Bed      & TV,Internet,Wireless Internet,Air conditioning,Kitchen,Smoking allowed,Heating,Family/kid friendly,Washer,Essentials,Shampoo,Hangers,Hair dryer,Iron,Laptop friendly workspace                                                                                                                                                 &  NA &  71 &  93 &       NA\\\\\n",
       "\t50 & 28012 & Sol & Apartment   & Entire home/apt &  4 & 2 & 2 &  2 & Real Bed      & TV,Cable TV,Internet,Wireless Internet,Air conditioning,Kitchen,Elevator in building,Buzzer/wireless intercom,Heating,Family/kid friendly,Washer,Dryer,First aid kit,Fire extinguisher,Essentials,Shampoo,Hangers,Hair dryer,Iron,Laptop friendly workspace                                                                    &  NA & 110 &  98 &       NA\\\\\n",
       "\t52 & 28013 & Sol & Condominium & Entire home/apt &  4 & 1 & 1 &  1 & Real Bed      & TV,Wireless Internet,Air conditioning,Kitchen,Elevator in building,Hot tub,Heating,Washer,Essentials,Shampoo,Hangers,Hair dryer,Iron,translation missing: en.hosting\\_amenity\\_49,translation missing: en.hosting\\_amenity\\_50                                                                                                     &  NA & 150 &  80 &       NA\\\\\n",
       "\t53 & 28013 & Sol & Apartment   & Entire home/apt &  4 & 1 & 1 &  3 & Real Bed      & TV,Internet,Wireless Internet,Air conditioning,Kitchen,Doorman,Elevator in building,Buzzer/wireless intercom,Heating,Family/kid friendly,Washer,Fire extinguisher,Essentials,Shampoo,24-hour check-in,Hangers,Hair dryer,Iron,Laptop friendly workspace,Private entrance                                                       &  NA & 110 &  95 &       NA\\\\\n",
       "\t55 & 28013 & Sol & Apartment   & Entire home/apt &  4 & 1 & 2 &  3 & Real Bed      & TV,Internet,Wireless Internet,Air conditioning,Kitchen,Buzzer/wireless intercom,Heating,Family/kid friendly,Washer,Essentials,Shampoo,Hangers,Hair dryer,Iron,Laptop friendly workspace                                                                                                                                        &  NA &  90 & 100 &       NA\\\\\n",
       "\t57 & 28012 & Sol & Apartment   & Entire home/apt &  4 & 1 & 1 &  1 & Pull-out Sofa & TV,Wireless Internet,Air conditioning,Kitchen,Doorman,Elevator in building,Buzzer/wireless intercom,Heating,Family/kid friendly,Washer,Smoke detector,Carbon monoxide detector,First aid kit,Safety card,Fire extinguisher,Essentials,Shampoo,24-hour check-in,Hangers,Hair dryer,Iron,Laptop friendly workspace               &  NA &  84 &  96 &       NA\\\\\n",
       "\t569 & 28012 & Sol & Apartment   & Entire home/apt & 16 & 4 & 4 & 11 & Real Bed      & TV,Internet,Wireless Internet,Air conditioning,Kitchen,Smoking allowed,Pets allowed,Elevator in building,Buzzer/wireless intercom,Heating,Family/kid friendly,Washer,Dryer,First aid kit,Essentials,Shampoo,Hangers,Hair dryer,Iron,Private entrance                                                                           &  NA & 350 &  NA &       NA\\\\\n",
       "\t570 & 28012 & Sol & Apartment   & Entire home/apt &  5 & 2 & 2 &  4 & Real Bed      & TV,Wireless Internet,Air conditioning,Kitchen,Buzzer/wireless intercom,Heating,Family/kid friendly,Washer                                                                                                                                                                                                                      &   0 &  90 &  95 &  0.00000\\\\\n",
       "\t571 & 28012 & Sol & Apartment   & Entire home/apt &  8 & 1 & 2 &  2 & Real Bed      & TV,Wireless Internet,Air conditioning,Kitchen,Smoking allowed,Doorman,Breakfast,Buzzer/wireless intercom,Heating,Family/kid friendly,Washer,Smoke detector,Carbon monoxide detector,First aid kit,Safety card,Essentials,Shampoo,24-hour check-in,Hangers,Hair dryer,Iron,Laptop friendly workspace,Private entrance           &  NA &  95 &  60 &       NA\\\\\n",
       "\t572 & 28012 & Sol & Apartment   & Entire home/apt &  4 & 1 & 0 &  1 & Real Bed      & TV,Internet,Wireless Internet,Kitchen,Doorman,Elevator in building,Buzzer/wireless intercom,Heating,Family/kid friendly,Washer,Dryer,Essentials,Hangers,Hair dryer,Iron,Laptop friendly workspace                                                                                                                              &  NA &  90 &  92 &       NA\\\\\n",
       "\t⋮ & ⋮ & ⋮ & ⋮ & ⋮ & ⋮ & ⋮ & ⋮ & ⋮ & ⋮ & ⋮ & ⋮ & ⋮ & ⋮ & ⋮\\\\\n",
       "\t12755 & 28012 & Sol & Apartment   & Entire home/apt &  4 & 1.0 & 2 & 3 & Real Bed      & TV,Internet,Wireless Internet,Air conditioning,Kitchen,Heating,Washer,Essentials,translation missing: en.hosting\\_amenity\\_49,translation missing: en.hosting\\_amenity\\_50                                                                                                                                                                &  NA &  49 &  81 &       NA\\\\\n",
       "\t12756 & 28013 & Sol & Loft        & Entire home/apt &  6 & 1.5 & 3 & 3 & Real Bed      & TV,Wireless Internet,Air conditioning,Kitchen,Breakfast,Heating,Family/kid friendly,Washer,Dryer,Smoke detector,Carbon monoxide detector,Essentials,Shampoo,24-hour check-in,Hangers,Hair dryer,Iron,Laptop friendly workspace                                                                                                        &  NA & 175 &  98 &       NA\\\\\n",
       "\t12757 & 28013 & Sol & Apartment   & Entire home/apt &  4 & 1.0 & 1 & 2 & Real Bed      & Internet,Wireless Internet,Air conditioning,Kitchen,Doorman,Elevator in building,Buzzer/wireless intercom,Heating,Family/kid friendly,Washer,First aid kit,Essentials,Shampoo,24-hour check-in,Hangers,Hair dryer,Iron,Laptop friendly workspace                                                                                      &  NA &  75 &  98 &       NA\\\\\n",
       "\t12908 & 28013 & Sol & Apartment   & Entire home/apt &  6 & 2.0 & 2 & 2 & Real Bed      & TV,Internet,Wireless Internet,Air conditioning,Kitchen,Doorman,Elevator in building,Buzzer/wireless intercom,Heating,Family/kid friendly,Washer,Safety card,Fire extinguisher,Essentials,Shampoo,24-hour check-in,Hangers,Hair dryer,Iron,Laptop friendly workspace,Private entrance                                                  &  NA & 130 &  95 &       NA\\\\\n",
       "\t12909 & 28005 & Sol & Apartment   & Entire home/apt &  6 & 1.0 & 2 & 3 & Real Bed      & TV,Cable TV,Internet,Wireless Internet,Air conditioning,Kitchen,Elevator in building,Buzzer/wireless intercom,Heating,Family/kid friendly,Washer,Dryer,Smoke detector,Carbon monoxide detector,Essentials,Shampoo,24-hour check-in,Hangers,Hair dryer,Iron,Laptop friendly workspace                                                  &  NA &  99 &  89 &       NA\\\\\n",
       "\t12910 & 28013 & Sol & Apartment   & Entire home/apt &  6 & 1.0 & 2 & 3 & Real Bed      & TV,Wireless Internet,Air conditioning,Kitchen,Smoking allowed,Elevator in building,Heating,Washer,Smoke detector,Shampoo,translation missing: en.hosting\\_amenity\\_49,translation missing: en.hosting\\_amenity\\_50                                                                                                                        &  NA &  69 &  87 &       NA\\\\\n",
       "\t12911 & 28013 & Sol & Apartment   & Entire home/apt &  3 & 1.0 & 1 & 1 & Real Bed      & TV,Internet,Wireless Internet,Air conditioning,Kitchen,Elevator in building,Heating,Family/kid friendly,Washer,Essentials                                                                                                                                                                                                             &  NA &  80 &  95 &       NA\\\\\n",
       "\t12912 & 28013 & Sol & Apartment   & Entire home/apt & 10 & 3.0 & 3 & 7 & Real Bed      & TV,Internet,Air conditioning,Kitchen,Smoking allowed,Pets allowed,Heating,Family/kid friendly,Washer                                                                                                                                                                                                                                  & 807 & 150 &  65 & 74.97272\\\\\n",
       "\t12913 & 28013 & Sol & Apartment   & Entire home/apt &  4 & 1.0 & 1 & 1 & Real Bed      & TV,Wireless Internet,Heating,Family/kid friendly,Washer,Essentials,Hair dryer,Iron                                                                                                                                                                                                                                                    &  NA &  35 &  75 &       NA\\\\\n",
       "\t12914 & 28013 & Sol & Apartment   & Entire home/apt &  4 & 1.0 & 1 & 1 & Real Bed      & TV,Internet,Wireless Internet,Air conditioning,Kitchen,Smoking allowed,Breakfast,Elevator in building,Heating,Family/kid friendly,Washer,Essentials,Hangers,Hair dryer,Iron                                                                                                                                                           &  NA &  95 &  97 &       NA\\\\\n",
       "\t12915 & 28013 & Sol & Apartment   & Entire home/apt &  4 & 1.0 & 1 & 2 & Real Bed      & TV,Wireless Internet,Air conditioning,Kitchen,Doorman,Elevator in building,Buzzer/wireless intercom,Heating,Family/kid friendly,Washer,Essentials,Shampoo                                                                                                                                                                             &  NA & 103 & 100 &       NA\\\\\n",
       "\t12917 & 28013 & Sol & Apartment   & Entire home/apt &  4 & 1.0 & 0 & 2 & Real Bed      & TV,Wireless Internet,Air conditioning,Wheelchair accessible,Kitchen,Doorman,Elevator in building,Buzzer/wireless intercom,Heating,Family/kid friendly,Washer,Essentials,Shampoo                                                                                                                                                       &  NA &  79 &  NA &       NA\\\\\n",
       "\t12918 & 28012 & Sol & Apartment   & Entire home/apt &  4 & 1.0 & 1 & 2 & Real Bed      & TV,Internet,Wireless Internet,Air conditioning,Kitchen,Doorman,Elevator in building,Buzzer/wireless intercom,Heating,Family/kid friendly,Washer,Smoke detector,Carbon monoxide detector,First aid kit,Essentials,Shampoo,24-hour check-in,Hangers,Hair dryer,Iron,Laptop friendly workspace                                           &  NA &  80 &  96 &       NA\\\\\n",
       "\t12919 & 28004 & Sol & Apartment   & Entire home/apt &  4 & 1.0 & 1 & 2 & Real Bed      & TV,Internet,Wireless Internet,Air conditioning,Kitchen,Smoking allowed,Pets allowed,Elevator in building,Heating,Family/kid friendly,Washer,Dryer,Essentials,Shampoo                                                                                                                                                                  &  NA &  62 &  92 &       NA\\\\\n",
       "\t12921 & 28013 & Sol & Apartment   & Entire home/apt &  2 & 1.0 & 1 & 1 & Pull-out Sofa & TV,Cable TV,Internet,Wireless Internet,Air conditioning,Kitchen,Doorman,Elevator in building,Heating,Family/kid friendly,Smoke detector,First aid kit,Safety card,Fire extinguisher,Essentials,Shampoo,24-hour check-in,Hangers,Hair dryer,Iron,Laptop friendly workspace,translation missing: en.hosting\\_amenity\\_49                  &  NA &  55 &  97 &       NA\\\\\n",
       "\t12922 & 28012 & Sol & Apartment   & Entire home/apt &  6 & 1.0 & 1 & 3 & Real Bed      & TV,Internet,Wireless Internet,Air conditioning,Kitchen,Buzzer/wireless intercom,Heating,Family/kid friendly,Washer,Essentials,Shampoo,24-hour check-in,Hair dryer,Iron,Laptop friendly workspace                                                                                                                                      &  NA &  80 &  94 &       NA\\\\\n",
       "\t12923 & 28012 & Sol & Loft        & Entire home/apt &  4 & 1.0 & 1 & 2 & Real Bed      & TV,Internet,Wireless Internet,Air conditioning,Wheelchair accessible,Kitchen,Doorman,Elevator in building,Heating,Family/kid friendly,Washer,First aid kit,Fire extinguisher,Essentials,Shampoo,24-hour check-in,Hangers,Hair dryer                                                                                                   &  NA &  80 &  96 &       NA\\\\\n",
       "\t12924 & 28013 & Sol & Apartment   & Entire home/apt &  4 & 1.0 & 1 & 2 & Real Bed      & TV,Internet,Wireless Internet,Air conditioning,Kitchen,Doorman,Elevator in building,Buzzer/wireless intercom,Heating,Family/kid friendly,Washer,Essentials,Shampoo,24-hour check-in,Hangers,Hair dryer,Iron,Laptop friendly workspace                                                                                                 &   0 &  72 &  96 &  0.00000\\\\\n",
       "\t12925 & 28013 & Sol & Apartment   & Entire home/apt &  4 & 1.0 & 1 & 2 & Real Bed      & TV,Wireless Internet,Air conditioning,Kitchen,Elevator in building,Heating,Family/kid friendly,Washer,Hair dryer,Iron                                                                                                                                                                                                                 & 431 &  71 &  91 & 40.04119\\\\\n",
       "\t12926 & 28013 & Sol & Apartment   & Entire home/apt &  8 & 2.0 & 3 & 8 & Real Bed      & TV,Internet,Wireless Internet,Air conditioning,Wheelchair accessible,Kitchen,Doorman,Elevator in building,Heating,Family/kid friendly,Suitable for events,Washer,Dryer,Smoke detector,First aid kit,Fire extinguisher,Shampoo                                                                                                         &  NA & 250 &  88 &       NA\\\\\n",
       "\t12928 & 28001 & Sol & Apartment   & Entire home/apt &  4 & 1.0 & 2 & 2 & Real Bed      & TV,Internet,Wireless Internet,Air conditioning,Kitchen,Elevator in building,Buzzer/wireless intercom,Heating,Family/kid friendly,Washer,First aid kit,Essentials,Shampoo,24-hour check-in,Hangers,Hair dryer,Iron,Laptop friendly workspace                                                                                           &  NA &  75 &  95 &       NA\\\\\n",
       "\t12929 & 28012 & Sol & Apartment   & Entire home/apt &  5 & 2.0 & 2 & 3 & Real Bed      & TV,Kitchen,Buzzer/wireless intercom,Heating,Family/kid friendly,Washer                                                                                                                                                                                                                                                                &   0 & 115 &  86 &  0.00000\\\\\n",
       "\t12933 & 28012 & Sol & House       & Entire home/apt &  6 & 2.0 & 2 & 6 & Real Bed      & TV,Wireless Internet,Air conditioning,Kitchen,Elevator in building,Buzzer/wireless intercom,Heating,Family/kid friendly,Washer,First aid kit,Safety card,Fire extinguisher,Essentials,Shampoo,Hangers,Hair dryer,Iron,Laptop friendly workspace                                                                                       &  NA & 175 &  91 &       NA\\\\\n",
       "\t12934 & 28013 & Sol & Apartment   & Entire home/apt &  2 & 1.0 & 1 & 1 & Real Bed      & TV,Wireless Internet,Air conditioning,Kitchen,Heating,Family/kid friendly,Washer,Dryer                                                                                                                                                                                                                                                &  NA &  75 &  97 &       NA\\\\\n",
       "\t12935 & 28013 & Sol & Condominium & Entire home/apt &  2 & 1.0 & 0 & 1 & Real Bed      & TV,Internet,Wireless Internet,Air conditioning,Kitchen,Elevator in building,Heating,Washer,Essentials,Hangers,Hair dryer,Iron,Laptop friendly workspace                                                                                                                                                                               &  NA &  50 &  87 &       NA\\\\\n",
       "\t12936 & 28013 & Sol & Apartment   & Entire home/apt &  4 & 1.0 & 2 & 2 & Real Bed      & TV,Internet,Wireless Internet,Air conditioning,Wheelchair accessible,Kitchen,Smoking allowed,Elevator in building,Heating,Family/kid friendly,Washer,Smoke detector,First aid kit,Safety card,Fire extinguisher,Essentials,24-hour check-in,Hangers,Hair dryer,Iron,Laptop friendly workspace                                         &  NA &  89 &  92 &       NA\\\\\n",
       "\t12937 & 28012 & Sol & Apartment   & Entire home/apt &  4 & 1.0 & 0 & 1 & Real Bed      & TV,Internet,Wireless Internet,Kitchen,Doorman,Elevator in building,Buzzer/wireless intercom,Heating,Family/kid friendly,Washer,Dryer,Essentials,Hangers,Hair dryer,Iron,Laptop friendly workspace                                                                                                                                     &  NA &  90 & 100 &       NA\\\\\n",
       "\t12938 & 28013 & Sol & Apartment   & Entire home/apt &  6 & 2.0 & 1 & 3 & Real Bed      & TV,Internet,Wireless Internet,Air conditioning,Elevator in building,Heating,Family/kid friendly,Essentials,Hair dryer                                                                                                                                                                                                                 &  NA & 115 &  84 &       NA\\\\\n",
       "\t12939 & 28012 & Sol & Apartment   & Entire home/apt &  2 & 1.0 & 1 & 1 & Real Bed      & TV,Internet,Wireless Internet,Kitchen,Doorman,Buzzer/wireless intercom,Heating,Washer,Smoke detector,Carbon monoxide detector,Essentials,Shampoo,24-hour check-in,Hangers,Hair dryer,Iron,Laptop friendly workspace,translation missing: en.hosting\\_amenity\\_49,translation missing: en.hosting\\_amenity\\_50,Self Check-In,Doorman Entry &  NA &  90 &  96 &       NA\\\\\n",
       "\t12940 & 28013 & Sol & Apartment   & Entire home/apt &  4 & 1.0 & 1 & 1 & Real Bed      & Internet,Wireless Internet,Kitchen,Pets allowed,Doorman,Elevator in building,Buzzer/wireless intercom,Heating,Family/kid friendly,First aid kit,Essentials,Hangers,Hair dryer,Iron,Laptop friendly workspace                                                                                                                          &  NA &  69 &  80 &       NA\\\\\n",
       "\\end{tabular}\n"
      ],
      "text/markdown": [
       "\n",
       "A data.frame: 701 × 14\n",
       "\n",
       "| <!--/--> | CodigoPostal &lt;fct&gt; | Barrio &lt;fct&gt; | TipoPropiedad &lt;fct&gt; | TipoAlquiler &lt;fct&gt; | MaxOcupantes &lt;int&gt; | NumBanyos &lt;dbl&gt; | NumDormitorios &lt;int&gt; | NumCamas &lt;int&gt; | TipoCama &lt;fct&gt; | Comodidades &lt;fct&gt; | PiesCuadrados &lt;int&gt; | Precio &lt;int&gt; | Puntuacion &lt;int&gt; | MetrosCuadrados &lt;dbl&gt; |\n",
       "|---|---|---|---|---|---|---|---|---|---|---|---|---|---|---|\n",
       "| 15 | 28013 | Sol | Apartment   | Entire home/apt |  4 | 1 | 1 |  1 | Real Bed      | TV,Wireless Internet,Air conditioning,Kitchen,Doorman,Elevator in building,Buzzer/wireless intercom,Heating,Family/kid friendly,Suitable for events,Washer,Essentials,Hangers,Hair dryer,Iron                                                                                                                                  | 646 |  75 |  91 | 60.01534 |\n",
       "| 16 | 28013 | Sol | Condominium | Entire home/apt |  6 | 1 | 2 |  3 | Real Bed      | TV,Wireless Internet,Air conditioning,Kitchen,Doorman,Elevator in building,Buzzer/wireless intercom,Heating,Family/kid friendly,Washer,Dryer,Essentials,Shampoo,Hangers,Hair dryer,Iron                                                                                                                                        |  NA | 130 | 100 |       NA |\n",
       "| 17 | 28013 | Sol | Apartment   | Entire home/apt |  4 | 1 | 1 |  2 | Real Bed      | TV,Internet,Wireless Internet,Air conditioning,Kitchen,Doorman,Elevator in building,Buzzer/wireless intercom,Heating,Family/kid friendly,Washer,Smoke detector,Carbon monoxide detector,First aid kit,Safety card,Fire extinguisher,Essentials,Shampoo,24-hour check-in,Hangers,Hair dryer,Iron,Laptop friendly workspace      |  NA | 100 |  97 |       NA |\n",
       "| 18 | 28012 | Sol | Apartment   | Entire home/apt |  6 | 1 | 2 |  2 | Real Bed      | TV,Internet,Wireless Internet,Air conditioning,Kitchen,Smoking allowed,Elevator in building,Buzzer/wireless intercom,Heating,Family/kid friendly,Washer,Dryer,Essentials,Shampoo,Hangers,Hair dryer,Iron,Laptop friendly workspace                                                                                             |  NA | 160 |  95 |       NA |\n",
       "| 19 | 28013 | Sol | Apartment   | Entire home/apt |  4 | 1 | 1 |  2 | Real Bed      | TV,Internet,Wireless Internet,Air conditioning,Kitchen,Heating,Washer,Essentials,Hangers,Hair dryer,translation missing: en.hosting_amenity_50                                                                                                                                                                                 |  NA |  49 |  95 |       NA |\n",
       "| 21 | 28013 | Sol | Apartment   | Entire home/apt |  4 | 1 | 1 |  2 | Real Bed      | TV,Wireless Internet,Kitchen,Pets allowed,Elevator in building,Heating,Family/kid friendly,Washer,Essentials,Shampoo,Hangers,Hair dryer,Laptop friendly workspace                                                                                                                                                              |  NA |  70 |  88 |       NA |\n",
       "| 22 | 28005 | Sol | Apartment   | Entire home/apt | 10 | 2 | 4 |  7 | Real Bed      | TV,Internet,Wireless Internet,Air conditioning,Kitchen,Heating,Family/kid friendly,Washer,Essentials                                                                                                                                                                                                                           |  NA | 210 |  81 |       NA |\n",
       "| 23 | 28013 | Sol | Apartment   | Entire home/apt |  6 | 1 | 2 |  4 | Real Bed      | TV,Internet,Wireless Internet,Air conditioning,Kitchen,Smoking allowed,Pets allowed,Doorman,Elevator in building,Buzzer/wireless intercom,Heating,Family/kid friendly,Washer,First aid kit,Safety card,Essentials,Shampoo,Hangers,Hair dryer,Iron                                                                              |  NA | 120 |  99 |       NA |\n",
       "| 24 | 28012 | Sol | Apartment   | Entire home/apt |  4 | 1 | 1 |  2 | Real Bed      | TV,Internet,Wireless Internet,Air conditioning,Kitchen,Elevator in building,Heating,Family/kid friendly,Washer,Smoke detector,Carbon monoxide detector,Essentials,Shampoo,24-hour check-in,Hangers,Hair dryer,Iron,Laptop friendly workspace                                                                                   |  NA |  50 |  91 |       NA |\n",
       "| 25 | 28012 | Sol | Apartment   | Entire home/apt |  4 | 1 | 1 |  1 | Real Bed      | TV,Cable TV,Internet,Wireless Internet,Air conditioning,Kitchen,Elevator in building,Buzzer/wireless intercom,Heating,Family/kid friendly,Washer,Essentials,Hair dryer,Iron                                                                                                                                                    | 753 | 100 |  87 | 69.95596 |\n",
       "| 26 | 28013 | Sol | Apartment   | Entire home/apt |  4 | 1 | 1 |  2 | Real Bed      | TV,Internet,Wireless Internet,Air conditioning,Kitchen,Breakfast,Elevator in building,Heating,Family/kid friendly,Washer,First aid kit,Fire extinguisher,Essentials,Shampoo,Hangers,Hair dryer,Iron,Laptop friendly workspace                                                                                                  |  NA |  75 | 100 |       NA |\n",
       "| 27 | 28014 | Sol | Condominium | Entire home/apt |  8 | 2 | 2 |  5 | Real Bed      | TV,Internet,Wireless Internet,Air conditioning,Wheelchair accessible,Kitchen,Doorman,Elevator in building,Buzzer/wireless intercom,Heating,Family/kid friendly,Washer,Smoke detector,Carbon monoxide detector,Essentials,Shampoo,24-hour check-in,Hangers,Hair dryer,Iron,Laptop friendly workspace                            |  NA | 155 |  93 |       NA |\n",
       "| 28 | 28013 | Sol | Apartment   | Entire home/apt |  6 | 2 | 2 |  3 | Real Bed      | TV,Internet,Wireless Internet,Air conditioning,Wheelchair accessible,Kitchen,Doorman,Elevator in building,Buzzer/wireless intercom,Heating,Family/kid friendly,Washer,Dryer,Essentials,Hangers,Hair dryer,Iron                                                                                                                 |  NA | 155 |  80 |       NA |\n",
       "| 30 | 28005 | Sol | Apartment   | Entire home/apt |  8 | 1 | 3 |  4 | Real Bed      | TV,Internet,Wireless Internet,Kitchen,Breakfast,Elevator in building,Buzzer/wireless intercom,Heating,Family/kid friendly,Washer,Essentials,Shampoo,Hangers,Hair dryer,Iron,Laptop friendly workspace,Self Check-In,Lockbox                                                                                                    |  NA | 163 | 100 |       NA |\n",
       "| 43 | 28013 | Sol | Apartment   | Entire home/apt |  4 | 1 | 1 |  1 | Pull-out Sofa | TV,Internet,Wireless Internet,Air conditioning,Kitchen,Elevator in building,Buzzer/wireless intercom,Heating,Family/kid friendly,Washer,Smoke detector,Carbon monoxide detector,First aid kit,Essentials,Shampoo,24-hour check-in,Hangers,Hair dryer,Iron,Laptop friendly workspace,translation missing: en.hosting_amenity_50 |  NA |  64 |  97 |       NA |\n",
       "| 44 | 28013 | Sol | Apartment   | Entire home/apt |  6 | 2 | 2 |  2 | Real Bed      | TV,Wireless Internet,Air conditioning,Kitchen,Elevator in building,Heating,Washer,Essentials,Shampoo                                                                                                                                                                                                                           |  NA | 109 |  90 |       NA |\n",
       "| 45 | 28013 | Sol | Apartment   | Entire home/apt |  3 | 1 | 1 |  2 | Real Bed      | TV,Internet,Wireless Internet,Air conditioning,Kitchen,Smoking allowed,Elevator in building,Buzzer/wireless intercom,Heating,Family/kid friendly,Washer,Fire extinguisher,Essentials,Shampoo,Hangers,Hair dryer,Iron                                                                                                           |  NA |  67 |  95 |       NA |\n",
       "| 46 | 28013 | Sol | Apartment   | Entire home/apt |  2 | 1 | 1 |  1 | Real Bed      | TV,Internet,Wireless Internet,Air conditioning,Kitchen,Elevator in building,Buzzer/wireless intercom,Heating,Family/kid friendly,Washer,First aid kit,Essentials,Shampoo,Hair dryer,Iron                                                                                                                                       | 269 |  65 |  93 | 24.99091 |\n",
       "| 47 | 28013 | Sol | Apartment   | Entire home/apt |  3 | 1 | 0 |  2 | Real Bed      | TV,Wireless Internet,Air conditioning,Kitchen,Elevator in building,Washer,Fire extinguisher,Essentials,translation missing: en.hosting_amenity_49,translation missing: en.hosting_amenity_50                                                                                                                                   |   0 |  41 |  89 |  0.00000 |\n",
       "| 48 | 28012 | Sol | Apartment   | Entire home/apt |  3 | 1 | 1 |  1 | Real Bed      | TV,Internet,Wireless Internet,Air conditioning,Kitchen,Smoking allowed,Pets allowed,Elevator in building,Heating,Family/kid friendly,Washer,Essentials                                                                                                                                                                         |  NA | 109 |  92 |       NA |\n",
       "| 49 | 28013 | Sol | Apartment   | Entire home/apt |  4 | 1 | 2 |  2 | Real Bed      | TV,Internet,Wireless Internet,Air conditioning,Kitchen,Smoking allowed,Heating,Family/kid friendly,Washer,Essentials,Shampoo,Hangers,Hair dryer,Iron,Laptop friendly workspace                                                                                                                                                 |  NA |  71 |  93 |       NA |\n",
       "| 50 | 28012 | Sol | Apartment   | Entire home/apt |  4 | 2 | 2 |  2 | Real Bed      | TV,Cable TV,Internet,Wireless Internet,Air conditioning,Kitchen,Elevator in building,Buzzer/wireless intercom,Heating,Family/kid friendly,Washer,Dryer,First aid kit,Fire extinguisher,Essentials,Shampoo,Hangers,Hair dryer,Iron,Laptop friendly workspace                                                                    |  NA | 110 |  98 |       NA |\n",
       "| 52 | 28013 | Sol | Condominium | Entire home/apt |  4 | 1 | 1 |  1 | Real Bed      | TV,Wireless Internet,Air conditioning,Kitchen,Elevator in building,Hot tub,Heating,Washer,Essentials,Shampoo,Hangers,Hair dryer,Iron,translation missing: en.hosting_amenity_49,translation missing: en.hosting_amenity_50                                                                                                     |  NA | 150 |  80 |       NA |\n",
       "| 53 | 28013 | Sol | Apartment   | Entire home/apt |  4 | 1 | 1 |  3 | Real Bed      | TV,Internet,Wireless Internet,Air conditioning,Kitchen,Doorman,Elevator in building,Buzzer/wireless intercom,Heating,Family/kid friendly,Washer,Fire extinguisher,Essentials,Shampoo,24-hour check-in,Hangers,Hair dryer,Iron,Laptop friendly workspace,Private entrance                                                       |  NA | 110 |  95 |       NA |\n",
       "| 55 | 28013 | Sol | Apartment   | Entire home/apt |  4 | 1 | 2 |  3 | Real Bed      | TV,Internet,Wireless Internet,Air conditioning,Kitchen,Buzzer/wireless intercom,Heating,Family/kid friendly,Washer,Essentials,Shampoo,Hangers,Hair dryer,Iron,Laptop friendly workspace                                                                                                                                        |  NA |  90 | 100 |       NA |\n",
       "| 57 | 28012 | Sol | Apartment   | Entire home/apt |  4 | 1 | 1 |  1 | Pull-out Sofa | TV,Wireless Internet,Air conditioning,Kitchen,Doorman,Elevator in building,Buzzer/wireless intercom,Heating,Family/kid friendly,Washer,Smoke detector,Carbon monoxide detector,First aid kit,Safety card,Fire extinguisher,Essentials,Shampoo,24-hour check-in,Hangers,Hair dryer,Iron,Laptop friendly workspace               |  NA |  84 |  96 |       NA |\n",
       "| 569 | 28012 | Sol | Apartment   | Entire home/apt | 16 | 4 | 4 | 11 | Real Bed      | TV,Internet,Wireless Internet,Air conditioning,Kitchen,Smoking allowed,Pets allowed,Elevator in building,Buzzer/wireless intercom,Heating,Family/kid friendly,Washer,Dryer,First aid kit,Essentials,Shampoo,Hangers,Hair dryer,Iron,Private entrance                                                                           |  NA | 350 |  NA |       NA |\n",
       "| 570 | 28012 | Sol | Apartment   | Entire home/apt |  5 | 2 | 2 |  4 | Real Bed      | TV,Wireless Internet,Air conditioning,Kitchen,Buzzer/wireless intercom,Heating,Family/kid friendly,Washer                                                                                                                                                                                                                      |   0 |  90 |  95 |  0.00000 |\n",
       "| 571 | 28012 | Sol | Apartment   | Entire home/apt |  8 | 1 | 2 |  2 | Real Bed      | TV,Wireless Internet,Air conditioning,Kitchen,Smoking allowed,Doorman,Breakfast,Buzzer/wireless intercom,Heating,Family/kid friendly,Washer,Smoke detector,Carbon monoxide detector,First aid kit,Safety card,Essentials,Shampoo,24-hour check-in,Hangers,Hair dryer,Iron,Laptop friendly workspace,Private entrance           |  NA |  95 |  60 |       NA |\n",
       "| 572 | 28012 | Sol | Apartment   | Entire home/apt |  4 | 1 | 0 |  1 | Real Bed      | TV,Internet,Wireless Internet,Kitchen,Doorman,Elevator in building,Buzzer/wireless intercom,Heating,Family/kid friendly,Washer,Dryer,Essentials,Hangers,Hair dryer,Iron,Laptop friendly workspace                                                                                                                              |  NA |  90 |  92 |       NA |\n",
       "| ⋮ | ⋮ | ⋮ | ⋮ | ⋮ | ⋮ | ⋮ | ⋮ | ⋮ | ⋮ | ⋮ | ⋮ | ⋮ | ⋮ | ⋮ |\n",
       "| 12755 | 28012 | Sol | Apartment   | Entire home/apt |  4 | 1.0 | 2 | 3 | Real Bed      | TV,Internet,Wireless Internet,Air conditioning,Kitchen,Heating,Washer,Essentials,translation missing: en.hosting_amenity_49,translation missing: en.hosting_amenity_50                                                                                                                                                                |  NA |  49 |  81 |       NA |\n",
       "| 12756 | 28013 | Sol | Loft        | Entire home/apt |  6 | 1.5 | 3 | 3 | Real Bed      | TV,Wireless Internet,Air conditioning,Kitchen,Breakfast,Heating,Family/kid friendly,Washer,Dryer,Smoke detector,Carbon monoxide detector,Essentials,Shampoo,24-hour check-in,Hangers,Hair dryer,Iron,Laptop friendly workspace                                                                                                        |  NA | 175 |  98 |       NA |\n",
       "| 12757 | 28013 | Sol | Apartment   | Entire home/apt |  4 | 1.0 | 1 | 2 | Real Bed      | Internet,Wireless Internet,Air conditioning,Kitchen,Doorman,Elevator in building,Buzzer/wireless intercom,Heating,Family/kid friendly,Washer,First aid kit,Essentials,Shampoo,24-hour check-in,Hangers,Hair dryer,Iron,Laptop friendly workspace                                                                                      |  NA |  75 |  98 |       NA |\n",
       "| 12908 | 28013 | Sol | Apartment   | Entire home/apt |  6 | 2.0 | 2 | 2 | Real Bed      | TV,Internet,Wireless Internet,Air conditioning,Kitchen,Doorman,Elevator in building,Buzzer/wireless intercom,Heating,Family/kid friendly,Washer,Safety card,Fire extinguisher,Essentials,Shampoo,24-hour check-in,Hangers,Hair dryer,Iron,Laptop friendly workspace,Private entrance                                                  |  NA | 130 |  95 |       NA |\n",
       "| 12909 | 28005 | Sol | Apartment   | Entire home/apt |  6 | 1.0 | 2 | 3 | Real Bed      | TV,Cable TV,Internet,Wireless Internet,Air conditioning,Kitchen,Elevator in building,Buzzer/wireless intercom,Heating,Family/kid friendly,Washer,Dryer,Smoke detector,Carbon monoxide detector,Essentials,Shampoo,24-hour check-in,Hangers,Hair dryer,Iron,Laptop friendly workspace                                                  |  NA |  99 |  89 |       NA |\n",
       "| 12910 | 28013 | Sol | Apartment   | Entire home/apt |  6 | 1.0 | 2 | 3 | Real Bed      | TV,Wireless Internet,Air conditioning,Kitchen,Smoking allowed,Elevator in building,Heating,Washer,Smoke detector,Shampoo,translation missing: en.hosting_amenity_49,translation missing: en.hosting_amenity_50                                                                                                                        |  NA |  69 |  87 |       NA |\n",
       "| 12911 | 28013 | Sol | Apartment   | Entire home/apt |  3 | 1.0 | 1 | 1 | Real Bed      | TV,Internet,Wireless Internet,Air conditioning,Kitchen,Elevator in building,Heating,Family/kid friendly,Washer,Essentials                                                                                                                                                                                                             |  NA |  80 |  95 |       NA |\n",
       "| 12912 | 28013 | Sol | Apartment   | Entire home/apt | 10 | 3.0 | 3 | 7 | Real Bed      | TV,Internet,Air conditioning,Kitchen,Smoking allowed,Pets allowed,Heating,Family/kid friendly,Washer                                                                                                                                                                                                                                  | 807 | 150 |  65 | 74.97272 |\n",
       "| 12913 | 28013 | Sol | Apartment   | Entire home/apt |  4 | 1.0 | 1 | 1 | Real Bed      | TV,Wireless Internet,Heating,Family/kid friendly,Washer,Essentials,Hair dryer,Iron                                                                                                                                                                                                                                                    |  NA |  35 |  75 |       NA |\n",
       "| 12914 | 28013 | Sol | Apartment   | Entire home/apt |  4 | 1.0 | 1 | 1 | Real Bed      | TV,Internet,Wireless Internet,Air conditioning,Kitchen,Smoking allowed,Breakfast,Elevator in building,Heating,Family/kid friendly,Washer,Essentials,Hangers,Hair dryer,Iron                                                                                                                                                           |  NA |  95 |  97 |       NA |\n",
       "| 12915 | 28013 | Sol | Apartment   | Entire home/apt |  4 | 1.0 | 1 | 2 | Real Bed      | TV,Wireless Internet,Air conditioning,Kitchen,Doorman,Elevator in building,Buzzer/wireless intercom,Heating,Family/kid friendly,Washer,Essentials,Shampoo                                                                                                                                                                             |  NA | 103 | 100 |       NA |\n",
       "| 12917 | 28013 | Sol | Apartment   | Entire home/apt |  4 | 1.0 | 0 | 2 | Real Bed      | TV,Wireless Internet,Air conditioning,Wheelchair accessible,Kitchen,Doorman,Elevator in building,Buzzer/wireless intercom,Heating,Family/kid friendly,Washer,Essentials,Shampoo                                                                                                                                                       |  NA |  79 |  NA |       NA |\n",
       "| 12918 | 28012 | Sol | Apartment   | Entire home/apt |  4 | 1.0 | 1 | 2 | Real Bed      | TV,Internet,Wireless Internet,Air conditioning,Kitchen,Doorman,Elevator in building,Buzzer/wireless intercom,Heating,Family/kid friendly,Washer,Smoke detector,Carbon monoxide detector,First aid kit,Essentials,Shampoo,24-hour check-in,Hangers,Hair dryer,Iron,Laptop friendly workspace                                           |  NA |  80 |  96 |       NA |\n",
       "| 12919 | 28004 | Sol | Apartment   | Entire home/apt |  4 | 1.0 | 1 | 2 | Real Bed      | TV,Internet,Wireless Internet,Air conditioning,Kitchen,Smoking allowed,Pets allowed,Elevator in building,Heating,Family/kid friendly,Washer,Dryer,Essentials,Shampoo                                                                                                                                                                  |  NA |  62 |  92 |       NA |\n",
       "| 12921 | 28013 | Sol | Apartment   | Entire home/apt |  2 | 1.0 | 1 | 1 | Pull-out Sofa | TV,Cable TV,Internet,Wireless Internet,Air conditioning,Kitchen,Doorman,Elevator in building,Heating,Family/kid friendly,Smoke detector,First aid kit,Safety card,Fire extinguisher,Essentials,Shampoo,24-hour check-in,Hangers,Hair dryer,Iron,Laptop friendly workspace,translation missing: en.hosting_amenity_49                  |  NA |  55 |  97 |       NA |\n",
       "| 12922 | 28012 | Sol | Apartment   | Entire home/apt |  6 | 1.0 | 1 | 3 | Real Bed      | TV,Internet,Wireless Internet,Air conditioning,Kitchen,Buzzer/wireless intercom,Heating,Family/kid friendly,Washer,Essentials,Shampoo,24-hour check-in,Hair dryer,Iron,Laptop friendly workspace                                                                                                                                      |  NA |  80 |  94 |       NA |\n",
       "| 12923 | 28012 | Sol | Loft        | Entire home/apt |  4 | 1.0 | 1 | 2 | Real Bed      | TV,Internet,Wireless Internet,Air conditioning,Wheelchair accessible,Kitchen,Doorman,Elevator in building,Heating,Family/kid friendly,Washer,First aid kit,Fire extinguisher,Essentials,Shampoo,24-hour check-in,Hangers,Hair dryer                                                                                                   |  NA |  80 |  96 |       NA |\n",
       "| 12924 | 28013 | Sol | Apartment   | Entire home/apt |  4 | 1.0 | 1 | 2 | Real Bed      | TV,Internet,Wireless Internet,Air conditioning,Kitchen,Doorman,Elevator in building,Buzzer/wireless intercom,Heating,Family/kid friendly,Washer,Essentials,Shampoo,24-hour check-in,Hangers,Hair dryer,Iron,Laptop friendly workspace                                                                                                 |   0 |  72 |  96 |  0.00000 |\n",
       "| 12925 | 28013 | Sol | Apartment   | Entire home/apt |  4 | 1.0 | 1 | 2 | Real Bed      | TV,Wireless Internet,Air conditioning,Kitchen,Elevator in building,Heating,Family/kid friendly,Washer,Hair dryer,Iron                                                                                                                                                                                                                 | 431 |  71 |  91 | 40.04119 |\n",
       "| 12926 | 28013 | Sol | Apartment   | Entire home/apt |  8 | 2.0 | 3 | 8 | Real Bed      | TV,Internet,Wireless Internet,Air conditioning,Wheelchair accessible,Kitchen,Doorman,Elevator in building,Heating,Family/kid friendly,Suitable for events,Washer,Dryer,Smoke detector,First aid kit,Fire extinguisher,Shampoo                                                                                                         |  NA | 250 |  88 |       NA |\n",
       "| 12928 | 28001 | Sol | Apartment   | Entire home/apt |  4 | 1.0 | 2 | 2 | Real Bed      | TV,Internet,Wireless Internet,Air conditioning,Kitchen,Elevator in building,Buzzer/wireless intercom,Heating,Family/kid friendly,Washer,First aid kit,Essentials,Shampoo,24-hour check-in,Hangers,Hair dryer,Iron,Laptop friendly workspace                                                                                           |  NA |  75 |  95 |       NA |\n",
       "| 12929 | 28012 | Sol | Apartment   | Entire home/apt |  5 | 2.0 | 2 | 3 | Real Bed      | TV,Kitchen,Buzzer/wireless intercom,Heating,Family/kid friendly,Washer                                                                                                                                                                                                                                                                |   0 | 115 |  86 |  0.00000 |\n",
       "| 12933 | 28012 | Sol | House       | Entire home/apt |  6 | 2.0 | 2 | 6 | Real Bed      | TV,Wireless Internet,Air conditioning,Kitchen,Elevator in building,Buzzer/wireless intercom,Heating,Family/kid friendly,Washer,First aid kit,Safety card,Fire extinguisher,Essentials,Shampoo,Hangers,Hair dryer,Iron,Laptop friendly workspace                                                                                       |  NA | 175 |  91 |       NA |\n",
       "| 12934 | 28013 | Sol | Apartment   | Entire home/apt |  2 | 1.0 | 1 | 1 | Real Bed      | TV,Wireless Internet,Air conditioning,Kitchen,Heating,Family/kid friendly,Washer,Dryer                                                                                                                                                                                                                                                |  NA |  75 |  97 |       NA |\n",
       "| 12935 | 28013 | Sol | Condominium | Entire home/apt |  2 | 1.0 | 0 | 1 | Real Bed      | TV,Internet,Wireless Internet,Air conditioning,Kitchen,Elevator in building,Heating,Washer,Essentials,Hangers,Hair dryer,Iron,Laptop friendly workspace                                                                                                                                                                               |  NA |  50 |  87 |       NA |\n",
       "| 12936 | 28013 | Sol | Apartment   | Entire home/apt |  4 | 1.0 | 2 | 2 | Real Bed      | TV,Internet,Wireless Internet,Air conditioning,Wheelchair accessible,Kitchen,Smoking allowed,Elevator in building,Heating,Family/kid friendly,Washer,Smoke detector,First aid kit,Safety card,Fire extinguisher,Essentials,24-hour check-in,Hangers,Hair dryer,Iron,Laptop friendly workspace                                         |  NA |  89 |  92 |       NA |\n",
       "| 12937 | 28012 | Sol | Apartment   | Entire home/apt |  4 | 1.0 | 0 | 1 | Real Bed      | TV,Internet,Wireless Internet,Kitchen,Doorman,Elevator in building,Buzzer/wireless intercom,Heating,Family/kid friendly,Washer,Dryer,Essentials,Hangers,Hair dryer,Iron,Laptop friendly workspace                                                                                                                                     |  NA |  90 | 100 |       NA |\n",
       "| 12938 | 28013 | Sol | Apartment   | Entire home/apt |  6 | 2.0 | 1 | 3 | Real Bed      | TV,Internet,Wireless Internet,Air conditioning,Elevator in building,Heating,Family/kid friendly,Essentials,Hair dryer                                                                                                                                                                                                                 |  NA | 115 |  84 |       NA |\n",
       "| 12939 | 28012 | Sol | Apartment   | Entire home/apt |  2 | 1.0 | 1 | 1 | Real Bed      | TV,Internet,Wireless Internet,Kitchen,Doorman,Buzzer/wireless intercom,Heating,Washer,Smoke detector,Carbon monoxide detector,Essentials,Shampoo,24-hour check-in,Hangers,Hair dryer,Iron,Laptop friendly workspace,translation missing: en.hosting_amenity_49,translation missing: en.hosting_amenity_50,Self Check-In,Doorman Entry |  NA |  90 |  96 |       NA |\n",
       "| 12940 | 28013 | Sol | Apartment   | Entire home/apt |  4 | 1.0 | 1 | 1 | Real Bed      | Internet,Wireless Internet,Kitchen,Pets allowed,Doorman,Elevator in building,Buzzer/wireless intercom,Heating,Family/kid friendly,First aid kit,Essentials,Hangers,Hair dryer,Iron,Laptop friendly workspace                                                                                                                          |  NA |  69 |  80 |       NA |\n",
       "\n"
      ],
      "text/plain": [
       "      CodigoPostal Barrio TipoPropiedad TipoAlquiler    MaxOcupantes NumBanyos\n",
       "15    28013        Sol    Apartment     Entire home/apt  4           1        \n",
       "16    28013        Sol    Condominium   Entire home/apt  6           1        \n",
       "17    28013        Sol    Apartment     Entire home/apt  4           1        \n",
       "18    28012        Sol    Apartment     Entire home/apt  6           1        \n",
       "19    28013        Sol    Apartment     Entire home/apt  4           1        \n",
       "21    28013        Sol    Apartment     Entire home/apt  4           1        \n",
       "22    28005        Sol    Apartment     Entire home/apt 10           2        \n",
       "23    28013        Sol    Apartment     Entire home/apt  6           1        \n",
       "24    28012        Sol    Apartment     Entire home/apt  4           1        \n",
       "25    28012        Sol    Apartment     Entire home/apt  4           1        \n",
       "26    28013        Sol    Apartment     Entire home/apt  4           1        \n",
       "27    28014        Sol    Condominium   Entire home/apt  8           2        \n",
       "28    28013        Sol    Apartment     Entire home/apt  6           2        \n",
       "30    28005        Sol    Apartment     Entire home/apt  8           1        \n",
       "43    28013        Sol    Apartment     Entire home/apt  4           1        \n",
       "44    28013        Sol    Apartment     Entire home/apt  6           2        \n",
       "45    28013        Sol    Apartment     Entire home/apt  3           1        \n",
       "46    28013        Sol    Apartment     Entire home/apt  2           1        \n",
       "47    28013        Sol    Apartment     Entire home/apt  3           1        \n",
       "48    28012        Sol    Apartment     Entire home/apt  3           1        \n",
       "49    28013        Sol    Apartment     Entire home/apt  4           1        \n",
       "50    28012        Sol    Apartment     Entire home/apt  4           2        \n",
       "52    28013        Sol    Condominium   Entire home/apt  4           1        \n",
       "53    28013        Sol    Apartment     Entire home/apt  4           1        \n",
       "55    28013        Sol    Apartment     Entire home/apt  4           1        \n",
       "57    28012        Sol    Apartment     Entire home/apt  4           1        \n",
       "569   28012        Sol    Apartment     Entire home/apt 16           4        \n",
       "570   28012        Sol    Apartment     Entire home/apt  5           2        \n",
       "571   28012        Sol    Apartment     Entire home/apt  8           1        \n",
       "572   28012        Sol    Apartment     Entire home/apt  4           1        \n",
       "⋮     ⋮            ⋮      ⋮             ⋮               ⋮            ⋮        \n",
       "12755 28012        Sol    Apartment     Entire home/apt  4           1.0      \n",
       "12756 28013        Sol    Loft          Entire home/apt  6           1.5      \n",
       "12757 28013        Sol    Apartment     Entire home/apt  4           1.0      \n",
       "12908 28013        Sol    Apartment     Entire home/apt  6           2.0      \n",
       "12909 28005        Sol    Apartment     Entire home/apt  6           1.0      \n",
       "12910 28013        Sol    Apartment     Entire home/apt  6           1.0      \n",
       "12911 28013        Sol    Apartment     Entire home/apt  3           1.0      \n",
       "12912 28013        Sol    Apartment     Entire home/apt 10           3.0      \n",
       "12913 28013        Sol    Apartment     Entire home/apt  4           1.0      \n",
       "12914 28013        Sol    Apartment     Entire home/apt  4           1.0      \n",
       "12915 28013        Sol    Apartment     Entire home/apt  4           1.0      \n",
       "12917 28013        Sol    Apartment     Entire home/apt  4           1.0      \n",
       "12918 28012        Sol    Apartment     Entire home/apt  4           1.0      \n",
       "12919 28004        Sol    Apartment     Entire home/apt  4           1.0      \n",
       "12921 28013        Sol    Apartment     Entire home/apt  2           1.0      \n",
       "12922 28012        Sol    Apartment     Entire home/apt  6           1.0      \n",
       "12923 28012        Sol    Loft          Entire home/apt  4           1.0      \n",
       "12924 28013        Sol    Apartment     Entire home/apt  4           1.0      \n",
       "12925 28013        Sol    Apartment     Entire home/apt  4           1.0      \n",
       "12926 28013        Sol    Apartment     Entire home/apt  8           2.0      \n",
       "12928 28001        Sol    Apartment     Entire home/apt  4           1.0      \n",
       "12929 28012        Sol    Apartment     Entire home/apt  5           2.0      \n",
       "12933 28012        Sol    House         Entire home/apt  6           2.0      \n",
       "12934 28013        Sol    Apartment     Entire home/apt  2           1.0      \n",
       "12935 28013        Sol    Condominium   Entire home/apt  2           1.0      \n",
       "12936 28013        Sol    Apartment     Entire home/apt  4           1.0      \n",
       "12937 28012        Sol    Apartment     Entire home/apt  4           1.0      \n",
       "12938 28013        Sol    Apartment     Entire home/apt  6           2.0      \n",
       "12939 28012        Sol    Apartment     Entire home/apt  2           1.0      \n",
       "12940 28013        Sol    Apartment     Entire home/apt  4           1.0      \n",
       "      NumDormitorios NumCamas TipoCama     \n",
       "15    1               1       Real Bed     \n",
       "16    2               3       Real Bed     \n",
       "17    1               2       Real Bed     \n",
       "18    2               2       Real Bed     \n",
       "19    1               2       Real Bed     \n",
       "21    1               2       Real Bed     \n",
       "22    4               7       Real Bed     \n",
       "23    2               4       Real Bed     \n",
       "24    1               2       Real Bed     \n",
       "25    1               1       Real Bed     \n",
       "26    1               2       Real Bed     \n",
       "27    2               5       Real Bed     \n",
       "28    2               3       Real Bed     \n",
       "30    3               4       Real Bed     \n",
       "43    1               1       Pull-out Sofa\n",
       "44    2               2       Real Bed     \n",
       "45    1               2       Real Bed     \n",
       "46    1               1       Real Bed     \n",
       "47    0               2       Real Bed     \n",
       "48    1               1       Real Bed     \n",
       "49    2               2       Real Bed     \n",
       "50    2               2       Real Bed     \n",
       "52    1               1       Real Bed     \n",
       "53    1               3       Real Bed     \n",
       "55    2               3       Real Bed     \n",
       "57    1               1       Pull-out Sofa\n",
       "569   4              11       Real Bed     \n",
       "570   2               4       Real Bed     \n",
       "571   2               2       Real Bed     \n",
       "572   0               1       Real Bed     \n",
       "⋮     ⋮              ⋮        ⋮            \n",
       "12755 2              3        Real Bed     \n",
       "12756 3              3        Real Bed     \n",
       "12757 1              2        Real Bed     \n",
       "12908 2              2        Real Bed     \n",
       "12909 2              3        Real Bed     \n",
       "12910 2              3        Real Bed     \n",
       "12911 1              1        Real Bed     \n",
       "12912 3              7        Real Bed     \n",
       "12913 1              1        Real Bed     \n",
       "12914 1              1        Real Bed     \n",
       "12915 1              2        Real Bed     \n",
       "12917 0              2        Real Bed     \n",
       "12918 1              2        Real Bed     \n",
       "12919 1              2        Real Bed     \n",
       "12921 1              1        Pull-out Sofa\n",
       "12922 1              3        Real Bed     \n",
       "12923 1              2        Real Bed     \n",
       "12924 1              2        Real Bed     \n",
       "12925 1              2        Real Bed     \n",
       "12926 3              8        Real Bed     \n",
       "12928 2              2        Real Bed     \n",
       "12929 2              3        Real Bed     \n",
       "12933 2              6        Real Bed     \n",
       "12934 1              1        Real Bed     \n",
       "12935 0              1        Real Bed     \n",
       "12936 2              2        Real Bed     \n",
       "12937 0              1        Real Bed     \n",
       "12938 1              3        Real Bed     \n",
       "12939 1              1        Real Bed     \n",
       "12940 1              1        Real Bed     \n",
       "      Comodidades                                                                                                                                                                                                                                                                                                                          \n",
       "15    TV,Wireless Internet,Air conditioning,Kitchen,Doorman,Elevator in building,Buzzer/wireless intercom,Heating,Family/kid friendly,Suitable for events,Washer,Essentials,Hangers,Hair dryer,Iron                                                                                                                                        \n",
       "16    TV,Wireless Internet,Air conditioning,Kitchen,Doorman,Elevator in building,Buzzer/wireless intercom,Heating,Family/kid friendly,Washer,Dryer,Essentials,Shampoo,Hangers,Hair dryer,Iron                                                                                                                                              \n",
       "17    TV,Internet,Wireless Internet,Air conditioning,Kitchen,Doorman,Elevator in building,Buzzer/wireless intercom,Heating,Family/kid friendly,Washer,Smoke detector,Carbon monoxide detector,First aid kit,Safety card,Fire extinguisher,Essentials,Shampoo,24-hour check-in,Hangers,Hair dryer,Iron,Laptop friendly workspace            \n",
       "18    TV,Internet,Wireless Internet,Air conditioning,Kitchen,Smoking allowed,Elevator in building,Buzzer/wireless intercom,Heating,Family/kid friendly,Washer,Dryer,Essentials,Shampoo,Hangers,Hair dryer,Iron,Laptop friendly workspace                                                                                                   \n",
       "19    TV,Internet,Wireless Internet,Air conditioning,Kitchen,Heating,Washer,Essentials,Hangers,Hair dryer,translation missing: en.hosting_amenity_50                                                                                                                                                                                       \n",
       "21    TV,Wireless Internet,Kitchen,Pets allowed,Elevator in building,Heating,Family/kid friendly,Washer,Essentials,Shampoo,Hangers,Hair dryer,Laptop friendly workspace                                                                                                                                                                    \n",
       "22    TV,Internet,Wireless Internet,Air conditioning,Kitchen,Heating,Family/kid friendly,Washer,Essentials                                                                                                                                                                                                                                 \n",
       "23    TV,Internet,Wireless Internet,Air conditioning,Kitchen,Smoking allowed,Pets allowed,Doorman,Elevator in building,Buzzer/wireless intercom,Heating,Family/kid friendly,Washer,First aid kit,Safety card,Essentials,Shampoo,Hangers,Hair dryer,Iron                                                                                    \n",
       "24    TV,Internet,Wireless Internet,Air conditioning,Kitchen,Elevator in building,Heating,Family/kid friendly,Washer,Smoke detector,Carbon monoxide detector,Essentials,Shampoo,24-hour check-in,Hangers,Hair dryer,Iron,Laptop friendly workspace                                                                                         \n",
       "25    TV,Cable TV,Internet,Wireless Internet,Air conditioning,Kitchen,Elevator in building,Buzzer/wireless intercom,Heating,Family/kid friendly,Washer,Essentials,Hair dryer,Iron                                                                                                                                                          \n",
       "26    TV,Internet,Wireless Internet,Air conditioning,Kitchen,Breakfast,Elevator in building,Heating,Family/kid friendly,Washer,First aid kit,Fire extinguisher,Essentials,Shampoo,Hangers,Hair dryer,Iron,Laptop friendly workspace                                                                                                        \n",
       "27    TV,Internet,Wireless Internet,Air conditioning,Wheelchair accessible,Kitchen,Doorman,Elevator in building,Buzzer/wireless intercom,Heating,Family/kid friendly,Washer,Smoke detector,Carbon monoxide detector,Essentials,Shampoo,24-hour check-in,Hangers,Hair dryer,Iron,Laptop friendly workspace                                  \n",
       "28    TV,Internet,Wireless Internet,Air conditioning,Wheelchair accessible,Kitchen,Doorman,Elevator in building,Buzzer/wireless intercom,Heating,Family/kid friendly,Washer,Dryer,Essentials,Hangers,Hair dryer,Iron                                                                                                                       \n",
       "30    TV,Internet,Wireless Internet,Kitchen,Breakfast,Elevator in building,Buzzer/wireless intercom,Heating,Family/kid friendly,Washer,Essentials,Shampoo,Hangers,Hair dryer,Iron,Laptop friendly workspace,Self Check-In,Lockbox                                                                                                          \n",
       "43    TV,Internet,Wireless Internet,Air conditioning,Kitchen,Elevator in building,Buzzer/wireless intercom,Heating,Family/kid friendly,Washer,Smoke detector,Carbon monoxide detector,First aid kit,Essentials,Shampoo,24-hour check-in,Hangers,Hair dryer,Iron,Laptop friendly workspace,translation missing: en.hosting_amenity_50       \n",
       "44    TV,Wireless Internet,Air conditioning,Kitchen,Elevator in building,Heating,Washer,Essentials,Shampoo                                                                                                                                                                                                                                 \n",
       "45    TV,Internet,Wireless Internet,Air conditioning,Kitchen,Smoking allowed,Elevator in building,Buzzer/wireless intercom,Heating,Family/kid friendly,Washer,Fire extinguisher,Essentials,Shampoo,Hangers,Hair dryer,Iron                                                                                                                 \n",
       "46    TV,Internet,Wireless Internet,Air conditioning,Kitchen,Elevator in building,Buzzer/wireless intercom,Heating,Family/kid friendly,Washer,First aid kit,Essentials,Shampoo,Hair dryer,Iron                                                                                                                                             \n",
       "47    TV,Wireless Internet,Air conditioning,Kitchen,Elevator in building,Washer,Fire extinguisher,Essentials,translation missing: en.hosting_amenity_49,translation missing: en.hosting_amenity_50                                                                                                                                         \n",
       "48    TV,Internet,Wireless Internet,Air conditioning,Kitchen,Smoking allowed,Pets allowed,Elevator in building,Heating,Family/kid friendly,Washer,Essentials                                                                                                                                                                               \n",
       "49    TV,Internet,Wireless Internet,Air conditioning,Kitchen,Smoking allowed,Heating,Family/kid friendly,Washer,Essentials,Shampoo,Hangers,Hair dryer,Iron,Laptop friendly workspace                                                                                                                                                       \n",
       "50    TV,Cable TV,Internet,Wireless Internet,Air conditioning,Kitchen,Elevator in building,Buzzer/wireless intercom,Heating,Family/kid friendly,Washer,Dryer,First aid kit,Fire extinguisher,Essentials,Shampoo,Hangers,Hair dryer,Iron,Laptop friendly workspace                                                                          \n",
       "52    TV,Wireless Internet,Air conditioning,Kitchen,Elevator in building,Hot tub,Heating,Washer,Essentials,Shampoo,Hangers,Hair dryer,Iron,translation missing: en.hosting_amenity_49,translation missing: en.hosting_amenity_50                                                                                                           \n",
       "53    TV,Internet,Wireless Internet,Air conditioning,Kitchen,Doorman,Elevator in building,Buzzer/wireless intercom,Heating,Family/kid friendly,Washer,Fire extinguisher,Essentials,Shampoo,24-hour check-in,Hangers,Hair dryer,Iron,Laptop friendly workspace,Private entrance                                                             \n",
       "55    TV,Internet,Wireless Internet,Air conditioning,Kitchen,Buzzer/wireless intercom,Heating,Family/kid friendly,Washer,Essentials,Shampoo,Hangers,Hair dryer,Iron,Laptop friendly workspace                                                                                                                                              \n",
       "57    TV,Wireless Internet,Air conditioning,Kitchen,Doorman,Elevator in building,Buzzer/wireless intercom,Heating,Family/kid friendly,Washer,Smoke detector,Carbon monoxide detector,First aid kit,Safety card,Fire extinguisher,Essentials,Shampoo,24-hour check-in,Hangers,Hair dryer,Iron,Laptop friendly workspace                     \n",
       "569   TV,Internet,Wireless Internet,Air conditioning,Kitchen,Smoking allowed,Pets allowed,Elevator in building,Buzzer/wireless intercom,Heating,Family/kid friendly,Washer,Dryer,First aid kit,Essentials,Shampoo,Hangers,Hair dryer,Iron,Private entrance                                                                                 \n",
       "570   TV,Wireless Internet,Air conditioning,Kitchen,Buzzer/wireless intercom,Heating,Family/kid friendly,Washer                                                                                                                                                                                                                            \n",
       "571   TV,Wireless Internet,Air conditioning,Kitchen,Smoking allowed,Doorman,Breakfast,Buzzer/wireless intercom,Heating,Family/kid friendly,Washer,Smoke detector,Carbon monoxide detector,First aid kit,Safety card,Essentials,Shampoo,24-hour check-in,Hangers,Hair dryer,Iron,Laptop friendly workspace,Private entrance                 \n",
       "572   TV,Internet,Wireless Internet,Kitchen,Doorman,Elevator in building,Buzzer/wireless intercom,Heating,Family/kid friendly,Washer,Dryer,Essentials,Hangers,Hair dryer,Iron,Laptop friendly workspace                                                                                                                                    \n",
       "⋮     ⋮                                                                                                                                                                                                                                                                                                                                    \n",
       "12755 TV,Internet,Wireless Internet,Air conditioning,Kitchen,Heating,Washer,Essentials,translation missing: en.hosting_amenity_49,translation missing: en.hosting_amenity_50                                                                                                                                                               \n",
       "12756 TV,Wireless Internet,Air conditioning,Kitchen,Breakfast,Heating,Family/kid friendly,Washer,Dryer,Smoke detector,Carbon monoxide detector,Essentials,Shampoo,24-hour check-in,Hangers,Hair dryer,Iron,Laptop friendly workspace                                                                                                       \n",
       "12757 Internet,Wireless Internet,Air conditioning,Kitchen,Doorman,Elevator in building,Buzzer/wireless intercom,Heating,Family/kid friendly,Washer,First aid kit,Essentials,Shampoo,24-hour check-in,Hangers,Hair dryer,Iron,Laptop friendly workspace                                                                                     \n",
       "12908 TV,Internet,Wireless Internet,Air conditioning,Kitchen,Doorman,Elevator in building,Buzzer/wireless intercom,Heating,Family/kid friendly,Washer,Safety card,Fire extinguisher,Essentials,Shampoo,24-hour check-in,Hangers,Hair dryer,Iron,Laptop friendly workspace,Private entrance                                                 \n",
       "12909 TV,Cable TV,Internet,Wireless Internet,Air conditioning,Kitchen,Elevator in building,Buzzer/wireless intercom,Heating,Family/kid friendly,Washer,Dryer,Smoke detector,Carbon monoxide detector,Essentials,Shampoo,24-hour check-in,Hangers,Hair dryer,Iron,Laptop friendly workspace                                                 \n",
       "12910 TV,Wireless Internet,Air conditioning,Kitchen,Smoking allowed,Elevator in building,Heating,Washer,Smoke detector,Shampoo,translation missing: en.hosting_amenity_49,translation missing: en.hosting_amenity_50                                                                                                                       \n",
       "12911 TV,Internet,Wireless Internet,Air conditioning,Kitchen,Elevator in building,Heating,Family/kid friendly,Washer,Essentials                                                                                                                                                                                                            \n",
       "12912 TV,Internet,Air conditioning,Kitchen,Smoking allowed,Pets allowed,Heating,Family/kid friendly,Washer                                                                                                                                                                                                                                 \n",
       "12913 TV,Wireless Internet,Heating,Family/kid friendly,Washer,Essentials,Hair dryer,Iron                                                                                                                                                                                                                                                   \n",
       "12914 TV,Internet,Wireless Internet,Air conditioning,Kitchen,Smoking allowed,Breakfast,Elevator in building,Heating,Family/kid friendly,Washer,Essentials,Hangers,Hair dryer,Iron                                                                                                                                                          \n",
       "12915 TV,Wireless Internet,Air conditioning,Kitchen,Doorman,Elevator in building,Buzzer/wireless intercom,Heating,Family/kid friendly,Washer,Essentials,Shampoo                                                                                                                                                                            \n",
       "12917 TV,Wireless Internet,Air conditioning,Wheelchair accessible,Kitchen,Doorman,Elevator in building,Buzzer/wireless intercom,Heating,Family/kid friendly,Washer,Essentials,Shampoo                                                                                                                                                      \n",
       "12918 TV,Internet,Wireless Internet,Air conditioning,Kitchen,Doorman,Elevator in building,Buzzer/wireless intercom,Heating,Family/kid friendly,Washer,Smoke detector,Carbon monoxide detector,First aid kit,Essentials,Shampoo,24-hour check-in,Hangers,Hair dryer,Iron,Laptop friendly workspace                                          \n",
       "12919 TV,Internet,Wireless Internet,Air conditioning,Kitchen,Smoking allowed,Pets allowed,Elevator in building,Heating,Family/kid friendly,Washer,Dryer,Essentials,Shampoo                                                                                                                                                                 \n",
       "12921 TV,Cable TV,Internet,Wireless Internet,Air conditioning,Kitchen,Doorman,Elevator in building,Heating,Family/kid friendly,Smoke detector,First aid kit,Safety card,Fire extinguisher,Essentials,Shampoo,24-hour check-in,Hangers,Hair dryer,Iron,Laptop friendly workspace,translation missing: en.hosting_amenity_49                 \n",
       "12922 TV,Internet,Wireless Internet,Air conditioning,Kitchen,Buzzer/wireless intercom,Heating,Family/kid friendly,Washer,Essentials,Shampoo,24-hour check-in,Hair dryer,Iron,Laptop friendly workspace                                                                                                                                     \n",
       "12923 TV,Internet,Wireless Internet,Air conditioning,Wheelchair accessible,Kitchen,Doorman,Elevator in building,Heating,Family/kid friendly,Washer,First aid kit,Fire extinguisher,Essentials,Shampoo,24-hour check-in,Hangers,Hair dryer                                                                                                  \n",
       "12924 TV,Internet,Wireless Internet,Air conditioning,Kitchen,Doorman,Elevator in building,Buzzer/wireless intercom,Heating,Family/kid friendly,Washer,Essentials,Shampoo,24-hour check-in,Hangers,Hair dryer,Iron,Laptop friendly workspace                                                                                                \n",
       "12925 TV,Wireless Internet,Air conditioning,Kitchen,Elevator in building,Heating,Family/kid friendly,Washer,Hair dryer,Iron                                                                                                                                                                                                                \n",
       "12926 TV,Internet,Wireless Internet,Air conditioning,Wheelchair accessible,Kitchen,Doorman,Elevator in building,Heating,Family/kid friendly,Suitable for events,Washer,Dryer,Smoke detector,First aid kit,Fire extinguisher,Shampoo                                                                                                        \n",
       "12928 TV,Internet,Wireless Internet,Air conditioning,Kitchen,Elevator in building,Buzzer/wireless intercom,Heating,Family/kid friendly,Washer,First aid kit,Essentials,Shampoo,24-hour check-in,Hangers,Hair dryer,Iron,Laptop friendly workspace                                                                                          \n",
       "12929 TV,Kitchen,Buzzer/wireless intercom,Heating,Family/kid friendly,Washer                                                                                                                                                                                                                                                               \n",
       "12933 TV,Wireless Internet,Air conditioning,Kitchen,Elevator in building,Buzzer/wireless intercom,Heating,Family/kid friendly,Washer,First aid kit,Safety card,Fire extinguisher,Essentials,Shampoo,Hangers,Hair dryer,Iron,Laptop friendly workspace                                                                                      \n",
       "12934 TV,Wireless Internet,Air conditioning,Kitchen,Heating,Family/kid friendly,Washer,Dryer                                                                                                                                                                                                                                               \n",
       "12935 TV,Internet,Wireless Internet,Air conditioning,Kitchen,Elevator in building,Heating,Washer,Essentials,Hangers,Hair dryer,Iron,Laptop friendly workspace                                                                                                                                                                              \n",
       "12936 TV,Internet,Wireless Internet,Air conditioning,Wheelchair accessible,Kitchen,Smoking allowed,Elevator in building,Heating,Family/kid friendly,Washer,Smoke detector,First aid kit,Safety card,Fire extinguisher,Essentials,24-hour check-in,Hangers,Hair dryer,Iron,Laptop friendly workspace                                        \n",
       "12937 TV,Internet,Wireless Internet,Kitchen,Doorman,Elevator in building,Buzzer/wireless intercom,Heating,Family/kid friendly,Washer,Dryer,Essentials,Hangers,Hair dryer,Iron,Laptop friendly workspace                                                                                                                                    \n",
       "12938 TV,Internet,Wireless Internet,Air conditioning,Elevator in building,Heating,Family/kid friendly,Essentials,Hair dryer                                                                                                                                                                                                                \n",
       "12939 TV,Internet,Wireless Internet,Kitchen,Doorman,Buzzer/wireless intercom,Heating,Washer,Smoke detector,Carbon monoxide detector,Essentials,Shampoo,24-hour check-in,Hangers,Hair dryer,Iron,Laptop friendly workspace,translation missing: en.hosting_amenity_49,translation missing: en.hosting_amenity_50,Self Check-In,Doorman Entry\n",
       "12940 Internet,Wireless Internet,Kitchen,Pets allowed,Doorman,Elevator in building,Buzzer/wireless intercom,Heating,Family/kid friendly,First aid kit,Essentials,Hangers,Hair dryer,Iron,Laptop friendly workspace                                                                                                                         \n",
       "      PiesCuadrados Precio Puntuacion MetrosCuadrados\n",
       "15    646            75     91        60.01534       \n",
       "16     NA           130    100              NA       \n",
       "17     NA           100     97              NA       \n",
       "18     NA           160     95              NA       \n",
       "19     NA            49     95              NA       \n",
       "21     NA            70     88              NA       \n",
       "22     NA           210     81              NA       \n",
       "23     NA           120     99              NA       \n",
       "24     NA            50     91              NA       \n",
       "25    753           100     87        69.95596       \n",
       "26     NA            75    100              NA       \n",
       "27     NA           155     93              NA       \n",
       "28     NA           155     80              NA       \n",
       "30     NA           163    100              NA       \n",
       "43     NA            64     97              NA       \n",
       "44     NA           109     90              NA       \n",
       "45     NA            67     95              NA       \n",
       "46    269            65     93        24.99091       \n",
       "47      0            41     89         0.00000       \n",
       "48     NA           109     92              NA       \n",
       "49     NA            71     93              NA       \n",
       "50     NA           110     98              NA       \n",
       "52     NA           150     80              NA       \n",
       "53     NA           110     95              NA       \n",
       "55     NA            90    100              NA       \n",
       "57     NA            84     96              NA       \n",
       "569    NA           350     NA              NA       \n",
       "570     0            90     95         0.00000       \n",
       "571    NA            95     60              NA       \n",
       "572    NA            90     92              NA       \n",
       "⋮     ⋮             ⋮      ⋮          ⋮              \n",
       "12755  NA            49     81              NA       \n",
       "12756  NA           175     98              NA       \n",
       "12757  NA            75     98              NA       \n",
       "12908  NA           130     95              NA       \n",
       "12909  NA            99     89              NA       \n",
       "12910  NA            69     87              NA       \n",
       "12911  NA            80     95              NA       \n",
       "12912 807           150     65        74.97272       \n",
       "12913  NA            35     75              NA       \n",
       "12914  NA            95     97              NA       \n",
       "12915  NA           103    100              NA       \n",
       "12917  NA            79     NA              NA       \n",
       "12918  NA            80     96              NA       \n",
       "12919  NA            62     92              NA       \n",
       "12921  NA            55     97              NA       \n",
       "12922  NA            80     94              NA       \n",
       "12923  NA            80     96              NA       \n",
       "12924   0            72     96         0.00000       \n",
       "12925 431            71     91        40.04119       \n",
       "12926  NA           250     88              NA       \n",
       "12928  NA            75     95              NA       \n",
       "12929   0           115     86         0.00000       \n",
       "12933  NA           175     91              NA       \n",
       "12934  NA            75     97              NA       \n",
       "12935  NA            50     87              NA       \n",
       "12936  NA            89     92              NA       \n",
       "12937  NA            90    100              NA       \n",
       "12938  NA           115     84              NA       \n",
       "12939  NA            90     96              NA       \n",
       "12940  NA            69     80              NA       "
      ]
     },
     "metadata": {},
     "output_type": "display_data"
    }
   ],
   "source": [
    "barrio_sol<-subset(airbnb_entire,Barrio==\"Sol\")\n",
    "barrio_sol\n"
   ]
  },
  {
   "cell_type": "markdown",
   "metadata": {},
   "source": [
    "Primero calculamos la correlación para ver como se relacionan estas variables entre sí."
   ]
  },
  {
   "cell_type": "code",
   "execution_count": 36,
   "metadata": {},
   "outputs": [
    {
     "name": "stdout",
     "output_type": "stream",
     "text": [
      " Matriz de Correlacion\n"
     ]
    },
    {
     "data": {
      "text/html": [
       "<table class=\"dataframe\">\n",
       "<caption>A matrix: 4 × 4 of type dbl</caption>\n",
       "<tbody>\n",
       "\t<tr><td>1.0000000</td><td>0.5684521</td><td>0.6873719</td><td>0.7853809</td></tr>\n",
       "\t<tr><td>0.5684521</td><td>1.0000000</td><td>0.4820549</td><td>0.4286233</td></tr>\n",
       "\t<tr><td>0.6873719</td><td>0.4820549</td><td>1.0000000</td><td>0.7017290</td></tr>\n",
       "\t<tr><td>0.7853809</td><td>0.4286233</td><td>0.7017290</td><td>1.0000000</td></tr>\n",
       "</tbody>\n",
       "</table>\n"
      ],
      "text/latex": [
       "A matrix: 4 × 4 of type dbl\n",
       "\\begin{tabular}{llll}\n",
       "\t 1.0000000 & 0.5684521 & 0.6873719 & 0.7853809\\\\\n",
       "\t 0.5684521 & 1.0000000 & 0.4820549 & 0.4286233\\\\\n",
       "\t 0.6873719 & 0.4820549 & 1.0000000 & 0.7017290\\\\\n",
       "\t 0.7853809 & 0.4286233 & 0.7017290 & 1.0000000\\\\\n",
       "\\end{tabular}\n"
      ],
      "text/markdown": [
       "\n",
       "A matrix: 4 × 4 of type dbl\n",
       "\n",
       "| 1.0000000 | 0.5684521 | 0.6873719 | 0.7853809 |\n",
       "| 0.5684521 | 1.0000000 | 0.4820549 | 0.4286233 |\n",
       "| 0.6873719 | 0.4820549 | 1.0000000 | 0.7017290 |\n",
       "| 0.7853809 | 0.4286233 | 0.7017290 | 1.0000000 |\n",
       "\n"
      ],
      "text/plain": [
       "     [,1]      [,2]      [,3]      [,4]     \n",
       "[1,] 1.0000000 0.5684521 0.6873719 0.7853809\n",
       "[2,] 0.5684521 1.0000000 0.4820549 0.4286233\n",
       "[3,] 0.6873719 0.4820549 1.0000000 0.7017290\n",
       "[4,] 0.7853809 0.4286233 0.7017290 1.0000000"
      ]
     },
     "metadata": {},
     "output_type": "display_data"
    },
    {
     "name": "stdout",
     "output_type": "stream",
     "text": [
      "Correlacion entre Numero de Dormitorios y Metros Cuadrados: \n"
     ]
    },
    {
     "data": {
      "text/html": [
       "0.568452076445061"
      ],
      "text/latex": [
       "0.568452076445061"
      ],
      "text/markdown": [
       "0.568452076445061"
      ],
      "text/plain": [
       "[1] 0.5684521"
      ]
     },
     "metadata": {},
     "output_type": "display_data"
    },
    {
     "name": "stdout",
     "output_type": "stream",
     "text": [
      "En teoria el numero de dormitorios deberia estar relacionado de forma \\'causal'\\ con los metros Cuadrados\n",
      "\n",
      "A mas dormitorios la superficie deberia ser mayor. Sim embargo se esta indicando poca correlacion entre\n",
      "numero habitaciones y metros cuadrados, debe haber algun factor que este afectando a esta correlacion"
     ]
    }
   ],
   "source": [
    "\n",
    "barrio_sol_DF <- barrio_sol[\n",
    "    !is.na(barrio_sol$NumBanyos) & \n",
    "    !is.na(barrio_sol$NumDormitorios) & \n",
    "    !is.na(barrio_sol$MaxOcupantes) & \n",
    "    !is.na(barrio_sol$MetrosCuadrados), ]\n",
    "cat (\" Matriz de Correlacion\\n\") \n",
    "cor(\n",
    "    cbind(\n",
    "        barrio_sol_DF$NumDormitorios,\n",
    "        barrio_sol_DF$MetrosCuadrados,\n",
    "        barrio_sol_DF$NumBanyos,\n",
    "        barrio_sol_DF$MaxOcupantes\n",
    "    )\n",
    ")\n",
    "cat(\"Correlacion entre Numero de Dormitorios y Metros Cuadrados: \\n\")\n",
    "cor(barrio_sol_DF$NumDormitorios,barrio_sol_DF$MetrosCuadrados)\n",
    "cat(\"En teoria el numero de dormitorios deberia estar relacionado de forma \\\\'causal'\\\\ con los metros Cuadrados\\n\n",
    "A mas dormitorios la superficie deberia ser mayor. Sim embargo se esta indicando poca correlacion entre\n",
    "numero habitaciones y metros cuadrados, debe haber algun factor que este afectando a esta correlacion\")"
   ]
  },
  {
   "cell_type": "markdown",
   "metadata": {},
   "source": [
    "Se observa que la correlación entre el número de dormitorios y los metros cuadrados es sorprendentemente baja.\n",
    "¿Son de fiar esos números?\n",
    "\n",
    "Mediante un histograma o curvas de densidad podemos descartar números que notienen sentido en el dataframe barrio_sol,\n",
    "para tener una matriz de correlación que tenga mayor sentido.\n"
   ]
  },
  {
   "cell_type": "code",
   "execution_count": 37,
   "metadata": {},
   "outputs": [
    {
     "data": {
      "image/png": "[encoded data removed]",
      "text/plain": [
       "plot without title"
      ]
     },
     "metadata": {
      "image/png": {
       "height": 750,
       "width": 750
      }
     },
     "output_type": "display_data"
    }
   ],
   "source": [
    "ggplot(barrio_sol_DF, aes(x=MetrosCuadrados)) +\n",
    "  geom_density()"
   ]
  },
  {
   "cell_type": "code",
   "execution_count": 38,
   "metadata": {},
   "outputs": [
    {
     "data": {
      "image/png": "[encoded data removed]",
      "text/plain": [
       "plot without title"
      ]
     },
     "metadata": {
      "image/png": {
       "height": 750,
       "width": 750
      }
     },
     "output_type": "display_data"
    }
   ],
   "source": [
    "ggplot(barrio_sol_DF, aes(x=MetrosCuadrados)) +\n",
    "  geom_density()+\n",
    "geom_histogram(position=\"dodge\",binwidth=20)"
   ]
  },
  {
   "cell_type": "code",
   "execution_count": 39,
   "metadata": {},
   "outputs": [
    {
     "name": "stdout",
     "output_type": "stream",
     "text": [
      "Se Observa q hay un alto porcentajes de registros en donde los metros cuadrados su valor es 0 \n",
      "\n",
      "posiblemente la correlacion se ha visto afectada por este hecho.Filtraremos los apartamentos por aquellos\n",
      "\n",
      "con metros cuadrados superior a 20"
     ]
    }
   ],
   "source": [
    "cat( \"Se Observa q hay un alto porcentajes de registros en donde los metros cuadrados su valor es 0 \\n\n",
    "posiblemente la correlacion se ha visto afectada por este hecho.Filtraremos los apartamentos por aquellos\\n\n",
    "con metros cuadrados superior a 20\")"
   ]
  },
  {
   "cell_type": "markdown",
   "metadata": {},
   "source": [
    "Una vez que hayamos filtrado los datos correspondientes calcular el valor o la combinación de valores que mejor nos permite obtener el precio de un inmueble."
   ]
  },
  {
   "cell_type": "code",
   "execution_count": 40,
   "metadata": {},
   "outputs": [
    {
     "name": "stdout",
     "output_type": "stream",
     "text": [
      "Ahora la correlacion entre Metros cuadrados y numero dormitorios es: \n"
     ]
    },
    {
     "data": {
      "text/html": [
       "0.829075403649216"
      ],
      "text/latex": [
       "0.829075403649216"
      ],
      "text/markdown": [
       "0.829075403649216"
      ],
      "text/plain": [
       "[1] 0.8290754"
      ]
     },
     "metadata": {},
     "output_type": "display_data"
    },
    {
     "name": "stdout",
     "output_type": "stream",
     "text": [
      "Matriz de Correlacion;\n",
      " "
     ]
    },
    {
     "data": {
      "text/html": [
       "<table class=\"dataframe\">\n",
       "<caption>A matrix: 4 × 4 of type dbl</caption>\n",
       "<tbody>\n",
       "\t<tr><td>1.0000000</td><td>0.8290754</td><td>0.6040653</td><td>0.6909450</td></tr>\n",
       "\t<tr><td>0.8290754</td><td>1.0000000</td><td>0.7245916</td><td>0.7854671</td></tr>\n",
       "\t<tr><td>0.6040653</td><td>0.7245916</td><td>1.0000000</td><td>0.8604387</td></tr>\n",
       "\t<tr><td>0.6909450</td><td>0.7854671</td><td>0.8604387</td><td>1.0000000</td></tr>\n",
       "</tbody>\n",
       "</table>\n"
      ],
      "text/latex": [
       "A matrix: 4 × 4 of type dbl\n",
       "\\begin{tabular}{llll}\n",
       "\t 1.0000000 & 0.8290754 & 0.6040653 & 0.6909450\\\\\n",
       "\t 0.8290754 & 1.0000000 & 0.7245916 & 0.7854671\\\\\n",
       "\t 0.6040653 & 0.7245916 & 1.0000000 & 0.8604387\\\\\n",
       "\t 0.6909450 & 0.7854671 & 0.8604387 & 1.0000000\\\\\n",
       "\\end{tabular}\n"
      ],
      "text/markdown": [
       "\n",
       "A matrix: 4 × 4 of type dbl\n",
       "\n",
       "| 1.0000000 | 0.8290754 | 0.6040653 | 0.6909450 |\n",
       "| 0.8290754 | 1.0000000 | 0.7245916 | 0.7854671 |\n",
       "| 0.6040653 | 0.7245916 | 1.0000000 | 0.8604387 |\n",
       "| 0.6909450 | 0.7854671 | 0.8604387 | 1.0000000 |\n",
       "\n"
      ],
      "text/plain": [
       "     [,1]      [,2]      [,3]      [,4]     \n",
       "[1,] 1.0000000 0.8290754 0.6040653 0.6909450\n",
       "[2,] 0.8290754 1.0000000 0.7245916 0.7854671\n",
       "[3,] 0.6040653 0.7245916 1.0000000 0.8604387\n",
       "[4,] 0.6909450 0.7854671 0.8604387 1.0000000"
      ]
     },
     "metadata": {},
     "output_type": "display_data"
    }
   ],
   "source": [
    "Filtro_Sol <- subset(barrio_sol_DF,barrio_sol_DF$MetrosCuadrados > 20)\n",
    "cat(\"Ahora la correlacion entre Metros cuadrados y numero dormitorios es: \\n\")\n",
    "cor(Filtro_Sol$MetrosCuadrados,Filtro_Sol$NumDormitorios)\n",
    "cat(\"Matriz de Correlacion;\\n \")\n",
    "\n",
    "cor(\n",
    "    cbind(\n",
    "        Filtro_Sol$MetrosCuadrados,\n",
    "        Filtro_Sol$NumDormitorios,\n",
    "        Filtro_Sol$NumBanyos,\n",
    "        Filtro_Sol$MaxOcupantes\n",
    "    )\n",
    ")"
   ]
  },
  {
   "cell_type": "markdown",
   "metadata": {},
   "source": [
    "¿Que variable es más fiable para conocer el precio de un inmueble, el número de habitaciones o los metros cuadrados?"
   ]
  },
  {
   "cell_type": "code",
   "execution_count": 42,
   "metadata": {},
   "outputs": [
    {
     "data": {
      "text/plain": [
       "\n",
       "Call:\n",
       "lm(formula = Precio ~ NumDormitorios + MetrosCuadrados + NumBanyos + \n",
       "    MaxOcupantes + NumCamas, data = Filtro_Sol)\n",
       "\n",
       "Residuals:\n",
       "    Min      1Q  Median      3Q     Max \n",
       "-72.535 -13.427  -5.189  20.287  68.319 \n",
       "\n",
       "Coefficients:\n",
       "                Estimate Std. Error t value Pr(>|t|)   \n",
       "(Intercept)      27.3076    15.1806   1.799  0.08323 . \n",
       "NumDormitorios   32.7612     9.8158   3.338  0.00247 **\n",
       "MetrosCuadrados   0.1645     0.2242   0.734  0.46942   \n",
       "NumBanyos        -0.8746    15.3765  -0.057  0.95506   \n",
       "MaxOcupantes      6.2385     6.5005   0.960  0.34572   \n",
       "NumCamas         -5.5939     6.1981  -0.903  0.37477   \n",
       "---\n",
       "Signif. codes:  0 '***' 0.001 '**' 0.01 '*' 0.05 '.' 0.1 ' ' 1\n",
       "\n",
       "Residual standard error: 32.34 on 27 degrees of freedom\n",
       "Multiple R-squared:  0.758,\tAdjusted R-squared:  0.7132 \n",
       "F-statistic: 16.91 on 5 and 27 DF,  p-value: 1.397e-07\n"
      ]
     },
     "metadata": {},
     "output_type": "display_data"
    },
    {
     "data": {
      "text/html": [
       "<table class=\"dataframe\">\n",
       "<caption>A matrix: 3 × 3 of type dbl</caption>\n",
       "<tbody>\n",
       "\t<tr><td>1.0000000</td><td>0.7605236</td><td>0.8594089</td></tr>\n",
       "\t<tr><td>0.7605236</td><td>1.0000000</td><td>0.8290754</td></tr>\n",
       "\t<tr><td>0.8594089</td><td>0.8290754</td><td>1.0000000</td></tr>\n",
       "</tbody>\n",
       "</table>\n"
      ],
      "text/latex": [
       "A matrix: 3 × 3 of type dbl\n",
       "\\begin{tabular}{lll}\n",
       "\t 1.0000000 & 0.7605236 & 0.8594089\\\\\n",
       "\t 0.7605236 & 1.0000000 & 0.8290754\\\\\n",
       "\t 0.8594089 & 0.8290754 & 1.0000000\\\\\n",
       "\\end{tabular}\n"
      ],
      "text/markdown": [
       "\n",
       "A matrix: 3 × 3 of type dbl\n",
       "\n",
       "| 1.0000000 | 0.7605236 | 0.8594089 |\n",
       "| 0.7605236 | 1.0000000 | 0.8290754 |\n",
       "| 0.8594089 | 0.8290754 | 1.0000000 |\n",
       "\n"
      ],
      "text/plain": [
       "     [,1]      [,2]      [,3]     \n",
       "[1,] 1.0000000 0.7605236 0.8594089\n",
       "[2,] 0.7605236 1.0000000 0.8290754\n",
       "[3,] 0.8594089 0.8290754 1.0000000"
      ]
     },
     "metadata": {},
     "output_type": "display_data"
    },
    {
     "name": "stdout",
     "output_type": "stream",
     "text": [
      "la variable mas fiable es el numero de Dormitorios"
     ]
    }
   ],
   "source": [
    "modelo<-lm(data=Filtro_Sol, formula = Precio ~ NumDormitorios + MetrosCuadrados + NumBanyos + MaxOcupantes + NumCamas)\n",
    "summary(modelo)\n",
    "cor(\n",
    "    \n",
    "    cbind(\n",
    "        Filtro_Sol$Precio,\n",
    "        Filtro_Sol$MetrosCuadrados,\n",
    "        Filtro_Sol$NumDormitorios\n",
    "        \n",
    "        ))\n",
    "\n",
    "cat(\"la variable mas fiable es el numero de Dormitorios\")\n"
   ]
  },
  {
   "cell_type": "markdown",
   "metadata": {},
   "source": [
    "Responde con su correspondiente margen de error del 95%, ¿cuantos euros incrementa el precio del alquiler por cada metro cuadrado extra del piso?"
   ]
  },
  {
   "cell_type": "code",
   "execution_count": 43,
   "metadata": {},
   "outputs": [
    {
     "data": {
      "text/plain": [
       "\n",
       "Call:\n",
       "lm(formula = Precio ~ MetrosCuadrados, data = Filtro_Sol)\n",
       "\n",
       "Residuals:\n",
       "    Min      1Q  Median      3Q     Max \n",
       "-65.388 -21.792  -0.115  10.642 121.693 \n",
       "\n",
       "Coefficients:\n",
       "                Estimate Std. Error t value Pr(>|t|)    \n",
       "(Intercept)      29.5861    14.1142   2.096   0.0443 *  \n",
       "MetrosCuadrados   0.9912     0.1520   6.521 2.81e-07 ***\n",
       "---\n",
       "Signif. codes:  0 '***' 0.001 '**' 0.01 '*' 0.05 '.' 0.1 ' ' 1\n",
       "\n",
       "Residual standard error: 39.83 on 31 degrees of freedom\n",
       "Multiple R-squared:  0.5784,\tAdjusted R-squared:  0.5648 \n",
       "F-statistic: 42.53 on 1 and 31 DF,  p-value: 2.809e-07\n"
      ]
     },
     "metadata": {},
     "output_type": "display_data"
    },
    {
     "name": "stdout",
     "output_type": "stream",
     "text": [
      "Aumento del precio por metro cuadrado:  0.9912161"
     ]
    },
    {
     "data": {
      "text/html": [
       "<table class=\"dataframe\">\n",
       "<caption>A matrix: 2 × 2 of type dbl</caption>\n",
       "<thead>\n",
       "\t<tr><th></th><th scope=col>2.5 %</th><th scope=col>97.5 %</th></tr>\n",
       "</thead>\n",
       "<tbody>\n",
       "\t<tr><th scope=row>(Intercept)</th><td>0.7999527</td><td>58.37229</td></tr>\n",
       "\t<tr><th scope=row>MetrosCuadrados</th><td>0.6812218</td><td> 1.30121</td></tr>\n",
       "</tbody>\n",
       "</table>\n"
      ],
      "text/latex": [
       "A matrix: 2 × 2 of type dbl\n",
       "\\begin{tabular}{r|ll}\n",
       "  & 2.5 \\% & 97.5 \\%\\\\\n",
       "\\hline\n",
       "\t(Intercept) & 0.7999527 & 58.37229\\\\\n",
       "\tMetrosCuadrados & 0.6812218 &  1.30121\\\\\n",
       "\\end{tabular}\n"
      ],
      "text/markdown": [
       "\n",
       "A matrix: 2 × 2 of type dbl\n",
       "\n",
       "| <!--/--> | 2.5 % | 97.5 % |\n",
       "|---|---|---|\n",
       "| (Intercept) | 0.7999527 | 58.37229 |\n",
       "| MetrosCuadrados | 0.6812218 |  1.30121 |\n",
       "\n"
      ],
      "text/plain": [
       "                2.5 %     97.5 %  \n",
       "(Intercept)     0.7999527 58.37229\n",
       "MetrosCuadrados 0.6812218  1.30121"
      ]
     },
     "metadata": {},
     "output_type": "display_data"
    }
   ],
   "source": [
    "Precio_Metro <- lm(data=Filtro_Sol, formula = Precio ~ MetrosCuadrados)\n",
    "summary(Precio_Metro)\n",
    "cat(\"Aumento del precio por metro cuadrado: \", Precio_Metro$coefficients[2])\n",
    "confint(Precio_Metro)"
   ]
  },
  {
   "cell_type": "markdown",
   "metadata": {},
   "source": [
    "Responde con su correspondiente margen de error del 95%, ¿cuantos euros incrementa el precio del alquiler por cada habitación?"
   ]
  },
  {
   "cell_type": "code",
   "execution_count": 44,
   "metadata": {},
   "outputs": [
    {
     "data": {
      "text/plain": [
       "\n",
       "Call:\n",
       "lm(formula = Precio ~ NumDormitorios, data = Filtro_Sol)\n",
       "\n",
       "Residuals:\n",
       "    Min      1Q  Median      3Q     Max \n",
       "-89.214 -17.652  -5.652  18.457  61.786 \n",
       "\n",
       "Coefficients:\n",
       "               Estimate Std. Error t value Pr(>|t|)    \n",
       "(Intercept)      43.762      8.919   4.907 2.80e-05 ***\n",
       "NumDormitorios   38.890      4.156   9.359 1.52e-10 ***\n",
       "---\n",
       "Signif. codes:  0 '***' 0.001 '**' 0.01 '*' 0.05 '.' 0.1 ' ' 1\n",
       "\n",
       "Residual standard error: 31.37 on 31 degrees of freedom\n",
       "Multiple R-squared:  0.7386,\tAdjusted R-squared:  0.7302 \n",
       "F-statistic: 87.58 on 1 and 31 DF,  p-value: 1.523e-10\n"
      ]
     },
     "metadata": {},
     "output_type": "display_data"
    },
    {
     "name": "stdout",
     "output_type": "stream",
     "text": [
      "Se incrementa en :  38.89043"
     ]
    },
    {
     "data": {
      "text/html": [
       "<table class=\"dataframe\">\n",
       "<caption>A matrix: 2 × 2 of type dbl</caption>\n",
       "<thead>\n",
       "\t<tr><th></th><th scope=col>2.5 %</th><th scope=col>97.5 %</th></tr>\n",
       "</thead>\n",
       "<tbody>\n",
       "\t<tr><th scope=row>(Intercept)</th><td>25.57224</td><td>61.95116</td></tr>\n",
       "\t<tr><th scope=row>NumDormitorios</th><td>30.41513</td><td>47.36572</td></tr>\n",
       "</tbody>\n",
       "</table>\n"
      ],
      "text/latex": [
       "A matrix: 2 × 2 of type dbl\n",
       "\\begin{tabular}{r|ll}\n",
       "  & 2.5 \\% & 97.5 \\%\\\\\n",
       "\\hline\n",
       "\t(Intercept) & 25.57224 & 61.95116\\\\\n",
       "\tNumDormitorios & 30.41513 & 47.36572\\\\\n",
       "\\end{tabular}\n"
      ],
      "text/markdown": [
       "\n",
       "A matrix: 2 × 2 of type dbl\n",
       "\n",
       "| <!--/--> | 2.5 % | 97.5 % |\n",
       "|---|---|---|\n",
       "| (Intercept) | 25.57224 | 61.95116 |\n",
       "| NumDormitorios | 30.41513 | 47.36572 |\n",
       "\n"
      ],
      "text/plain": [
       "               2.5 %    97.5 %  \n",
       "(Intercept)    25.57224 61.95116\n",
       "NumDormitorios 30.41513 47.36572"
      ]
     },
     "metadata": {},
     "output_type": "display_data"
    }
   ],
   "source": [
    "modeloPrecio_Alquiler_Habitacion <- lm(data=Filtro_Sol, formula = Precio ~ NumDormitorios)\n",
    "summary(modeloPrecio_Alquiler_Habitacion)\n",
    "cat (\"Se incrementa en : \",modeloPrecio_Alquiler_Habitacion$coefficients[2])\n",
    "confint(modeloPrecio_Alquiler_Habitacion)"
   ]
  },
  {
   "cell_type": "markdown",
   "metadata": {},
   "source": [
    "¿Cual es la probabilidad de encontrar, en el barrio de Sol, un apartamento en alquiler con 3 dormitorios?\n",
    "¿Cual es el intervalo de confianza de esa probabilidad?"
   ]
  },
  {
   "cell_type": "code",
   "execution_count": 45,
   "metadata": {},
   "outputs": [
    {
     "name": "stdout",
     "output_type": "stream",
     "text": [
      "Probabilidad de :  0.07845934 \n",
      "Existe un 7% de probabilidad de encontrar en el Barrio de Sol un apartamento con 3 dormitorios"
     ]
    }
   ],
   "source": [
    "cuenta_total_apartamentos <- nrow(barrio_sol)\n",
    "cuenta_total_3 <- barrio_sol[barrio_sol$NumDormitorios ==3,]\n",
    "cuenta_total_apartamentos_3Habitaciones <- nrow(cuenta_total_3)\n",
    "\n",
    "\n",
    "cat(\"Probabilidad de : \", cuenta_total_apartamentos_3Habitaciones/cuenta_total_apartamentos)\n",
    "cat(\" \\nExiste un 7% de probabilidad de encontrar en el Barrio de Sol un apartamento con 3 dormitorios\")"
   ]
  },
  {
   "cell_type": "code",
   "execution_count": 46,
   "metadata": {},
   "outputs": [
    {
     "data": {
      "text/plain": [
       "\n",
       "\tExact binomial test\n",
       "\n",
       "data:  cuenta_total_apartamentos_3Habitaciones and cuenta_total_apartamentos\n",
       "number of successes = 55, number of trials = 701, p-value < 2.2e-16\n",
       "alternative hypothesis: true probability of success is not equal to 0.01818182\n",
       "95 percent confidence interval:\n",
       " 0.0596506 0.1009033\n",
       "sample estimates:\n",
       "probability of success \n",
       "            0.07845934 \n"
      ]
     },
     "metadata": {},
     "output_type": "display_data"
    },
    {
     "name": "stdout",
     "output_type": "stream",
     "text": [
      "el intervalo de confianza esta entre 0.0596506 y  0.1009033 "
     ]
    }
   ],
   "source": [
    "binom.test(cuenta_total_apartamentos_3Habitaciones,cuenta_total_apartamentos,1/55)\n",
    "\n",
    "cat(\"el intervalo de confianza esta entre 0.0596506 y  0.1009033 \")"
   ]
  },
  {
   "cell_type": "code",
   "execution_count": null,
   "metadata": {},
   "outputs": [],
   "source": []
  },
  {
   "cell_type": "code",
   "execution_count": null,
   "metadata": {},
   "outputs": [],
   "source": []
  }
 ],
 "metadata": {
  "kernelspec": {
   "display_name": "R",
   "language": "R",
   "name": "ir"
  },
  "language_info": {
   "codemirror_mode": "r",
   "file_extension": ".r",
   "mimetype": "text/x-r-source",
   "name": "R",
   "pygments_lexer": "r",
   "version": "4.2.1"
  }
 },
 "nbformat": 4,
 "nbformat_minor": 4
}
